{
 "cells": [
  {
   "cell_type": "code",
   "execution_count": 1,
   "metadata": {},
   "outputs": [],
   "source": [
    "#importing the required modules\n",
    "import os\n",
    "import time"
   ]
  },
  {
   "cell_type": "code",
   "execution_count": 3,
   "metadata": {},
   "outputs": [],
   "source": [
    "#get the genome and write chromosome (contig) by chromosome (contig) into another file\n",
    "start = time.time()\n",
    "directory = os.path.join(r'D:\\balint\\munts/')\n",
    "with open (directory + 'Oryctolagus_cuniculus.OryCun2.0.dna.toplevel.fa') as infile, open (directory + 'processed_genome.fasta', 'w') as outfile:\n",
    "    for index, line in enumerate(infile):\n",
    "        if line[0] == '>':\n",
    "            outfile.write('\\n')\n",
    "            outfile.write(line[:-1] + '\\t')\n",
    "        else:\n",
    "            outfile.write(line[:-1])\n",
    "end = time.time()\n",
    "runtime = (end - start) / 60#minutes\n",
    "runtime"
   ]
  },
  {
   "cell_type": "code",
   "execution_count": 4,
   "metadata": {},
   "outputs": [
    {
     "data": {
      "text/plain": [
       "1.6608983437220255"
      ]
     },
     "execution_count": 4,
     "metadata": {},
     "output_type": "execute_result"
    }
   ],
   "source": [
    "#get sequence dictionary\n",
    "start = time.time()\n",
    "sequence_dictionary = {}\n",
    "with open (directory + 'processed_genome.fasta') as infile:\n",
    "    for line in infile:\n",
    "        if line != '\\n':\n",
    "            header = line.split('REF')[0]\n",
    "            sequence = line.split('REF')[1].rsplit()[0]\n",
    "            sequence_dictionary[header] = sequence\n",
    "end = time.time()\n",
    "runtime = (end - start) / 60#minutes\n",
    "runtime"
   ]
  },
  {
   "cell_type": "code",
   "execution_count": 5,
   "metadata": {},
   "outputs": [
    {
     "data": {
      "text/plain": [
       "21.62530299425125"
      ]
     },
     "execution_count": 5,
     "metadata": {},
     "output_type": "execute_result"
    }
   ],
   "source": [
    "#writing individual fastas\n",
    "start = time.time()\n",
    "output_directory = os.path.join(r'Z:\\balint\\numt\\Michael\\data\\genome_parts_in_fasta/')\n",
    "for header, sequence in sequence_dictionary.items():\n",
    "    filename = '%s.fasta' % header.rsplit()[0][1:]\n",
    "    with open (output_directory + filename, 'w') as output:\n",
    "        output.write(header + '\\n')\n",
    "        output.write(sequence)\n",
    "end = time.time()\n",
    "runtime = (end - start) / 60#minutes\n",
    "runtime"
   ]
  },
  {
   "cell_type": "code",
   "execution_count": null,
   "metadata": {},
   "outputs": [],
   "source": []
  }
 ],
 "metadata": {
  "kernelspec": {
   "display_name": "Python 3",
   "language": "python",
   "name": "python3"
  },
  "language_info": {
   "codemirror_mode": {
    "name": "ipython",
    "version": 3
   },
   "file_extension": ".py",
   "mimetype": "text/x-python",
   "name": "python",
   "nbconvert_exporter": "python",
   "pygments_lexer": "ipython3",
   "version": "3.7.1"
  }
 },
 "nbformat": 4,
 "nbformat_minor": 2
}
