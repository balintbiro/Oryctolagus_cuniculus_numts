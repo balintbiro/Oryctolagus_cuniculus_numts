{
 "cells": [
  {
   "cell_type": "code",
   "execution_count": 1,
   "metadata": {},
   "outputs": [],
   "source": [
    "#importing the required modules\n",
    "import os"
   ]
  },
  {
   "cell_type": "code",
   "execution_count": 2,
   "metadata": {},
   "outputs": [],
   "source": [
    "directory = os.path.join(r'Z:\\numt\\Michael/')"
   ]
  },
  {
   "cell_type": "code",
   "execution_count": 5,
   "metadata": {},
   "outputs": [],
   "source": [
    "#get the original sequence and the processed sequence\n",
    "original_file = 'Oryctolagus_cuniculus.OryCun2.0.dna.chromosome.MT.fa'\n",
    "processed_file = 'two_ch_MT.fasta'\n",
    "ori_seq = ''\n",
    "proc_seq = ''\n",
    "with open (directory + original_file) as original, open (directory + processed_file) as processed:\n",
    "    ori_cont = original.readlines()\n",
    "    for line in ori_cont:\n",
    "        if line.startswith('>') == False:\n",
    "            ori_seq += line[:-1]\n",
    "    for line in processed:\n",
    "        if line.startswith('>') == False:\n",
    "            proc_seq += line\n",
    "dupl_seq = 2*ori_seq"
   ]
  },
  {
   "cell_type": "code",
   "execution_count": 6,
   "metadata": {},
   "outputs": [
    {
     "data": {
      "text/plain": [
       "True"
      ]
     },
     "execution_count": 6,
     "metadata": {},
     "output_type": "execute_result"
    }
   ],
   "source": [
    "dupl_seq == proc_seq"
   ]
  }
 ],
 "metadata": {
  "kernelspec": {
   "display_name": "Python 3",
   "language": "python",
   "name": "python3"
  },
  "language_info": {
   "codemirror_mode": {
    "name": "ipython",
    "version": 3
   },
   "file_extension": ".py",
   "mimetype": "text/x-python",
   "name": "python",
   "nbconvert_exporter": "python",
   "pygments_lexer": "ipython3",
   "version": "3.7.1"
  }
 },
 "nbformat": 4,
 "nbformat_minor": 2
}
