{
 "cells": [
  {
   "cell_type": "code",
   "execution_count": 1,
   "metadata": {},
   "outputs": [],
   "source": [
    "#importing the required modules\n",
    "import os\n",
    "import time\n",
    "import pandas as pd"
   ]
  },
  {
   "cell_type": "code",
   "execution_count": 39,
   "metadata": {},
   "outputs": [
    {
     "data": {
      "text/plain": [
       "0.008716762065887451"
      ]
     },
     "execution_count": 39,
     "metadata": {},
     "output_type": "execute_result"
    }
   ],
   "source": [
    "#get a merged list for all the informations about alignments\n",
    "start = time.time()\n",
    "features = []\n",
    "with open (r'Z:\\balint\\numt\\Michael\\data/significant_alignments.fasta') as infile:\n",
    "    content = infile.readlines()\n",
    "    for index, line in enumerate(content):\n",
    "        if 'score' in line:\n",
    "            score = int(line.rsplit()[1].split('=')[1])\n",
    "            eg2_value = float(line.rsplit()[2].split('=')[1])\n",
    "            e_value = float(line.rsplit()[3].split('=')[1])\n",
    "            #genomic informations\n",
    "            genomic = content[index + 1]\n",
    "            genomic_id = genomic.rsplit()[1]\n",
    "            genomic_start = int(genomic.rsplit()[2])\n",
    "            genomic_length = int(genomic.rsplit()[3])\n",
    "            genomic_strand = genomic.rsplit()[4]\n",
    "            genomic_size = int(genomic.rsplit()[5])\n",
    "            genomic_sequence = genomic.rsplit()[6]\n",
    "            #mitochondrial informations\n",
    "            mitochondrial = content[index + 2]\n",
    "            mitochondrial_id = mitochondrial.rsplit()[1]\n",
    "            mitochondrial_start = int(mitochondrial.rsplit()[2])\n",
    "            mitochondrial_length = int(mitochondrial.rsplit()[3])\n",
    "            mitochondrial_strand = mitochondrial.rsplit()[4]\n",
    "            mitochondrial_size = int(mitochondrial.rsplit()[5])\n",
    "            mitochondrial_sequence = mitochondrial.rsplit()[6]\n",
    "            features.append([score, eg2_value, e_value, genomic_id, mitochondrial_id, genomic_start,\n",
    "                            mitochondrial_start, genomic_length, mitochondrial_length, genomic_strand,\n",
    "                            mitochondrial_strand, genomic_size, mitochondrial_size, genomic_sequence,\n",
    "                             mitochondrial_sequence])\n",
    "end = time.time()\n",
    "runtime = (end - start) / 60#minutes\n",
    "runtime"
   ]
  },
  {
   "cell_type": "code",
   "execution_count": 40,
   "metadata": {},
   "outputs": [],
   "source": [
    "#create dataframe and name columns\n",
    "alignment_df = pd.DataFrame(features)\n",
    "alignment_df.columns = ['score', 'eg2_value', 'e_value', 'g_id', 'mt_id', 'g_start', 'mt_start',\n",
    "                        'g_length', 'mt_length', 'g_strand', 'mt_strand', 'g_size', 'mt_size',\n",
    "                        'g_sequence', 'mt_sequence']"
   ]
  },
  {
   "cell_type": "code",
   "execution_count": 41,
   "metadata": {},
   "outputs": [
    {
     "data": {
      "text/html": [
       "<div>\n",
       "<style scoped>\n",
       "    .dataframe tbody tr th:only-of-type {\n",
       "        vertical-align: middle;\n",
       "    }\n",
       "\n",
       "    .dataframe tbody tr th {\n",
       "        vertical-align: top;\n",
       "    }\n",
       "\n",
       "    .dataframe thead th {\n",
       "        text-align: right;\n",
       "    }\n",
       "</style>\n",
       "<table border=\"1\" class=\"dataframe\">\n",
       "  <thead>\n",
       "    <tr style=\"text-align: right;\">\n",
       "      <th></th>\n",
       "      <th>score</th>\n",
       "      <th>eg2_value</th>\n",
       "      <th>e_value</th>\n",
       "      <th>g_id</th>\n",
       "      <th>mt_id</th>\n",
       "      <th>g_start</th>\n",
       "      <th>mt_start</th>\n",
       "      <th>g_length</th>\n",
       "      <th>mt_length</th>\n",
       "      <th>g_strand</th>\n",
       "      <th>mt_strand</th>\n",
       "      <th>g_size</th>\n",
       "      <th>mt_size</th>\n",
       "      <th>g_sequence</th>\n",
       "      <th>mt_sequence</th>\n",
       "    </tr>\n",
       "  </thead>\n",
       "  <tbody>\n",
       "    <tr>\n",
       "      <th>0</th>\n",
       "      <td>17245</td>\n",
       "      <td>0.0</td>\n",
       "      <td>0.0</td>\n",
       "      <td>MT</td>\n",
       "      <td>MT</td>\n",
       "      <td>0</td>\n",
       "      <td>0</td>\n",
       "      <td>17245</td>\n",
       "      <td>17245</td>\n",
       "      <td>+</td>\n",
       "      <td>+</td>\n",
       "      <td>17245</td>\n",
       "      <td>34490</td>\n",
       "      <td>GTTAATGTAGCTTAACAACAAAGCAAAGCACTGAAAATGCTTAGAT...</td>\n",
       "      <td>GTTAATGTAGCTTAACAACAAAGCAAAGCACTGAAAATGCTTAGAT...</td>\n",
       "    </tr>\n",
       "    <tr>\n",
       "      <th>1</th>\n",
       "      <td>17245</td>\n",
       "      <td>0.0</td>\n",
       "      <td>0.0</td>\n",
       "      <td>MT</td>\n",
       "      <td>MT</td>\n",
       "      <td>0</td>\n",
       "      <td>17245</td>\n",
       "      <td>17245</td>\n",
       "      <td>17245</td>\n",
       "      <td>+</td>\n",
       "      <td>+</td>\n",
       "      <td>17245</td>\n",
       "      <td>34490</td>\n",
       "      <td>GTTAATGTAGCTTAACAACAAAGCAAAGCACTGAAAATGCTTAGAT...</td>\n",
       "      <td>GTTAATGTAGCTTAACAACAAAGCAAAGCACTGAAAATGCTTAGAT...</td>\n",
       "    </tr>\n",
       "    <tr>\n",
       "      <th>2</th>\n",
       "      <td>3398</td>\n",
       "      <td>0.0</td>\n",
       "      <td>0.0</td>\n",
       "      <td>1</td>\n",
       "      <td>MT</td>\n",
       "      <td>114731432</td>\n",
       "      <td>6976</td>\n",
       "      <td>4680</td>\n",
       "      <td>4681</td>\n",
       "      <td>+</td>\n",
       "      <td>+</td>\n",
       "      <td>194850757</td>\n",
       "      <td>34490</td>\n",
       "      <td>taGTAAAATTATTACATAACTTTGTCGAAGTTAATTTATAGGTTCA...</td>\n",
       "      <td>TAGTAAAACCATTACATAACTTTGTCGAAGTTAATTTATAGGTTCA...</td>\n",
       "    </tr>\n",
       "    <tr>\n",
       "      <th>3</th>\n",
       "      <td>3398</td>\n",
       "      <td>0.0</td>\n",
       "      <td>0.0</td>\n",
       "      <td>1</td>\n",
       "      <td>MT</td>\n",
       "      <td>114731432</td>\n",
       "      <td>24221</td>\n",
       "      <td>4680</td>\n",
       "      <td>4681</td>\n",
       "      <td>+</td>\n",
       "      <td>+</td>\n",
       "      <td>194850757</td>\n",
       "      <td>34490</td>\n",
       "      <td>taGTAAAATTATTACATAACTTTGTCGAAGTTAATTTATAGGTTCA...</td>\n",
       "      <td>TAGTAAAACCATTACATAACTTTGTCGAAGTTAATTTATAGGTTCA...</td>\n",
       "    </tr>\n",
       "    <tr>\n",
       "      <th>4</th>\n",
       "      <td>3120</td>\n",
       "      <td>0.0</td>\n",
       "      <td>0.0</td>\n",
       "      <td>GL019308</td>\n",
       "      <td>MT</td>\n",
       "      <td>67160</td>\n",
       "      <td>883</td>\n",
       "      <td>4892</td>\n",
       "      <td>4945</td>\n",
       "      <td>+</td>\n",
       "      <td>+</td>\n",
       "      <td>88228</td>\n",
       "      <td>34490</td>\n",
       "      <td>CAAGGCCATGAAGCATGCACACACTGCCCATCGCTCTCCTCAAACA...</td>\n",
       "      <td>CAAGGCCATGAAGCACGCACACACCGCCCGTCACCCTCCTCAAGTG...</td>\n",
       "    </tr>\n",
       "  </tbody>\n",
       "</table>\n",
       "</div>"
      ],
      "text/plain": [
       "   score  eg2_value  e_value      g_id mt_id    g_start  mt_start  g_length  \\\n",
       "0  17245        0.0      0.0        MT    MT          0         0     17245   \n",
       "1  17245        0.0      0.0        MT    MT          0     17245     17245   \n",
       "2   3398        0.0      0.0         1    MT  114731432      6976      4680   \n",
       "3   3398        0.0      0.0         1    MT  114731432     24221      4680   \n",
       "4   3120        0.0      0.0  GL019308    MT      67160       883      4892   \n",
       "\n",
       "   mt_length g_strand mt_strand     g_size  mt_size  \\\n",
       "0      17245        +         +      17245    34490   \n",
       "1      17245        +         +      17245    34490   \n",
       "2       4681        +         +  194850757    34490   \n",
       "3       4681        +         +  194850757    34490   \n",
       "4       4945        +         +      88228    34490   \n",
       "\n",
       "                                          g_sequence  \\\n",
       "0  GTTAATGTAGCTTAACAACAAAGCAAAGCACTGAAAATGCTTAGAT...   \n",
       "1  GTTAATGTAGCTTAACAACAAAGCAAAGCACTGAAAATGCTTAGAT...   \n",
       "2  taGTAAAATTATTACATAACTTTGTCGAAGTTAATTTATAGGTTCA...   \n",
       "3  taGTAAAATTATTACATAACTTTGTCGAAGTTAATTTATAGGTTCA...   \n",
       "4  CAAGGCCATGAAGCATGCACACACTGCCCATCGCTCTCCTCAAACA...   \n",
       "\n",
       "                                         mt_sequence  \n",
       "0  GTTAATGTAGCTTAACAACAAAGCAAAGCACTGAAAATGCTTAGAT...  \n",
       "1  GTTAATGTAGCTTAACAACAAAGCAAAGCACTGAAAATGCTTAGAT...  \n",
       "2  TAGTAAAACCATTACATAACTTTGTCGAAGTTAATTTATAGGTTCA...  \n",
       "3  TAGTAAAACCATTACATAACTTTGTCGAAGTTAATTTATAGGTTCA...  \n",
       "4  CAAGGCCATGAAGCACGCACACACCGCCCGTCACCCTCCTCAAGTG...  "
      ]
     },
     "execution_count": 41,
     "metadata": {},
     "output_type": "execute_result"
    }
   ],
   "source": [
    "alignment_df.head()"
   ]
  },
  {
   "cell_type": "code",
   "execution_count": 75,
   "metadata": {},
   "outputs": [
    {
     "data": {
      "text/plain": [
       "17245"
      ]
     },
     "execution_count": 75,
     "metadata": {},
     "output_type": "execute_result"
    }
   ],
   "source": [
    "mt_full_seq = ''\n",
    "with open (r'Z:\\balint\\numt\\Michael\\data\\genome_parts_in_fasta/MT.fasta') as infile:\n",
    "    content = infile.readlines()\n",
    "    for line in content:\n",
    "        if '>' not in line:\n",
    "            mt_full_seq = line\n",
    "len(mt_full_seq)"
   ]
  },
  {
   "cell_type": "code",
   "execution_count": 51,
   "metadata": {},
   "outputs": [
    {
     "data": {
      "text/html": [
       "<div>\n",
       "<style scoped>\n",
       "    .dataframe tbody tr th:only-of-type {\n",
       "        vertical-align: middle;\n",
       "    }\n",
       "\n",
       "    .dataframe tbody tr th {\n",
       "        vertical-align: top;\n",
       "    }\n",
       "\n",
       "    .dataframe thead th {\n",
       "        text-align: right;\n",
       "    }\n",
       "</style>\n",
       "<table border=\"1\" class=\"dataframe\">\n",
       "  <thead>\n",
       "    <tr style=\"text-align: right;\">\n",
       "      <th></th>\n",
       "      <th>score</th>\n",
       "      <th>eg2_value</th>\n",
       "      <th>e_value</th>\n",
       "      <th>g_id</th>\n",
       "      <th>mt_id</th>\n",
       "      <th>g_start</th>\n",
       "      <th>mt_start</th>\n",
       "      <th>g_length</th>\n",
       "      <th>mt_length</th>\n",
       "      <th>g_strand</th>\n",
       "      <th>mt_strand</th>\n",
       "      <th>g_size</th>\n",
       "      <th>mt_size</th>\n",
       "      <th>g_sequence</th>\n",
       "      <th>mt_sequence</th>\n",
       "    </tr>\n",
       "  </thead>\n",
       "  <tbody>\n",
       "    <tr>\n",
       "      <th>289</th>\n",
       "      <td>77</td>\n",
       "      <td>7.500000e-20</td>\n",
       "      <td>1.300000e-23</td>\n",
       "      <td>AAGW02081404</td>\n",
       "      <td>MT</td>\n",
       "      <td>17858</td>\n",
       "      <td>882</td>\n",
       "      <td>136</td>\n",
       "      <td>140</td>\n",
       "      <td>+</td>\n",
       "      <td>-</td>\n",
       "      <td>27691</td>\n",
       "      <td>34490</td>\n",
       "      <td>GTACGTgcgtacgtgcgtacgggtgtacgggtgtacgggtgtacgg...</td>\n",
       "      <td>gtgcgtacgggtgtacgtgcgtgcgtacgggtgtacgtgcgtgcgt...</td>\n",
       "    </tr>\n",
       "    <tr>\n",
       "      <th>290</th>\n",
       "      <td>77</td>\n",
       "      <td>7.500000e-20</td>\n",
       "      <td>1.300000e-23</td>\n",
       "      <td>AAGW02081404</td>\n",
       "      <td>MT</td>\n",
       "      <td>17858</td>\n",
       "      <td>18127</td>\n",
       "      <td>136</td>\n",
       "      <td>140</td>\n",
       "      <td>+</td>\n",
       "      <td>-</td>\n",
       "      <td>27691</td>\n",
       "      <td>34490</td>\n",
       "      <td>GTACGTgcgtacgtgcgtacgggtgtacgggtgtacgggtgtacgg...</td>\n",
       "      <td>gtgcgtacgggtgtacgtgcgtgcgtacgggtgtacgtgcgtgcgt...</td>\n",
       "    </tr>\n",
       "  </tbody>\n",
       "</table>\n",
       "</div>"
      ],
      "text/plain": [
       "     score     eg2_value       e_value          g_id mt_id  g_start  mt_start  \\\n",
       "289     77  7.500000e-20  1.300000e-23  AAGW02081404    MT    17858       882   \n",
       "290     77  7.500000e-20  1.300000e-23  AAGW02081404    MT    17858     18127   \n",
       "\n",
       "     g_length  mt_length g_strand mt_strand  g_size  mt_size  \\\n",
       "289       136        140        +         -   27691    34490   \n",
       "290       136        140        +         -   27691    34490   \n",
       "\n",
       "                                            g_sequence  \\\n",
       "289  GTACGTgcgtacgtgcgtacgggtgtacgggtgtacgggtgtacgg...   \n",
       "290  GTACGTgcgtacgtgcgtacgggtgtacgggtgtacgggtgtacgg...   \n",
       "\n",
       "                                           mt_sequence  \n",
       "289  gtgcgtacgggtgtacgtgcgtgcgtacgggtgtacgtgcgtgcgt...  \n",
       "290  gtgcgtacgggtgtacgtgcgtgcgtacgggtgtacgtgcgtgcgt...  "
      ]
     },
     "execution_count": 51,
     "metadata": {},
     "output_type": "execute_result"
    }
   ],
   "source": [
    "mask = alignment_df['g_id'] == 'AAGW02081404'\n",
    "alignment_df[mask]\n",
    "mask1 = alignment_df['eg2_value'] == 7.500000e-20\n",
    "mt_sequences = alignment_df[mask1]['mt_sequence'].tolist()\n",
    "alignment_df[mask1]"
   ]
  },
  {
   "cell_type": "code",
   "execution_count": 66,
   "metadata": {},
   "outputs": [
    {
     "data": {
      "text/plain": [
       "'GTGCGTACGGGTGTACGTGCGTGCGTACGGGTGTACGTGCGTGCGTACGGGTGTACGTGCGTGCGTACGGGTGTACGTGCGTGCGTACGGGTGTACGTGCGTGCGTACGGGTGTACGTGCGTGCGTACGGGTGTACGTGC'"
      ]
     },
     "execution_count": 66,
     "metadata": {},
     "output_type": "execute_result"
    }
   ],
   "source": [
    "mt_sequences[0].upper()"
   ]
  },
  {
   "cell_type": "code",
   "execution_count": 68,
   "metadata": {},
   "outputs": [],
   "source": [
    "complement_dictionary = {'A':'T',\n",
    "             'C':'G',\n",
    "             'T':'A',\n",
    "             'G':'C'}"
   ]
  },
  {
   "cell_type": "code",
   "execution_count": 72,
   "metadata": {},
   "outputs": [
    {
     "data": {
      "text/plain": [
       "'GCACGTACACCCGTACGCACGCACGTACACCCGTACGCACGCACGTACACCCGTACGCACGCACGTACACCCGTACGCACGCACGTACACCCGTACGCACGCACGTACACCCGTACGCACGCACGTACACCCGTACGCAC'"
      ]
     },
     "execution_count": 72,
     "metadata": {},
     "output_type": "execute_result"
    }
   ],
   "source": [
    "complement = ''\n",
    "for base in mt_sequences[0].upper():\n",
    "    complement += complement_dictionary[base]\n",
    "reverse_complement = complement[::-1]\n",
    "reverse_complement"
   ]
  },
  {
   "cell_type": "code",
   "execution_count": 2,
   "metadata": {},
   "outputs": [
    {
     "data": {
      "text/plain": [
       "16223"
      ]
     },
     "execution_count": 2,
     "metadata": {},
     "output_type": "execute_result"
    }
   ],
   "source": [
    "(17245-882) - 140"
   ]
  },
  {
   "cell_type": "code",
   "execution_count": 76,
   "metadata": {},
   "outputs": [
    {
     "data": {
      "text/plain": [
       "16223"
      ]
     },
     "execution_count": 76,
     "metadata": {},
     "output_type": "execute_result"
    }
   ],
   "source": [
    "mt_full_seq.find(reverse_complement)"
   ]
  },
  {
   "cell_type": "code",
   "execution_count": 3,
   "metadata": {},
   "outputs": [
    {
     "ename": "NameError",
     "evalue": "name 'mt_full_seq' is not defined",
     "output_type": "error",
     "traceback": [
      "\u001b[1;31m---------------------------------------------------------------------------\u001b[0m",
      "\u001b[1;31mNameError\u001b[0m                                 Traceback (most recent call last)",
      "\u001b[1;32m<ipython-input-3-2d5d1cb864b3>\u001b[0m in \u001b[0;36m<module>\u001b[1;34m\u001b[0m\n\u001b[1;32m----> 1\u001b[1;33m \u001b[0mmt_full_seq\u001b[0m\u001b[1;33m[\u001b[0m\u001b[1;36m16223\u001b[0m\u001b[1;33m:\u001b[0m\u001b[1;33m]\u001b[0m\u001b[1;33m\u001b[0m\u001b[1;33m\u001b[0m\u001b[0m\n\u001b[0m",
      "\u001b[1;31mNameError\u001b[0m: name 'mt_full_seq' is not defined"
     ]
    }
   ],
   "source": [
    "mt_full_seq[16223:]"
   ]
  },
  {
   "cell_type": "code",
   "execution_count": 78,
   "metadata": {},
   "outputs": [
    {
     "data": {
      "text/plain": [
       "17245"
      ]
     },
     "execution_count": 78,
     "metadata": {},
     "output_type": "execute_result"
    }
   ],
   "source": [
    "len(mt_full_seq)"
   ]
  },
  {
   "cell_type": "code",
   "execution_count": 79,
   "metadata": {},
   "outputs": [
    {
     "data": {
      "text/plain": [
       "1022"
      ]
     },
     "execution_count": 79,
     "metadata": {},
     "output_type": "execute_result"
    }
   ],
   "source": [
    "len(mt_full_seq) - 16223"
   ]
  },
  {
   "cell_type": "code",
   "execution_count": 87,
   "metadata": {},
   "outputs": [],
   "source": [
    "mt_complement = ''\n",
    "for base in mt_full_seq:\n",
    "    mt_complement += complement_dictionary[base]\n",
    "reverse_mt_complement = mt_complement[::-1]"
   ]
  },
  {
   "cell_type": "code",
   "execution_count": 88,
   "metadata": {},
   "outputs": [
    {
     "data": {
      "text/plain": [
       "True"
      ]
     },
     "execution_count": 88,
     "metadata": {},
     "output_type": "execute_result"
    }
   ],
   "source": [
    "mt_sequences[0].upper() in reverse_mt_complement"
   ]
  },
  {
   "cell_type": "code",
   "execution_count": 89,
   "metadata": {},
   "outputs": [
    {
     "data": {
      "text/plain": [
       "822"
      ]
     },
     "execution_count": 89,
     "metadata": {},
     "output_type": "execute_result"
    }
   ],
   "source": [
    "reverse_mt_complement.find(mt_sequences[0].upper())"
   ]
  },
  {
   "cell_type": "code",
   "execution_count": 86,
   "metadata": {},
   "outputs": [
    {
     "data": {
      "text/plain": [
       "False"
      ]
     },
     "execution_count": 86,
     "metadata": {},
     "output_type": "execute_result"
    }
   ],
   "source": [
    "mt_sequences[0].upper() in mt_full_seq[::-1]"
   ]
  },
  {
   "cell_type": "code",
   "execution_count": 25,
   "metadata": {},
   "outputs": [],
   "source": [
    "sequence = ''\n",
    "with open (r'Z:\\balint\\numt\\Michael\\data\\genome_parts_in_fasta/3.fasta') as infile:\n",
    "    content = infile.readlines()\n",
    "    for line in content:\n",
    "        if '>' not in line:\n",
    "            sequence = line"
   ]
  },
  {
   "cell_type": "code",
   "execution_count": 14,
   "metadata": {},
   "outputs": [],
   "source": [
    "alignment_df.to_csv(r'Z:\\balint\\numt\\Michael\\data/alignments.csv', sep = ',', index = False)"
   ]
  },
  {
   "cell_type": "code",
   "execution_count": 62,
   "metadata": {},
   "outputs": [
    {
     "name": "stdout",
     "output_type": "stream",
     "text": [
      "done for 0 numts\n",
      "done for 30 numts\n",
      "done for 60 numts\n",
      "done for 90 numts\n",
      "done for 120 numts\n",
      "done for 150 numts\n",
      "done for 180 numts\n",
      "done for 210 numts\n",
      "done for 240 numts\n",
      "done for 270 numts\n"
     ]
    },
    {
     "data": {
      "text/plain": [
       "2.1954854925473533"
      ]
     },
     "execution_count": 62,
     "metadata": {},
     "output_type": "execute_result"
    }
   ],
   "source": [
    "#parse alignment file for upstream and downstream flankings\n",
    "time_start = time.time()\n",
    "fasta_directory = os.path.join(r'D:\\balint\\munts\\chromosomes_and_contigs/')\n",
    "upstream_flankings = []\n",
    "downstream_flankings = []\n",
    "for index, row in alignment_df.iterrows():\n",
    "    filename = '%s.fasta' % row['g_id']\n",
    "    start = int(row['g_start'])\n",
    "    length = int(row['g_length'])\n",
    "    end = start + length\n",
    "    flank_start = start - 200\n",
    "    flank_end = end + 200\n",
    "    with open (fasta_directory + filename) as infile:\n",
    "        sequence = infile.readlines()[1:][0]\n",
    "        if flank_start < 0:\n",
    "            up_flank = sequence[ : start]\n",
    "        else:\n",
    "            up_flank = sequence[flank_start : start]\n",
    "        if flank_end > len(sequence):\n",
    "            down_flank = sequence[end : ]\n",
    "        else:\n",
    "            down_flank = sequence[end : flank_end]\n",
    "        if up_flank == '':\n",
    "            up_flank = float('nan')\n",
    "        if down_flank == '':\n",
    "            down_flank = float('nan')\n",
    "        upstream_flankings.append(up_flank)\n",
    "        downstream_flankings.append(down_flank)\n",
    "        if index % 30 == 0:\n",
    "            print('done for %s numts' % index)\n",
    "time_end = time.time()\n",
    "runtime = (time_end - time_start) / 60#minutes\n",
    "runtime"
   ]
  },
  {
   "cell_type": "code",
   "execution_count": 65,
   "metadata": {},
   "outputs": [],
   "source": [
    "#adding flanking columns to the dataframe\n",
    "alignment_df['down_flank'] = downstream_flankings\n",
    "alignment_df['up_flank'] = upstream_flankings"
   ]
  },
  {
   "cell_type": "code",
   "execution_count": 66,
   "metadata": {},
   "outputs": [
    {
     "data": {
      "text/html": [
       "<div>\n",
       "<style scoped>\n",
       "    .dataframe tbody tr th:only-of-type {\n",
       "        vertical-align: middle;\n",
       "    }\n",
       "\n",
       "    .dataframe tbody tr th {\n",
       "        vertical-align: top;\n",
       "    }\n",
       "\n",
       "    .dataframe thead th {\n",
       "        text-align: right;\n",
       "    }\n",
       "</style>\n",
       "<table border=\"1\" class=\"dataframe\">\n",
       "  <thead>\n",
       "    <tr style=\"text-align: right;\">\n",
       "      <th></th>\n",
       "      <th>score</th>\n",
       "      <th>eg2_value</th>\n",
       "      <th>e_value</th>\n",
       "      <th>g_id</th>\n",
       "      <th>mt_id</th>\n",
       "      <th>g_start</th>\n",
       "      <th>mt_start</th>\n",
       "      <th>g_length</th>\n",
       "      <th>mt_length</th>\n",
       "      <th>g_strand</th>\n",
       "      <th>mt_strand</th>\n",
       "      <th>g_size</th>\n",
       "      <th>mt_size</th>\n",
       "      <th>g_sequence</th>\n",
       "      <th>mt_sequence</th>\n",
       "      <th>down_flank</th>\n",
       "      <th>up_flank</th>\n",
       "    </tr>\n",
       "  </thead>\n",
       "  <tbody>\n",
       "    <tr>\n",
       "      <th>0</th>\n",
       "      <td>17245</td>\n",
       "      <td>0</td>\n",
       "      <td>0</td>\n",
       "      <td>MT</td>\n",
       "      <td>MT</td>\n",
       "      <td>0</td>\n",
       "      <td>0</td>\n",
       "      <td>17245</td>\n",
       "      <td>17245</td>\n",
       "      <td>+</td>\n",
       "      <td>+</td>\n",
       "      <td>17245</td>\n",
       "      <td>34490</td>\n",
       "      <td>GTTAATGTAGCTTAACAACAAAGCAAAGCACTGAAAATGCTTAGAT...</td>\n",
       "      <td>GTTAATGTAGCTTAACAACAAAGCAAAGCACTGAAAATGCTTAGAT...</td>\n",
       "      <td>NaN</td>\n",
       "      <td>NaN</td>\n",
       "    </tr>\n",
       "    <tr>\n",
       "      <th>1</th>\n",
       "      <td>17245</td>\n",
       "      <td>0</td>\n",
       "      <td>0</td>\n",
       "      <td>MT</td>\n",
       "      <td>MT</td>\n",
       "      <td>0</td>\n",
       "      <td>17245</td>\n",
       "      <td>17245</td>\n",
       "      <td>17245</td>\n",
       "      <td>+</td>\n",
       "      <td>+</td>\n",
       "      <td>17245</td>\n",
       "      <td>34490</td>\n",
       "      <td>GTTAATGTAGCTTAACAACAAAGCAAAGCACTGAAAATGCTTAGAT...</td>\n",
       "      <td>GTTAATGTAGCTTAACAACAAAGCAAAGCACTGAAAATGCTTAGAT...</td>\n",
       "      <td>NaN</td>\n",
       "      <td>NaN</td>\n",
       "    </tr>\n",
       "    <tr>\n",
       "      <th>2</th>\n",
       "      <td>3398</td>\n",
       "      <td>0</td>\n",
       "      <td>0</td>\n",
       "      <td>1</td>\n",
       "      <td>MT</td>\n",
       "      <td>114731432</td>\n",
       "      <td>6976</td>\n",
       "      <td>4680</td>\n",
       "      <td>4681</td>\n",
       "      <td>+</td>\n",
       "      <td>+</td>\n",
       "      <td>194850757</td>\n",
       "      <td>34490</td>\n",
       "      <td>taGTAAAATTATTACATAACTTTGTCGAAGTTAATTTATAGGTTCA...</td>\n",
       "      <td>TAGTAAAACCATTACATAACTTTGTCGAAGTTAATTTATAGGTTCA...</td>\n",
       "      <td>TATATATATTTATATATATATGTATATATGTACATATATATAACTA...</td>\n",
       "      <td>ACAAAAGACTCTGAATAGCCAAAGCGATCCTGAACAAGAAAAATCA...</td>\n",
       "    </tr>\n",
       "    <tr>\n",
       "      <th>3</th>\n",
       "      <td>3398</td>\n",
       "      <td>0</td>\n",
       "      <td>0</td>\n",
       "      <td>1</td>\n",
       "      <td>MT</td>\n",
       "      <td>114731432</td>\n",
       "      <td>24221</td>\n",
       "      <td>4680</td>\n",
       "      <td>4681</td>\n",
       "      <td>+</td>\n",
       "      <td>+</td>\n",
       "      <td>194850757</td>\n",
       "      <td>34490</td>\n",
       "      <td>taGTAAAATTATTACATAACTTTGTCGAAGTTAATTTATAGGTTCA...</td>\n",
       "      <td>TAGTAAAACCATTACATAACTTTGTCGAAGTTAATTTATAGGTTCA...</td>\n",
       "      <td>TATATATATTTATATATATATGTATATATGTACATATATATAACTA...</td>\n",
       "      <td>ACAAAAGACTCTGAATAGCCAAAGCGATCCTGAACAAGAAAAATCA...</td>\n",
       "    </tr>\n",
       "    <tr>\n",
       "      <th>4</th>\n",
       "      <td>3120</td>\n",
       "      <td>0</td>\n",
       "      <td>0</td>\n",
       "      <td>GL019308</td>\n",
       "      <td>MT</td>\n",
       "      <td>67160</td>\n",
       "      <td>883</td>\n",
       "      <td>4892</td>\n",
       "      <td>4945</td>\n",
       "      <td>+</td>\n",
       "      <td>+</td>\n",
       "      <td>88228</td>\n",
       "      <td>34490</td>\n",
       "      <td>CAAGGCCATGAAGCATGCACACACTGCCCATCGCTCTCCTCAAACA...</td>\n",
       "      <td>CAAGGCCATGAAGCACGCACACACCGCCCGTCACCCTCCTCAAGTG...</td>\n",
       "      <td>ATGAAGGGGCAAAGAGTAATTTTACAGTCGAGAGGGCTAGCAGTCA...</td>\n",
       "      <td>GATAAACCCCGATAAACTTTACCACTCTTTGCCAACTCAGCCTCTA...</td>\n",
       "    </tr>\n",
       "  </tbody>\n",
       "</table>\n",
       "</div>"
      ],
      "text/plain": [
       "   score eg2_value e_value      g_id mt_id    g_start mt_start g_length  \\\n",
       "0  17245         0       0        MT    MT          0        0    17245   \n",
       "1  17245         0       0        MT    MT          0    17245    17245   \n",
       "2   3398         0       0         1    MT  114731432     6976     4680   \n",
       "3   3398         0       0         1    MT  114731432    24221     4680   \n",
       "4   3120         0       0  GL019308    MT      67160      883     4892   \n",
       "\n",
       "  mt_length g_strand mt_strand     g_size mt_size  \\\n",
       "0     17245        +         +      17245   34490   \n",
       "1     17245        +         +      17245   34490   \n",
       "2      4681        +         +  194850757   34490   \n",
       "3      4681        +         +  194850757   34490   \n",
       "4      4945        +         +      88228   34490   \n",
       "\n",
       "                                          g_sequence  \\\n",
       "0  GTTAATGTAGCTTAACAACAAAGCAAAGCACTGAAAATGCTTAGAT...   \n",
       "1  GTTAATGTAGCTTAACAACAAAGCAAAGCACTGAAAATGCTTAGAT...   \n",
       "2  taGTAAAATTATTACATAACTTTGTCGAAGTTAATTTATAGGTTCA...   \n",
       "3  taGTAAAATTATTACATAACTTTGTCGAAGTTAATTTATAGGTTCA...   \n",
       "4  CAAGGCCATGAAGCATGCACACACTGCCCATCGCTCTCCTCAAACA...   \n",
       "\n",
       "                                         mt_sequence  \\\n",
       "0  GTTAATGTAGCTTAACAACAAAGCAAAGCACTGAAAATGCTTAGAT...   \n",
       "1  GTTAATGTAGCTTAACAACAAAGCAAAGCACTGAAAATGCTTAGAT...   \n",
       "2  TAGTAAAACCATTACATAACTTTGTCGAAGTTAATTTATAGGTTCA...   \n",
       "3  TAGTAAAACCATTACATAACTTTGTCGAAGTTAATTTATAGGTTCA...   \n",
       "4  CAAGGCCATGAAGCACGCACACACCGCCCGTCACCCTCCTCAAGTG...   \n",
       "\n",
       "                                          down_flank  \\\n",
       "0                                                NaN   \n",
       "1                                                NaN   \n",
       "2  TATATATATTTATATATATATGTATATATGTACATATATATAACTA...   \n",
       "3  TATATATATTTATATATATATGTATATATGTACATATATATAACTA...   \n",
       "4  ATGAAGGGGCAAAGAGTAATTTTACAGTCGAGAGGGCTAGCAGTCA...   \n",
       "\n",
       "                                            up_flank  \n",
       "0                                                NaN  \n",
       "1                                                NaN  \n",
       "2  ACAAAAGACTCTGAATAGCCAAAGCGATCCTGAACAAGAAAAATCA...  \n",
       "3  ACAAAAGACTCTGAATAGCCAAAGCGATCCTGAACAAGAAAAATCA...  \n",
       "4  GATAAACCCCGATAAACTTTACCACTCTTTGCCAACTCAGCCTCTA...  "
      ]
     },
     "execution_count": 66,
     "metadata": {},
     "output_type": "execute_result"
    }
   ],
   "source": [
    "alignment_df.head()"
   ]
  },
  {
   "cell_type": "code",
   "execution_count": 67,
   "metadata": {},
   "outputs": [],
   "source": [
    "alignment_df.to_csv(r'Z:\\balint\\numt\\Michael\\data/alignments.csv', index = False)"
   ]
  },
  {
   "cell_type": "code",
   "execution_count": 64,
   "metadata": {},
   "outputs": [],
   "source": [
    "trial_dir = os.path.join(r'Z:\\balint\\numt\\Michael\\data\\trial_sequences/')\n",
    "with open (trial_dir + 'trial_genome.fasta', 'w') as g, open (trial_dir + 'tiral_mito.fasta', 'w') as m:\n",
    "    g.write('>1\\n')\n",
    "    g.write('AAAAAAAAAAAAAAAAAAAAAAAAAAAAAAGTGTGTGTGTGCCCCCCCCCCCCGGGGGTTTTTTTCCCCCCACACACACACACACACACACA\\n')\n",
    "    g.write('>2\\n')\n",
    "    g.write('TTTTTTTTTTTTTTTTTTTTTTTTTTTTTTCACACACACACGGGGGGGGGGGGCCCCCAAAAAAAGGGGGGTGTGTGTGTGTGTGTGTGTGT\\n')\n",
    "    m.write('>M\\n')\n",
    "    m.write('AAAAGTGTGTGTGTGCCCCCCCCCCCCGGGGGTTTTTTTCCCCCCACAC')"
   ]
  },
  {
   "cell_type": "code",
   "execution_count": 63,
   "metadata": {},
   "outputs": [
    {
     "data": {
      "text/plain": [
       "21"
      ]
     },
     "execution_count": 63,
     "metadata": {},
     "output_type": "execute_result"
    }
   ],
   "source": [
    "len('TGTGTGTGTGTGTGTGTGTGT')"
   ]
  },
  {
   "cell_type": "code",
   "execution_count": null,
   "metadata": {},
   "outputs": [],
   "source": []
  }
 ],
 "metadata": {
  "kernelspec": {
   "display_name": "Python 3",
   "language": "python",
   "name": "python3"
  },
  "language_info": {
   "codemirror_mode": {
    "name": "ipython",
    "version": 3
   },
   "file_extension": ".py",
   "mimetype": "text/x-python",
   "name": "python",
   "nbconvert_exporter": "python",
   "pygments_lexer": "ipython3",
   "version": "3.7.1"
  }
 },
 "nbformat": 4,
 "nbformat_minor": 2
}
