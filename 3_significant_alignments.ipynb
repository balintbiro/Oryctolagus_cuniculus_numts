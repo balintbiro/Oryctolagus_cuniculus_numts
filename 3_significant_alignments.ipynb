{
 "cells": [
  {
   "cell_type": "code",
   "execution_count": 42,
   "metadata": {},
   "outputs": [],
   "source": [
    "#importing the required modules\n",
    "import os"
   ]
  },
  {
   "cell_type": "code",
   "execution_count": 33,
   "metadata": {},
   "outputs": [],
   "source": [
    "#get e values for every alignment\n",
    "e_values = []\n",
    "with open (r'../numt/reverse_mt_alignment.fasta') as infile:\n",
    "    content = infile.readlines()\n",
    "    for line in content:\n",
    "        if 'EG2' in line:\n",
    "            e_value = float(line.rsplit()[3].split('=')[1])\n",
    "            e_values.append(e_value)\n",
    "    e_values.sort()"
   ]
  },
  {
   "cell_type": "code",
   "execution_count": 35,
   "metadata": {},
   "outputs": [],
   "source": [
    "#lowest e_value based on the rmt DNA alignment\n",
    "e_threshold = e_values[0]"
   ]
  },
  {
   "cell_type": "code",
   "execution_count": 36,
   "metadata": {},
   "outputs": [
    {
     "data": {
      "text/plain": [
       "1.6e-21"
      ]
     },
     "execution_count": 36,
     "metadata": {},
     "output_type": "execute_result"
    }
   ],
   "source": [
    "e_threshold"
   ]
  },
  {
   "cell_type": "code",
   "execution_count": 53,
   "metadata": {},
   "outputs": [],
   "source": [
    "#open the alignments and filter them based on the e threshold. Write the significant results into a\n",
    "#separated file\n",
    "directory = os.path.join(r'Z:\\balint\\numt\\Michael\\data/')\n",
    "with open (directory + 'double_mt_alignment.fasta') as infile, open (directory + 'significant_alignments.fasta', 'w') as outfile:\n",
    "    content = infile.readlines()\n",
    "    for index, line in enumerate(content):\n",
    "        if 'score' in line:\n",
    "            e_value = float(line.rsplit()[3].split('=')[1])\n",
    "            g_sequence = content[index + 1]\n",
    "            mt_sequence = content[index + 2]\n",
    "            if e_value < e_threshold:\n",
    "                outfile.write(line)\n",
    "                outfile.write(g_sequence)\n",
    "                outfile.write(mt_sequence)\n",
    "                outfile.write('\\n')"
   ]
  },
  {
   "cell_type": "code",
   "execution_count": null,
   "metadata": {},
   "outputs": [],
   "source": []
  }
 ],
 "metadata": {
  "kernelspec": {
   "display_name": "Python 3",
   "language": "python",
   "name": "python3"
  },
  "language_info": {
   "codemirror_mode": {
    "name": "ipython",
    "version": 3
   },
   "file_extension": ".py",
   "mimetype": "text/x-python",
   "name": "python",
   "nbconvert_exporter": "python",
   "pygments_lexer": "ipython3",
   "version": "3.7.1"
  }
 },
 "nbformat": 4,
 "nbformat_minor": 2
}
