{
 "cells": [
  {
   "cell_type": "code",
   "execution_count": 1,
   "metadata": {},
   "outputs": [],
   "source": [
    "import pandas as pd"
   ]
  },
  {
   "cell_type": "code",
   "execution_count": 2,
   "metadata": {},
   "outputs": [],
   "source": [
    "#Reads the csv file\n",
    "data = pd.read_csv(r\"C:\\Users\\micha\\Documents\\Thesis\\Code writing\\Data\\numt_master_array.csv\")"
   ]
  },
  {
   "cell_type": "code",
   "execution_count": 3,
   "metadata": {},
   "outputs": [],
   "source": [
    "#Masks all g_length values larger than 350, ideal primer length is between 80 and 350 bp.\n",
    "#There are no g_length values smaller than 80\n",
    "mask = data['g_length'] < 350\n",
    "primers = data[mask].sort_values('g_length')\n",
    "\n",
    "#Calculates the gc content in a column, in percentages\n",
    "def gc_content(sequence):\n",
    "    sequence = str(sequence).upper()\n",
    "    gc = round((sequence.count('G')+sequence.count('C'))/len(sequence)*100,2)\n",
    "    return gc\n",
    "\n",
    "#Applies the gc content calculation to up and down flanking of the primers and writes to new column in the dataframe\n",
    "primers['gc_content_up_flanking'] = primers['g_up_flanking'].apply(gc_content)\n",
    "primers['gc_content_down_flanking'] = primers['g_down_flanking'].apply(gc_content)"
   ]
  },
  {
   "cell_type": "code",
   "execution_count": 4,
   "metadata": {},
   "outputs": [],
   "source": [
    "primers.to_csv(r'C:\\Users\\micha\\Documents\\Thesis\\GitHub\\numt\\results\\gc_content_primers.csv')"
   ]
  }
 ],
 "metadata": {
  "kernelspec": {
   "display_name": "Python 3",
   "language": "python",
   "name": "python3"
  },
  "language_info": {
   "codemirror_mode": {
    "name": "ipython",
    "version": 3
   },
   "file_extension": ".py",
   "mimetype": "text/x-python",
   "name": "python",
   "nbconvert_exporter": "python",
   "pygments_lexer": "ipython3",
   "version": "3.7.3"
  }
 },
 "nbformat": 4,
 "nbformat_minor": 2
}
