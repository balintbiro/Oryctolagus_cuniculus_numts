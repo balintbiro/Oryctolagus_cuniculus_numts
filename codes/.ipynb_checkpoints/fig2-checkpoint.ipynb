{
 "cells": [
  {
   "cell_type": "code",
   "execution_count": 1,
   "id": "78659b2d",
   "metadata": {},
   "outputs": [],
   "source": [
    "#import modules\n",
    "import os\n",
    "import random\n",
    "import matplotlib\n",
    "import numpy as np\n",
    "import pandas as pd\n",
    "import matplotlib.pyplot as plt\n",
    "from matplotlib.lines import Line2D"
   ]
  },
  {
   "cell_type": "code",
   "execution_count": 2,
   "id": "5b380217",
   "metadata": {},
   "outputs": [],
   "source": [
    "#read csv into a dataframe\n",
    "numts=pd.read_csv('/Volumes/motilin/balint/numt/3numt_array.csv')\n",
    "numts=numts[numts['mt_start']<17245]#filter out the abnormal numts coming from the dmtDNA alignment\n",
    "numts=numts.sort_values(by='mt_start')\n",
    "numts=numts[(numts['mt_start']+numts['mt_length'])<17245]"
   ]
  },
  {
   "cell_type": "code",
   "execution_count": 3,
   "id": "cc353de3",
   "metadata": {},
   "outputs": [],
   "source": [
    "#try to get as different colors as possible\n",
    "colors=pd.Series(['#e6194b', '#3cb44b', '#ffe119', '#4363d8', '#f58231', '#911eb4', '#46f0f0', '#f032e6',\n",
    "                  '#bcf60c','#fabebe', '#008080', '#e6beff', '#9a6324', '#fffac8', '#800000', '#aaffc3',\n",
    "                  '#808000', '#ffd8b1','#000075', '#00FF7F','#000000'], index=np.arange(1,22,1))"
   ]
  },
  {
   "cell_type": "code",
   "execution_count": 5,
   "id": "5a05b149",
   "metadata": {},
   "outputs": [],
   "source": [
    "#get custom legend colors\n",
    "custom_lines_color=colors.apply(lambda color: Line2D([0],[0],\n",
    "                                                         color=color,\n",
    "                                                         lw=0,\n",
    "                                                         marker='s',\n",
    "                                                        markersize=7)).tolist()"
   ]
  },
  {
   "cell_type": "code",
   "execution_count": 49,
   "id": "f56452a1",
   "metadata": {},
   "outputs": [],
   "source": [
    "#function for drawing brackets to annotate each mitochondrial part\n",
    "def annotate_mitochondrion(ax, xspan, text):\n",
    "    \"\"\"Draws an annotated brace on the axes.\"\"\"\n",
    "    xmin, xmax = xspan\n",
    "    xspan = xmax - xmin\n",
    "    ax_xmin, ax_xmax = ax.get_xlim()\n",
    "    xax_span = ax_xmax - ax_xmin\n",
    "    ymin, ymax = ax.get_ylim()\n",
    "    yspan = 10\n",
    "    resolution = int(xspan/xax_span*100)*2+1 # guaranteed uneven\n",
    "    beta = 300./xax_span # the higher this is, the smaller the radius\n",
    "\n",
    "    x = np.linspace(xmin, xmax, resolution)\n",
    "    x_half = x[:resolution//2+1]\n",
    "    y_half_brace = (1/(1.+np.exp(-beta*(x_half-x_half[0])))\n",
    "                    + 1/(1.+np.exp(-beta*(x_half-x_half[-1]))))\n",
    "    y = np.concatenate((y_half_brace, y_half_brace[-2::-1]))\n",
    "    y = ymin + (.15*y - .01)*yspan # adjust vertical position\n",
    "\n",
    "    ax.autoscale(False)\n",
    "    ax.plot(x, y, color='black', lw=1)\n",
    "\n",
    "    ax.text((xmax+xmin)/2., ymin+.25*yspan, text, ha='center', va='bottom', fontsize=14,rotation=75)"
   ]
  },
  {
   "cell_type": "code",
   "execution_count": 7,
   "id": "94038c8c",
   "metadata": {},
   "outputs": [],
   "source": [
    "#read in the mitochondrial annotation and add d-loop\n",
    "mitos=pd.read_csv('/Volumes/motilin/balint/numt/mitos_annotation.bed',sep='\\t',header=None)\n",
    "mitos.columns=['MT','START','END','DESCRIPTION','SIG','STRAND']\n",
    "mitos.loc[len(mitos)]=['MT',15445,17245,'D-loop',0.001,'+']"
   ]
  },
  {
   "cell_type": "code",
   "execution_count": 141,
   "id": "dcdba7f5",
   "metadata": {},
   "outputs": [],
   "source": [
    "intragenic_yticklabels=['SESN1','LRRC9','LRRC9','SEC23B','CFAP300','PLEKHA1','MEMO1','MEMO1','',\n",
    "                       'KIAA1328','PYGO2','KIAA1328','MED13L','']"
   ]
  },
  {
   "cell_type": "code",
   "execution_count": 142,
   "id": "6f0c9e32",
   "metadata": {},
   "outputs": [],
   "source": [
    "#function for visualizing chr located and intragenic numts\n",
    "def chr_numts(row,axs,numt_type):\n",
    "    global numt_tracker\n",
    "    global intragenic_tracker\n",
    "    if numt_type=='chr':\n",
    "        axs.barh(numt_tracker,row['mt_length'],left=row['mt_start'],height=1,\n",
    "             color=colors[int(row['g_id'])])\n",
    "        numt_tracker+=1\n",
    "    else:\n",
    "        if type(row['ensembl_description'])!=float:\n",
    "            axs.barh(numt_tracker,row['mt_length'],left=row['mt_start'],height=1,\n",
    "                 color=colors[int(row['g_id'])])\n",
    "            axs.text(row['mt_start']+row['mt_length']+150,numt_tracker-0.5,intragenic_yticklabels[intragenic_tracker])\n",
    "            intragenic_tracker+=1\n",
    "        else:\n",
    "            axs.barh(numt_tracker,0.01,left=row['mt_start'],height=1,\n",
    "                 color='grey')\n",
    "        numt_tracker+=1"
   ]
  },
  {
   "cell_type": "code",
   "execution_count": 143,
   "id": "8f9f6550",
   "metadata": {},
   "outputs": [],
   "source": [
    "#function for modify the given axs\n",
    "def axes_mod(axs,xlabel,ylabel,xlim,ylim,yticklabels,fontsize,text,textposition):\n",
    "    axs.set_xlabel(xlabel,fontsize=fontsize)\n",
    "    axs.set_ylabel(ylabel,fontsize=fontsize)\n",
    "    axs.set_xlim(xlim)\n",
    "    axs.set_ylim(ylim)\n",
    "    axs.set_yticklabels(yticklabels)\n",
    "    axs.text(textposition[0],textposition[1],text,fontsize=30)"
   ]
  },
  {
   "cell_type": "code",
   "execution_count": 144,
   "id": "69834b49",
   "metadata": {},
   "outputs": [
    {
     "name": "stderr",
     "output_type": "stream",
     "text": [
      "/var/folders/g2/9pvgl5793mxgz8dg4mhwym0m0000gn/T/ipykernel_54693/516734447.py:7: UserWarning: FixedFormatter should only be used together with FixedLocator\n",
      "  axs.set_yticklabels(yticklabels)\n",
      "/var/folders/g2/9pvgl5793mxgz8dg4mhwym0m0000gn/T/ipykernel_54693/516734447.py:7: UserWarning: FixedFormatter should only be used together with FixedLocator\n",
      "  axs.set_yticklabels(yticklabels)\n"
     ]
    }
   ],
   "source": [
    "fig,axs=plt.subplots(1,2, figsize=(15,7))\n",
    "\n",
    "chr_mask=numts.apply(lambda row:len(row['g_id'])<3,axis=1)\n",
    "\n",
    "axes_mod(axs[0],\n",
    "         'Mitochondrial nucleotides (bp)',\n",
    "         'Chromosomal numts',\n",
    "         (0,17000),\n",
    "         (-8,50),\n",
    "         ['',0,'','','','',50],\n",
    "         20,'(a)',(-40,52))\n",
    "numt_tracker=0\n",
    "numts[chr_mask].apply(chr_numts,args=(axs[0],'chr',),axis=1)\n",
    "for index, start in enumerate(mitos['START']):\n",
    "    if (mitos['END'][index]-start)>100:\n",
    "        annotate_mitochondrion(axs[0],(start,mitos['END'][index]),mitos['DESCRIPTION'][index])\n",
    "legend=axs[0].legend(custom_lines_color,colors.index.values, loc='upper left', title='Genomic location (Chr)',\n",
    "                  fontsize=10,ncol=3)\n",
    "axs[0].add_artist(legend)\n",
    "\n",
    "axes_mod(axs[1],\n",
    "         'Mitochondrial nucleotides (bp)',\n",
    "         'Intragenic numts',\n",
    "         (0,17000),\n",
    "         (-8,50),\n",
    "         ['',0,'','','','',50],\n",
    "         20,'(b)',(-40,52))\n",
    "intragenic_tracker=0\n",
    "axs[1].set_ylim(-8,50)\n",
    "numt_tracker=0\n",
    "numts[chr_mask].apply(chr_numts,args=(axs[1],'intragenic',),axis=1)\n",
    "for index, start in enumerate(mitos['START']):\n",
    "    if (mitos['END'][index]-start)>100:\n",
    "        annotate_mitochondrion(axs[1],(start,mitos['END'][index]),mitos['DESCRIPTION'][index])\n",
    "plt.tight_layout()\n",
    "plt.savefig('../results/Fig2.png',dpi=450)\n",
    "plt.close()"
   ]
  },
  {
   "cell_type": "code",
   "execution_count": null,
   "id": "4a351973",
   "metadata": {},
   "outputs": [],
   "source": []
  }
 ],
 "metadata": {
  "kernelspec": {
   "display_name": "Python 3 (ipykernel)",
   "language": "python",
   "name": "python3"
  },
  "language_info": {
   "codemirror_mode": {
    "name": "ipython",
    "version": 3
   },
   "file_extension": ".py",
   "mimetype": "text/x-python",
   "name": "python",
   "nbconvert_exporter": "python",
   "pygments_lexer": "ipython3",
   "version": "3.9.7"
  }
 },
 "nbformat": 4,
 "nbformat_minor": 5
}
