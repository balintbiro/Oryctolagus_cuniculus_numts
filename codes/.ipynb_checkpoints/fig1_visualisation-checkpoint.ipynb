{
 "cells": [
  {
   "cell_type": "code",
   "execution_count": 4,
   "id": "7dd560d3",
   "metadata": {},
   "outputs": [],
   "source": [
    "#import modules\n",
    "import os\n",
    "import random\n",
    "import matplotlib\n",
    "import numpy as np\n",
    "import pandas as pd\n",
    "import matplotlib.pyplot as plt\n",
    "from matplotlib.lines import Line2D"
   ]
  },
  {
   "cell_type": "code",
   "execution_count": 5,
   "id": "01a56107",
   "metadata": {},
   "outputs": [],
   "source": [
    "matplotlib.use('Agg')"
   ]
  },
  {
   "cell_type": "code",
   "execution_count": 6,
   "id": "3210a958",
   "metadata": {},
   "outputs": [],
   "source": [
    "#read csv into a dataframe\n",
    "numts=pd.read_csv(r'Z:\\balint\\numt/3numt_array.csv')\n",
    "numts=numts[numts['mt_start']<17245]#filter out the abnormal numts coming from the dmtDNA alignment\n",
    "numts=numts.sort_values(by='mt_start')\n",
    "trial_numts=numts[(numts['mt_start']+numts['mt_length'])<17245]"
   ]
  },
  {
   "cell_type": "code",
   "execution_count": 7,
   "id": "9d7939e4",
   "metadata": {},
   "outputs": [],
   "source": [
    "#try to get as different colors as possible\n",
    "colors=pd.Series(['#e6194b', '#3cb44b', '#ffe119', '#4363d8', '#f58231', '#911eb4', '#46f0f0', '#f032e6',\n",
    "                  '#bcf60c','#fabebe', '#008080', '#e6beff', '#9a6324', '#fffac8', '#800000', '#aaffc3',\n",
    "                  '#808000', '#ffd8b1','#000075', '#00FF7F','#000000'], index=np.arange(1,22,1))"
   ]
  },
  {
   "cell_type": "code",
   "execution_count": 8,
   "id": "58b26111",
   "metadata": {},
   "outputs": [],
   "source": [
    "#function for visualizing scaffold located numts\n",
    "def scf_numts(row):\n",
    "    global scaffold_tracker\n",
    "    if len(row['g_id'])>3:\n",
    "        ax2.barh(scaffold_tracker,row['mt_length'],left=row['mt_start'],height=1,\n",
    "                         color='grey')\n",
    "        scaffold_tracker+=1"
   ]
  },
  {
   "cell_type": "code",
   "execution_count": 9,
   "id": "81c7f06b",
   "metadata": {},
   "outputs": [],
   "source": [
    "#function for visualizing intragenic numts\n",
    "def intragenic_numts(row):\n",
    "    global intragenic_tracker\n",
    "    if type(row['ensembl_description'])!=float and row['g_id']!='GL018744':\n",
    "        try:\n",
    "            ax3.barh(intragenic_tracker,row['mt_length'],left=row['mt_start'],height=0.25,\n",
    "                             color=colors[int(row['g_id'])])\n",
    "            ax3.text(-2500,intragenic_tracker,intragenic_yticklabels[intragenic_tracker],fontsize=10)\n",
    "            intragenic_tracker+=1\n",
    "        except ValueError:\n",
    "            pass"
   ]
  },
  {
   "cell_type": "code",
   "execution_count": 10,
   "id": "8e7c324c",
   "metadata": {},
   "outputs": [],
   "source": [
    "#function for visualizing chr located numts\n",
    "def chr_numts(row):\n",
    "    global numt_tracker\n",
    "    try:\n",
    "        if type(row['ensembl_description'])==float:\n",
    "            ax1.barh(numt_tracker,row['mt_length'],left=row['mt_start'],height=1,\n",
    "                     color=colors[int(row['g_id'])])\n",
    "            numt_tracker+=1\n",
    "    except:\n",
    "        pass"
   ]
  },
  {
   "cell_type": "code",
   "execution_count": 11,
   "id": "f01f9226",
   "metadata": {},
   "outputs": [],
   "source": [
    "#get custom legend colors\n",
    "custom_lines_color=colors.apply(lambda color: Line2D([0],[0],\n",
    "                                                         color=color,\n",
    "                                                         lw=0,\n",
    "                                                         marker='s',\n",
    "                                                        markersize=7)).tolist()"
   ]
  },
  {
   "cell_type": "code",
   "execution_count": 12,
   "id": "c4958215",
   "metadata": {},
   "outputs": [],
   "source": [
    "#function for drawing brackets to annotate each mitochondrial part\n",
    "def annotate_mitochondrion(ax, xspan, text):\n",
    "    \"\"\"Draws an annotated brace on the axes.\"\"\"\n",
    "    xmin, xmax = xspan\n",
    "    xspan = xmax - xmin\n",
    "    ax_xmin, ax_xmax = ax.get_xlim()\n",
    "    xax_span = ax_xmax - ax_xmin\n",
    "    ymin, ymax = ax.get_ylim()\n",
    "    yspan = 10\n",
    "    resolution = int(xspan/xax_span*100)*2+1 # guaranteed uneven\n",
    "    beta = 300./xax_span # the higher this is, the smaller the radius\n",
    "\n",
    "    x = np.linspace(xmin, xmax, resolution)\n",
    "    x_half = x[:resolution//2+1]\n",
    "    y_half_brace = (1/(1.+np.exp(-beta*(x_half-x_half[0])))\n",
    "                    + 1/(1.+np.exp(-beta*(x_half-x_half[-1]))))\n",
    "    y = np.concatenate((y_half_brace, y_half_brace[-2::-1]))\n",
    "    y = ymin + (.15*y - .01)*yspan # adjust vertical position\n",
    "\n",
    "    ax.autoscale(False)\n",
    "    ax.plot(x, y, color='black', lw=1)\n",
    "\n",
    "    ax.text((xmax+xmin)/2., ymin+.25*yspan, text, ha='center', va='bottom', fontsize=12.5,rotation=45)"
   ]
  },
  {
   "cell_type": "code",
   "execution_count": 13,
   "id": "b8a1bb86",
   "metadata": {},
   "outputs": [],
   "source": [
    "#read in the mitochondrial annotation and add d-loop\n",
    "mitos=pd.read_csv(r'Z:\\balint\\numt/mitos_annotation.bed',sep='\\t',header=None)\n",
    "mitos.columns=['MT','START','END','DESCRIPTION','SIG','STRAND']\n",
    "mitos.loc[len(mitos)]=['MT',15445,17245,'D-loop',0.001,'+']"
   ]
  },
  {
   "cell_type": "code",
   "execution_count": 14,
   "id": "21d121b9",
   "metadata": {},
   "outputs": [],
   "source": [
    "chr_mask=trial_numts.apply(lambda row:len(row['g_id'])<3,axis=1)"
   ]
  },
  {
   "cell_type": "code",
   "execution_count": 15,
   "id": "8bf5e535",
   "metadata": {},
   "outputs": [],
   "source": [
    "intragenic_yticklabels=['SESN1','LRRC9','LRRC9','SEC23B','CFAP300','PLEKHA1','MEMO1','MEMO1','KIAA1328',\n",
    "                       'KIAA1328','PYGO2','KIAA1328','MED13L','']"
   ]
  },
  {
   "cell_type": "code",
   "execution_count": 16,
   "id": "d22e903a",
   "metadata": {},
   "outputs": [
    {
     "name": "stderr",
     "output_type": "stream",
     "text": [
      "C:\\Users\\pytho\\Anaconda3\\lib\\site-packages\\ipykernel_launcher.py:13: UserWarning: FixedFormatter should only be used together with FixedLocator\n",
      "  del sys.path[0]\n",
      "C:\\Users\\pytho\\Anaconda3\\lib\\site-packages\\ipykernel_launcher.py:14: UserWarning: FixedFormatter should only be used together with FixedLocator\n",
      "  \n",
      "C:\\Users\\pytho\\Anaconda3\\lib\\site-packages\\ipykernel_launcher.py:28: UserWarning: FixedFormatter should only be used together with FixedLocator\n",
      "C:\\Users\\pytho\\Anaconda3\\lib\\site-packages\\ipykernel_launcher.py:29: UserWarning: FixedFormatter should only be used together with FixedLocator\n",
      "C:\\Users\\pytho\\Anaconda3\\lib\\site-packages\\ipykernel_launcher.py:38: UserWarning: FixedFormatter should only be used together with FixedLocator\n"
     ]
    }
   ],
   "source": [
    "plt.style.use('fivethirtyeight')\n",
    "numt_tracker=0\n",
    "scaffold_tracker=0\n",
    "intragenic_tracker=0\n",
    "\n",
    "plt.figure(figsize=(12,12))\n",
    "\n",
    "ax1=plt.subplot(211)\n",
    "ax1.set_ylim(-9,41)\n",
    "ax1.set_xlim(0,17245)\n",
    "ax1.set_ylabel('Chromosomal numts', fontsize=20)\n",
    "ax1.set_xlabel('Mitochondrial nucleotides (bp)', fontsize=20)\n",
    "ax1.set_xticklabels([0,2000,4000,6000,8000,10000,12000,14000,16000,17245,''],fontsize=20)\n",
    "ax1.set_yticklabels(['',0,'','','',40,'',''],fontsize=20)\n",
    "trial_numts.apply(chr_numts,axis=1)\n",
    "legend=ax1.legend(custom_lines_color,colors.index.values, loc='upper left', title='Genomic location',\n",
    "                  fontsize=10,ncol=3)\n",
    "ax1.add_artist(legend)\n",
    "#add curly bracket to annotate mitochondrial nucleotides\n",
    "for index, start in enumerate(mitos['START']):\n",
    "    if (mitos['END'][index]-start)>100:\n",
    "        annotate_mitochondrion(ax1,(start,mitos['END'][index]),mitos['DESCRIPTION'][index])\n",
    "ax1.text(-2000,40,'(a)', fontsize=30)\n",
    "\n",
    "ax2=plt.subplot(223)\n",
    "trial_numts.apply(scf_numts,axis=1)\n",
    "ax2.set_xlim(0,20000)\n",
    "ax2.set_xticklabels([0,4000,8000,12000,16000,'',''],fontsize=20)\n",
    "ax2.set_yticklabels(['',0,'','','','',100], fontsize=20)\n",
    "ax2.set_ylabel('Scaffold numts', fontsize=20)\n",
    "ax2.set_xlabel('Mitochondrial nucleotides (bp)', fontsize=20)\n",
    "ax2.text(-5000,102,'(b)', fontsize=30)\n",
    "\n",
    "ax3=plt.subplot(224)\n",
    "intragenic_df=trial_numts[chr_mask]\n",
    "intragenic_df.apply(intragenic_numts,axis=1)\n",
    "ax3.set_xlim(-200,20000)\n",
    "ax3.set_xticklabels(['',0,4000,8000,12000,16000,'',''],fontsize=20)\n",
    "ax3.set_yticklabels([])\n",
    "ax3.text(-4000,3.5,'Intragenic numts',fontsize=20,rotation='vertical')\n",
    "ax3.set_xlabel('Mitochondrial nucleotides (bp)', fontsize=20)\n",
    "ax3.text(-4500,12.75,'(c)', fontsize=30)\n",
    "plt.tight_layout()\n",
    "plt.savefig('../results/fig1.png',dpi=450)"
   ]
  },
  {
   "cell_type": "code",
   "execution_count": null,
   "id": "adf0e0e2",
   "metadata": {},
   "outputs": [],
   "source": []
  }
 ],
 "metadata": {
  "kernelspec": {
   "display_name": "Python 3",
   "language": "python",
   "name": "python3"
  },
  "language_info": {
   "codemirror_mode": {
    "name": "ipython",
    "version": 3
   },
   "file_extension": ".py",
   "mimetype": "text/x-python",
   "name": "python",
   "nbconvert_exporter": "python",
   "pygments_lexer": "ipython3",
   "version": "3.7.1"
  }
 },
 "nbformat": 4,
 "nbformat_minor": 5
}
