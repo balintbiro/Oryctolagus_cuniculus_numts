{
 "cells": [
  {
   "cell_type": "code",
   "execution_count": 1,
   "id": "8ce1cc34",
   "metadata": {},
   "outputs": [],
   "source": [
    "#importing the required modules\n",
    "import os\n",
    "import matplotlib\n",
    "import numpy as np\n",
    "import pandas as pd\n",
    "import seaborn as sns\n",
    "import matplotlib.pyplot as plt\n",
    "import matplotlib.ticker as ticker\n",
    "from scipy.stats import anderson, wilcoxon, ttest_ind"
   ]
  },
  {
   "cell_type": "code",
   "execution_count": 2,
   "id": "72fd1d5b",
   "metadata": {},
   "outputs": [],
   "source": [
    "#reading the RepeatMasker output files into pandas dfs and set the genome parts (chromosomes and scaffolds) as indices\n",
    "upstream_repeats=pd.read_csv('../results/upstream_repeats.tsv', sep='\\t')\n",
    "upstream_repeats=upstream_repeats.set_index('genoName')\n",
    "downstream_repeats=pd.read_csv('../results/downstream_repeats.tsv', sep='\\t')\n",
    "downstream_repeats=downstream_repeats.set_index('genoName')\n",
    "sample_repeats=pd.read_csv('../results/genomic_repeats.tsv', sep='\\t')\n",
    "sample_repeats=sample_repeats.set_index('genoName')"
   ]
  },
  {
   "cell_type": "code",
   "execution_count": 3,
   "id": "f7c49abd",
   "metadata": {},
   "outputs": [],
   "source": [
    "#get common repetitions in all three dataset (upstream, downstream, genome)\n",
    "common_repeats = pd.Series(list(set(upstream_repeats['repName'].unique()) &\n",
    "                             set(downstream_repeats['repName'].unique()) &\n",
    "                             set(sample_repeats['repName'].unique())))\n"
   ]
  },
  {
   "cell_type": "code",
   "execution_count": 4,
   "id": "a0eac363",
   "metadata": {},
   "outputs": [],
   "source": [
    "#get the number of common repetitions per chromosomes and scaffolds\n",
    "def get_repeatnumber(chromosome, repname):\n",
    "    upstream_subdf = upstream_repeats.loc[chromosome]\n",
    "    downstream_subdf = downstream_repeats.loc[chromosome]\n",
    "    sample_subdf = sample_repeats.loc[chromosome]\n",
    "    return [list(upstream_subdf['repName']).count(repname),\n",
    "           list(downstream_subdf['repName']).count(repname),\n",
    "           list(sample_subdf['repName']).count(repname)]"
   ]
  },
  {
   "cell_type": "code",
   "execution_count": 5,
   "id": "a6a25ee6",
   "metadata": {},
   "outputs": [],
   "source": [
    "#empty series for the repetitions\n",
    "repeatnumbers = pd.Series(index = common_repeats, dtype = str)"
   ]
  },
  {
   "cell_type": "code",
   "execution_count": 6,
   "id": "24500b85",
   "metadata": {},
   "outputs": [],
   "source": [
    "#get the repeatnumber of every common repeats\n",
    "for common_repeat in common_repeats:\n",
    "    chromosomes = pd.Series(list(set(np.unique(sample_repeats.index.values))&\n",
    "                           set(np.unique(upstream_repeats.index.values))&\n",
    "                           set(np.unique(downstream_repeats.index.values))))\n",
    "    samples = chromosomes.apply(get_repeatnumber, args = (common_repeat,))\n",
    "    upstream_reps = []\n",
    "    samples.apply(lambda sample : upstream_reps.append(sample[0]))\n",
    "    downstream_reps = []\n",
    "    samples.apply(lambda sample : downstream_reps.append(sample[1]))\n",
    "    sample_reps = []\n",
    "    samples.apply(lambda sample : sample_reps.append(sample[2]))\n",
    "    repeatnumbers[common_repeat] = [upstream_reps, downstream_reps, sample_reps]"
   ]
  },
  {
   "cell_type": "code",
   "execution_count": 7,
   "id": "e62cf9b6",
   "metadata": {},
   "outputs": [],
   "source": [
    "#function for the statistical analysis of repetitions\n",
    "#upstream_repetitions = nested_list[0]\n",
    "#downstream_repetitions = nested_list[1]\n",
    "#sample_repetitions = nested_list[2]\n",
    "def statistical_analysis(nested_list, which):\n",
    "    sample1 = nested_list[which[0]]\n",
    "    sample2 = nested_list[which[1]]\n",
    "    norm1 = anderson(sample1)\n",
    "    norm2 = anderson(sample2)\n",
    "    stat1 = norm1[0]\n",
    "    stat2 = norm2[0]\n",
    "    critical_value1 = norm1[1][2]\n",
    "    critical_value2 = norm2[1][2]\n",
    "    if (stat1 > critical_value1) or (stat2 > critical_value2):\n",
    "        try:\n",
    "            significance = wilcoxon(sample1, sample2)[1]\n",
    "            return significance\n",
    "        except ValueError:\n",
    "            pass\n",
    "    else:\n",
    "        try:\n",
    "            significance = ttest_ind(sample1, sample2)[1]\n",
    "            return significance\n",
    "        except ValueError:\n",
    "            pass"
   ]
  },
  {
   "cell_type": "code",
   "execution_count": 8,
   "id": "9cd8ec32",
   "metadata": {},
   "outputs": [
    {
     "name": "stderr",
     "output_type": "stream",
     "text": [
      "/opt/anaconda3/lib/python3.9/site-packages/scipy/stats/morestats.py:3155: UserWarning: Sample size too small for normal approximation.\n",
      "  warnings.warn(\"Sample size too small for normal approximation.\")\n"
     ]
    }
   ],
   "source": [
    "#statistics of upstream and downstream repetitions\n",
    "upstream_downstream_stat = repeatnumbers.apply(statistical_analysis, args = ([0,1],))\n",
    "#statistics of upstream and sample repetitions\n",
    "upstream_sample_stat = repeatnumbers.apply(statistical_analysis, args = ([0,2],))\n",
    "#statistics of downstream and sample repetitions\n",
    "downstream_sample_stat = repeatnumbers.apply(statistical_analysis, args = ([1,2],))"
   ]
  },
  {
   "cell_type": "code",
   "execution_count": 9,
   "id": "e2f8f8e5",
   "metadata": {},
   "outputs": [],
   "source": [
    "#get the repeat category for every repeats\n",
    "repeat_categories = pd.Series(repeatnumbers.index.values)\n",
    "repeat_classes = repeat_categories.apply(lambda category : upstream_repeats.loc[upstream_repeats['repName'] == category]['repClass'].unique()[0])\n",
    "repeat_classes.index = repeatnumbers.index.values"
   ]
  },
  {
   "cell_type": "code",
   "execution_count": 10,
   "id": "72f5f13e",
   "metadata": {},
   "outputs": [],
   "source": [
    "#invert repeat categories\n",
    "repeats = pd.Series(repeat_classes.index.values)\n",
    "repeats.index = repeat_classes"
   ]
  },
  {
   "cell_type": "code",
   "execution_count": 11,
   "id": "0ec7afc8",
   "metadata": {},
   "outputs": [],
   "source": [
    "#get individual repeats for all repeat classes\n",
    "repeat_families = pd.Series(repeat_classes.unique()).apply(lambda repeat_class:repeats[repeat_class].tolist())\n",
    "repeat_families.index=repeat_classes.unique()"
   ]
  },
  {
   "cell_type": "code",
   "execution_count": 12,
   "id": "d1d92df5",
   "metadata": {},
   "outputs": [],
   "source": [
    "#get the new ordered header\n",
    "def get_header(repeat_list):\n",
    "    global header\n",
    "    header += repeat_list"
   ]
  },
  {
   "cell_type": "code",
   "execution_count": 13,
   "id": "025b1411",
   "metadata": {},
   "outputs": [
    {
     "data": {
      "text/plain": [
       "SINE              None\n",
       "LINE              None\n",
       "Low_complexity    None\n",
       "Simple_repeat     None\n",
       "tRNA              None\n",
       "DNA               None\n",
       "LTR               None\n",
       "dtype: object"
      ]
     },
     "execution_count": 13,
     "metadata": {},
     "output_type": "execute_result"
    }
   ],
   "source": [
    "header = []\n",
    "repeat_families.apply(get_header)"
   ]
  },
  {
   "cell_type": "code",
   "execution_count": 14,
   "id": "4ed0bce9",
   "metadata": {},
   "outputs": [],
   "source": [
    "#create dataframe from the significance values\n",
    "df = pd.DataFrame([upstream_downstream_stat,\n",
    "upstream_sample_stat,\n",
    "downstream_sample_stat])\n",
    "df = df[header]\n",
    "df.index = (['upstream_downstream',\n",
    "'upstream_sample',\n",
    "'downstream_sample'])"
   ]
  },
  {
   "cell_type": "code",
   "execution_count": 15,
   "id": "e092d9d5",
   "metadata": {},
   "outputs": [],
   "source": [
    "#function for drawing brackets to annotate each repeat family\n",
    "def draw_brace(ax, xspan, text):\n",
    "    \"\"\"Draws an annotated brace on the axes.\"\"\"\n",
    "    xmin, xmax = xspan\n",
    "    xspan = xmax - xmin\n",
    "    ax_xmin, ax_xmax = ax.get_xlim()\n",
    "    xax_span = ax_xmax - ax_xmin\n",
    "    ymin, ymax = ax.get_ylim()\n",
    "    yspan = ymax - ymin\n",
    "    resolution = int(xspan/xax_span*100)*2+1 # guaranteed uneven\n",
    "    beta = 300./xax_span # the higher this is, the smaller the radius\n",
    "\n",
    "    x = np.linspace(xmin, xmax, resolution)\n",
    "    x_half = x[:resolution//2+1]\n",
    "    y_half_brace = (1/(1.+np.exp(-beta*(x_half-x_half[0])))\n",
    "                    + 1/(1.+np.exp(-beta*(x_half-x_half[-1]))))\n",
    "    y = np.concatenate((y_half_brace, y_half_brace[-2::-1]))\n",
    "    y = ymin + (.15*y - .01)*yspan # adjust vertical position\n",
    "\n",
    "    ax.autoscale(False)\n",
    "    ax.plot(x, y, color='black', lw=1)\n",
    "\n",
    "    ax.text((xmax+xmin)/2., ymin+.2*yspan, text, ha='center', va='bottom')"
   ]
  },
  {
   "cell_type": "code",
   "execution_count": 16,
   "id": "3012f97b",
   "metadata": {},
   "outputs": [],
   "source": [
    "#create a function for the statistical annotation of the graph\n",
    "def statistical_annotation(data, significance, positions, height, rounding):\n",
    "    x1, x2 = positions[0],positions[1]\n",
    "    maximum = max([max(data[0]),max(data[1])])\n",
    "    y, h, col = maximum + height + 0.03, 0.03, 'k'\n",
    "    plt.plot([x1, x1, x2, x2], [y, y+h, y+h, y], lw=2.5, c = col)\n",
    "    if significance < 0.05:\n",
    "        plt.text((x1+x2)*.5, y+h, '$\\it{P}$ ~ %s' % np.round(significance,rounding), ha='center',\n",
    "                 va='bottom', color = col, fontsize = 20)\n",
    "    else:\n",
    "        plt.text((x1+x2)*.5, y+h, \"n.s.\", ha='center', va='bottom', color = col, fontsize = 20)"
   ]
  },
  {
   "cell_type": "code",
   "execution_count": 17,
   "id": "96a3e910",
   "metadata": {},
   "outputs": [
    {
     "data": {
      "text/plain": [
       "SINE               [CSINE1, MIRb, MIR3, CSINE2, MIRc, CSINE3A, MIR]\n",
       "LINE              [L1MDa, L1A_Oc, L1MCa, L1MA6, L1MB7, L2b, L1M4...\n",
       "Low_complexity         [AT_rich, GC_rich, GA-rich, A-rich, CT-rich]\n",
       "Simple_repeat     [(CATATA)n, (TG)n, (CA)n, (TA)n, (CGTG)n, (T)n...\n",
       "tRNA              [tRNA-Gln-CAA_, tRNA-Leu-TTA(m), tRNA-Ser-TCA(m)]\n",
       "DNA                                        [Tigger7, MER5A1, MER5A]\n",
       "LTR                 [ERVNOC_LTR, MLT1A1, MLT1A, LTR27_OC, LTR22_OC]\n",
       "dtype: object"
      ]
     },
     "execution_count": 17,
     "metadata": {},
     "output_type": "execute_result"
    }
   ],
   "source": [
    "repeat_families"
   ]
  },
  {
   "cell_type": "code",
   "execution_count": 18,
   "id": "2f71e9cf",
   "metadata": {},
   "outputs": [
    {
     "name": "stderr",
     "output_type": "stream",
     "text": [
      "/var/folders/g2/9pvgl5793mxgz8dg4mhwym0m0000gn/T/ipykernel_2150/3924923854.py:18: UserWarning: FixedFormatter should only be used together with FixedLocator\n",
      "  axes.set_xticklabels(df.columns.values,rotation = 90)\n"
     ]
    }
   ],
   "source": [
    "#visualizing\n",
    "plt.style.use('fivethirtyeight')\n",
    "bracket_start=0\n",
    "fig, axes = plt.subplots(1, 1, figsize = (14,8))\n",
    "upstream_downstream = axes.scatter(x = df.columns.values, y = df.loc['upstream_downstream'])\n",
    "upstream_sample = axes.scatter(x = df.columns.values, y = df.loc['upstream_sample'])\n",
    "downstream_sample = axes.scatter(x = df.columns.values, y = df.loc['downstream_sample'])\n",
    "axes.plot(df.columns.values, (len(df.columns.values) * [0.05]), 'r',linewidth=0.75)\n",
    "axes.legend((upstream_downstream, upstream_sample, downstream_sample),\n",
    "          (\"5' vs 3' flanking\", \"5' flanking vs genom\",\n",
    "           \"3' flanking vs genom\"),\n",
    "           fontsize = 20,\n",
    "           ncol = 3,\n",
    "           loc = 'upper center')\n",
    "axes.set_ylabel('$\\it{P}$ value\\n(inverted log scale)', fontsize = 20)\n",
    "axes.set_xlabel('Repetitive elements', fontsize = 20)\n",
    "axes.margins(x = 0.001)\n",
    "axes.set_xticklabels(df.columns.values,rotation = 90)\n",
    "axes.set_yscale('log')\n",
    "axes.set_ylim([10**-3.1, 10**0.65])\n",
    "axes.invert_yaxis()\n",
    "for index, repeat_family in enumerate(repeat_families):\n",
    "    bracket_end=(bracket_start+len(repeat_family))-1\n",
    "    if repeat_families.index.values[index]=='Low_complexity':\n",
    "        draw_brace(axes, (bracket_start,bracket_end),'Low\\ncomplexity')\n",
    "    elif repeat_families.index.values[index]=='Simple_repeat':\n",
    "        draw_brace(axes, (bracket_start,bracket_end),'Simple\\nrepeat')\n",
    "    else:\n",
    "        draw_brace(axes, (bracket_start,bracket_end),repeat_families.index.values[index])\n",
    "    bracket_start+=len(repeat_family)\n",
    "plt.tight_layout()\n",
    "plt.savefig('../results/fig2.tiff',dpi=300)\n",
    "plt.close()"
   ]
  },
  {
   "cell_type": "code",
   "execution_count": null,
   "id": "7021f626",
   "metadata": {},
   "outputs": [],
   "source": []
  }
 ],
 "metadata": {
  "kernelspec": {
   "display_name": "Python 3 (ipykernel)",
   "language": "python",
   "name": "python3"
  },
  "language_info": {
   "codemirror_mode": {
    "name": "ipython",
    "version": 3
   },
   "file_extension": ".py",
   "mimetype": "text/x-python",
   "name": "python",
   "nbconvert_exporter": "python",
   "pygments_lexer": "ipython3",
   "version": "3.9.7"
  }
 },
 "nbformat": 4,
 "nbformat_minor": 5
}
