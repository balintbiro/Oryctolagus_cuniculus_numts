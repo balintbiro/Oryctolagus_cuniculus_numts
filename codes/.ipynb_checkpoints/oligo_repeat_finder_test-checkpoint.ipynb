{
 "cells": [
  {
   "cell_type": "code",
   "execution_count": 1,
   "metadata": {},
   "outputs": [],
   "source": [
    "import itertools"
   ]
  },
  {
   "cell_type": "code",
   "execution_count": 2,
   "metadata": {},
   "outputs": [
    {
     "name": "stdout",
     "output_type": "stream",
     "text": [
      "[('GGGG', 1), ('CCC', 1), ('TTTTTTT', 2), ('CC', 3), ('AAAA', 1), ('TTT', 5), ('GG', 6), ('AA', 4)]\n"
     ]
    }
   ],
   "source": [
    "#Only works with a single sequence at the moment.\n",
    "\n",
    "seq = 'AGGCATCATTTTTTTCATTTTTTTAGCGTCTATAAAAGGGGTAGTAGCCGCTTTCTAATAGGCCCAAGGCATGCCGGA'\n",
    "\n",
    "repeats = []\n",
    "\n",
    "#shows the repeat and the frequency of the repeat, appends result to repeats list\n",
    "for _,group in itertools.groupby(seq):\n",
    "    group = ''.join(group)\n",
    "    if len(group) >= 2:\n",
    "        repeat = group, seq.count(group)\n",
    "        repeats.append(repeat)\n",
    "\n",
    "#gets rid of duplicate strings, show only the repeat and it's frequency\n",
    "repeats = list(set(repeats))\n",
    "\n",
    "print(repeats)"
   ]
  },
  {
   "cell_type": "code",
   "execution_count": null,
   "metadata": {},
   "outputs": [],
   "source": []
  }
 ],
 "metadata": {
  "kernelspec": {
   "display_name": "Python 3",
   "language": "python",
   "name": "python3"
  },
  "language_info": {
   "codemirror_mode": {
    "name": "ipython",
    "version": 3
   },
   "file_extension": ".py",
   "mimetype": "text/x-python",
   "name": "python",
   "nbconvert_exporter": "python",
   "pygments_lexer": "ipython3",
   "version": "3.7.3"
  }
 },
 "nbformat": 4,
 "nbformat_minor": 2
}
