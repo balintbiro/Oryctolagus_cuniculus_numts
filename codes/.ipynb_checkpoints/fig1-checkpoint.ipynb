{
 "cells": [
  {
   "cell_type": "code",
   "execution_count": 1,
   "id": "070a09b0",
   "metadata": {},
   "outputs": [],
   "source": [
    "#import modules\n",
    "import os\n",
    "import random\n",
    "import matplotlib\n",
    "import numpy as np\n",
    "import pandas as pd\n",
    "import matplotlib.pyplot as plt\n",
    "from matplotlib.lines import Line2D"
   ]
  },
  {
   "cell_type": "code",
   "execution_count": 2,
   "id": "a9afe1a9",
   "metadata": {},
   "outputs": [],
   "source": [
    "#read csv into a dataframe\n",
    "numts=pd.read_csv('../results/3numt_array.csv')\n",
    "numts=numts[numts['mt_start']<17245]#filter out the abnormal numts coming from the dmtDNA alignment\n",
    "numts=numts.sort_values(by='mt_start')\n",
    "numts=numts[(numts['mt_start']+numts['mt_length'])<17245]"
   ]
  },
  {
   "cell_type": "code",
   "execution_count": 3,
   "id": "c0217e65",
   "metadata": {},
   "outputs": [],
   "source": [
    "#try to get as different colors as possible\n",
    "colors=pd.Series(['#e6194b', '#3cb44b', '#ffe119', '#4363d8', '#f58231', '#911eb4', '#46f0f0', '#f032e6',\n",
    "                  '#bcf60c','#fabebe', '#008080', '#e6beff', '#9a6324', '#fffac8', '#800000', '#aaffc3',\n",
    "                  '#808000', '#ffd8b1','#000075', '#00FF7F','#000000','grey'])"
   ]
  },
  {
   "cell_type": "code",
   "execution_count": 4,
   "id": "a7d18e2e",
   "metadata": {},
   "outputs": [],
   "source": [
    "color_indices=list(np.arange(1,22,1))\n",
    "color_indices.append('Scaffold')\n",
    "colors.index=color_indices"
   ]
  },
  {
   "cell_type": "code",
   "execution_count": 5,
   "id": "70f4f894",
   "metadata": {},
   "outputs": [],
   "source": [
    "#function for visualizing chr located numts\n",
    "def chr_numts(row):\n",
    "    global numt_tracker\n",
    "    try:\n",
    "        axs.barh(numt_tracker,row['mt_length'],left=row['mt_start'],height=1,\n",
    "                 color=colors[int(row['g_id'])])\n",
    "    except:\n",
    "        axs.barh(numt_tracker,row['mt_length'],left=row['mt_start'],height=1,\n",
    "                 color='grey')\n",
    "    numt_tracker+=1"
   ]
  },
  {
   "cell_type": "code",
   "execution_count": 6,
   "id": "066b9698",
   "metadata": {},
   "outputs": [],
   "source": [
    "#get custom legend colors\n",
    "custom_lines_color=colors.apply(lambda color: Line2D([0],[0],\n",
    "                                                         color=color,\n",
    "                                                         lw=0,\n",
    "                                                         marker='s',\n",
    "                                                        markersize=7)).tolist()"
   ]
  },
  {
   "cell_type": "code",
   "execution_count": 7,
   "id": "fc39dc62",
   "metadata": {},
   "outputs": [],
   "source": [
    "#function for drawing brackets to annotate each mitochondrial part\n",
    "def annotate_mitochondrion(ax, xspan, text):\n",
    "    \"\"\"Draws an annotated brace on the axes.\"\"\"\n",
    "    xmin, xmax = xspan\n",
    "    xspan = xmax - xmin\n",
    "    ax_xmin, ax_xmax = ax.get_xlim()\n",
    "    xax_span = ax_xmax - ax_xmin\n",
    "    ymin, ymax = ax.get_ylim()\n",
    "    yspan = 10\n",
    "    resolution = int(xspan/xax_span*100)*2+1 # guaranteed uneven\n",
    "    beta = 300./xax_span # the higher this is, the smaller the radius\n",
    "\n",
    "    x = np.linspace(xmin, xmax, resolution)\n",
    "    x_half = x[:resolution//2+1]\n",
    "    y_half_brace = (1/(1.+np.exp(-beta*(x_half-x_half[0])))\n",
    "                    + 1/(1.+np.exp(-beta*(x_half-x_half[-1]))))\n",
    "    y = np.concatenate((y_half_brace, y_half_brace[-2::-1]))\n",
    "    y = ymin + (.15*y - .01)*yspan # adjust vertical position\n",
    "\n",
    "    ax.autoscale(False)\n",
    "    ax.plot(x, y, color='black', lw=1)\n",
    "\n",
    "    ax.text((xmax+xmin)/2., ymin+.25*yspan, text, ha='center', va='bottom', fontsize=14,rotation=45)"
   ]
  },
  {
   "cell_type": "code",
   "execution_count": 8,
   "id": "2346c0ad",
   "metadata": {},
   "outputs": [],
   "source": [
    "#read in the mitochondrial annotation and add d-loop\n",
    "mitos=pd.read_csv('../results/mitos_annotation.bed',sep='\\t',header=None)\n",
    "mitos.columns=['MT','START','END','DESCRIPTION','SIG','STRAND']\n",
    "mitos.loc[len(mitos)]=['MT',15445,17245,'D-loop',0.001,'+']"
   ]
  },
  {
   "cell_type": "code",
   "execution_count": 9,
   "id": "d1a6914b",
   "metadata": {},
   "outputs": [
    {
     "name": "stderr",
     "output_type": "stream",
     "text": [
      "/var/folders/g2/9pvgl5793mxgz8dg4mhwym0m0000gn/T/ipykernel_60518/2637256197.py:10: UserWarning: FixedFormatter should only be used together with FixedLocator\n",
      "  axs.set_xticklabels([0,2000,4000,6000,8000,10000,12000,14000,16000,17245,''],fontsize=20)\n",
      "/var/folders/g2/9pvgl5793mxgz8dg4mhwym0m0000gn/T/ipykernel_60518/2637256197.py:11: UserWarning: FixedFormatter should only be used together with FixedLocator\n",
      "  axs.set_yticklabels(['',0,'','','','','','',150,''],fontsize=20)\n"
     ]
    }
   ],
   "source": [
    "plt.style.use('fivethirtyeight')\n",
    "numt_tracker=0\n",
    "\n",
    "fig,axs=plt.subplots(1,1, figsize=(12,10))\n",
    "\n",
    "axs.set_ylim(-20,150)\n",
    "axs.set_xlim(0,17245)\n",
    "axs.set_ylabel('numts', fontsize=20)\n",
    "axs.set_xlabel('Mitochondrial nucleotides (bp)', fontsize=20)\n",
    "axs.set_xticklabels([0,2000,4000,6000,8000,10000,12000,14000,16000,17245,''],fontsize=20)\n",
    "axs.set_yticklabels(['',0,'','','','','','',150,''],fontsize=20)\n",
    "numts.apply(chr_numts,axis=1)\n",
    "legend=axs.legend(custom_lines_color,colors.index.values, loc='upper left', title='Genomic location',\n",
    "                  fontsize=14,ncol=4)\n",
    "axs.add_artist(legend)\n",
    "#add curly bracket to annotate mitochondrial nucleotides\n",
    "for index, start in enumerate(mitos['START']):\n",
    "    if (mitos['END'][index]-start)>100:\n",
    "        annotate_mitochondrion(axs,(start,mitos['END'][index]),mitos['DESCRIPTION'][index])\n",
    "plt.tight_layout()\n",
    "plt.savefig('../results/Fig1_mitochondrion.png',dpi=450)\n",
    "plt.close()"
   ]
  },
  {
   "cell_type": "code",
   "execution_count": null,
   "id": "35c9c3b4",
   "metadata": {},
   "outputs": [],
   "source": []
  }
 ],
 "metadata": {
  "kernelspec": {
   "display_name": "Python 3 (ipykernel)",
   "language": "python",
   "name": "python3"
  },
  "language_info": {
   "codemirror_mode": {
    "name": "ipython",
    "version": 3
   },
   "file_extension": ".py",
   "mimetype": "text/x-python",
   "name": "python",
   "nbconvert_exporter": "python",
   "pygments_lexer": "ipython3",
   "version": "3.9.7"
  }
 },
 "nbformat": 4,
 "nbformat_minor": 5
}
