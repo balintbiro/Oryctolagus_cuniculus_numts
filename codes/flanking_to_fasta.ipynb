{
 "cells": [
  {
   "cell_type": "code",
   "execution_count": 1,
   "metadata": {},
   "outputs": [],
   "source": [
    "import pandas as pd\n",
    "import numpy as np"
   ]
  },
  {
   "cell_type": "code",
   "execution_count": 2,
   "metadata": {},
   "outputs": [],
   "source": [
    "#Reads csv file, transform selected columns to numpy array and writes to a FASTA file\n",
    "data = pd.read_csv(r\"C:\\Users\\micha\\Documents\\Thesis\\Code writing\\Data\\numt_master_array.csv\")\n",
    "output = r\"C:\\Users\\micha\\Documents\\Thesis\\GitHub\\numt\\results\\flanking_regions.fasta\"\n",
    "data['up_and_down_flanking'] = data['g_up_flanking'] + data['g_down_flanking']\n",
    "array = data[['g_id','score','up_and_down_flanking']].to_numpy(dtype=None)\n",
    "np.savetxt(output,array, fmt='>%s'' score:%s''\\n''%s''\\n')"
   ]
  },
  {
   "cell_type": "code",
   "execution_count": null,
   "metadata": {},
   "outputs": [],
   "source": []
  }
 ],
 "metadata": {
  "kernelspec": {
   "display_name": "Python 3",
   "language": "python",
   "name": "python3"
  },
  "language_info": {
   "codemirror_mode": {
    "name": "ipython",
    "version": 3
   },
   "file_extension": ".py",
   "mimetype": "text/x-python",
   "name": "python",
   "nbconvert_exporter": "python",
   "pygments_lexer": "ipython3",
   "version": "3.7.3"
  }
 },
 "nbformat": 4,
 "nbformat_minor": 2
}
