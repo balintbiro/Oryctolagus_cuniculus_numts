{
 "cells": [
  {
   "cell_type": "code",
   "execution_count": 26,
   "metadata": {},
   "outputs": [],
   "source": [
    "#Input and Output of the FASTA file\n",
    "fasta_file = r\"C:\\Users\\micha\\Documents\\Thesis\\Code writing\\Data\\reverse_mt_alignment.fasta\"\n",
    "output_name = \"e_values.txt\"\n",
    "\n",
    "eg2_values = []\n",
    "e_values = []\n",
    "\n",
    "#Opens the fasta file and finds the eg2 and e values of the alignment\n",
    "with open(fasta_file) as fp, open(output_name, 'w') as output:\n",
    "    for line in fp:\n",
    "        line = line.rstrip()\n",
    "        if line.startswith('a'):\n",
    "            line = line.replace('=',' ').split()  \n",
    "            eg2_value = float(line[4])       \n",
    "            e_value = float(line[6])  \n",
    "            \n",
    "            eg2_values.append(eg2_value)\n",
    "            e_values.append(e_value)\n",
    "            "
   ]
  },
  {
   "cell_type": "code",
   "execution_count": 25,
   "metadata": {},
   "outputs": [
    {
     "data": {
      "text/plain": [
       "1.6e-21"
      ]
     },
     "execution_count": 25,
     "metadata": {},
     "output_type": "execute_result"
    }
   ],
   "source": [
    "e_values.sort()\n",
    "e_value_threshold = e_values[0]\n",
    "e_value_threshold"
   ]
  },
  {
   "cell_type": "code",
   "execution_count": null,
   "metadata": {},
   "outputs": [],
   "source": []
  }
 ],
 "metadata": {
  "kernelspec": {
   "display_name": "Python 3",
   "language": "python",
   "name": "python3"
  },
  "language_info": {
   "codemirror_mode": {
    "name": "ipython",
    "version": 3
   },
   "file_extension": ".py",
   "mimetype": "text/x-python",
   "name": "python",
   "nbconvert_exporter": "python",
   "pygments_lexer": "ipython3",
   "version": "3.7.3"
  }
 },
 "nbformat": 4,
 "nbformat_minor": 2
}
