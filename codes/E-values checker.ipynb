{
 "cells": [
  {
   "cell_type": "code",
   "execution_count": 38,
   "metadata": {},
   "outputs": [],
   "source": [
    "import matplotlib.pyplot as plt\n",
    "from math import exp"
   ]
  },
  {
   "cell_type": "code",
   "execution_count": 48,
   "metadata": {},
   "outputs": [
    {
     "data": {
      "image/png": "[encoded data removed]",
      "text/plain": [
       "<Figure size 432x288 with 1 Axes>"
      ]
     },
     "metadata": {
      "needs_background": "light"
     },
     "output_type": "display_data"
    }
   ],
   "source": [
    "#Please collect all the EG2 and E values and create one histogram for each in the same jupyter notebook\n",
    "#please write all the E values in descending order into a plane text file called 'e_values'\n",
    "\n",
    "#Input and Output of the FASTA file\n",
    "fasta_file = r\"C:\\Users\\micha\\Documents\\Thesis\\Code writing\\Data\\reverse_mt_alignment.fasta\"\n",
    "output_name = \"e_values.txt\"\n",
    "\n",
    "#Opens the fasta file and prints the name + a double copy of the sequence of this file\n",
    "with open(fasta_file) as fp, open(output_name, 'w') as output:\n",
    "    for line in fp:\n",
    "        line = line.rstrip()\n",
    "        if line.startswith('a'):\n",
    "            line = line.replace('=',' ').split()  \n",
    "            line_values = []\n",
    "            for values in line:\n",
    "                try:\n",
    "                    line_values.append(float(values))\n",
    "                except ValueError:\n",
    "                    pass\n",
    "            eg2_values = line_values[1]       \n",
    "            e_values = line_values[2]         \n",
    "         \n",
    "            output.writelines((str(e_values), '\\n'))\n",
    "            \n",
    "            "
   ]
  },
  {
   "cell_type": "code",
   "execution_count": null,
   "metadata": {},
   "outputs": [],
   "source": []
  },
  {
   "cell_type": "code",
   "execution_count": null,
   "metadata": {},
   "outputs": [],
   "source": []
  }
 ],
 "metadata": {
  "kernelspec": {
   "display_name": "Python 3",
   "language": "python",
   "name": "python3"
  },
  "language_info": {
   "codemirror_mode": {
    "name": "ipython",
    "version": 3
   },
   "file_extension": ".py",
   "mimetype": "text/x-python",
   "name": "python",
   "nbconvert_exporter": "python",
   "pygments_lexer": "ipython3",
   "version": "3.7.3"
  }
 },
 "nbformat": 4,
 "nbformat_minor": 2
}
