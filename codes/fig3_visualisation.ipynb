{
 "cells": [
  {
   "cell_type": "code",
   "execution_count": 2,
   "id": "8ce1cc34",
   "metadata": {},
   "outputs": [],
   "source": [
    "#importing the required modules\n",
    "import os\n",
    "import matplotlib\n",
    "import numpy as np\n",
    "import pandas as pd\n",
    "import seaborn as sns\n",
    "import matplotlib.pyplot as plt\n",
    "import matplotlib.ticker as ticker\n",
    "from scipy.stats import anderson, wilcoxon, ttest_ind"
   ]
  },
  {
   "cell_type": "code",
   "execution_count": 3,
   "id": "e092d9d5",
   "metadata": {},
   "outputs": [],
   "source": [
    "#function for drawing brackets to annotate each repeat family\n",
    "def draw_brace(ax, xspan, text):\n",
    "    \"\"\"Draws an annotated brace on the axes.\"\"\"\n",
    "    xmin, xmax = xspan\n",
    "    xspan = xmax - xmin\n",
    "    ax_xmin, ax_xmax = ax.get_xlim()\n",
    "    xax_span = ax_xmax - ax_xmin\n",
    "    ymin, ymax = ax.get_ylim()\n",
    "    yspan = ymax - ymin\n",
    "    resolution = int(xspan/xax_span*100)*2+1 # guaranteed uneven\n",
    "    beta = 300./xax_span # the higher this is, the smaller the radius\n",
    "\n",
    "    x = np.linspace(xmin, xmax, resolution)\n",
    "    x_half = x[:resolution//2+1]\n",
    "    y_half_brace = (1/(1.+np.exp(-beta*(x_half-x_half[0])))\n",
    "                    + 1/(1.+np.exp(-beta*(x_half-x_half[-1]))))\n",
    "    y = np.concatenate((y_half_brace, y_half_brace[-2::-1]))\n",
    "    y = ymin + (.15*y - .01)*yspan # adjust vertical position\n",
    "\n",
    "    ax.autoscale(False)\n",
    "    ax.plot(x, y, color='black', lw=1)\n",
    "\n",
    "    ax.text((xmax+xmin)/2., ymin+.2*yspan, text, ha='center', va='bottom')"
   ]
  },
  {
   "cell_type": "code",
   "execution_count": 4,
   "id": "eeb53ab2",
   "metadata": {},
   "outputs": [
    {
     "data": {
      "text/plain": [
       "nuge_stat       3.341610e-07\n",
       "flage_stat      9.052497e-03\n",
       "genomes_stat    4.415548e-03\n",
       "dtype: float64"
      ]
     },
     "execution_count": 4,
     "metadata": {},
     "output_type": "execute_result"
    }
   ],
   "source": [
    "gc_numts_vs_genome=[]\n",
    "gc_flankings_vs_genome=[]\n",
    "gc_genomes=[]\n",
    "p_values=[]\n",
    "with open('../results/gcs_for_visualisation.txt')as infile:\n",
    "    content=infile.readlines()\n",
    "    nuge_stat=0\n",
    "    flage_stat=0\n",
    "    genomes_stat=0\n",
    "    for index,line in enumerate(content):\n",
    "        if index==1:\n",
    "            nuge_stat=float(line.rsplit()[2][7:-1])\n",
    "            numts_gc=list(map(float,content[index+1].rsplit()[0][:-1].split(',')))\n",
    "            n_genomic_samples_gc=list(map(float,content[index+2].rsplit()[0][:-1].split(',')))\n",
    "            gc_numts_vs_genome+=[numts_gc,n_genomic_samples_gc]\n",
    "        elif index==5:\n",
    "            flage_stat=float(line.split()[-1])\n",
    "            flankings_gc=list(map(float,content[index+1].rsplit()[0][:-1].split(',')))\n",
    "            f_genomic_samples_gc=list(map(float,content[index+2].rsplit()[0][:-1].split(',')))\n",
    "            gc_flankings_vs_genome+=[flankings_gc,f_genomic_samples_gc]\n",
    "        elif index==9:\n",
    "            genomes_stat=float(line.rsplit()[1])\n",
    "            mt_gc=list(map(float,content[index+1].rsplit()[0][:-1].split(',')))\n",
    "            g_gc=list(map(float,content[index+2].rsplit()[0][:-1].split(',')))\n",
    "            gc_genomes+=[mt_gc,g_gc]\n",
    "    p_values.append(nuge_stat)\n",
    "    p_values.append(flage_stat)\n",
    "    p_values.append(genomes_stat)\n",
    "p_values=pd.Series(p_values,index=['nuge_stat','flage_stat','genomes_stat'])\n",
    "p_values"
   ]
  },
  {
   "cell_type": "code",
   "execution_count": 5,
   "id": "3012f97b",
   "metadata": {},
   "outputs": [],
   "source": [
    "#create a function for the statistical annotation of the graph\n",
    "def statistical_annotation(data, significance, positions, height, rounding):\n",
    "    x1, x2 = positions[0],positions[1]\n",
    "    maximum = max([max(data[0]),max(data[1])])\n",
    "    y, h, col = maximum + height + 0.03, 0.03, 'k'\n",
    "    plt.plot([x1, x1, x2, x2], [y, y+h, y+h, y], lw=2.5, c = col)\n",
    "    if significance < 0.05:\n",
    "        plt.text((x1+x2)*.5, y+h, '$\\it{P}$ ~ %s' % np.round(significance,rounding), ha='center',\n",
    "                 va='bottom', color = col, fontsize = 20)\n",
    "    else:\n",
    "        plt.text((x1+x2)*.5, y+h, \"n.s.\", ha='center', va='bottom', color = col, fontsize = 20)"
   ]
  },
  {
   "cell_type": "code",
   "execution_count": 6,
   "id": "2f71e9cf",
   "metadata": {},
   "outputs": [],
   "source": [
    "#visualizing\n",
    "plt.style.use('fivethirtyeight')\n",
    "bracket_start=0\n",
    "fig, axes = plt.subplots(1, 1, figsize = (12,5))\n",
    "axes=sns.violinplot(data=[mt_gc,g_gc,numts_gc,n_genomic_samples_gc,flankings_gc,f_genomic_samples_gc],\n",
    "                      palette=['lightblue','orange','lightgreen','orange','grey','orange'])\n",
    "axes.set_ylim(0,1)\n",
    "axes.plot(6*[1.5],[0,0.2,0.4,0.6,0.8,1],'-',color='lightgrey',linewidth=1)\n",
    "axes.plot(6*[3.5],[0,0.2,0.4,0.6,0.8,1],'-',color='lightgrey',linewidth=1)\n",
    "axes.set_xticklabels(['mitochondrion','genome','numt','genome','flanking','genome'],fontsize=20)\n",
    "axes.set_ylabel('GC content',fontsize=20)\n",
    "statistical_annotation([mt_gc,g_gc,numts_gc], p_values['genomes_stat'], [0,1], 0.1,rounding=3)\n",
    "statistical_annotation([numts_gc,n_genomic_samples_gc], p_values['nuge_stat'], [2,3], 0.1,rounding=7)\n",
    "statistical_annotation([flankings_gc,f_genomic_samples_gc], p_values['flage_stat'], [4,5], 0.1,rounding=3)\n",
    "plt.tight_layout()\n",
    "plt.savefig('../results/fig3.tiff',dpi=1000)\n",
    "plt.close()"
   ]
  },
  {
   "cell_type": "code",
   "execution_count": null,
   "id": "7021f626",
   "metadata": {},
   "outputs": [],
   "source": []
  }
 ],
 "metadata": {
  "kernelspec": {
   "display_name": "Python 3 (ipykernel)",
   "language": "python",
   "name": "python3"
  },
  "language_info": {
   "codemirror_mode": {
    "name": "ipython",
    "version": 3
   },
   "file_extension": ".py",
   "mimetype": "text/x-python",
   "name": "python",
   "nbconvert_exporter": "python",
   "pygments_lexer": "ipython3",
   "version": "3.9.7"
  }
 },
 "nbformat": 4,
 "nbformat_minor": 5
}
