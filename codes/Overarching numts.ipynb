{
 "cells": [
  {
   "cell_type": "code",
   "execution_count": 1,
   "metadata": {},
   "outputs": [],
   "source": [
    "import pandas as pd"
   ]
  },
  {
   "cell_type": "code",
   "execution_count": 2,
   "metadata": {},
   "outputs": [],
   "source": [
    "#Reads the csv file\n",
    "data = pd.read_csv(r\"C:\\Users\\micha\\Documents\\Thesis\\GitHub\\numt\\results\\lastal_array_duplicates_removed.csv\")"
   ]
  },
  {
   "cell_type": "code",
   "execution_count": 3,
   "metadata": {},
   "outputs": [
    {
     "data": {
      "text/plain": [
       "score          7\n",
       "eg2_value      7\n",
       "e_value        7\n",
       "g_id           7\n",
       "g_start        7\n",
       "mt_start       7\n",
       "g_length       7\n",
       "mt_length      7\n",
       "g_strand       7\n",
       "mt_strand      7\n",
       "g_size         7\n",
       "g_sequence     7\n",
       "mt_sequence    7\n",
       "dtype: int64"
      ]
     },
     "execution_count": 3,
     "metadata": {},
     "output_type": "execute_result"
    }
   ],
   "source": [
    "#If mt_start and mt_length exceed the size of the mtDNA it will assume the numt is overarching\n",
    "overarching_numts = data.drop(data[(data.mt_start+data.mt_length)<=17245].index).sort_values('mt_start')\n",
    "overarching_numts.count()"
   ]
  },
  {
   "cell_type": "code",
   "execution_count": null,
   "metadata": {},
   "outputs": [],
   "source": []
  }
 ],
 "metadata": {
  "kernelspec": {
   "display_name": "Python 3",
   "language": "python",
   "name": "python3"
  },
  "language_info": {
   "codemirror_mode": {
    "name": "ipython",
    "version": 3
   },
   "file_extension": ".py",
   "mimetype": "text/x-python",
   "name": "python",
   "nbconvert_exporter": "python",
   "pygments_lexer": "ipython3",
   "version": "3.7.3"
  }
 },
 "nbformat": 4,
 "nbformat_minor": 2
}
