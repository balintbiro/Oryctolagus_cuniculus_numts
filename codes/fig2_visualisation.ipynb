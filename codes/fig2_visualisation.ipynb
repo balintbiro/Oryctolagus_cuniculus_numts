{
 "cells": [
  {
   "cell_type": "code",
   "execution_count": 1,
   "id": "8ce1cc34",
   "metadata": {},
   "outputs": [],
   "source": [
    "#importing the required modules\n",
    "import os\n",
    "import matplotlib\n",
    "import numpy as np\n",
    "import pandas as pd\n",
    "import seaborn as sns\n",
    "import matplotlib.pyplot as plt\n",
    "import matplotlib.ticker as ticker\n",
    "from scipy.stats import anderson, wilcoxon, ttest_ind"
   ]
  },
  {
   "cell_type": "code",
   "execution_count": 2,
   "id": "3a677473",
   "metadata": {},
   "outputs": [],
   "source": [
    "matplotlib.use('Agg')"
   ]
  },
  {
   "cell_type": "code",
   "execution_count": 3,
   "id": "72fd1d5b",
   "metadata": {},
   "outputs": [],
   "source": [
    "#reading the RepeatMasker output files into pandas dfs and set the genome parts (chromosomes and scaffolds) as indices\n",
    "upstream_repeats=pd.read_csv('../results/upstream_repeats.tsv', sep='\\t')\n",
    "upstream_repeats=upstream_repeats.set_index('genoName')\n",
    "downstream_repeats=pd.read_csv('../results/downstream_repeats.tsv', sep='\\t')\n",
    "downstream_repeats=downstream_repeats.set_index('genoName')\n",
    "sample_repeats=pd.read_csv('../results/genomic_repeats.tsv', sep='\\t')\n",
    "sample_repeats=sample_repeats.set_index('genoName')"
   ]
  },
  {
   "cell_type": "code",
   "execution_count": 4,
   "id": "f7c49abd",
   "metadata": {},
   "outputs": [],
   "source": [
    "#get common repetitions in all three dataset (upstream, downstream, genome)\n",
    "common_repeats = pd.Series(list(set(upstream_repeats['repName'].unique()) &\n",
    "                             set(downstream_repeats['repName'].unique()) &\n",
    "                             set(sample_repeats['repName'].unique())))\n"
   ]
  },
  {
   "cell_type": "code",
   "execution_count": 5,
   "id": "a0eac363",
   "metadata": {},
   "outputs": [],
   "source": [
    "#get the number of common repetitions per chromosomes and scaffolds\n",
    "def get_repeatnumber(chromosome, repname):\n",
    "    upstream_subdf = upstream_repeats.loc[chromosome]\n",
    "    downstream_subdf = downstream_repeats.loc[chromosome]\n",
    "    sample_subdf = sample_repeats.loc[chromosome]\n",
    "    return [list(upstream_subdf['repName']).count(repname),\n",
    "           list(downstream_subdf['repName']).count(repname),\n",
    "           list(sample_subdf['repName']).count(repname)]"
   ]
  },
  {
   "cell_type": "code",
   "execution_count": 6,
   "id": "a6a25ee6",
   "metadata": {},
   "outputs": [],
   "source": [
    "#empty series for the repetitions\n",
    "repeatnumbers = pd.Series(index = common_repeats, dtype = str)"
   ]
  },
  {
   "cell_type": "code",
   "execution_count": 7,
   "id": "24500b85",
   "metadata": {},
   "outputs": [],
   "source": [
    "#get the repeatnumber of every common repeats\n",
    "for common_repeat in common_repeats:\n",
    "    chromosomes = pd.Series(list(set(np.unique(sample_repeats.index.values))&\n",
    "                           set(np.unique(upstream_repeats.index.values))&\n",
    "                           set(np.unique(downstream_repeats.index.values))))\n",
    "    samples = chromosomes.apply(get_repeatnumber, args = (common_repeat,))\n",
    "    upstream_reps = []\n",
    "    samples.apply(lambda sample : upstream_reps.append(sample[0]))\n",
    "    downstream_reps = []\n",
    "    samples.apply(lambda sample : downstream_reps.append(sample[1]))\n",
    "    sample_reps = []\n",
    "    samples.apply(lambda sample : sample_reps.append(sample[2]))\n",
    "    repeatnumbers[common_repeat] = [upstream_reps, downstream_reps, sample_reps]"
   ]
  },
  {
   "cell_type": "code",
   "execution_count": 8,
   "id": "e62cf9b6",
   "metadata": {},
   "outputs": [],
   "source": [
    "#function for the statistical analysis of repetitions\n",
    "#upstream_repetitions = nested_list[0]\n",
    "#downstream_repetitions = nested_list[1]\n",
    "#sample_repetitions = nested_list[2]\n",
    "def statistical_analysis(nested_list, which):\n",
    "    sample1 = nested_list[which[0]]\n",
    "    sample2 = nested_list[which[1]]\n",
    "    norm1 = anderson(sample1)\n",
    "    norm2 = anderson(sample2)\n",
    "    stat1 = norm1[0]\n",
    "    stat2 = norm2[0]\n",
    "    critical_value1 = norm1[1][2]\n",
    "    critical_value2 = norm2[1][2]\n",
    "    if (stat1 > critical_value1) or (stat2 > critical_value2):\n",
    "        try:\n",
    "            significance = wilcoxon(sample1, sample2)[1]\n",
    "            return significance\n",
    "        except ValueError:\n",
    "            pass\n",
    "    else:\n",
    "        try:\n",
    "            significance = ttest_ind(sample1, sample2)[1]\n",
    "            return significance\n",
    "        except ValueError:\n",
    "            pass"
   ]
  },
  {
   "cell_type": "code",
   "execution_count": 9,
   "id": "9cd8ec32",
   "metadata": {},
   "outputs": [
    {
     "name": "stderr",
     "output_type": "stream",
     "text": [
      "C:\\Users\\pytho\\Anaconda3\\lib\\site-packages\\scipy\\stats\\morestats.py:2981: UserWarning: Sample size too small for normal approximation.\n",
      "  warnings.warn(\"Sample size too small for normal approximation.\")\n"
     ]
    }
   ],
   "source": [
    "#statistics of upstream and downstream repetitions\n",
    "upstream_downstream_stat = repeatnumbers.apply(statistical_analysis, args = ([0,1],))\n",
    "#statistics of upstream and sample repetitions\n",
    "upstream_sample_stat = repeatnumbers.apply(statistical_analysis, args = ([0,2],))\n",
    "#statistics of downstream and sample repetitions\n",
    "downstream_sample_stat = repeatnumbers.apply(statistical_analysis, args = ([1,2],))"
   ]
  },
  {
   "cell_type": "code",
   "execution_count": 10,
   "id": "e2f8f8e5",
   "metadata": {},
   "outputs": [],
   "source": [
    "#get the repeat category for every repeats\n",
    "repeat_categories = pd.Series(repeatnumbers.index.values)\n",
    "repeat_classes = repeat_categories.apply(lambda category : upstream_repeats.loc[upstream_repeats['repName'] == category]['repClass'].unique()[0])\n",
    "repeat_classes.index = repeatnumbers.index.values"
   ]
  },
  {
   "cell_type": "code",
   "execution_count": 11,
   "id": "72f5f13e",
   "metadata": {},
   "outputs": [],
   "source": [
    "#invert repeat categories\n",
    "repeats = pd.Series(repeat_classes.index.values)\n",
    "repeats.index = repeat_classes"
   ]
  },
  {
   "cell_type": "code",
   "execution_count": 12,
   "id": "0ec7afc8",
   "metadata": {},
   "outputs": [],
   "source": [
    "#get individual repeats for all repeat classes\n",
    "repeat_families = pd.Series(repeat_classes.unique()).apply(lambda repeat_class:repeats[repeat_class].tolist())\n",
    "repeat_families.index=repeat_classes.unique()"
   ]
  },
  {
   "cell_type": "code",
   "execution_count": 13,
   "id": "d1d92df5",
   "metadata": {},
   "outputs": [],
   "source": [
    "#get the new ordered header\n",
    "def get_header(repeat_list):\n",
    "    global header\n",
    "    header += repeat_list"
   ]
  },
  {
   "cell_type": "code",
   "execution_count": 14,
   "id": "025b1411",
   "metadata": {},
   "outputs": [
    {
     "data": {
      "text/plain": [
       "LTR               None\n",
       "LINE              None\n",
       "SINE              None\n",
       "DNA               None\n",
       "Simple_repeat     None\n",
       "Low_complexity    None\n",
       "tRNA              None\n",
       "dtype: object"
      ]
     },
     "execution_count": 14,
     "metadata": {},
     "output_type": "execute_result"
    }
   ],
   "source": [
    "header = []\n",
    "repeat_families.apply(get_header)"
   ]
  },
  {
   "cell_type": "code",
   "execution_count": 15,
   "id": "4ed0bce9",
   "metadata": {},
   "outputs": [],
   "source": [
    "#create dataframe from the significance values\n",
    "df = pd.DataFrame([upstream_downstream_stat,\n",
    "upstream_sample_stat,\n",
    "downstream_sample_stat])\n",
    "df = df[header]\n",
    "df.index = (['upstream_downstream',\n",
    "'upstream_sample',\n",
    "'downstream_sample'])"
   ]
  },
  {
   "cell_type": "code",
   "execution_count": 16,
   "id": "e092d9d5",
   "metadata": {},
   "outputs": [],
   "source": [
    "#function for drawing brackets to annotate each repeat family\n",
    "def draw_brace(ax, xspan, text):\n",
    "    \"\"\"Draws an annotated brace on the axes.\"\"\"\n",
    "    xmin, xmax = xspan\n",
    "    xspan = xmax - xmin\n",
    "    ax_xmin, ax_xmax = ax.get_xlim()\n",
    "    xax_span = ax_xmax - ax_xmin\n",
    "    ymin, ymax = ax.get_ylim()\n",
    "    yspan = ymax - ymin\n",
    "    resolution = int(xspan/xax_span*100)*2+1 # guaranteed uneven\n",
    "    beta = 300./xax_span # the higher this is, the smaller the radius\n",
    "\n",
    "    x = np.linspace(xmin, xmax, resolution)\n",
    "    x_half = x[:resolution//2+1]\n",
    "    y_half_brace = (1/(1.+np.exp(-beta*(x_half-x_half[0])))\n",
    "                    + 1/(1.+np.exp(-beta*(x_half-x_half[-1]))))\n",
    "    y = np.concatenate((y_half_brace, y_half_brace[-2::-1]))\n",
    "    y = ymin + (.15*y - .01)*yspan # adjust vertical position\n",
    "\n",
    "    ax.autoscale(False)\n",
    "    ax.plot(x, y, color='black', lw=1)\n",
    "\n",
    "    ax.text((xmax+xmin)/2., ymin+.2*yspan, text, ha='center', va='bottom')"
   ]
  },
  {
   "cell_type": "code",
   "execution_count": 17,
   "id": "eeb53ab2",
   "metadata": {},
   "outputs": [
    {
     "data": {
      "text/plain": [
       "nuge_stat       3.341610e-07\n",
       "flage_stat      9.052497e-03\n",
       "genomes_stat    4.415548e-03\n",
       "dtype: float64"
      ]
     },
     "execution_count": 17,
     "metadata": {},
     "output_type": "execute_result"
    }
   ],
   "source": [
    "gc_numts_vs_genome=[]\n",
    "gc_flankings_vs_genome=[]\n",
    "gc_genomes=[]\n",
    "p_values=[]\n",
    "with open('../results/gcs_for_visualisation.txt')as infile:\n",
    "    content=infile.readlines()\n",
    "    nuge_stat=0\n",
    "    flage_stat=0\n",
    "    genomes_stat=0\n",
    "    for index,line in enumerate(content):\n",
    "        if index==1:\n",
    "            nuge_stat=float(line.rsplit()[2][7:-1])\n",
    "            numts_gc=list(map(float,content[index+1].rsplit()[0][:-1].split(',')))\n",
    "            n_genomic_samples_gc=list(map(float,content[index+2].rsplit()[0][:-1].split(',')))\n",
    "            gc_numts_vs_genome+=[numts_gc,n_genomic_samples_gc]\n",
    "        elif index==5:\n",
    "            flage_stat=float(line.split()[-1])\n",
    "            flankings_gc=list(map(float,content[index+1].rsplit()[0][:-1].split(',')))\n",
    "            f_genomic_samples_gc=list(map(float,content[index+2].rsplit()[0][:-1].split(',')))\n",
    "            gc_flankings_vs_genome+=[flankings_gc,f_genomic_samples_gc]\n",
    "        elif index==9:\n",
    "            genomes_stat=float(line.rsplit()[1])\n",
    "            mt_gc=list(map(float,content[index+1].rsplit()[0][:-1].split(',')))\n",
    "            g_gc=list(map(float,content[index+2].rsplit()[0][:-1].split(',')))\n",
    "            gc_genomes+=[mt_gc,g_gc]\n",
    "    p_values.append(nuge_stat)\n",
    "    p_values.append(flage_stat)\n",
    "    p_values.append(genomes_stat)\n",
    "p_values=pd.Series(p_values,index=['nuge_stat','flage_stat','genomes_stat'])\n",
    "p_values"
   ]
  },
  {
   "cell_type": "code",
   "execution_count": 18,
   "id": "3012f97b",
   "metadata": {},
   "outputs": [],
   "source": [
    "#create a function for the statistical annotation of the graph\n",
    "def statistical_annotation(data, significance, positions, height, rounding):\n",
    "    x1, x2 = positions[0],positions[1]\n",
    "    maximum = max([max(data[0]),max(data[1])])\n",
    "    y, h, col = maximum + height + 0.03, 0.03, 'k'\n",
    "    plt.plot([x1, x1, x2, x2], [y, y+h, y+h, y], lw=2.5, c = col)\n",
    "    if significance < 0.05:\n",
    "        plt.text((x1+x2)*.5, y+h, '$\\it{P}$ ~ %s' % np.round(significance,rounding), ha='center',\n",
    "                 va='bottom', color = col, fontsize = 20)\n",
    "    else:\n",
    "        plt.text((x1+x2)*.5, y+h, \"n.s.\", ha='center', va='bottom', color = col, fontsize = 20)"
   ]
  },
  {
   "cell_type": "code",
   "execution_count": 19,
   "id": "96a3e910",
   "metadata": {},
   "outputs": [
    {
     "data": {
      "text/plain": [
       "LTR                 [MLT1A, ERVNOC_LTR, MLT1A1, LTR27_OC, LTR22_OC]\n",
       "LINE              [L2a, L1ME3A, L1MC4, L1MB7, L1MEg, L1M5, L1MCa...\n",
       "SINE               [MIR, MIRb, MIR3, CSINE2, CSINE1, CSINE3A, MIRc]\n",
       "DNA                                        [MER5A1, MER5A, Tigger7]\n",
       "Simple_repeat     [(CATATA)n, (CGTG)n, (TA)n, (TTTA)n, (CA)n, (T...\n",
       "Low_complexity         [CT-rich, A-rich, GA-rich, GC_rich, AT_rich]\n",
       "tRNA              [tRNA-Ser-TCA(m), tRNA-Leu-TTA(m), tRNA-Gln-CAA_]\n",
       "dtype: object"
      ]
     },
     "execution_count": 19,
     "metadata": {},
     "output_type": "execute_result"
    }
   ],
   "source": [
    "repeat_families"
   ]
  },
  {
   "cell_type": "code",
   "execution_count": 20,
   "id": "2f71e9cf",
   "metadata": {},
   "outputs": [
    {
     "name": "stderr",
     "output_type": "stream",
     "text": [
      "C:\\Users\\pytho\\Anaconda3\\lib\\site-packages\\ipykernel_launcher.py:18: UserWarning: FixedFormatter should only be used together with FixedLocator\n"
     ]
    }
   ],
   "source": [
    "#visualizing\n",
    "plt.style.use('fivethirtyeight')\n",
    "bracket_start=0\n",
    "fig, axes = plt.subplots(2, 1, figsize = (14,14))\n",
    "upstream_downstream = axes[0].scatter(x = df.columns.values, y = df.loc['upstream_downstream'])\n",
    "upstream_sample = axes[0].scatter(x = df.columns.values, y = df.loc['upstream_sample'])\n",
    "downstream_sample = axes[0].scatter(x = df.columns.values, y = df.loc['downstream_sample'])\n",
    "axes[0].plot(df.columns.values, (len(df.columns.values) * [0.05]), 'r',linewidth=0.75)\n",
    "axes[0].legend((upstream_downstream, upstream_sample, downstream_sample),\n",
    "          (\"5' vs 3' flanking\", \"5' flanking vs genom\",\n",
    "           \"3' flanking vs genom\"),\n",
    "           fontsize = 20,\n",
    "           ncol = 3,\n",
    "           loc = 'upper center')\n",
    "axes[0].set_ylabel('$\\it{P}$ value\\n(inverted log scale)', fontsize = 20)\n",
    "axes[0].set_xlabel('Repetitive elements', fontsize = 20)\n",
    "axes[0].margins(x = 0.001)\n",
    "axes[0].set_xticklabels(df.columns.values,rotation = 90)\n",
    "axes[0].set_yscale('log')\n",
    "axes[0].set_ylim([10**-3.1, 10**0.65])\n",
    "axes[0].invert_yaxis()\n",
    "for index, repeat_family in enumerate(repeat_families):\n",
    "    bracket_end=(bracket_start+len(repeat_family))-1\n",
    "    if repeat_families.index.values[index]=='Low_complexity':\n",
    "        draw_brace(axes[0], (bracket_start,bracket_end),'Low\\ncomplexity')\n",
    "    elif repeat_families.index.values[index]=='Simple_repeat':\n",
    "        draw_brace(axes[0], (bracket_start,bracket_end),'Simple\\nrepeat')\n",
    "    else:\n",
    "        draw_brace(axes[0], (bracket_start,bracket_end),repeat_families.index.values[index])\n",
    "    bracket_start+=len(repeat_family)\n",
    "plt.tight_layout()\n",
    "axes[1]=sns.violinplot(data=[mt_gc,g_gc,numts_gc,n_genomic_samples_gc,flankings_gc,f_genomic_samples_gc],\n",
    "                      palette=['lightblue','orange','lightgreen','orange','grey','orange'])\n",
    "axes[1].set_ylim(0,1)\n",
    "axes[1].plot(6*[1.5],[0,0.2,0.4,0.6,0.8,1],'-',color='lightgrey',linewidth=1)\n",
    "axes[1].plot(6*[3.5],[0,0.2,0.4,0.6,0.8,1],'-',color='lightgrey',linewidth=1)\n",
    "axes[1].set_xticklabels(['mitochondrion','genome','numt','genome','flanking','genome'],fontsize=20)\n",
    "axes[1].set_ylabel('GC content',fontsize=20)\n",
    "statistical_annotation([mt_gc,g_gc,numts_gc], p_values['genomes_stat'], [0,1], 0.1,rounding=3)\n",
    "statistical_annotation([numts_gc,n_genomic_samples_gc], p_values['nuge_stat'], [2,3], 0.1,rounding=7)\n",
    "statistical_annotation([flankings_gc,f_genomic_samples_gc], p_values['flage_stat'], [4,5], 0.1,rounding=3)\n",
    "axes[0].text(-8,0.001,'(a)',fontsize=30)\n",
    "axes[1].text(-1.5,1.05,'(b)',fontsize=30)\n",
    "plt.tight_layout()\n",
    "plt.savefig('../results/fig2.png',dpi=450)"
   ]
  },
  {
   "cell_type": "code",
   "execution_count": null,
   "id": "7021f626",
   "metadata": {},
   "outputs": [],
   "source": []
  }
 ],
 "metadata": {
  "kernelspec": {
   "display_name": "Python 3",
   "language": "python",
   "name": "python3"
  },
  "language_info": {
   "codemirror_mode": {
    "name": "ipython",
    "version": 3
   },
   "file_extension": ".py",
   "mimetype": "text/x-python",
   "name": "python",
   "nbconvert_exporter": "python",
   "pygments_lexer": "ipython3",
   "version": "3.7.1"
  }
 },
 "nbformat": 4,
 "nbformat_minor": 5
}
