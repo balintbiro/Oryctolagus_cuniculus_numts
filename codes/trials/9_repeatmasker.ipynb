{
 "cells": [
  {
   "cell_type": "code",
   "execution_count": 13,
   "metadata": {},
   "outputs": [],
   "source": [
    "#importing the required modules\n",
    "import re\n",
    "import pandas as pd"
   ]
  },
  {
   "cell_type": "code",
   "execution_count": 17,
   "metadata": {},
   "outputs": [],
   "source": [
    "#function for finding single nucleotide repeats\n",
    "def single_findr(sequence, nucleotide):\n",
    "    result = pd.Series(re.findall(f'{nucleotide}*', sequence),\n",
    "                       name = f'single_{nucleotide}_repeats')\n",
    "    return result[(result != '') & (result != nucleotide)]"
   ]
  },
  {
   "cell_type": "code",
   "execution_count": 35,
   "metadata": {},
   "outputs": [
    {
     "data": {
      "text/plain": [
       "9     TT\n",
       "15    TT\n",
       "Name: single_T_repeats, dtype: object"
      ]
     },
     "execution_count": 35,
     "metadata": {},
     "output_type": "execute_result"
    }
   ],
   "source": [
    "sequence = 'ACCCCGGTGTTACGGGTTA'\n",
    "single_findr(sequence, 'T')"
   ]
  },
  {
   "cell_type": "code",
   "execution_count": 46,
   "metadata": {},
   "outputs": [
    {
     "data": {
      "text/plain": [
       "{'AC': 2,\n",
       " 'CC': 2,\n",
       " 'CG': 2,\n",
       " 'GG': 2,\n",
       " 'GT': 3,\n",
       " 'TT': 2,\n",
       " 'TA': 2,\n",
       " 'CGG': 2,\n",
       " 'GGT': 2,\n",
       " 'GTT': 2,\n",
       " 'TTA': 2,\n",
       " 'GTTA': 2}"
      ]
     },
     "execution_count": 46,
     "metadata": {},
     "output_type": "execute_result"
    }
   ],
   "source": [
    "MINLEN = 2\n",
    "MINCNT = 2\n",
    "d={}\n",
    "for sublen in range(2,int(len(sequence)/2)):\n",
    "    for i in range(0,len(sequence)-sublen):\n",
    "        sub = sequence[i:i+sublen]\n",
    "        cnt = sequence.count(sub)\n",
    "        if cnt >= MINCNT and sub not in d:\n",
    "             d[sub] = cnt\n",
    "d"
   ]
  },
  {
   "cell_type": "code",
   "execution_count": 34,
   "metadata": {},
   "outputs": [
    {
     "data": {
      "text/plain": [
       "pandas.core.series.Series"
      ]
     },
     "execution_count": 34,
     "metadata": {},
     "output_type": "execute_result"
    }
   ],
   "source": [
    "type(master_array['g_up_flanking'])"
   ]
  },
  {
   "cell_type": "code",
   "execution_count": null,
   "metadata": {},
   "outputs": [],
   "source": []
  }
 ],
 "metadata": {
  "kernelspec": {
   "display_name": "Python 3",
   "language": "python",
   "name": "python3"
  },
  "language_info": {
   "codemirror_mode": {
    "name": "ipython",
    "version": 3
   },
   "file_extension": ".py",
   "mimetype": "text/x-python",
   "name": "python",
   "nbconvert_exporter": "python",
   "pygments_lexer": "ipython3",
   "version": "3.7.1"
  }
 },
 "nbformat": 4,
 "nbformat_minor": 2
}
