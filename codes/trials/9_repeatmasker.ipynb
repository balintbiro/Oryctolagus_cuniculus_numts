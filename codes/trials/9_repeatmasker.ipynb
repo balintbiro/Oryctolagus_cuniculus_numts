{
 "cells": [
  {
   "cell_type": "code",
   "execution_count": 7,
   "metadata": {},
   "outputs": [],
   "source": [
    "#importing the required modules\n",
    "import pandas as pd"
   ]
  },
  {
   "cell_type": "code",
   "execution_count": 6,
   "metadata": {},
   "outputs": [
    {
     "data": {
      "text/plain": [
       "{'A': 3,\n",
       " 'C': 5,\n",
       " 'G': 6,\n",
       " 'T': 5,\n",
       " 'AC': 2,\n",
       " 'CC': 2,\n",
       " 'CG': 2,\n",
       " 'GG': 2,\n",
       " 'GT': 3,\n",
       " 'TT': 2,\n",
       " 'TA': 2,\n",
       " 'CGG': 2,\n",
       " 'GGT': 2,\n",
       " 'GTT': 2,\n",
       " 'TTA': 2,\n",
       " 'GTTA': 2}"
      ]
     },
     "execution_count": 6,
     "metadata": {},
     "output_type": "execute_result"
    }
   ],
   "source": [
    "repeats = {}\n",
    "for sublen in range(1,int(len(sequence)/2)):\n",
    "    for i in range(0,len(sequence)-sublen):\n",
    "        sub = sequence[i:i+sublen]\n",
    "        cnt = sequence.count(sub)\n",
    "        if cnt >= MINCNT and sub not in repeats:\n",
    "             repeats[sub] = cnt\n",
    "repeats"
   ]
  },
  {
   "cell_type": "code",
   "execution_count": null,
   "metadata": {},
   "outputs": [],
   "source": []
  }
 ],
 "metadata": {
  "kernelspec": {
   "display_name": "Python 3",
   "language": "python",
   "name": "python3"
  },
  "language_info": {
   "codemirror_mode": {
    "name": "ipython",
    "version": 3
   },
   "file_extension": ".py",
   "mimetype": "text/x-python",
   "name": "python",
   "nbconvert_exporter": "python",
   "pygments_lexer": "ipython3",
   "version": "3.7.1"
  }
 },
 "nbformat": 4,
 "nbformat_minor": 2
}
