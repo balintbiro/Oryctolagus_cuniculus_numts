{
 "cells": [
  {
   "cell_type": "code",
   "execution_count": 1,
   "id": "0649a6f4",
   "metadata": {},
   "outputs": [],
   "source": [
    "#importing the required modules\n",
    "import os\n",
    "import numpy as np\n",
    "import pandas as pd\n",
    "import seaborn as sns\n",
    "import matplotlib.pyplot as plt\n",
    "from scipy.stats import pearsonr, spearmanr"
   ]
  },
  {
   "cell_type": "code",
   "execution_count": 2,
   "id": "4bec7999",
   "metadata": {},
   "outputs": [],
   "source": [
    "home_dir = os.path.join(r'Z:/balint/numt/Michael/data/')"
   ]
  },
  {
   "cell_type": "code",
   "execution_count": 3,
   "id": "1913b225",
   "metadata": {},
   "outputs": [
    {
     "data": {
      "text/html": [
       "<div>\n",
       "<style scoped>\n",
       "    .dataframe tbody tr th:only-of-type {\n",
       "        vertical-align: middle;\n",
       "    }\n",
       "\n",
       "    .dataframe tbody tr th {\n",
       "        vertical-align: top;\n",
       "    }\n",
       "\n",
       "    .dataframe thead th {\n",
       "        text-align: right;\n",
       "    }\n",
       "</style>\n",
       "<table border=\"1\" class=\"dataframe\">\n",
       "  <thead>\n",
       "    <tr style=\"text-align: right;\">\n",
       "      <th></th>\n",
       "      <th>score</th>\n",
       "      <th>eg2_value</th>\n",
       "      <th>e_value</th>\n",
       "      <th>g_id</th>\n",
       "      <th>g_start</th>\n",
       "      <th>mt_start</th>\n",
       "      <th>g_length</th>\n",
       "      <th>mt_length</th>\n",
       "      <th>g_strand</th>\n",
       "      <th>mt_strand</th>\n",
       "      <th>g_size</th>\n",
       "      <th>g_sequence</th>\n",
       "      <th>mt_sequence</th>\n",
       "      <th>g_up_flanking</th>\n",
       "      <th>g_down_flanking</th>\n",
       "      <th>mt_up_flanking (if strand is negative, the coordinates are corrected)</th>\n",
       "      <th>mt_down_flanking (if strand is negative, the coordinates are corrected)</th>\n",
       "      <th>ensembl_gene_id</th>\n",
       "      <th>ensembl_description</th>\n",
       "    </tr>\n",
       "  </thead>\n",
       "  <tbody>\n",
       "    <tr>\n",
       "      <th>0</th>\n",
       "      <td>17245</td>\n",
       "      <td>0.0</td>\n",
       "      <td>0.0</td>\n",
       "      <td>MT</td>\n",
       "      <td>0</td>\n",
       "      <td>0</td>\n",
       "      <td>17245</td>\n",
       "      <td>17245</td>\n",
       "      <td>+</td>\n",
       "      <td>+</td>\n",
       "      <td>17245</td>\n",
       "      <td>GTTAATGTAGCTTAACAACAAAGCAAAGCACTGAAAATGCTTAGAT...</td>\n",
       "      <td>GTTAATGTAGCTTAACAACAAAGCAAAGCACTGAAAATGCTTAGAT...</td>\n",
       "      <td>NaN</td>\n",
       "      <td>NaN</td>\n",
       "      <td>TACAAATTGTATAATATTTGGACTAAACCCCCTTTCCCACCCCAAG...</td>\n",
       "      <td>GTTAATGTAGCTTAACAACAAAGCAAAGCACTGAAAATGCTTAGAT...</td>\n",
       "      <td>ENSOCUG00000029081</td>\n",
       "      <td>NaN</td>\n",
       "    </tr>\n",
       "    <tr>\n",
       "      <th>1</th>\n",
       "      <td>3398</td>\n",
       "      <td>0.0</td>\n",
       "      <td>0.0</td>\n",
       "      <td>1</td>\n",
       "      <td>114731432</td>\n",
       "      <td>6976</td>\n",
       "      <td>4680</td>\n",
       "      <td>4681</td>\n",
       "      <td>+</td>\n",
       "      <td>+</td>\n",
       "      <td>194850757</td>\n",
       "      <td>taGTAAAATTATTACATAACTTTGTCGAAGTTAATTTATAGGTTCA...</td>\n",
       "      <td>TAGTAAAACCATTACATAACTTTGTCGAAGTTAATTTATAGGTTCA...</td>\n",
       "      <td>ACAAAAGACTCTGAATAGCCAAAGCGATCCTGAACAAGAAAAATCA...</td>\n",
       "      <td>TATATATATTTATATATATATGTATATATGTACATATATATAACTA...</td>\n",
       "      <td>CCTTCGCCTCAAAACGAGAAGTAGAGACTATTGAACTAACAACCAC...</td>\n",
       "      <td>AACTGCTAATTCATGCTCCCATGTCTAACCCCATGGCTTTCTCAAC...</td>\n",
       "      <td>ENSOCUG00000006104</td>\n",
       "      <td>cilia and flagella associated protein 300 [Sou...</td>\n",
       "    </tr>\n",
       "    <tr>\n",
       "      <th>2</th>\n",
       "      <td>3120</td>\n",
       "      <td>0.0</td>\n",
       "      <td>0.0</td>\n",
       "      <td>GL019308</td>\n",
       "      <td>67160</td>\n",
       "      <td>883</td>\n",
       "      <td>4892</td>\n",
       "      <td>4945</td>\n",
       "      <td>+</td>\n",
       "      <td>+</td>\n",
       "      <td>88228</td>\n",
       "      <td>CAAGGCCATGAAGCATGCACACACTGCCCATCGCTCTCCTCAAACA...</td>\n",
       "      <td>CAAGGCCATGAAGCACGCACACACCGCCCGTCACCCTCCTCAAGTG...</td>\n",
       "      <td>GATAAACCCCGATAAACTTTACCACTCTTTGCCAACTCAGCCTCTA...</td>\n",
       "      <td>ATGAAGGGGCAAAGAGTAATTTTACAGTCGAGAGGGCTAGCAGTCA...</td>\n",
       "      <td>TACCGCCATCTTCAGCGAACCCTAAAAAGGAGCAAAAGTAAGCTCA...</td>\n",
       "      <td>TAGGGGCTATTAACTTTATTACAACTATTATTAATATGAAAGCCCC...</td>\n",
       "      <td>ENSOCUG00000031196</td>\n",
       "      <td>NaN</td>\n",
       "    </tr>\n",
       "    <tr>\n",
       "      <th>3</th>\n",
       "      <td>1888</td>\n",
       "      <td>0.0</td>\n",
       "      <td>0.0</td>\n",
       "      <td>GL019308</td>\n",
       "      <td>62527</td>\n",
       "      <td>12805</td>\n",
       "      <td>3439</td>\n",
       "      <td>3462</td>\n",
       "      <td>+</td>\n",
       "      <td>+</td>\n",
       "      <td>88228</td>\n",
       "      <td>AATTATTCATAGCCTCAATGATGAACAAGACATCCAAAAAACAGGA...</td>\n",
       "      <td>AATTATTCACAGCCTcaaTGATGAACAGGATATCCGAAAGATAGGC...</td>\n",
       "      <td>GTAGGAATTATATCCTTCCTCCTCATCGGCTGATGGCATGGCCAAG...</td>\n",
       "      <td>ACGTATACATGAGTTGTTCTTACATAATTGAATATACCTGCAATGC...</td>\n",
       "      <td>TGCCTAGGCGCAATCACTACCTTATTCACAGCCCTATGTGCCCTCA...</td>\n",
       "      <td>GTACACCCGTACGCACGCACGTACACCCGTACGCACGCACGTACAC...</td>\n",
       "      <td>ENSOCUG00000037635</td>\n",
       "      <td>NaN</td>\n",
       "    </tr>\n",
       "    <tr>\n",
       "      <th>4</th>\n",
       "      <td>1824</td>\n",
       "      <td>0.0</td>\n",
       "      <td>0.0</td>\n",
       "      <td>AAGW02081594</td>\n",
       "      <td>14016</td>\n",
       "      <td>6061</td>\n",
       "      <td>3040</td>\n",
       "      <td>3073</td>\n",
       "      <td>+</td>\n",
       "      <td>+</td>\n",
       "      <td>24576</td>\n",
       "      <td>TTCTTTGGACACCCTGAGGTATATATTCTTATCCTTCCAGGATTCG...</td>\n",
       "      <td>TTTTTCGGGCACCCCGAAGTATATATTCTTATTCTTCCAGGATTTG...</td>\n",
       "      <td>GACATGTCAAAGGAACGCAGAAGCCAGCTTGAAAAAGTCCTCAACA...</td>\n",
       "      <td>TGAAATAGCTATCACTATTCAGGTATGCCACTATTCTTCTAGGCAT...</td>\n",
       "      <td>ATATGAAAGCCCCTGCAATATCTCAATATCAAACCCCCTTATTCGT...</td>\n",
       "      <td>ATTCTCCTAGGTATCTATTTTACCCTACTTCAAGCATCGGAGTATT...</td>\n",
       "      <td>NaN</td>\n",
       "      <td>NaN</td>\n",
       "    </tr>\n",
       "  </tbody>\n",
       "</table>\n",
       "</div>"
      ],
      "text/plain": [
       "   score  eg2_value  e_value          g_id    g_start  mt_start  g_length  \\\n",
       "0  17245        0.0      0.0            MT          0         0     17245   \n",
       "1   3398        0.0      0.0             1  114731432      6976      4680   \n",
       "2   3120        0.0      0.0      GL019308      67160       883      4892   \n",
       "3   1888        0.0      0.0      GL019308      62527     12805      3439   \n",
       "4   1824        0.0      0.0  AAGW02081594      14016      6061      3040   \n",
       "\n",
       "   mt_length g_strand mt_strand     g_size  \\\n",
       "0      17245        +         +      17245   \n",
       "1       4681        +         +  194850757   \n",
       "2       4945        +         +      88228   \n",
       "3       3462        +         +      88228   \n",
       "4       3073        +         +      24576   \n",
       "\n",
       "                                          g_sequence  \\\n",
       "0  GTTAATGTAGCTTAACAACAAAGCAAAGCACTGAAAATGCTTAGAT...   \n",
       "1  taGTAAAATTATTACATAACTTTGTCGAAGTTAATTTATAGGTTCA...   \n",
       "2  CAAGGCCATGAAGCATGCACACACTGCCCATCGCTCTCCTCAAACA...   \n",
       "3  AATTATTCATAGCCTCAATGATGAACAAGACATCCAAAAAACAGGA...   \n",
       "4  TTCTTTGGACACCCTGAGGTATATATTCTTATCCTTCCAGGATTCG...   \n",
       "\n",
       "                                         mt_sequence  \\\n",
       "0  GTTAATGTAGCTTAACAACAAAGCAAAGCACTGAAAATGCTTAGAT...   \n",
       "1  TAGTAAAACCATTACATAACTTTGTCGAAGTTAATTTATAGGTTCA...   \n",
       "2  CAAGGCCATGAAGCACGCACACACCGCCCGTCACCCTCCTCAAGTG...   \n",
       "3  AATTATTCACAGCCTcaaTGATGAACAGGATATCCGAAAGATAGGC...   \n",
       "4  TTTTTCGGGCACCCCGAAGTATATATTCTTATTCTTCCAGGATTTG...   \n",
       "\n",
       "                                       g_up_flanking  \\\n",
       "0                                                NaN   \n",
       "1  ACAAAAGACTCTGAATAGCCAAAGCGATCCTGAACAAGAAAAATCA...   \n",
       "2  GATAAACCCCGATAAACTTTACCACTCTTTGCCAACTCAGCCTCTA...   \n",
       "3  GTAGGAATTATATCCTTCCTCCTCATCGGCTGATGGCATGGCCAAG...   \n",
       "4  GACATGTCAAAGGAACGCAGAAGCCAGCTTGAAAAAGTCCTCAACA...   \n",
       "\n",
       "                                     g_down_flanking  \\\n",
       "0                                                NaN   \n",
       "1  TATATATATTTATATATATATGTATATATGTACATATATATAACTA...   \n",
       "2  ATGAAGGGGCAAAGAGTAATTTTACAGTCGAGAGGGCTAGCAGTCA...   \n",
       "3  ACGTATACATGAGTTGTTCTTACATAATTGAATATACCTGCAATGC...   \n",
       "4  TGAAATAGCTATCACTATTCAGGTATGCCACTATTCTTCTAGGCAT...   \n",
       "\n",
       "  mt_up_flanking (if strand is negative, the coordinates are corrected)  \\\n",
       "0  TACAAATTGTATAATATTTGGACTAAACCCCCTTTCCCACCCCAAG...                      \n",
       "1  CCTTCGCCTCAAAACGAGAAGTAGAGACTATTGAACTAACAACCAC...                      \n",
       "2  TACCGCCATCTTCAGCGAACCCTAAAAAGGAGCAAAAGTAAGCTCA...                      \n",
       "3  TGCCTAGGCGCAATCACTACCTTATTCACAGCCCTATGTGCCCTCA...                      \n",
       "4  ATATGAAAGCCCCTGCAATATCTCAATATCAAACCCCCTTATTCGT...                      \n",
       "\n",
       "  mt_down_flanking (if strand is negative, the coordinates are corrected)  \\\n",
       "0  GTTAATGTAGCTTAACAACAAAGCAAAGCACTGAAAATGCTTAGAT...                        \n",
       "1  AACTGCTAATTCATGCTCCCATGTCTAACCCCATGGCTTTCTCAAC...                        \n",
       "2  TAGGGGCTATTAACTTTATTACAACTATTATTAATATGAAAGCCCC...                        \n",
       "3  GTACACCCGTACGCACGCACGTACACCCGTACGCACGCACGTACAC...                        \n",
       "4  ATTCTCCTAGGTATCTATTTTACCCTACTTCAAGCATCGGAGTATT...                        \n",
       "\n",
       "      ensembl_gene_id                                ensembl_description  \n",
       "0  ENSOCUG00000029081                                                NaN  \n",
       "1  ENSOCUG00000006104  cilia and flagella associated protein 300 [Sou...  \n",
       "2  ENSOCUG00000031196                                                NaN  \n",
       "3  ENSOCUG00000037635                                                NaN  \n",
       "4                 NaN                                                NaN  "
      ]
     },
     "execution_count": 3,
     "metadata": {},
     "output_type": "execute_result"
    }
   ],
   "source": [
    "numts_array=pd.read_csv(home_dir+'numt_master_array.csv')\n",
    "numts_array.head()"
   ]
  },
  {
   "cell_type": "code",
   "execution_count": 4,
   "id": "034e0804",
   "metadata": {},
   "outputs": [],
   "source": [
    "#defining a function for calculating identity\n",
    "def identity(g_sequence):\n",
    "    seq_index=g_sequences[g_sequences==g_sequence].index[0]\n",
    "    g_sequence=g_sequence.upper()\n",
    "    mt_sequence=mt_sequences[seq_index].upper()\n",
    "    identical_residues=0\n",
    "    for res_index, g_residue in enumerate(g_sequence):\n",
    "        mt_residue=mt_sequence[res_index]\n",
    "        if g_residue==mt_residue:\n",
    "            identical_residues+=1\n",
    "    identity=(identical_residues/len(g_sequence))*100\n",
    "    return identity"
   ]
  },
  {
   "cell_type": "code",
   "execution_count": 5,
   "id": "ba4c86ed",
   "metadata": {},
   "outputs": [],
   "source": [
    "g_sequences=numts_array['g_sequence']"
   ]
  },
  {
   "cell_type": "code",
   "execution_count": 6,
   "id": "4c5ea443",
   "metadata": {},
   "outputs": [],
   "source": [
    "mt_sequences=numts_array['mt_sequence']"
   ]
  },
  {
   "cell_type": "code",
   "execution_count": 7,
   "id": "2d6b3635",
   "metadata": {},
   "outputs": [],
   "source": [
    "g_ids=numts_array['g_id']\n",
    "g_ids.index=g_ids"
   ]
  },
  {
   "cell_type": "code",
   "execution_count": 8,
   "id": "f6016bbd",
   "metadata": {},
   "outputs": [],
   "source": [
    "chr_id_mask=g_ids.str.len()<3\n",
    "chr_ids=g_ids[chr_id_mask]"
   ]
  },
  {
   "cell_type": "code",
   "execution_count": 9,
   "id": "6fb0e650",
   "metadata": {},
   "outputs": [],
   "source": [
    "scaffold_id_mask=g_ids.str.len()>3\n",
    "scaffold_ids=g_ids[scaffold_id_mask]"
   ]
  },
  {
   "cell_type": "code",
   "execution_count": 10,
   "id": "73289c07",
   "metadata": {},
   "outputs": [
    {
     "data": {
      "text/html": [
       "<div>\n",
       "<style scoped>\n",
       "    .dataframe tbody tr th:only-of-type {\n",
       "        vertical-align: middle;\n",
       "    }\n",
       "\n",
       "    .dataframe tbody tr th {\n",
       "        vertical-align: top;\n",
       "    }\n",
       "\n",
       "    .dataframe thead th {\n",
       "        text-align: right;\n",
       "    }\n",
       "</style>\n",
       "<table border=\"1\" class=\"dataframe\">\n",
       "  <thead>\n",
       "    <tr style=\"text-align: right;\">\n",
       "      <th></th>\n",
       "      <th>g_sequence</th>\n",
       "    </tr>\n",
       "    <tr>\n",
       "      <th>g_id</th>\n",
       "      <th></th>\n",
       "    </tr>\n",
       "  </thead>\n",
       "  <tbody>\n",
       "    <tr>\n",
       "      <th>MT</th>\n",
       "      <td>100.000000</td>\n",
       "    </tr>\n",
       "    <tr>\n",
       "      <th>1</th>\n",
       "      <td>86.653854</td>\n",
       "    </tr>\n",
       "    <tr>\n",
       "      <th>GL019308</th>\n",
       "      <td>83.558877</td>\n",
       "    </tr>\n",
       "    <tr>\n",
       "      <th>GL019308</th>\n",
       "      <td>79.608295</td>\n",
       "    </tr>\n",
       "    <tr>\n",
       "      <th>AAGW02081594</th>\n",
       "      <td>80.766732</td>\n",
       "    </tr>\n",
       "    <tr>\n",
       "      <th>...</th>\n",
       "      <td>...</td>\n",
       "    </tr>\n",
       "    <tr>\n",
       "      <th>GL019047</th>\n",
       "      <td>67.611336</td>\n",
       "    </tr>\n",
       "    <tr>\n",
       "      <th>AAGW02081404</th>\n",
       "      <td>80.000000</td>\n",
       "    </tr>\n",
       "    <tr>\n",
       "      <th>GL019311</th>\n",
       "      <td>71.052632</td>\n",
       "    </tr>\n",
       "    <tr>\n",
       "      <th>21</th>\n",
       "      <td>69.938650</td>\n",
       "    </tr>\n",
       "    <tr>\n",
       "      <th>GL018744</th>\n",
       "      <td>64.242424</td>\n",
       "    </tr>\n",
       "  </tbody>\n",
       "</table>\n",
       "<p>153 rows × 1 columns</p>\n",
       "</div>"
      ],
      "text/plain": [
       "              g_sequence\n",
       "g_id                    \n",
       "MT            100.000000\n",
       "1              86.653854\n",
       "GL019308       83.558877\n",
       "GL019308       79.608295\n",
       "AAGW02081594   80.766732\n",
       "...                  ...\n",
       "GL019047       67.611336\n",
       "AAGW02081404   80.000000\n",
       "GL019311       71.052632\n",
       "21             69.938650\n",
       "GL018744       64.242424\n",
       "\n",
       "[153 rows x 1 columns]"
      ]
     },
     "execution_count": 10,
     "metadata": {},
     "output_type": "execute_result"
    }
   ],
   "source": [
    "identities=g_sequences.apply(identity)\n",
    "identities.index=g_ids\n",
    "df=pd.DataFrame(identities)\n",
    "df"
   ]
  },
  {
   "cell_type": "code",
   "execution_count": 11,
   "id": "46650607",
   "metadata": {},
   "outputs": [
    {
     "data": {
      "text/html": [
       "<div>\n",
       "<style scoped>\n",
       "    .dataframe tbody tr th:only-of-type {\n",
       "        vertical-align: middle;\n",
       "    }\n",
       "\n",
       "    .dataframe tbody tr th {\n",
       "        vertical-align: top;\n",
       "    }\n",
       "\n",
       "    .dataframe thead th {\n",
       "        text-align: right;\n",
       "    }\n",
       "</style>\n",
       "<table border=\"1\" class=\"dataframe\">\n",
       "  <thead>\n",
       "    <tr style=\"text-align: right;\">\n",
       "      <th></th>\n",
       "      <th>identity</th>\n",
       "      <th>length</th>\n",
       "    </tr>\n",
       "    <tr>\n",
       "      <th>g_id</th>\n",
       "      <th></th>\n",
       "      <th></th>\n",
       "    </tr>\n",
       "  </thead>\n",
       "  <tbody>\n",
       "    <tr>\n",
       "      <th>MT</th>\n",
       "      <td>100.000000</td>\n",
       "      <td>17245</td>\n",
       "    </tr>\n",
       "    <tr>\n",
       "      <th>1</th>\n",
       "      <td>86.653854</td>\n",
       "      <td>4683</td>\n",
       "    </tr>\n",
       "    <tr>\n",
       "      <th>GL019308</th>\n",
       "      <td>83.558877</td>\n",
       "      <td>4951</td>\n",
       "    </tr>\n",
       "    <tr>\n",
       "      <th>GL019308</th>\n",
       "      <td>79.608295</td>\n",
       "      <td>3472</td>\n",
       "    </tr>\n",
       "    <tr>\n",
       "      <th>AAGW02081594</th>\n",
       "      <td>80.766732</td>\n",
       "      <td>3078</td>\n",
       "    </tr>\n",
       "    <tr>\n",
       "      <th>...</th>\n",
       "      <td>...</td>\n",
       "      <td>...</td>\n",
       "    </tr>\n",
       "    <tr>\n",
       "      <th>GL019047</th>\n",
       "      <td>67.611336</td>\n",
       "      <td>247</td>\n",
       "    </tr>\n",
       "    <tr>\n",
       "      <th>AAGW02081404</th>\n",
       "      <td>80.000000</td>\n",
       "      <td>140</td>\n",
       "    </tr>\n",
       "    <tr>\n",
       "      <th>GL019311</th>\n",
       "      <td>71.052632</td>\n",
       "      <td>228</td>\n",
       "    </tr>\n",
       "    <tr>\n",
       "      <th>21</th>\n",
       "      <td>69.938650</td>\n",
       "      <td>326</td>\n",
       "    </tr>\n",
       "    <tr>\n",
       "      <th>GL018744</th>\n",
       "      <td>64.242424</td>\n",
       "      <td>330</td>\n",
       "    </tr>\n",
       "  </tbody>\n",
       "</table>\n",
       "<p>153 rows × 2 columns</p>\n",
       "</div>"
      ],
      "text/plain": [
       "                identity  length\n",
       "g_id                            \n",
       "MT            100.000000   17245\n",
       "1              86.653854    4683\n",
       "GL019308       83.558877    4951\n",
       "GL019308       79.608295    3472\n",
       "AAGW02081594   80.766732    3078\n",
       "...                  ...     ...\n",
       "GL019047       67.611336     247\n",
       "AAGW02081404   80.000000     140\n",
       "GL019311       71.052632     228\n",
       "21             69.938650     326\n",
       "GL018744       64.242424     330\n",
       "\n",
       "[153 rows x 2 columns]"
      ]
     },
     "execution_count": 11,
     "metadata": {},
     "output_type": "execute_result"
    }
   ],
   "source": [
    "lengths=g_sequences.apply(lambda seq:len(seq))\n",
    "lengths.index=g_ids\n",
    "df['lengths']=lengths\n",
    "df.columns=['identity','length']\n",
    "df"
   ]
  },
  {
   "cell_type": "code",
   "execution_count": 12,
   "id": "6c51ed1a",
   "metadata": {},
   "outputs": [
    {
     "data": {
      "text/html": [
       "<div>\n",
       "<style scoped>\n",
       "    .dataframe tbody tr th:only-of-type {\n",
       "        vertical-align: middle;\n",
       "    }\n",
       "\n",
       "    .dataframe tbody tr th {\n",
       "        vertical-align: top;\n",
       "    }\n",
       "\n",
       "    .dataframe thead th {\n",
       "        text-align: right;\n",
       "    }\n",
       "</style>\n",
       "<table border=\"1\" class=\"dataframe\">\n",
       "  <thead>\n",
       "    <tr style=\"text-align: right;\">\n",
       "      <th></th>\n",
       "      <th>identity</th>\n",
       "      <th>length</th>\n",
       "    </tr>\n",
       "    <tr>\n",
       "      <th>g_id</th>\n",
       "      <th></th>\n",
       "      <th></th>\n",
       "    </tr>\n",
       "  </thead>\n",
       "  <tbody>\n",
       "    <tr>\n",
       "      <th>GL019308</th>\n",
       "      <td>83.558877</td>\n",
       "      <td>4951</td>\n",
       "    </tr>\n",
       "    <tr>\n",
       "      <th>GL019308</th>\n",
       "      <td>79.608295</td>\n",
       "      <td>3472</td>\n",
       "    </tr>\n",
       "    <tr>\n",
       "      <th>AAGW02081594</th>\n",
       "      <td>80.766732</td>\n",
       "      <td>3078</td>\n",
       "    </tr>\n",
       "    <tr>\n",
       "      <th>AAGW02081594</th>\n",
       "      <td>79.815359</td>\n",
       "      <td>2383</td>\n",
       "    </tr>\n",
       "    <tr>\n",
       "      <th>GL019326</th>\n",
       "      <td>80.320000</td>\n",
       "      <td>1875</td>\n",
       "    </tr>\n",
       "    <tr>\n",
       "      <th>...</th>\n",
       "      <td>...</td>\n",
       "      <td>...</td>\n",
       "    </tr>\n",
       "    <tr>\n",
       "      <th>AAGW02081404</th>\n",
       "      <td>78.481013</td>\n",
       "      <td>158</td>\n",
       "    </tr>\n",
       "    <tr>\n",
       "      <th>GL019047</th>\n",
       "      <td>67.611336</td>\n",
       "      <td>247</td>\n",
       "    </tr>\n",
       "    <tr>\n",
       "      <th>AAGW02081404</th>\n",
       "      <td>80.000000</td>\n",
       "      <td>140</td>\n",
       "    </tr>\n",
       "    <tr>\n",
       "      <th>GL019311</th>\n",
       "      <td>71.052632</td>\n",
       "      <td>228</td>\n",
       "    </tr>\n",
       "    <tr>\n",
       "      <th>GL018744</th>\n",
       "      <td>64.242424</td>\n",
       "      <td>330</td>\n",
       "    </tr>\n",
       "  </tbody>\n",
       "</table>\n",
       "<p>101 rows × 2 columns</p>\n",
       "</div>"
      ],
      "text/plain": [
       "               identity  length\n",
       "g_id                           \n",
       "GL019308      83.558877    4951\n",
       "GL019308      79.608295    3472\n",
       "AAGW02081594  80.766732    3078\n",
       "AAGW02081594  79.815359    2383\n",
       "GL019326      80.320000    1875\n",
       "...                 ...     ...\n",
       "AAGW02081404  78.481013     158\n",
       "GL019047      67.611336     247\n",
       "AAGW02081404  80.000000     140\n",
       "GL019311      71.052632     228\n",
       "GL018744      64.242424     330\n",
       "\n",
       "[101 rows x 2 columns]"
      ]
     },
     "execution_count": 12,
     "metadata": {},
     "output_type": "execute_result"
    }
   ],
   "source": [
    "scaffolds=df[df.index.isin(scaffold_ids)]\n",
    "scaffolds"
   ]
  },
  {
   "cell_type": "code",
   "execution_count": 13,
   "id": "d2688b89",
   "metadata": {},
   "outputs": [
    {
     "data": {
      "text/plain": [
       "52"
      ]
     },
     "execution_count": 13,
     "metadata": {},
     "output_type": "execute_result"
    }
   ],
   "source": [
    "chrs=df[df.index.isin(chr_ids)]\n",
    "len(chrs)"
   ]
  },
  {
   "cell_type": "code",
   "execution_count": 14,
   "id": "816db376",
   "metadata": {},
   "outputs": [
    {
     "data": {
      "text/plain": [
       "Text(0.5, 0, 'Sequence length (bp)')"
      ]
     },
     "execution_count": 14,
     "metadata": {},
     "output_type": "execute_result"
    },
    {
     "data": {
      "image/png": "[encoded data removed]",
      "text/plain": [
       "<Figure size 432x288 with 1 Axes>"
      ]
     },
     "metadata": {
      "needs_background": "light"
     },
     "output_type": "display_data"
    }
   ],
   "source": [
    "fig,ax=plt.subplots(1,1)\n",
    "sns.set(style = \"darkgrid\")\n",
    "\n",
    "ax.scatter(chrs['length'], chrs['identity'])\n",
    "plt.ylim(50,105)\n",
    "m, b = np.polyfit(chrs['length'], chrs['identity'], 1)\n",
    "#plt.plot(chrs_log10, m*chrs_log10 + b, 'orange')\n",
    "\n",
    "ax.scatter(scaffolds['length'], scaffolds['identity'])\n",
    "plt.ylim(50,105)\n",
    "m, b = np.polyfit(scaffolds['length'], scaffolds['identity'], 1)\n",
    "#plt.plot(scaffolds_log10, m*scaffolds_log10 + b, 'lightblue')\n",
    "\n",
    "plt.ylabel('Sequence identity (%)')\n",
    "plt.xlabel('Sequence length (bp)')"
   ]
  },
  {
   "cell_type": "code",
   "execution_count": 15,
   "id": "e93152e0",
   "metadata": {},
   "outputs": [
    {
     "name": "stderr",
     "output_type": "stream",
     "text": [
      "C:\\Users\\pytho\\Anaconda3\\lib\\site-packages\\ipykernel_launcher.py:3: UserWarning: FixedFormatter should only be used together with FixedLocator\n",
      "  This is separate from the ipykernel package so we can avoid doing imports until\n"
     ]
    },
    {
     "data": {
      "text/plain": [
       "Text(0.5, 0, 'Sequence length (bp)')"
      ]
     },
     "execution_count": 15,
     "metadata": {},
     "output_type": "execute_result"
    },
    {
     "data": {
      "image/png": "[encoded data removed]",
      "text/plain": [
       "<Figure size 432x288 with 1 Axes>"
      ]
     },
     "metadata": {},
     "output_type": "display_data"
    }
   ],
   "source": [
    "fig,ax=plt.subplots(1,1)\n",
    "sns.set(style = \"darkgrid\")\n",
    "ax.set_xticklabels(['0','100','320','1000','3 200','10 000'])\n",
    "\n",
    "chrs_log10=chrs['length'].apply(lambda value:np.log10(value))\n",
    "scaffolds_log10=scaffolds['length'].apply(lambda value:np.log10(value))\n",
    "\n",
    "ax.scatter(chrs_log10, chrs['identity'])\n",
    "plt.ylim(50,105)\n",
    "m, b = np.polyfit(chrs_log10, chrs['identity'], 1)\n",
    "#plt.plot(chrs_log10, m*chrs_log10 + b, 'orange')\n",
    "\n",
    "ax.scatter(scaffolds_log10, scaffolds['identity'])\n",
    "plt.ylim(50,105)\n",
    "m, b = np.polyfit(scaffolds_log10, scaffolds['identity'], 1)\n",
    "#plt.plot(scaffolds_log10, m*scaffolds_log10 + b, 'lightblue')\n",
    "\n",
    "plt.ylabel('Sequence identity (%)')\n",
    "plt.xlabel('Sequence length (bp)')"
   ]
  },
  {
   "cell_type": "code",
   "execution_count": 16,
   "id": "4dd99e34",
   "metadata": {},
   "outputs": [
    {
     "name": "stderr",
     "output_type": "stream",
     "text": [
      "C:\\Users\\pytho\\Anaconda3\\lib\\site-packages\\ipykernel_launcher.py:12: MatplotlibDeprecationWarning: savefig() got unexpected keyword argument \"quality\" which is no longer supported as of 3.3 and will become an error two minor releases later\n",
      "  if sys.path[0] == '':\n"
     ]
    },
    {
     "data": {
      "image/png": "[encoded data removed]",
      "text/plain": [
       "<Figure size 864x288 with 2 Axes>"
      ]
     },
     "metadata": {},
     "output_type": "display_data"
    }
   ],
   "source": [
    "fig,axs=plt.subplots(1,2, figsize=(12,4))\n",
    "\n",
    "axs[0].scatter(chrs['length'], chrs['identity'])\n",
    "axs[0].set_title('Chromosomes located numts')\n",
    "m, b = np.polyfit(chrs['length'], chrs['identity'], 1)\n",
    "axs[0].plot(chrs['length'], m*chrs['length'] + b, 'orange')\n",
    "\n",
    "axs[1].scatter(scaffolds['length'], scaffolds['identity'])\n",
    "axs[1].set_title('Scaffolds located numts')\n",
    "m, b = np.polyfit(scaffolds['length'], scaffolds['identity'], 1)\n",
    "axs[1].plot(scaffolds['length'], m*scaffolds['length'] + b, 'orange')\n",
    "plt.savefig('../../results/length_vs_identity.png', dpi = 150, quality = 95)"
   ]
  },
  {
   "cell_type": "code",
   "execution_count": 181,
   "id": "7d9fc74a",
   "metadata": {},
   "outputs": [
    {
     "data": {
      "text/plain": [
       "(0.4518451672653433, 0.0007722885960220438)"
      ]
     },
     "execution_count": 181,
     "metadata": {},
     "output_type": "execute_result"
    }
   ],
   "source": [
    "pearsonr(chrs['length'], chrs['identity'])"
   ]
  },
  {
   "cell_type": "code",
   "execution_count": 182,
   "id": "c4b36a13",
   "metadata": {},
   "outputs": [
    {
     "data": {
      "text/plain": [
       "(0.23569965304924306, 0.017653776168246045)"
      ]
     },
     "execution_count": 182,
     "metadata": {},
     "output_type": "execute_result"
    }
   ],
   "source": [
    "pearsonr(scaffolds['length'], scaffolds['identity'])"
   ]
  },
  {
   "cell_type": "code",
   "execution_count": 187,
   "id": "15575b2b",
   "metadata": {},
   "outputs": [
    {
     "name": "stderr",
     "output_type": "stream",
     "text": [
      "C:\\Users\\pytho\\Anaconda3\\lib\\site-packages\\ipykernel_launcher.py:5: UserWarning: FixedFormatter should only be used together with FixedLocator\n",
      "  \"\"\"\n",
      "C:\\Users\\pytho\\Anaconda3\\lib\\site-packages\\ipykernel_launcher.py:9: UserWarning: FixedFormatter should only be used together with FixedLocator\n",
      "  if __name__ == '__main__':\n"
     ]
    },
    {
     "data": {
      "text/plain": [
       "[Text(1.5, 0, '0'),\n",
       " Text(2.0, 0, '100'),\n",
       " Text(2.5, 0, '320'),\n",
       " Text(3.0, 0, '1000'),\n",
       " Text(3.5, 0, '3 200'),\n",
       " Text(4.0, 0, '10 000'),\n",
       " Text(4.5, 0, '')]"
      ]
     },
     "execution_count": 187,
     "metadata": {},
     "output_type": "execute_result"
    },
    {
     "data": {
      "image/png": "[encoded data removed]",
      "text/plain": [
       "<Figure size 864x288 with 2 Axes>"
      ]
     },
     "metadata": {},
     "output_type": "display_data"
    }
   ],
   "source": [
    "fig,axs=plt.subplots(1,2, figsize=(12,4))\n",
    "\n",
    "axs[0].scatter(chrs_log10, chrs['identity'])\n",
    "axs[0].set_title('Chromosomes located numts')\n",
    "axs[0].set_xticklabels(['0','100','320','1000','3 200','10 000'])\n",
    "\n",
    "axs[1].scatter(scaffolds_log10, scaffolds['identity'])\n",
    "axs[1].set_title('Scaffolds located numts')\n",
    "axs[1].set_xticklabels(['0','100','320','1000','3 200','10 000'])"
   ]
  },
  {
   "cell_type": "code",
   "execution_count": 52,
   "id": "0dfc2089",
   "metadata": {},
   "outputs": [
    {
     "data": {
      "text/plain": [
       "g_id\n",
       "AAGW02081404    17431\n",
       "AAGW02081404    16795\n",
       "AAGW02081404    10635\n",
       "GL019271         6323\n",
       "GL019056         6051\n",
       "                ...  \n",
       "AAGW02081404      128\n",
       "GL018706          124\n",
       "AAGW02081404      124\n",
       "AAGW02081404      116\n",
       "AAGW02081404      104\n",
       "Name: length, Length: 101, dtype: int64"
      ]
     },
     "execution_count": 52,
     "metadata": {},
     "output_type": "execute_result"
    }
   ],
   "source": [
    "scaffolds['length'].sort_values(ascending=False)"
   ]
  },
  {
   "cell_type": "code",
   "execution_count": 57,
   "id": "ea70a08e",
   "metadata": {},
   "outputs": [
    {
     "data": {
      "text/plain": [
       "7.098362530537234e-05"
      ]
     },
     "execution_count": 57,
     "metadata": {},
     "output_type": "execute_result"
    }
   ],
   "source": [
    "genome_size=2737490501\n",
    "sum_numt_size=sum(df['length'])\n",
    "sum_numt_size/genome_size"
   ]
  },
  {
   "cell_type": "code",
   "execution_count": 58,
   "id": "0300fb62",
   "metadata": {},
   "outputs": [
    {
     "data": {
      "text/plain": [
       "194317"
      ]
     },
     "execution_count": 58,
     "metadata": {},
     "output_type": "execute_result"
    }
   ],
   "source": [
    "sum_numt_size"
   ]
  },
  {
   "cell_type": "code",
   "execution_count": 86,
   "id": "a3dd9275",
   "metadata": {},
   "outputs": [
    {
     "data": {
      "text/plain": [
       "3                1\n",
       "MT               2\n",
       "GL018925         2\n",
       "GL019149         2\n",
       "GL019383         2\n",
       "21               2\n",
       "GL018862         2\n",
       "11               2\n",
       "16               2\n",
       "2                2\n",
       "20               2\n",
       "13               2\n",
       "GL019311         2\n",
       "14               2\n",
       "19               2\n",
       "AAGW02079688     3\n",
       "17               3\n",
       "GL018748         3\n",
       "12               3\n",
       "7                3\n",
       "GL019047         3\n",
       "GL019010         3\n",
       "GL018817         4\n",
       "9                4\n",
       "18               4\n",
       "AAGW02081594     4\n",
       "GL019308         5\n",
       "GL019465         5\n",
       "15               5\n",
       "GL018741         5\n",
       "GL019326         6\n",
       "GL019086         8\n",
       "GL019235         8\n",
       "4                8\n",
       "GL019525         8\n",
       "GL019056         8\n",
       "GL019271         8\n",
       "GL018706         8\n",
       "GL018786         8\n",
       "GL018826         8\n",
       "GL018700         8\n",
       "GL018705         8\n",
       "GL018992         8\n",
       "GL018744         8\n",
       "1                9\n",
       "AAGW02083714    12\n",
       "AAGW02081404    30\n",
       "dtype: int64"
      ]
     },
     "execution_count": 86,
     "metadata": {},
     "output_type": "execute_result"
    }
   ],
   "source": [
    "#number of numts per chr\n",
    "redundant_g_ids=numts_array['g_id']\n",
    "g_ids=pd.Series(numts_array['g_id'].unique())\n",
    "numt_number=g_ids.apply(lambda g_id:len(redundant_g_ids[g_id]))\n",
    "numt_number.index=g_ids\n",
    "numt_number.sort_values()"
   ]
  },
  {
   "cell_type": "code",
   "execution_count": 138,
   "id": "4c365886",
   "metadata": {},
   "outputs": [
    {
     "data": {
      "text/plain": [
       "g_id\n",
       "MT                  17245\n",
       "1               194850757\n",
       "GL019308            88228\n",
       "AAGW02081594        24576\n",
       "GL019326            81722\n",
       "GL018741          2352391\n",
       "18               69800736\n",
       "9               116251907\n",
       "12              155355395\n",
       "GL018705          6124611\n",
       "17               85008467\n",
       "GL018700         13461802\n",
       "19               57279966\n",
       "GL019465            51331\n",
       "GL018817           947161\n",
       "13              143360832\n",
       "GL018826           922215\n",
       "GL018748          2148096\n",
       "2               174332312\n",
       "7               173684459\n",
       "16               84478945\n",
       "GL018786          1165285\n",
       "GL018706          5787221\n",
       "4                91394100\n",
       "AAGW02081404        27691\n",
       "GL019271            89743\n",
       "GL019056           204766\n",
       "GL019383            64055\n",
       "GL019525            45853\n",
       "GL019149           139324\n",
       "GL018925           588789\n",
       "20               33191332\n",
       "AAGW02083714         5785\n",
       "GL018992           288293\n",
       "AAGW02079688        74942\n",
       "GL019086           291127\n",
       "GL019010           279267\n",
       "15              109054052\n",
       "GL019047           247428\n",
       "GL018862           660382\n",
       "11               87554214\n",
       "GL019311            80506\n",
       "14              163896628\n",
       "3               155691105\n",
       "GL019235           104580\n",
       "21               15578276\n",
       "GL018744          2220855\n",
       "Name: g_size, dtype: int64"
      ]
     },
     "execution_count": 138,
     "metadata": {},
     "output_type": "execute_result"
    }
   ],
   "source": [
    "#length of each chr, scaffold\n",
    "chr_lengths=numts_array['g_size']\n",
    "chr_lengths.index=redundant_g_ids\n",
    "chr_lengths=lengths.drop_duplicates()\n",
    "chr_lengths"
   ]
  },
  {
   "cell_type": "code",
   "execution_count": 139,
   "id": "30c387c9",
   "metadata": {},
   "outputs": [
    {
     "data": {
      "text/plain": [
       "g_id\n",
       "MT              17245\n",
       "1                4680\n",
       "GL019308         4892\n",
       "GL019308         3439\n",
       "AAGW02081594     3040\n",
       "                ...  \n",
       "GL019047          243\n",
       "AAGW02081404      136\n",
       "GL019311          218\n",
       "21                321\n",
       "GL018744          319\n",
       "Name: g_length, Length: 153, dtype: int64"
      ]
     },
     "execution_count": 139,
     "metadata": {},
     "output_type": "execute_result"
    }
   ],
   "source": [
    "numt_lengths=numts_array['g_length']\n",
    "numt_lengths.index=redundant_g_ids\n",
    "numt_lengths"
   ]
  },
  {
   "cell_type": "code",
   "execution_count": 136,
   "id": "e72ac53c",
   "metadata": {},
   "outputs": [],
   "source": [
    "def get_length(g_id):\n",
    "    subvector=numt_lengths[g_id]\n",
    "    if type(subvector) == pd.core.series.Series:\n",
    "        return sum(subvector)\n",
    "    else:\n",
    "        return subvector"
   ]
  },
  {
   "cell_type": "code",
   "execution_count": 151,
   "id": "9191163b",
   "metadata": {},
   "outputs": [
    {
     "data": {
      "text/plain": [
       "MT              17245\n",
       "1                9427\n",
       "GL019308        11402\n",
       "AAGW02081594     7606\n",
       "GL019326         7865\n",
       "GL018741         5664\n",
       "18               2621\n",
       "9                2212\n",
       "12               1003\n",
       "GL018705          834\n",
       "17               1354\n",
       "GL018700          896\n",
       "19                930\n",
       "GL019465         3742\n",
       "GL018817         3248\n",
       "13                477\n",
       "GL018826         5067\n",
       "GL018748         2234\n",
       "2                 598\n",
       "7                1168\n",
       "16                162\n",
       "GL018786          210\n",
       "GL018706          124\n",
       "4                9071\n",
       "AAGW02081404    50811\n",
       "GL019271         6228\n",
       "GL019056         5970\n",
       "GL019383         5979\n",
       "GL019525         3547\n",
       "GL019149         3556\n",
       "GL018925         3573\n",
       "20               1090\n",
       "AAGW02083714      630\n",
       "GL018992          629\n",
       "AAGW02079688     2297\n",
       "GL019086          627\n",
       "GL019010         2421\n",
       "15               2997\n",
       "GL019047         1244\n",
       "GL018862         1324\n",
       "11                806\n",
       "GL019311          864\n",
       "14                450\n",
       "3                 228\n",
       "GL019235          375\n",
       "21                321\n",
       "GL018744          319\n",
       "dtype: int64"
      ]
     },
     "execution_count": 151,
     "metadata": {},
     "output_type": "execute_result"
    }
   ],
   "source": [
    "#lengths of numts per each chr\n",
    "sum_numt_lengths=g_ids.apply(get_length)\n",
    "sum_numt_lengths.index=g_ids\n",
    "sum_numt_lengths"
   ]
  },
  {
   "cell_type": "code",
   "execution_count": 143,
   "id": "5a6c1819",
   "metadata": {},
   "outputs": [
    {
     "data": {
      "text/plain": [
       "(-0.15702889544936804, 0.29183526716174985)"
      ]
     },
     "execution_count": 143,
     "metadata": {},
     "output_type": "execute_result"
    }
   ],
   "source": [
    "pearsonr(chr_lengths, sum_numt_lengths)"
   ]
  },
  {
   "cell_type": "code",
   "execution_count": 146,
   "id": "017e4009",
   "metadata": {},
   "outputs": [
    {
     "data": {
      "text/plain": [
       "3                 0.000146\n",
       "16                0.000192\n",
       "14                0.000275\n",
       "13                0.000333\n",
       "2                 0.000343\n",
       "12                0.000646\n",
       "7                 0.000672\n",
       "11                0.000921\n",
       "17                0.001593\n",
       "19                0.001624\n",
       "9                 0.001903\n",
       "21                0.002061\n",
       "GL018706          0.002143\n",
       "15                0.002748\n",
       "20                0.003284\n",
       "18                0.003755\n",
       "1                 0.004838\n",
       "GL018700          0.006656\n",
       "4                 0.009925\n",
       "GL018705          0.013617\n",
       "GL018744          0.014364\n",
       "GL018786          0.018021\n",
       "GL018748          0.103999\n",
       "GL018862          0.200490\n",
       "GL019086          0.215370\n",
       "GL018992          0.218181\n",
       "GL018741          0.240776\n",
       "GL018817          0.342920\n",
       "GL019235          0.358577\n",
       "GL019047          0.502773\n",
       "GL018826          0.549438\n",
       "GL018925          0.606839\n",
       "GL019010          0.866912\n",
       "GL019311          1.073212\n",
       "GL019149          2.552324\n",
       "GL019056          2.915523\n",
       "AAGW02079688      3.065037\n",
       "GL019271          6.939817\n",
       "GL019465          7.289942\n",
       "GL019525          7.735590\n",
       "GL019383          9.334166\n",
       "GL019326          9.624091\n",
       "AAGW02083714     10.890233\n",
       "GL019308         12.923335\n",
       "AAGW02081594     30.948893\n",
       "MT              100.000000\n",
       "AAGW02081404    183.492832\n",
       "dtype: float64"
      ]
     },
     "execution_count": 146,
     "metadata": {},
     "output_type": "execute_result"
    }
   ],
   "source": [
    "numt_percent=g_ids.apply(lambda g_id:(sum_numt_lengths[g_id]/chr_lengths[g_id])*100)\n",
    "numt_percent.index=g_ids\n",
    "numt_percent.sort_values()"
   ]
  },
  {
   "cell_type": "code",
   "execution_count": 147,
   "id": "44084109",
   "metadata": {},
   "outputs": [
    {
     "data": {
      "text/plain": [
       "(-0.18780883540259108, 0.2061703983848342)"
      ]
     },
     "execution_count": 147,
     "metadata": {},
     "output_type": "execute_result"
    }
   ],
   "source": [
    "pearsonr(chr_lengths, numt_percent)"
   ]
  },
  {
   "cell_type": "code",
   "execution_count": 157,
   "id": "391efb12",
   "metadata": {},
   "outputs": [
    {
     "data": {
      "text/plain": [
       "(-0.24763392217189648, 0.09330228482971926)"
      ]
     },
     "execution_count": 157,
     "metadata": {},
     "output_type": "execute_result"
    }
   ],
   "source": [
    "pearsonr(chr_lengths, numt_number)"
   ]
  },
  {
   "cell_type": "code",
   "execution_count": 159,
   "id": "49486b4a",
   "metadata": {},
   "outputs": [],
   "source": [
    "identities=[chrs['identity'], scaffolds['identity']]"
   ]
  },
  {
   "cell_type": "code",
   "execution_count": 162,
   "id": "766ff315",
   "metadata": {},
   "outputs": [
    {
     "data": {
      "image/png": "[encoded data removed]",
      "text/plain": [
       "<Figure size 432x288 with 1 Axes>"
      ]
     },
     "metadata": {
      "needs_background": "light"
     },
     "output_type": "display_data"
    }
   ],
   "source": [
    "#fig,ax=plt.subplots(1,1)\n",
    "ax=sns.violinplot(data=identities)"
   ]
  },
  {
   "cell_type": "code",
   "execution_count": null,
   "id": "e5304ed5",
   "metadata": {},
   "outputs": [],
   "source": []
  }
 ],
 "metadata": {
  "kernelspec": {
   "display_name": "Python 3",
   "language": "python",
   "name": "python3"
  },
  "language_info": {
   "codemirror_mode": {
    "name": "ipython",
    "version": 3
   },
   "file_extension": ".py",
   "mimetype": "text/x-python",
   "name": "python",
   "nbconvert_exporter": "python",
   "pygments_lexer": "ipython3",
   "version": "3.7.1"
  }
 },
 "nbformat": 4,
 "nbformat_minor": 5
}
