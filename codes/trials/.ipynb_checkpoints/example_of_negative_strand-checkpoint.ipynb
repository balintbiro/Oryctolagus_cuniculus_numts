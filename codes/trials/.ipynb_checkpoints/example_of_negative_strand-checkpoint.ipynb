{
 "cells": [
  {
   "cell_type": "code",
   "execution_count": 1,
   "metadata": {},
   "outputs": [],
   "source": [
    "#importing the required modules\n",
    "import os\n",
    "import time\n",
    "import pandas as pd"
   ]
  },
  {
   "cell_type": "code",
   "execution_count": 2,
   "metadata": {},
   "outputs": [
    {
     "data": {
      "text/plain": [
       "0.008870093027750652"
      ]
     },
     "execution_count": 2,
     "metadata": {},
     "output_type": "execute_result"
    }
   ],
   "source": [
    "#get a merged list for all the informations about alignments\n",
    "start = time.time()\n",
    "features = []\n",
    "with open (r'Z:\\balint\\numt\\Michael\\data/significant_alignments.fasta') as infile:\n",
    "    content = infile.readlines()\n",
    "    for index, line in enumerate(content):\n",
    "        if 'score' in line:\n",
    "            score = int(line.rsplit()[1].split('=')[1])\n",
    "            eg2_value = float(line.rsplit()[2].split('=')[1])\n",
    "            e_value = float(line.rsplit()[3].split('=')[1])\n",
    "            #genomic informations\n",
    "            genomic = content[index + 1]\n",
    "            genomic_id = genomic.rsplit()[1]\n",
    "            genomic_start = int(genomic.rsplit()[2])\n",
    "            genomic_length = int(genomic.rsplit()[3])\n",
    "            genomic_strand = genomic.rsplit()[4]\n",
    "            genomic_size = int(genomic.rsplit()[5])\n",
    "            genomic_sequence = genomic.rsplit()[6]\n",
    "            #mitochondrial informations\n",
    "            mitochondrial = content[index + 2]\n",
    "            mitochondrial_id = mitochondrial.rsplit()[1]\n",
    "            mitochondrial_start = int(mitochondrial.rsplit()[2])\n",
    "            mitochondrial_length = int(mitochondrial.rsplit()[3])\n",
    "            mitochondrial_strand = mitochondrial.rsplit()[4]\n",
    "            mitochondrial_size = int(mitochondrial.rsplit()[5])\n",
    "            mitochondrial_sequence = mitochondrial.rsplit()[6]\n",
    "            features.append([score, eg2_value, e_value, genomic_id, mitochondrial_id, genomic_start,\n",
    "                            mitochondrial_start, genomic_length, mitochondrial_length, genomic_strand,\n",
    "                            mitochondrial_strand, genomic_size, mitochondrial_size, genomic_sequence,\n",
    "                             mitochondrial_sequence])\n",
    "end = time.time()\n",
    "runtime = (end - start) / 60#minutes\n",
    "runtime"
   ]
  },
  {
   "cell_type": "code",
   "execution_count": 3,
   "metadata": {},
   "outputs": [],
   "source": [
    "#create dataframe and name columns\n",
    "alignment_df = pd.DataFrame(features)\n",
    "alignment_df.columns = ['score', 'eg2_value', 'e_value', 'g_id', 'mt_id', 'g_start', 'mt_start',\n",
    "                        'g_length', 'mt_length', 'g_strand', 'mt_strand', 'g_size', 'mt_size',\n",
    "                        'g_sequence', 'mt_sequence']"
   ]
  },
  {
   "cell_type": "code",
   "execution_count": 4,
   "metadata": {},
   "outputs": [
    {
     "data": {
      "text/html": [
       "<div>\n",
       "<style scoped>\n",
       "    .dataframe tbody tr th:only-of-type {\n",
       "        vertical-align: middle;\n",
       "    }\n",
       "\n",
       "    .dataframe tbody tr th {\n",
       "        vertical-align: top;\n",
       "    }\n",
       "\n",
       "    .dataframe thead th {\n",
       "        text-align: right;\n",
       "    }\n",
       "</style>\n",
       "<table border=\"1\" class=\"dataframe\">\n",
       "  <thead>\n",
       "    <tr style=\"text-align: right;\">\n",
       "      <th></th>\n",
       "      <th>score</th>\n",
       "      <th>eg2_value</th>\n",
       "      <th>e_value</th>\n",
       "      <th>g_id</th>\n",
       "      <th>mt_id</th>\n",
       "      <th>g_start</th>\n",
       "      <th>mt_start</th>\n",
       "      <th>g_length</th>\n",
       "      <th>mt_length</th>\n",
       "      <th>g_strand</th>\n",
       "      <th>mt_strand</th>\n",
       "      <th>g_size</th>\n",
       "      <th>mt_size</th>\n",
       "      <th>g_sequence</th>\n",
       "      <th>mt_sequence</th>\n",
       "    </tr>\n",
       "  </thead>\n",
       "  <tbody>\n",
       "    <tr>\n",
       "      <th>0</th>\n",
       "      <td>17245</td>\n",
       "      <td>0.0</td>\n",
       "      <td>0.0</td>\n",
       "      <td>MT</td>\n",
       "      <td>MT</td>\n",
       "      <td>0</td>\n",
       "      <td>0</td>\n",
       "      <td>17245</td>\n",
       "      <td>17245</td>\n",
       "      <td>+</td>\n",
       "      <td>+</td>\n",
       "      <td>17245</td>\n",
       "      <td>34490</td>\n",
       "      <td>GTTAATGTAGCTTAACAACAAAGCAAAGCACTGAAAATGCTTAGAT...</td>\n",
       "      <td>GTTAATGTAGCTTAACAACAAAGCAAAGCACTGAAAATGCTTAGAT...</td>\n",
       "    </tr>\n",
       "    <tr>\n",
       "      <th>1</th>\n",
       "      <td>17245</td>\n",
       "      <td>0.0</td>\n",
       "      <td>0.0</td>\n",
       "      <td>MT</td>\n",
       "      <td>MT</td>\n",
       "      <td>0</td>\n",
       "      <td>17245</td>\n",
       "      <td>17245</td>\n",
       "      <td>17245</td>\n",
       "      <td>+</td>\n",
       "      <td>+</td>\n",
       "      <td>17245</td>\n",
       "      <td>34490</td>\n",
       "      <td>GTTAATGTAGCTTAACAACAAAGCAAAGCACTGAAAATGCTTAGAT...</td>\n",
       "      <td>GTTAATGTAGCTTAACAACAAAGCAAAGCACTGAAAATGCTTAGAT...</td>\n",
       "    </tr>\n",
       "    <tr>\n",
       "      <th>2</th>\n",
       "      <td>3398</td>\n",
       "      <td>0.0</td>\n",
       "      <td>0.0</td>\n",
       "      <td>1</td>\n",
       "      <td>MT</td>\n",
       "      <td>114731432</td>\n",
       "      <td>6976</td>\n",
       "      <td>4680</td>\n",
       "      <td>4681</td>\n",
       "      <td>+</td>\n",
       "      <td>+</td>\n",
       "      <td>194850757</td>\n",
       "      <td>34490</td>\n",
       "      <td>taGTAAAATTATTACATAACTTTGTCGAAGTTAATTTATAGGTTCA...</td>\n",
       "      <td>TAGTAAAACCATTACATAACTTTGTCGAAGTTAATTTATAGGTTCA...</td>\n",
       "    </tr>\n",
       "    <tr>\n",
       "      <th>3</th>\n",
       "      <td>3398</td>\n",
       "      <td>0.0</td>\n",
       "      <td>0.0</td>\n",
       "      <td>1</td>\n",
       "      <td>MT</td>\n",
       "      <td>114731432</td>\n",
       "      <td>24221</td>\n",
       "      <td>4680</td>\n",
       "      <td>4681</td>\n",
       "      <td>+</td>\n",
       "      <td>+</td>\n",
       "      <td>194850757</td>\n",
       "      <td>34490</td>\n",
       "      <td>taGTAAAATTATTACATAACTTTGTCGAAGTTAATTTATAGGTTCA...</td>\n",
       "      <td>TAGTAAAACCATTACATAACTTTGTCGAAGTTAATTTATAGGTTCA...</td>\n",
       "    </tr>\n",
       "    <tr>\n",
       "      <th>4</th>\n",
       "      <td>3120</td>\n",
       "      <td>0.0</td>\n",
       "      <td>0.0</td>\n",
       "      <td>GL019308</td>\n",
       "      <td>MT</td>\n",
       "      <td>67160</td>\n",
       "      <td>883</td>\n",
       "      <td>4892</td>\n",
       "      <td>4945</td>\n",
       "      <td>+</td>\n",
       "      <td>+</td>\n",
       "      <td>88228</td>\n",
       "      <td>34490</td>\n",
       "      <td>CAAGGCCATGAAGCATGCACACACTGCCCATCGCTCTCCTCAAACA...</td>\n",
       "      <td>CAAGGCCATGAAGCACGCACACACCGCCCGTCACCCTCCTCAAGTG...</td>\n",
       "    </tr>\n",
       "  </tbody>\n",
       "</table>\n",
       "</div>"
      ],
      "text/plain": [
       "   score  eg2_value  e_value      g_id mt_id    g_start  mt_start  g_length  \\\n",
       "0  17245        0.0      0.0        MT    MT          0         0     17245   \n",
       "1  17245        0.0      0.0        MT    MT          0     17245     17245   \n",
       "2   3398        0.0      0.0         1    MT  114731432      6976      4680   \n",
       "3   3398        0.0      0.0         1    MT  114731432     24221      4680   \n",
       "4   3120        0.0      0.0  GL019308    MT      67160       883      4892   \n",
       "\n",
       "   mt_length g_strand mt_strand     g_size  mt_size  \\\n",
       "0      17245        +         +      17245    34490   \n",
       "1      17245        +         +      17245    34490   \n",
       "2       4681        +         +  194850757    34490   \n",
       "3       4681        +         +  194850757    34490   \n",
       "4       4945        +         +      88228    34490   \n",
       "\n",
       "                                          g_sequence  \\\n",
       "0  GTTAATGTAGCTTAACAACAAAGCAAAGCACTGAAAATGCTTAGAT...   \n",
       "1  GTTAATGTAGCTTAACAACAAAGCAAAGCACTGAAAATGCTTAGAT...   \n",
       "2  taGTAAAATTATTACATAACTTTGTCGAAGTTAATTTATAGGTTCA...   \n",
       "3  taGTAAAATTATTACATAACTTTGTCGAAGTTAATTTATAGGTTCA...   \n",
       "4  CAAGGCCATGAAGCATGCACACACTGCCCATCGCTCTCCTCAAACA...   \n",
       "\n",
       "                                         mt_sequence  \n",
       "0  GTTAATGTAGCTTAACAACAAAGCAAAGCACTGAAAATGCTTAGAT...  \n",
       "1  GTTAATGTAGCTTAACAACAAAGCAAAGCACTGAAAATGCTTAGAT...  \n",
       "2  TAGTAAAACCATTACATAACTTTGTCGAAGTTAATTTATAGGTTCA...  \n",
       "3  TAGTAAAACCATTACATAACTTTGTCGAAGTTAATTTATAGGTTCA...  \n",
       "4  CAAGGCCATGAAGCACGCACACACCGCCCGTCACCCTCCTCAAGTG...  "
      ]
     },
     "execution_count": 4,
     "metadata": {},
     "output_type": "execute_result"
    }
   ],
   "source": [
    "alignment_df.head()"
   ]
  },
  {
   "cell_type": "code",
   "execution_count": 16,
   "metadata": {},
   "outputs": [
    {
     "data": {
      "text/plain": [
       "17245"
      ]
     },
     "execution_count": 16,
     "metadata": {},
     "output_type": "execute_result"
    }
   ],
   "source": [
    "#get the full sequence of the mitochondria\n",
    "mt_seq = ''\n",
    "with open (r'Z:\\balint\\numt\\Michael\\data\\genome_parts_in_fasta/MT.fasta') as infile:\n",
    "    content = infile.readlines()\n",
    "    for line in content:\n",
    "        if '>' not in line:\n",
    "            mt_seq = line\n",
    "len(mt_seq)"
   ]
  },
  {
   "cell_type": "markdown",
   "metadata": {},
   "source": [
    "The original problem was that in the LASTAL output if the aligned sequence is located on the '-' strand, than the indexing of that sequence part follows a strange logic. Next cells are explaining the steps."
   ]
  },
  {
   "cell_type": "code",
   "execution_count": 6,
   "metadata": {
    "scrolled": true
   },
   "outputs": [
    {
     "data": {
      "text/html": [
       "<div>\n",
       "<style scoped>\n",
       "    .dataframe tbody tr th:only-of-type {\n",
       "        vertical-align: middle;\n",
       "    }\n",
       "\n",
       "    .dataframe tbody tr th {\n",
       "        vertical-align: top;\n",
       "    }\n",
       "\n",
       "    .dataframe thead th {\n",
       "        text-align: right;\n",
       "    }\n",
       "</style>\n",
       "<table border=\"1\" class=\"dataframe\">\n",
       "  <thead>\n",
       "    <tr style=\"text-align: right;\">\n",
       "      <th></th>\n",
       "      <th>score</th>\n",
       "      <th>eg2_value</th>\n",
       "      <th>e_value</th>\n",
       "      <th>g_id</th>\n",
       "      <th>mt_id</th>\n",
       "      <th>g_start</th>\n",
       "      <th>mt_start</th>\n",
       "      <th>g_length</th>\n",
       "      <th>mt_length</th>\n",
       "      <th>g_strand</th>\n",
       "      <th>mt_strand</th>\n",
       "      <th>g_size</th>\n",
       "      <th>mt_size</th>\n",
       "      <th>g_sequence</th>\n",
       "      <th>mt_sequence</th>\n",
       "    </tr>\n",
       "  </thead>\n",
       "  <tbody>\n",
       "    <tr>\n",
       "      <th>289</th>\n",
       "      <td>77</td>\n",
       "      <td>7.500000e-20</td>\n",
       "      <td>1.300000e-23</td>\n",
       "      <td>AAGW02081404</td>\n",
       "      <td>MT</td>\n",
       "      <td>17858</td>\n",
       "      <td>882</td>\n",
       "      <td>136</td>\n",
       "      <td>140</td>\n",
       "      <td>+</td>\n",
       "      <td>-</td>\n",
       "      <td>27691</td>\n",
       "      <td>34490</td>\n",
       "      <td>GTACGTgcgtacgtgcgtacgggtgtacgggtgtacgggtgtacgg...</td>\n",
       "      <td>gtgcgtacgggtgtacgtgcgtgcgtacgggtgtacgtgcgtgcgt...</td>\n",
       "    </tr>\n",
       "  </tbody>\n",
       "</table>\n",
       "</div>"
      ],
      "text/plain": [
       "     score     eg2_value       e_value          g_id mt_id  g_start  mt_start  \\\n",
       "289     77  7.500000e-20  1.300000e-23  AAGW02081404    MT    17858       882   \n",
       "\n",
       "     g_length  mt_length g_strand mt_strand  g_size  mt_size  \\\n",
       "289       136        140        +         -   27691    34490   \n",
       "\n",
       "                                            g_sequence  \\\n",
       "289  GTACGTgcgtacgtgcgtacgggtgtacgggtgtacgggtgtacgg...   \n",
       "\n",
       "                                           mt_sequence  \n",
       "289  gtgcgtacgggtgtacgtgcgtgcgtacgggtgtacgtgcgtgcgt...  "
      ]
     },
     "execution_count": 6,
     "metadata": {},
     "output_type": "execute_result"
    }
   ],
   "source": [
    "mask = alignment_df['g_id'] == 'AAGW02081404'\n",
    "alignment_df[mask]\n",
    "mask1 = alignment_df['mt_start'] == 882\n",
    "mt_sequences = alignment_df[mask1]['mt_sequence'].tolist()\n",
    "alignment_df[mask1]"
   ]
  },
  {
   "cell_type": "code",
   "execution_count": 18,
   "metadata": {},
   "outputs": [
    {
     "data": {
      "text/plain": [
       "'GTGCGTACGGGTGTACGTGCGTGCGTACGGGTGTACGTGCGTGCGTACGGGTGTACGTGCGTGCGTACGGGTGTACGTGCGTGCGTACGGGTGTACGTGCGTGCGTACGGGTGTACGTGCGTGCGTACGGGTGTACGTGC'"
      ]
     },
     "execution_count": 18,
     "metadata": {},
     "output_type": "execute_result"
    }
   ],
   "source": [
    "mt_alignment = mt_sequences[0].upper()\n",
    "mt_alignment"
   ]
  },
  {
   "cell_type": "code",
   "execution_count": 8,
   "metadata": {},
   "outputs": [],
   "source": [
    "complement_dictionary = {'A':'T',\n",
    "             'C':'G',\n",
    "             'T':'A',\n",
    "             'G':'C'}"
   ]
  },
  {
   "cell_type": "code",
   "execution_count": 20,
   "metadata": {},
   "outputs": [
    {
     "data": {
      "text/plain": [
       "16223"
      ]
     },
     "execution_count": 20,
     "metadata": {},
     "output_type": "execute_result"
    }
   ],
   "source": [
    "#create the reverse complement of the sequence\n",
    "complement = ''\n",
    "for base in mt_alignment:\n",
    "    complement += complement_dictionary[base]\n",
    "rc_mt_alignment = complement[::-1]\n",
    "#the reverse complement is present in the full mtDNA sequence from the 16223th nucleotide\n",
    "mt_full_seq.find(rc_mt_alignment)"
   ]
  },
  {
   "cell_type": "markdown",
   "metadata": {},
   "source": [
    "So the reverse complement of the LASTAL output is located in the mtDNA from the 16223th nucleotide. It is a good case because there are no gaps or mismatches so a simple string searching method does the work. But how can we get the indexing from the LASTAL output? The next steps gonna show us how to locate the mt alignment in mtDNA and also gonna give us a hint about how to find the falnkings in the mtDNA."
   ]
  },
  {
   "cell_type": "code",
   "execution_count": 10,
   "metadata": {},
   "outputs": [
    {
     "data": {
      "text/plain": [
       "289    16223\n",
       "dtype: int64"
      ]
     },
     "execution_count": 10,
     "metadata": {},
     "output_type": "execute_result"
    }
   ],
   "source": [
    "#this is how we can get back 16223 using the mitochondrial start position and length given by LASTAL\n",
    "(len(mt_full_seq) - alignment_df[mask1]['mt_start']) - alignment_df[mask1]['mt_length']"
   ]
  },
  {
   "cell_type": "code",
   "execution_count": 11,
   "metadata": {},
   "outputs": [
    {
     "data": {
      "text/plain": [
       "16223"
      ]
     },
     "execution_count": 11,
     "metadata": {},
     "output_type": "execute_result"
    }
   ],
   "source": [
    "#this is how we can get back 16223 using the mitochondrial start position and length given by LASTAL\n",
    "(17245-882) - 140"
   ]
  },
  {
   "cell_type": "markdown",
   "metadata": {},
   "source": [
    "In the next steps we will see how to understand the genomic coordinates and how to locate the genomic alignment."
   ]
  },
  {
   "cell_type": "code",
   "execution_count": 21,
   "metadata": {},
   "outputs": [],
   "source": [
    "#get the scaffold\n",
    "g_seq = ''\n",
    "with open (r'Z:\\balint\\numt\\Michael\\data\\genome_parts_in_fasta/AAGW02081404.fasta') as infile:\n",
    "    content = infile.readlines()\n",
    "    for line in content:\n",
    "        if '>' not in line:\n",
    "            g_seq = line"
   ]
  },
  {
   "cell_type": "code",
   "execution_count": 35,
   "metadata": {},
   "outputs": [
    {
     "data": {
      "text/plain": [
       "'GTACGTGCGTACGTGCGTACGGGTGTACGGGTGTACGGGTGTACGGGTGTACGGGCGTACGGGTGTACGGGTGTACGTGCGTGCGTACGGGTGTACGTGT'"
      ]
     },
     "execution_count": 35,
     "metadata": {},
     "output_type": "execute_result"
    }
   ],
   "source": [
    "# get the genomic alignment\n",
    "g_alignment = alignment_df[mask1]['g_sequence'].tolist()[0]\n",
    "g_alignment = g_alignment.upper()[:100]\n",
    "g_alignment"
   ]
  },
  {
   "cell_type": "code",
   "execution_count": 41,
   "metadata": {},
   "outputs": [
    {
     "data": {
      "text/plain": [
       "True"
      ]
     },
     "execution_count": 41,
     "metadata": {},
     "output_type": "execute_result"
    }
   ],
   "source": [
    "#the genomic alignment is present in the genomic sequence\n",
    "g_alignment in g_seq"
   ]
  },
  {
   "cell_type": "code",
   "execution_count": 39,
   "metadata": {},
   "outputs": [
    {
     "data": {
      "text/plain": [
       "17858"
      ]
     },
     "execution_count": 39,
     "metadata": {},
     "output_type": "execute_result"
    }
   ],
   "source": [
    "g_seq.find(g_alignment)"
   ]
  },
  {
   "cell_type": "code",
   "execution_count": 43,
   "metadata": {},
   "outputs": [
    {
     "data": {
      "text/plain": [
       "289    True\n",
       "Name: g_start, dtype: bool"
      ]
     },
     "execution_count": 43,
     "metadata": {},
     "output_type": "execute_result"
    }
   ],
   "source": [
    "alignment_df[mask1]['g_start'] == g_seq.find(g_alignment)"
   ]
  },
  {
   "cell_type": "code",
   "execution_count": null,
   "metadata": {},
   "outputs": [],
   "source": []
  }
 ],
 "metadata": {
  "kernelspec": {
   "display_name": "Python 3",
   "language": "python",
   "name": "python3"
  },
  "language_info": {
   "codemirror_mode": {
    "name": "ipython",
    "version": 3
   },
   "file_extension": ".py",
   "mimetype": "text/x-python",
   "name": "python",
   "nbconvert_exporter": "python",
   "pygments_lexer": "ipython3",
   "version": "3.7.1"
  }
 },
 "nbformat": 4,
 "nbformat_minor": 2
}
