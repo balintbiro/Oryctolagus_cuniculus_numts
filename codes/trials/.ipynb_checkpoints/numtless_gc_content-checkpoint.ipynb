{
 "cells": [
  {
   "cell_type": "code",
   "execution_count": 3,
   "id": "d516d6d5",
   "metadata": {},
   "outputs": [],
   "source": [
    "#importing the required modules\n",
    "import os\n",
    "import numpy as np\n",
    "import pandas as pd"
   ]
  },
  {
   "cell_type": "code",
   "execution_count": 15,
   "id": "1bbb90ce",
   "metadata": {},
   "outputs": [],
   "source": [
    "sample_dir = os.path.join(r'Z:\\balint\\numt\\Michael\\data\\numtless_sequences/')"
   ]
  },
  {
   "cell_type": "code",
   "execution_count": 4,
   "id": "c6907506",
   "metadata": {},
   "outputs": [
    {
     "data": {
      "text/html": [
       "<div>\n",
       "<style scoped>\n",
       "    .dataframe tbody tr th:only-of-type {\n",
       "        vertical-align: middle;\n",
       "    }\n",
       "\n",
       "    .dataframe tbody tr th {\n",
       "        vertical-align: top;\n",
       "    }\n",
       "\n",
       "    .dataframe thead th {\n",
       "        text-align: right;\n",
       "    }\n",
       "</style>\n",
       "<table border=\"1\" class=\"dataframe\">\n",
       "  <thead>\n",
       "    <tr style=\"text-align: right;\">\n",
       "      <th></th>\n",
       "      <th>score</th>\n",
       "      <th>eg2_value</th>\n",
       "      <th>e_value</th>\n",
       "      <th>g_id</th>\n",
       "      <th>g_start</th>\n",
       "      <th>mt_start</th>\n",
       "      <th>g_length</th>\n",
       "      <th>mt_length</th>\n",
       "      <th>g_strand</th>\n",
       "      <th>mt_strand</th>\n",
       "      <th>g_size</th>\n",
       "      <th>g_sequence</th>\n",
       "      <th>mt_sequence</th>\n",
       "      <th>g_up_flanking</th>\n",
       "      <th>g_down_flanking</th>\n",
       "      <th>mt_up_flanking (if strand is negative, the coordinates are corrected)</th>\n",
       "      <th>mt_down_flanking (if strand is negative, the coordinates are corrected)</th>\n",
       "      <th>ensembl_gene_id</th>\n",
       "      <th>ensembl_description</th>\n",
       "    </tr>\n",
       "  </thead>\n",
       "  <tbody>\n",
       "    <tr>\n",
       "      <th>0</th>\n",
       "      <td>17245</td>\n",
       "      <td>0.0</td>\n",
       "      <td>0.0</td>\n",
       "      <td>MT</td>\n",
       "      <td>0</td>\n",
       "      <td>0</td>\n",
       "      <td>17245</td>\n",
       "      <td>17245</td>\n",
       "      <td>+</td>\n",
       "      <td>+</td>\n",
       "      <td>17245</td>\n",
       "      <td>GTTAATGTAGCTTAACAACAAAGCAAAGCACTGAAAATGCTTAGAT...</td>\n",
       "      <td>GTTAATGTAGCTTAACAACAAAGCAAAGCACTGAAAATGCTTAGAT...</td>\n",
       "      <td>NaN</td>\n",
       "      <td>NaN</td>\n",
       "      <td>TACAAATTGTATAATATTTGGACTAAACCCCCTTTCCCACCCCAAG...</td>\n",
       "      <td>GTTAATGTAGCTTAACAACAAAGCAAAGCACTGAAAATGCTTAGAT...</td>\n",
       "      <td>ENSOCUG00000029081</td>\n",
       "      <td>NaN</td>\n",
       "    </tr>\n",
       "    <tr>\n",
       "      <th>1</th>\n",
       "      <td>3398</td>\n",
       "      <td>0.0</td>\n",
       "      <td>0.0</td>\n",
       "      <td>1</td>\n",
       "      <td>114731432</td>\n",
       "      <td>6976</td>\n",
       "      <td>4680</td>\n",
       "      <td>4681</td>\n",
       "      <td>+</td>\n",
       "      <td>+</td>\n",
       "      <td>194850757</td>\n",
       "      <td>taGTAAAATTATTACATAACTTTGTCGAAGTTAATTTATAGGTTCA...</td>\n",
       "      <td>TAGTAAAACCATTACATAACTTTGTCGAAGTTAATTTATAGGTTCA...</td>\n",
       "      <td>ACAAAAGACTCTGAATAGCCAAAGCGATCCTGAACAAGAAAAATCA...</td>\n",
       "      <td>TATATATATTTATATATATATGTATATATGTACATATATATAACTA...</td>\n",
       "      <td>CCTTCGCCTCAAAACGAGAAGTAGAGACTATTGAACTAACAACCAC...</td>\n",
       "      <td>AACTGCTAATTCATGCTCCCATGTCTAACCCCATGGCTTTCTCAAC...</td>\n",
       "      <td>ENSOCUG00000006104</td>\n",
       "      <td>cilia and flagella associated protein 300 [Sou...</td>\n",
       "    </tr>\n",
       "    <tr>\n",
       "      <th>2</th>\n",
       "      <td>3120</td>\n",
       "      <td>0.0</td>\n",
       "      <td>0.0</td>\n",
       "      <td>GL019308</td>\n",
       "      <td>67160</td>\n",
       "      <td>883</td>\n",
       "      <td>4892</td>\n",
       "      <td>4945</td>\n",
       "      <td>+</td>\n",
       "      <td>+</td>\n",
       "      <td>88228</td>\n",
       "      <td>CAAGGCCATGAAGCATGCACACACTGCCCATCGCTCTCCTCAAACA...</td>\n",
       "      <td>CAAGGCCATGAAGCACGCACACACCGCCCGTCACCCTCCTCAAGTG...</td>\n",
       "      <td>GATAAACCCCGATAAACTTTACCACTCTTTGCCAACTCAGCCTCTA...</td>\n",
       "      <td>ATGAAGGGGCAAAGAGTAATTTTACAGTCGAGAGGGCTAGCAGTCA...</td>\n",
       "      <td>TACCGCCATCTTCAGCGAACCCTAAAAAGGAGCAAAAGTAAGCTCA...</td>\n",
       "      <td>TAGGGGCTATTAACTTTATTACAACTATTATTAATATGAAAGCCCC...</td>\n",
       "      <td>ENSOCUG00000031196</td>\n",
       "      <td>NaN</td>\n",
       "    </tr>\n",
       "    <tr>\n",
       "      <th>3</th>\n",
       "      <td>1888</td>\n",
       "      <td>0.0</td>\n",
       "      <td>0.0</td>\n",
       "      <td>GL019308</td>\n",
       "      <td>62527</td>\n",
       "      <td>12805</td>\n",
       "      <td>3439</td>\n",
       "      <td>3462</td>\n",
       "      <td>+</td>\n",
       "      <td>+</td>\n",
       "      <td>88228</td>\n",
       "      <td>AATTATTCATAGCCTCAATGATGAACAAGACATCCAAAAAACAGGA...</td>\n",
       "      <td>AATTATTCACAGCCTcaaTGATGAACAGGATATCCGAAAGATAGGC...</td>\n",
       "      <td>GTAGGAATTATATCCTTCCTCCTCATCGGCTGATGGCATGGCCAAG...</td>\n",
       "      <td>ACGTATACATGAGTTGTTCTTACATAATTGAATATACCTGCAATGC...</td>\n",
       "      <td>TGCCTAGGCGCAATCACTACCTTATTCACAGCCCTATGTGCCCTCA...</td>\n",
       "      <td>GTACACCCGTACGCACGCACGTACACCCGTACGCACGCACGTACAC...</td>\n",
       "      <td>ENSOCUG00000037635</td>\n",
       "      <td>NaN</td>\n",
       "    </tr>\n",
       "    <tr>\n",
       "      <th>4</th>\n",
       "      <td>1824</td>\n",
       "      <td>0.0</td>\n",
       "      <td>0.0</td>\n",
       "      <td>AAGW02081594</td>\n",
       "      <td>14016</td>\n",
       "      <td>6061</td>\n",
       "      <td>3040</td>\n",
       "      <td>3073</td>\n",
       "      <td>+</td>\n",
       "      <td>+</td>\n",
       "      <td>24576</td>\n",
       "      <td>TTCTTTGGACACCCTGAGGTATATATTCTTATCCTTCCAGGATTCG...</td>\n",
       "      <td>TTTTTCGGGCACCCCGAAGTATATATTCTTATTCTTCCAGGATTTG...</td>\n",
       "      <td>GACATGTCAAAGGAACGCAGAAGCCAGCTTGAAAAAGTCCTCAACA...</td>\n",
       "      <td>TGAAATAGCTATCACTATTCAGGTATGCCACTATTCTTCTAGGCAT...</td>\n",
       "      <td>ATATGAAAGCCCCTGCAATATCTCAATATCAAACCCCCTTATTCGT...</td>\n",
       "      <td>ATTCTCCTAGGTATCTATTTTACCCTACTTCAAGCATCGGAGTATT...</td>\n",
       "      <td>NaN</td>\n",
       "      <td>NaN</td>\n",
       "    </tr>\n",
       "  </tbody>\n",
       "</table>\n",
       "</div>"
      ],
      "text/plain": [
       "   score  eg2_value  e_value          g_id    g_start  mt_start  g_length  \\\n",
       "0  17245        0.0      0.0            MT          0         0     17245   \n",
       "1   3398        0.0      0.0             1  114731432      6976      4680   \n",
       "2   3120        0.0      0.0      GL019308      67160       883      4892   \n",
       "3   1888        0.0      0.0      GL019308      62527     12805      3439   \n",
       "4   1824        0.0      0.0  AAGW02081594      14016      6061      3040   \n",
       "\n",
       "   mt_length g_strand mt_strand     g_size  \\\n",
       "0      17245        +         +      17245   \n",
       "1       4681        +         +  194850757   \n",
       "2       4945        +         +      88228   \n",
       "3       3462        +         +      88228   \n",
       "4       3073        +         +      24576   \n",
       "\n",
       "                                          g_sequence  \\\n",
       "0  GTTAATGTAGCTTAACAACAAAGCAAAGCACTGAAAATGCTTAGAT...   \n",
       "1  taGTAAAATTATTACATAACTTTGTCGAAGTTAATTTATAGGTTCA...   \n",
       "2  CAAGGCCATGAAGCATGCACACACTGCCCATCGCTCTCCTCAAACA...   \n",
       "3  AATTATTCATAGCCTCAATGATGAACAAGACATCCAAAAAACAGGA...   \n",
       "4  TTCTTTGGACACCCTGAGGTATATATTCTTATCCTTCCAGGATTCG...   \n",
       "\n",
       "                                         mt_sequence  \\\n",
       "0  GTTAATGTAGCTTAACAACAAAGCAAAGCACTGAAAATGCTTAGAT...   \n",
       "1  TAGTAAAACCATTACATAACTTTGTCGAAGTTAATTTATAGGTTCA...   \n",
       "2  CAAGGCCATGAAGCACGCACACACCGCCCGTCACCCTCCTCAAGTG...   \n",
       "3  AATTATTCACAGCCTcaaTGATGAACAGGATATCCGAAAGATAGGC...   \n",
       "4  TTTTTCGGGCACCCCGAAGTATATATTCTTATTCTTCCAGGATTTG...   \n",
       "\n",
       "                                       g_up_flanking  \\\n",
       "0                                                NaN   \n",
       "1  ACAAAAGACTCTGAATAGCCAAAGCGATCCTGAACAAGAAAAATCA...   \n",
       "2  GATAAACCCCGATAAACTTTACCACTCTTTGCCAACTCAGCCTCTA...   \n",
       "3  GTAGGAATTATATCCTTCCTCCTCATCGGCTGATGGCATGGCCAAG...   \n",
       "4  GACATGTCAAAGGAACGCAGAAGCCAGCTTGAAAAAGTCCTCAACA...   \n",
       "\n",
       "                                     g_down_flanking  \\\n",
       "0                                                NaN   \n",
       "1  TATATATATTTATATATATATGTATATATGTACATATATATAACTA...   \n",
       "2  ATGAAGGGGCAAAGAGTAATTTTACAGTCGAGAGGGCTAGCAGTCA...   \n",
       "3  ACGTATACATGAGTTGTTCTTACATAATTGAATATACCTGCAATGC...   \n",
       "4  TGAAATAGCTATCACTATTCAGGTATGCCACTATTCTTCTAGGCAT...   \n",
       "\n",
       "  mt_up_flanking (if strand is negative, the coordinates are corrected)  \\\n",
       "0  TACAAATTGTATAATATTTGGACTAAACCCCCTTTCCCACCCCAAG...                      \n",
       "1  CCTTCGCCTCAAAACGAGAAGTAGAGACTATTGAACTAACAACCAC...                      \n",
       "2  TACCGCCATCTTCAGCGAACCCTAAAAAGGAGCAAAAGTAAGCTCA...                      \n",
       "3  TGCCTAGGCGCAATCACTACCTTATTCACAGCCCTATGTGCCCTCA...                      \n",
       "4  ATATGAAAGCCCCTGCAATATCTCAATATCAAACCCCCTTATTCGT...                      \n",
       "\n",
       "  mt_down_flanking (if strand is negative, the coordinates are corrected)  \\\n",
       "0  GTTAATGTAGCTTAACAACAAAGCAAAGCACTGAAAATGCTTAGAT...                        \n",
       "1  AACTGCTAATTCATGCTCCCATGTCTAACCCCATGGCTTTCTCAAC...                        \n",
       "2  TAGGGGCTATTAACTTTATTACAACTATTATTAATATGAAAGCCCC...                        \n",
       "3  GTACACCCGTACGCACGCACGTACACCCGTACGCACGCACGTACAC...                        \n",
       "4  ATTCTCCTAGGTATCTATTTTACCCTACTTCAAGCATCGGAGTATT...                        \n",
       "\n",
       "      ensembl_gene_id                                ensembl_description  \n",
       "0  ENSOCUG00000029081                                                NaN  \n",
       "1  ENSOCUG00000006104  cilia and flagella associated protein 300 [Sou...  \n",
       "2  ENSOCUG00000031196                                                NaN  \n",
       "3  ENSOCUG00000037635                                                NaN  \n",
       "4                 NaN                                                NaN  "
      ]
     },
     "execution_count": 4,
     "metadata": {},
     "output_type": "execute_result"
    }
   ],
   "source": [
    "#read pandas dataframe\n",
    "numt_array = pd.read_csv(r'Z:/balint/numt/Michael/data/numt_master_array.csv')\n",
    "numt_array.head()"
   ]
  },
  {
   "cell_type": "code",
   "execution_count": 7,
   "id": "a2c31a11",
   "metadata": {},
   "outputs": [
    {
     "data": {
      "text/plain": [
       "g_id\n",
       "MT               1\n",
       "1                9\n",
       "GL019308         5\n",
       "GL019308         5\n",
       "AAGW02081594     4\n",
       "                ..\n",
       "GL019047         3\n",
       "AAGW02081404    30\n",
       "GL019311         2\n",
       "21               1\n",
       "GL018744         1\n",
       "Name: g_id, Length: 153, dtype: int64"
      ]
     },
     "execution_count": 7,
     "metadata": {},
     "output_type": "execute_result"
    }
   ],
   "source": [
    "#get starts\n",
    "g_ids = numt_array['g_id']\n",
    "numts_per_chr = g_ids.apply(lambda x : len(numt_array.loc[numt_array['g_id'] == x]))\n",
    "numts_per_chr.index = g_ids\n",
    "numts_per_chr"
   ]
  },
  {
   "cell_type": "code",
   "execution_count": 8,
   "id": "ebcff657",
   "metadata": {},
   "outputs": [
    {
     "data": {
      "text/plain": [
       "0                MT\n",
       "1                 1\n",
       "2          GL019308\n",
       "3          GL019308\n",
       "4      AAGW02081594\n",
       "           ...     \n",
       "148        GL019047\n",
       "149    AAGW02081404\n",
       "150        GL019311\n",
       "151              21\n",
       "152        GL018744\n",
       "Name: g_id, Length: 153, dtype: object"
      ]
     },
     "execution_count": 8,
     "metadata": {},
     "output_type": "execute_result"
    }
   ],
   "source": [
    "g_ids"
   ]
  },
  {
   "cell_type": "code",
   "execution_count": 13,
   "id": "d4e3663e",
   "metadata": {},
   "outputs": [],
   "source": [
    "#create dictionary from the numtless sequences\n",
    "def create_dictionary(g_id):\n",
    "    global numtless_sequences\n",
    "    filename = '%s.fasta' % g_id\n",
    "    sequence = ''\n",
    "    with open (sample_dir + filename) as infile:\n",
    "        content = infile.readlines()\n",
    "        try:\n",
    "            sequence = content[1]\n",
    "        except IndexError:\n",
    "            pass\n",
    "    numtless_sequences[g_id] = sequence"
   ]
  },
  {
   "cell_type": "code",
   "execution_count": 17,
   "id": "0e80a973",
   "metadata": {},
   "outputs": [
    {
     "name": "stderr",
     "output_type": "stream",
     "text": [
      "C:\\Users\\pytho\\Anaconda3\\lib\\site-packages\\ipykernel_launcher.py:2: DeprecationWarning: The default dtype for empty Series will be 'object' instead of 'float64' in a future version. Specify a dtype explicitly to silence this warning.\n",
      "  \n"
     ]
    },
    {
     "ename": "KeyboardInterrupt",
     "evalue": "",
     "output_type": "error",
     "traceback": [
      "\u001b[1;31m---------------------------------------------------------------------------\u001b[0m",
      "\u001b[1;31mKeyboardInterrupt\u001b[0m                         Traceback (most recent call last)",
      "\u001b[1;32m<ipython-input-17-9abeb901eec2>\u001b[0m in \u001b[0;36m<module>\u001b[1;34m\u001b[0m\n\u001b[0;32m      1\u001b[0m \u001b[1;31m#create vector for numtless sequences\u001b[0m\u001b[1;33m\u001b[0m\u001b[1;33m\u001b[0m\u001b[1;33m\u001b[0m\u001b[0m\n\u001b[0;32m      2\u001b[0m \u001b[0mnumtless_sequences\u001b[0m \u001b[1;33m=\u001b[0m \u001b[0mpd\u001b[0m\u001b[1;33m.\u001b[0m\u001b[0mSeries\u001b[0m\u001b[1;33m(\u001b[0m\u001b[0mindex\u001b[0m \u001b[1;33m=\u001b[0m \u001b[0mg_ids\u001b[0m\u001b[1;33m)\u001b[0m\u001b[1;33m\u001b[0m\u001b[1;33m\u001b[0m\u001b[0m\n\u001b[1;32m----> 3\u001b[1;33m \u001b[0mg_ids\u001b[0m\u001b[1;33m.\u001b[0m\u001b[0mapply\u001b[0m\u001b[1;33m(\u001b[0m\u001b[0mcreate_dictionary\u001b[0m\u001b[1;33m)\u001b[0m\u001b[1;33m\u001b[0m\u001b[1;33m\u001b[0m\u001b[0m\n\u001b[0m\u001b[0;32m      4\u001b[0m \u001b[0mnumtless_sequences\u001b[0m\u001b[1;33m\u001b[0m\u001b[1;33m\u001b[0m\u001b[0m\n",
      "\u001b[1;32m~\\Anaconda3\\lib\\site-packages\\pandas\\core\\series.py\u001b[0m in \u001b[0;36mapply\u001b[1;34m(self, func, convert_dtype, args, **kwds)\u001b[0m\n\u001b[0;32m   4136\u001b[0m             \u001b[1;32melse\u001b[0m\u001b[1;33m:\u001b[0m\u001b[1;33m\u001b[0m\u001b[1;33m\u001b[0m\u001b[0m\n\u001b[0;32m   4137\u001b[0m                 \u001b[0mvalues\u001b[0m \u001b[1;33m=\u001b[0m \u001b[0mself\u001b[0m\u001b[1;33m.\u001b[0m\u001b[0mastype\u001b[0m\u001b[1;33m(\u001b[0m\u001b[0mobject\u001b[0m\u001b[1;33m)\u001b[0m\u001b[1;33m.\u001b[0m\u001b[0m_values\u001b[0m\u001b[1;33m\u001b[0m\u001b[1;33m\u001b[0m\u001b[0m\n\u001b[1;32m-> 4138\u001b[1;33m                 \u001b[0mmapped\u001b[0m \u001b[1;33m=\u001b[0m \u001b[0mlib\u001b[0m\u001b[1;33m.\u001b[0m\u001b[0mmap_infer\u001b[0m\u001b[1;33m(\u001b[0m\u001b[0mvalues\u001b[0m\u001b[1;33m,\u001b[0m \u001b[0mf\u001b[0m\u001b[1;33m,\u001b[0m \u001b[0mconvert\u001b[0m\u001b[1;33m=\u001b[0m\u001b[0mconvert_dtype\u001b[0m\u001b[1;33m)\u001b[0m\u001b[1;33m\u001b[0m\u001b[1;33m\u001b[0m\u001b[0m\n\u001b[0m\u001b[0;32m   4139\u001b[0m \u001b[1;33m\u001b[0m\u001b[0m\n\u001b[0;32m   4140\u001b[0m         \u001b[1;32mif\u001b[0m \u001b[0mlen\u001b[0m\u001b[1;33m(\u001b[0m\u001b[0mmapped\u001b[0m\u001b[1;33m)\u001b[0m \u001b[1;32mand\u001b[0m \u001b[0misinstance\u001b[0m\u001b[1;33m(\u001b[0m\u001b[0mmapped\u001b[0m\u001b[1;33m[\u001b[0m\u001b[1;36m0\u001b[0m\u001b[1;33m]\u001b[0m\u001b[1;33m,\u001b[0m \u001b[0mSeries\u001b[0m\u001b[1;33m)\u001b[0m\u001b[1;33m:\u001b[0m\u001b[1;33m\u001b[0m\u001b[1;33m\u001b[0m\u001b[0m\n",
      "\u001b[1;32mpandas\\_libs\\lib.pyx\u001b[0m in \u001b[0;36mpandas._libs.lib.map_infer\u001b[1;34m()\u001b[0m\n",
      "\u001b[1;32m<ipython-input-13-a3fa7ab03336>\u001b[0m in \u001b[0;36mcreate_dictionary\u001b[1;34m(g_id)\u001b[0m\n\u001b[0;32m      5\u001b[0m     \u001b[0msequence\u001b[0m \u001b[1;33m=\u001b[0m \u001b[1;34m''\u001b[0m\u001b[1;33m\u001b[0m\u001b[1;33m\u001b[0m\u001b[0m\n\u001b[0;32m      6\u001b[0m     \u001b[1;32mwith\u001b[0m \u001b[0mopen\u001b[0m \u001b[1;33m(\u001b[0m\u001b[0msample_dir\u001b[0m \u001b[1;33m+\u001b[0m \u001b[0mfilename\u001b[0m\u001b[1;33m)\u001b[0m \u001b[1;32mas\u001b[0m \u001b[0minfile\u001b[0m\u001b[1;33m:\u001b[0m\u001b[1;33m\u001b[0m\u001b[1;33m\u001b[0m\u001b[0m\n\u001b[1;32m----> 7\u001b[1;33m         \u001b[0mcontent\u001b[0m \u001b[1;33m=\u001b[0m \u001b[0minfile\u001b[0m\u001b[1;33m.\u001b[0m\u001b[0mreadlines\u001b[0m\u001b[1;33m(\u001b[0m\u001b[1;33m)\u001b[0m\u001b[1;33m\u001b[0m\u001b[1;33m\u001b[0m\u001b[0m\n\u001b[0m\u001b[0;32m      8\u001b[0m         \u001b[1;32mtry\u001b[0m\u001b[1;33m:\u001b[0m\u001b[1;33m\u001b[0m\u001b[1;33m\u001b[0m\u001b[0m\n\u001b[0;32m      9\u001b[0m             \u001b[0msequence\u001b[0m \u001b[1;33m=\u001b[0m \u001b[0mcontent\u001b[0m\u001b[1;33m[\u001b[0m\u001b[1;36m1\u001b[0m\u001b[1;33m]\u001b[0m\u001b[1;33m\u001b[0m\u001b[1;33m\u001b[0m\u001b[0m\n",
      "\u001b[1;32m~\\Anaconda3\\lib\\encodings\\cp1250.py\u001b[0m in \u001b[0;36mdecode\u001b[1;34m(self, input, final)\u001b[0m\n\u001b[0;32m     20\u001b[0m \u001b[1;33m\u001b[0m\u001b[0m\n\u001b[0;32m     21\u001b[0m \u001b[1;32mclass\u001b[0m \u001b[0mIncrementalDecoder\u001b[0m\u001b[1;33m(\u001b[0m\u001b[0mcodecs\u001b[0m\u001b[1;33m.\u001b[0m\u001b[0mIncrementalDecoder\u001b[0m\u001b[1;33m)\u001b[0m\u001b[1;33m:\u001b[0m\u001b[1;33m\u001b[0m\u001b[1;33m\u001b[0m\u001b[0m\n\u001b[1;32m---> 22\u001b[1;33m     \u001b[1;32mdef\u001b[0m \u001b[0mdecode\u001b[0m\u001b[1;33m(\u001b[0m\u001b[0mself\u001b[0m\u001b[1;33m,\u001b[0m \u001b[0minput\u001b[0m\u001b[1;33m,\u001b[0m \u001b[0mfinal\u001b[0m\u001b[1;33m=\u001b[0m\u001b[1;32mFalse\u001b[0m\u001b[1;33m)\u001b[0m\u001b[1;33m:\u001b[0m\u001b[1;33m\u001b[0m\u001b[1;33m\u001b[0m\u001b[0m\n\u001b[0m\u001b[0;32m     23\u001b[0m         \u001b[1;32mreturn\u001b[0m \u001b[0mcodecs\u001b[0m\u001b[1;33m.\u001b[0m\u001b[0mcharmap_decode\u001b[0m\u001b[1;33m(\u001b[0m\u001b[0minput\u001b[0m\u001b[1;33m,\u001b[0m\u001b[0mself\u001b[0m\u001b[1;33m.\u001b[0m\u001b[0merrors\u001b[0m\u001b[1;33m,\u001b[0m\u001b[0mdecoding_table\u001b[0m\u001b[1;33m)\u001b[0m\u001b[1;33m[\u001b[0m\u001b[1;36m0\u001b[0m\u001b[1;33m]\u001b[0m\u001b[1;33m\u001b[0m\u001b[1;33m\u001b[0m\u001b[0m\n\u001b[0;32m     24\u001b[0m \u001b[1;33m\u001b[0m\u001b[0m\n",
      "\u001b[1;31mKeyboardInterrupt\u001b[0m: "
     ]
    }
   ],
   "source": [
    "#create vector for numtless sequences\n",
    "numtless_sequences = pd.Series(index = g_ids)\n",
    "g_ids.apply(create_dictionary)\n",
    "numtless_sequences"
   ]
  },
  {
   "cell_type": "code",
   "execution_count": 32,
   "id": "b51a60b5",
   "metadata": {},
   "outputs": [
    {
     "name": "stdout",
     "output_type": "stream",
     "text": [
      "2 6\n"
     ]
    }
   ],
   "source": [
    "proba = np.random.randint(4)\n",
    "bajusz = proba + 4\n",
    "print(proba, bajusz)"
   ]
  },
  {
   "cell_type": "code",
   "execution_count": null,
   "id": "8f4c7210",
   "metadata": {},
   "outputs": [],
   "source": []
  }
 ],
 "metadata": {
  "kernelspec": {
   "display_name": "Python 3",
   "language": "python",
   "name": "python3"
  },
  "language_info": {
   "codemirror_mode": {
    "name": "ipython",
    "version": 3
   },
   "file_extension": ".py",
   "mimetype": "text/x-python",
   "name": "python",
   "nbconvert_exporter": "python",
   "pygments_lexer": "ipython3",
   "version": "3.7.1"
  }
 },
 "nbformat": 4,
 "nbformat_minor": 5
}
