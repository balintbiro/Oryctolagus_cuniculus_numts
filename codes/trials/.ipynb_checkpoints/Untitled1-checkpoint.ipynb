{
 "cells": [
  {
   "cell_type": "code",
   "execution_count": 1,
   "id": "2707d0cb",
   "metadata": {},
   "outputs": [],
   "source": [
    "#importing the required modules\n",
    "import os\n",
    "import numpy as np\n",
    "import pandas as pd\n",
    "import seaborn as sns\n",
    "import matplotlib.pyplot as plt\n",
    "from scipy.stats import anderson, wilcoxon, ttest_ind"
   ]
  },
  {
   "cell_type": "code",
   "execution_count": 2,
   "id": "3ecfc260",
   "metadata": {},
   "outputs": [],
   "source": [
    "home_dir = os.path.join(r'Z:\\balint\\numt\\Michael\\data/')"
   ]
  },
  {
   "cell_type": "code",
   "execution_count": 164,
   "id": "07a2701a",
   "metadata": {},
   "outputs": [
    {
     "data": {
      "text/html": [
       "<div>\n",
       "<style scoped>\n",
       "    .dataframe tbody tr th:only-of-type {\n",
       "        vertical-align: middle;\n",
       "    }\n",
       "\n",
       "    .dataframe tbody tr th {\n",
       "        vertical-align: top;\n",
       "    }\n",
       "\n",
       "    .dataframe thead th {\n",
       "        text-align: right;\n",
       "    }\n",
       "</style>\n",
       "<table border=\"1\" class=\"dataframe\">\n",
       "  <thead>\n",
       "    <tr style=\"text-align: right;\">\n",
       "      <th></th>\n",
       "      <th>score</th>\n",
       "      <th>eg2_value</th>\n",
       "      <th>e_value</th>\n",
       "      <th>g_id</th>\n",
       "      <th>g_start</th>\n",
       "      <th>mt_start</th>\n",
       "      <th>g_length</th>\n",
       "      <th>mt_length</th>\n",
       "      <th>g_strand</th>\n",
       "      <th>mt_strand</th>\n",
       "      <th>g_size</th>\n",
       "      <th>g_sequence</th>\n",
       "      <th>mt_sequence</th>\n",
       "      <th>g_up_flanking</th>\n",
       "      <th>g_down_flanking</th>\n",
       "      <th>mt_up_flanking (if strand is negative, the coordinates are corrected)</th>\n",
       "      <th>mt_down_flanking (if strand is negative, the coordinates are corrected)</th>\n",
       "    </tr>\n",
       "  </thead>\n",
       "  <tbody>\n",
       "    <tr>\n",
       "      <th>0</th>\n",
       "      <td>17245</td>\n",
       "      <td>0.0</td>\n",
       "      <td>0.0</td>\n",
       "      <td>MT</td>\n",
       "      <td>0</td>\n",
       "      <td>0</td>\n",
       "      <td>17245</td>\n",
       "      <td>17245</td>\n",
       "      <td>+</td>\n",
       "      <td>+</td>\n",
       "      <td>17245</td>\n",
       "      <td>GTTAATGTAGCTTAACAACAAAGCAAAGCACTGAAAATGCTTAGAT...</td>\n",
       "      <td>GTTAATGTAGCTTAACAACAAAGCAAAGCACTGAAAATGCTTAGAT...</td>\n",
       "      <td>NaN</td>\n",
       "      <td>NaN</td>\n",
       "      <td>ACGTACACCCGTACGCACGCACGTACACCCGTACGCACGCACGTAC...</td>\n",
       "      <td>GTTAATGTAGCTTAACAACAAAGCAAAGCACTGAAAATGCTTAGAT...</td>\n",
       "    </tr>\n",
       "    <tr>\n",
       "      <th>1</th>\n",
       "      <td>3398</td>\n",
       "      <td>0.0</td>\n",
       "      <td>0.0</td>\n",
       "      <td>1</td>\n",
       "      <td>114731432</td>\n",
       "      <td>6976</td>\n",
       "      <td>4680</td>\n",
       "      <td>4681</td>\n",
       "      <td>+</td>\n",
       "      <td>+</td>\n",
       "      <td>194850757</td>\n",
       "      <td>taGTAAAATTATTACATAACTTTGTCGAAGTTAATTTATAGGTTCA...</td>\n",
       "      <td>TAGTAAAACCATTACATAACTTTGTCGAAGTTAATTTATAGGTTCA...</td>\n",
       "      <td>GGGCAATTCAATATTCATAAATCAATAAACATCATAAATCACACCA...</td>\n",
       "      <td>TATATATATTTATATATATATGTATATATGTACATATATATAACTA...</td>\n",
       "      <td>GCTTTTAACAGACCGAAACTTAAATACAACCTTCTTTGATCCTGCA...</td>\n",
       "      <td>AACTGCTAATTCATGCTCCCATGTCTAACCCCATGGCTTTCTCAAC...</td>\n",
       "    </tr>\n",
       "    <tr>\n",
       "      <th>2</th>\n",
       "      <td>3120</td>\n",
       "      <td>0.0</td>\n",
       "      <td>0.0</td>\n",
       "      <td>GL019308</td>\n",
       "      <td>67160</td>\n",
       "      <td>883</td>\n",
       "      <td>4892</td>\n",
       "      <td>4945</td>\n",
       "      <td>+</td>\n",
       "      <td>+</td>\n",
       "      <td>88228</td>\n",
       "      <td>CAAGGCCATGAAGCATGCACACACTGCCCATCGCTCTCCTCAAACA...</td>\n",
       "      <td>CAAGGCCATGAAGCACGCACACACCGCCCGTCACCCTCCTCAAGTG...</td>\n",
       "      <td>AAAGCAATTAAATTTTTAACAAAATTTTTAGGCTTAATGAACTAGA...</td>\n",
       "      <td>ATGAAGGGGCAAAGAGTAATTTTACAGTCGAGAGGGCTAGCAGTCA...</td>\n",
       "      <td>GTTAATGTAGCTTAACAACAAAGCAAAGCACTGAAAATGCTTAGAT...</td>\n",
       "      <td>TAGGGGCTATTAACTTTATTACAACTATTATTAATATGAAAGCCCC...</td>\n",
       "    </tr>\n",
       "    <tr>\n",
       "      <th>3</th>\n",
       "      <td>1888</td>\n",
       "      <td>0.0</td>\n",
       "      <td>0.0</td>\n",
       "      <td>GL019308</td>\n",
       "      <td>62527</td>\n",
       "      <td>12805</td>\n",
       "      <td>3439</td>\n",
       "      <td>3462</td>\n",
       "      <td>+</td>\n",
       "      <td>+</td>\n",
       "      <td>88228</td>\n",
       "      <td>AATTATTCATAGCCTCAATGATGAACAAGACATCCAAAAAACAGGA...</td>\n",
       "      <td>AATTATTCACAGCCTcaaTGATGAACAGGATATCCGAAAGATAGGC...</td>\n",
       "      <td>TTCTAATTACAGCACTCTACTCCCTCTACATTTTATCAACCAAAGA...</td>\n",
       "      <td>ACGTATACATGAGTTGTTCTTACATAATTGAATATACCTGCAATGC...</td>\n",
       "      <td>TTATTATTTTAGTCCTCCCTATTGTGGCCTCTTTCACTAACATTTT...</td>\n",
       "      <td>GTACACCCGTACGCACGCACGTACACCCGTACGCACGCACGTACAC...</td>\n",
       "    </tr>\n",
       "    <tr>\n",
       "      <th>4</th>\n",
       "      <td>1824</td>\n",
       "      <td>0.0</td>\n",
       "      <td>0.0</td>\n",
       "      <td>AAGW02081594</td>\n",
       "      <td>14016</td>\n",
       "      <td>6061</td>\n",
       "      <td>3040</td>\n",
       "      <td>3073</td>\n",
       "      <td>+</td>\n",
       "      <td>+</td>\n",
       "      <td>24576</td>\n",
       "      <td>TTCTTTGGACACCCTGAGGTATATATTCTTATCCTTCCAGGATTCG...</td>\n",
       "      <td>TTTTTCGGGCACCCCGAAGTATATATTCTTATTCTTCCAGGATTTG...</td>\n",
       "      <td>TGCCACACCTCCCATGGGATAAAGAGGAAAGGGTCTGGTGCCATGC...</td>\n",
       "      <td>TGAAATAGCTATCACTATTCAGGTATGCCACTATTCTTCTAGGCAT...</td>\n",
       "      <td>CATCTCCTGAGTGCAAACCAGGTGCTTTAATTAAGCTAAATCCTCC...</td>\n",
       "      <td>ATTCTCCTAGGTATCTATTTTACCCTACTTCAAGCATCGGAGTATT...</td>\n",
       "    </tr>\n",
       "  </tbody>\n",
       "</table>\n",
       "</div>"
      ],
      "text/plain": [
       "   score  eg2_value  e_value          g_id    g_start  mt_start  g_length  \\\n",
       "0  17245        0.0      0.0            MT          0         0     17245   \n",
       "1   3398        0.0      0.0             1  114731432      6976      4680   \n",
       "2   3120        0.0      0.0      GL019308      67160       883      4892   \n",
       "3   1888        0.0      0.0      GL019308      62527     12805      3439   \n",
       "4   1824        0.0      0.0  AAGW02081594      14016      6061      3040   \n",
       "\n",
       "   mt_length g_strand mt_strand     g_size  \\\n",
       "0      17245        +         +      17245   \n",
       "1       4681        +         +  194850757   \n",
       "2       4945        +         +      88228   \n",
       "3       3462        +         +      88228   \n",
       "4       3073        +         +      24576   \n",
       "\n",
       "                                          g_sequence  \\\n",
       "0  GTTAATGTAGCTTAACAACAAAGCAAAGCACTGAAAATGCTTAGAT...   \n",
       "1  taGTAAAATTATTACATAACTTTGTCGAAGTTAATTTATAGGTTCA...   \n",
       "2  CAAGGCCATGAAGCATGCACACACTGCCCATCGCTCTCCTCAAACA...   \n",
       "3  AATTATTCATAGCCTCAATGATGAACAAGACATCCAAAAAACAGGA...   \n",
       "4  TTCTTTGGACACCCTGAGGTATATATTCTTATCCTTCCAGGATTCG...   \n",
       "\n",
       "                                         mt_sequence  \\\n",
       "0  GTTAATGTAGCTTAACAACAAAGCAAAGCACTGAAAATGCTTAGAT...   \n",
       "1  TAGTAAAACCATTACATAACTTTGTCGAAGTTAATTTATAGGTTCA...   \n",
       "2  CAAGGCCATGAAGCACGCACACACCGCCCGTCACCCTCCTCAAGTG...   \n",
       "3  AATTATTCACAGCCTcaaTGATGAACAGGATATCCGAAAGATAGGC...   \n",
       "4  TTTTTCGGGCACCCCGAAGTATATATTCTTATTCTTCCAGGATTTG...   \n",
       "\n",
       "                                       g_up_flanking  \\\n",
       "0                                                NaN   \n",
       "1  GGGCAATTCAATATTCATAAATCAATAAACATCATAAATCACACCA...   \n",
       "2  AAAGCAATTAAATTTTTAACAAAATTTTTAGGCTTAATGAACTAGA...   \n",
       "3  TTCTAATTACAGCACTCTACTCCCTCTACATTTTATCAACCAAAGA...   \n",
       "4  TGCCACACCTCCCATGGGATAAAGAGGAAAGGGTCTGGTGCCATGC...   \n",
       "\n",
       "                                     g_down_flanking  \\\n",
       "0                                                NaN   \n",
       "1  TATATATATTTATATATATATGTATATATGTACATATATATAACTA...   \n",
       "2  ATGAAGGGGCAAAGAGTAATTTTACAGTCGAGAGGGCTAGCAGTCA...   \n",
       "3  ACGTATACATGAGTTGTTCTTACATAATTGAATATACCTGCAATGC...   \n",
       "4  TGAAATAGCTATCACTATTCAGGTATGCCACTATTCTTCTAGGCAT...   \n",
       "\n",
       "  mt_up_flanking (if strand is negative, the coordinates are corrected)  \\\n",
       "0  ACGTACACCCGTACGCACGCACGTACACCCGTACGCACGCACGTAC...                      \n",
       "1  GCTTTTAACAGACCGAAACTTAAATACAACCTTCTTTGATCCTGCA...                      \n",
       "2  GTTAATGTAGCTTAACAACAAAGCAAAGCACTGAAAATGCTTAGAT...                      \n",
       "3  TTATTATTTTAGTCCTCCCTATTGTGGCCTCTTTCACTAACATTTT...                      \n",
       "4  CATCTCCTGAGTGCAAACCAGGTGCTTTAATTAAGCTAAATCCTCC...                      \n",
       "\n",
       "  mt_down_flanking (if strand is negative, the coordinates are corrected)  \n",
       "0  GTTAATGTAGCTTAACAACAAAGCAAAGCACTGAAAATGCTTAGAT...                       \n",
       "1  AACTGCTAATTCATGCTCCCATGTCTAACCCCATGGCTTTCTCAAC...                       \n",
       "2  TAGGGGCTATTAACTTTATTACAACTATTATTAATATGAAAGCCCC...                       \n",
       "3  GTACACCCGTACGCACGCACGTACACCCGTACGCACGCACGTACAC...                       \n",
       "4  ATTCTCCTAGGTATCTATTTTACCCTACTTCAAGCATCGGAGTATT...                       "
      ]
     },
     "execution_count": 164,
     "metadata": {},
     "output_type": "execute_result"
    }
   ],
   "source": [
    "#read pandas dataframe\n",
    "numt_array = pd.read_csv(home_dir + 'numt_master_array_with_1000_flanking.csv')\n",
    "numt_array.head()"
   ]
  },
  {
   "cell_type": "code",
   "execution_count": 165,
   "id": "cf2e27c2",
   "metadata": {},
   "outputs": [],
   "source": [
    "#get g_ids and drop the ones that dont have corresponding sequences\n",
    "g_ids = numt_array['g_id'].drop_duplicates()\n",
    "g_ids = g_ids.drop(labels = [0,65])"
   ]
  },
  {
   "cell_type": "code",
   "execution_count": 129,
   "id": "e90a903b",
   "metadata": {},
   "outputs": [],
   "source": [
    "#create dictionary from the numtless sequences\n",
    "def create_dictionary(g_id):\n",
    "    global numtless_sequences\n",
    "    filename = 'numtless_sequences/%s.fasta' % g_id\n",
    "    sequence = ''\n",
    "    with open (home_dir + filename) as infile:\n",
    "        content = infile.readlines()\n",
    "        try:\n",
    "            sequence = content[1]\n",
    "        except IndexError:\n",
    "            pass\n",
    "    numtless_sequences[g_id] = sequence\n",
    "    current_index = g_ids[g_ids == g_id].index[0]\n",
    "    if current_index % 5 == 0:\n",
    "        print('done for %s numts!' % current_index)"
   ]
  },
  {
   "cell_type": "code",
   "execution_count": 6,
   "id": "fb1f686d",
   "metadata": {},
   "outputs": [
    {
     "name": "stderr",
     "output_type": "stream",
     "text": [
      "C:\\Users\\pytho\\Anaconda3\\lib\\site-packages\\ipykernel_launcher.py:2: DeprecationWarning: The default dtype for empty Series will be 'object' instead of 'float64' in a future version. Specify a dtype explicitly to silence this warning.\n",
      "  \n"
     ]
    },
    {
     "name": "stdout",
     "output_type": "stream",
     "text": [
      "done for 20 numts!\n",
      "done for 25 numts!\n",
      "done for 40 numts!\n",
      "done for 45 numts!\n",
      "done for 70 numts!\n",
      "done for 95 numts!\n",
      "done for 100 numts!\n",
      "done for 105 numts!\n",
      "done for 125 numts!\n"
     ]
    },
    {
     "data": {
      "text/plain": [
       "g_id\n",
       "1               AGGACCGCACAACCTTGCAGCTCAGCGACTCGTGGGGTCACACACA...\n",
       "GL019308        AGCATTTCCAGCATGCAGTCTCTCCCATGAAGGTGGAGAAGGAACT...\n",
       "AAGW02081594    TTATCTTTATTTCATCCATGATCAAATATTTCACCCACGATGATTA...\n",
       "GL019326        GAGACTGGGAAGAAGCTCCTGGCTCCTGGCTTTGGATCAGCGCAGC...\n",
       "GL018741        TAAAACTAAGAGTCATTCTAATCTTTCCTCTATATCTAATCCCAAC...\n",
       "18              NNNNNNNNNNNNNNNNNNNNNNNNNNNNNNNNNNNNNNNNNNNNNN...\n",
       "9               CGGGGACTCCCACTAGAGGAACCAGGTGATGTCAGTTCCCAGAATC...\n",
       "12              CTGAGTTCCTGGCTTCTGGCTTTGGCCTGGCTCAACCCCAGCTGCA...\n",
       "GL018705        ATAATGATCAGATGATAATGGTGGTGATGATGGTGAGGATGACTCT...\n",
       "17              GGTGTGGTATATGTGGTGTGTATGGTATGTGTGTGGTACTGTATGG...\n",
       "GL018700        CCAGATGGATACATGAAGTATGCAGTTGCCTATGTAGTTTAGAACT...\n",
       "19              NNNNNNNNNNNNNNNNNNNNNNNNNNNNNNNNNNNNNNNNNNNNNN...\n",
       "GL019465        ATACTTGGCTCCCCACCCAGGAGATCGCAGCTTGAGGCATCACCCC...\n",
       "GL018817        ACCTAATTACAGGGCACCGGTCTATTTAAAAGATATGTTAAGGGAC...\n",
       "13              TCATAATCCTAACCATAACCAAGGATTCAACCATAAATTTAAGACT...\n",
       "GL018826        ACATTATAAAACATAGAGACAGTGGGTAGTGTCCCACATACATGTG...\n",
       "GL018748        AATGGCCGCAACAGCGGGACCCTGGGCAATCTGAAGCCAGGAGTCA...\n",
       "2               GAGTTATAAAAGAGAAGGAGAGGCAGAGAGAGAGAGAGCAGTATGA...\n",
       "7               ACACACACAACACACACGACATAACAACACATACAACACACAAATA...\n",
       "16              CAGAATGAGATTTCTGCACTACAGACAAGAGTCTTTTGTCGTGCCT...\n",
       "GL018786        ACGCCCCGTCCAGCCAGACTGCCACTCCGCTGGCGGAACCCCCGAG...\n",
       "GL018706        AGTTTGTTCCCACACAGAAACATAAAGTGAAAAATAATAGATGATT...\n",
       "4               AACCAACGAGCTATGCACTTATGATATATGTGCTTTTTTTTTTTTT...\n",
       "GL019271        TGCTGCCTGTGATAGAAGTCAGTTTGTAGATCACCTTGAACCCTAC...\n",
       "GL019056        TACAGCATTGTACATGTTGTAACTCCCATCACTCATGGTCATATCA...\n",
       "GL019383        CTAAGCCAGAGACTTAGTCAAAAGACAAAAGCCATCAGAGGAAAAA...\n",
       "GL019525        TTTTAATGATGATGAAATCAGATCAGACCTATTGTCATGTTTAATC...\n",
       "GL019149        CCAGATATCCATCAACTGATGACCGGATAAAGAAATCCTGGCATAC...\n",
       "GL018925        AAAGTCTCAATACCTACCTAAGTCAGTTCCCAAGTCCTTTAGATTG...\n",
       "20              NNNNNNNNNNNNNNNNNNNNNNNNNNNNNNNNNNNNNNNNNNNNNN...\n",
       "AAGW02083714    TCCCCTAACTGCATGAGTCGGTTCCGAATTCACTCTCATTGTGAGT...\n",
       "GL018992        GAGGTGGTTAGAAATAGAATCCTGACTATTGTCTCCAGTTTCTCTA...\n",
       "AAGW02079688    TATTCCCCAACCTCTGATAACTACCATTCTACCGTGTCTACTTCTA...\n",
       "GL019086        TCTCTGGATGCGACCTTTTAGTCATTCTGGAACAAAGTCTGACCTG...\n",
       "GL019010        CCCGCGGTCAGTAGCCGTCACTGGTGCTGCCACTATTGAGGCTGTC...\n",
       "15              NNNNNNNNNNNNNNNNNNNNNNNNNNNNNNNNNNNNNNNNNNNNNN...\n",
       "GL019047        CTCCCCTTCCATTCAGTCCAGATCATTTTCGATTCTCTTTATATAC...\n",
       "GL018862        CAGTCAGTCATATTCATGGCTGTTAGCCTAGTATGTGAGATTGTCT...\n",
       "11              CTCACACACCCACGCGGCCTCACACACCCACGAGACCTCACACACC...\n",
       "GL019311        CCAGATCCTTGGGCCCTGCATCCACATGGGAGACCAGGAGGAAACA...\n",
       "14              AAATGAAGTCAGATATGGTAATCGATACTGAACTGAGGCACGGATT...\n",
       "3               AAGCAGGCCAGTCCACTGTGTCACTTACAGACACAGCTGACACTGA...\n",
       "GL019235        TAGCTGATGGGTATCAGTGGTTCTTGCCAGGAACCCCAGTGACCTC...\n",
       "21              NNNNNNNNNNNNNNNNNNNNNNNNNNNNNNNNNNNNNNNNNNNNNN...\n",
       "GL018744        GCTGCATTTTATTTTGTAGACAGGCATATTTTCTTTTCCAATTGCT...\n",
       "dtype: object"
      ]
     },
     "execution_count": 6,
     "metadata": {},
     "output_type": "execute_result"
    }
   ],
   "source": [
    "#create vector for numtless sequences\n",
    "numtless_sequences = pd.Series(index = g_ids)\n",
    "g_ids.apply(create_dictionary)\n",
    "numtless_sequences"
   ]
  },
  {
   "cell_type": "code",
   "execution_count": 166,
   "id": "5efb5d32",
   "metadata": {},
   "outputs": [
    {
     "data": {
      "text/plain": [
       "['MT', 'AAGW02081404']"
      ]
     },
     "execution_count": 166,
     "metadata": {},
     "output_type": "execute_result"
    }
   ],
   "source": [
    "ids = numt_array['g_id']\n",
    "ids_to_drop = list(set(ids) - set(numtless_sequences.index.values))\n",
    "ids_to_drop"
   ]
  },
  {
   "cell_type": "code",
   "execution_count": 167,
   "id": "26ae76e5",
   "metadata": {},
   "outputs": [
    {
     "data": {
      "text/plain": [
       "g_id\n",
       "1               0.334\n",
       "GL019308        0.375\n",
       "GL019308        0.342\n",
       "AAGW02081594    0.426\n",
       "AAGW02081594    0.454\n",
       "                ...  \n",
       "GL019047        0.432\n",
       "AAGW02081404    0.365\n",
       "GL019311        0.583\n",
       "21              0.381\n",
       "GL018744        0.490\n",
       "Name: g_up_flanking, Length: 149, dtype: float64"
      ]
     },
     "execution_count": 167,
     "metadata": {},
     "output_type": "execute_result"
    }
   ],
   "source": [
    "#calculate gc contents of flankings\n",
    "up_flanking = numt_array['g_up_flanking']\n",
    "up_flanking.index = ids\n",
    "up_flanking = up_flanking[up_flanking.apply(lambda sequence : isinstance(sequence, str))]\n",
    "up_flanking.apply(lambda sequence : sequence.upper())\n",
    "up_gc = up_flanking.apply(lambda sequence : (sequence.count('G') + sequence.count('C')) / len(sequence))\n",
    "up_gc"
   ]
  },
  {
   "cell_type": "code",
   "execution_count": 168,
   "id": "7eb05624",
   "metadata": {},
   "outputs": [
    {
     "data": {
      "text/plain": [
       "g_id\n",
       "1               0.426\n",
       "GL019308        0.376\n",
       "GL019308        0.359\n",
       "AAGW02081594    0.366\n",
       "AAGW02081594    0.558\n",
       "                ...  \n",
       "GL019047        0.361\n",
       "AAGW02081404    0.440\n",
       "GL019311        0.433\n",
       "21              0.270\n",
       "GL018744        0.528\n",
       "Name: g_down_flanking, Length: 151, dtype: float64"
      ]
     },
     "execution_count": 168,
     "metadata": {},
     "output_type": "execute_result"
    }
   ],
   "source": [
    "#calculate gc contents of flankings\n",
    "down_flanking = numt_array['g_down_flanking']\n",
    "down_flanking.index = ids\n",
    "down_flanking = down_flanking[down_flanking.apply(lambda sequence : isinstance(sequence, str))]\n",
    "down_flanking.apply(lambda sequence : sequence.upper())\n",
    "down_gc = down_flanking.apply(lambda sequence : (sequence.count('G') + sequence.count('C')) / len(sequence))\n",
    "down_gc"
   ]
  },
  {
   "cell_type": "code",
   "execution_count": 169,
   "id": "f45e75f8",
   "metadata": {},
   "outputs": [],
   "source": [
    "#statistics of gc content\n",
    "up_statistics = anderson(up_gc)[0]\n",
    "up_critical_value = anderson(up_gc)[1][2]"
   ]
  },
  {
   "cell_type": "code",
   "execution_count": 170,
   "id": "219656eb",
   "metadata": {},
   "outputs": [],
   "source": [
    "#statistics of gc content\n",
    "down_statistics = anderson(down_gc)[0]\n",
    "down_critical_value = anderson(down_gc)[1][2]"
   ]
  },
  {
   "cell_type": "code",
   "execution_count": 171,
   "id": "129d2d19",
   "metadata": {},
   "outputs": [],
   "source": [
    "up_gc = up_gc[up_gc > 0.05]\n",
    "down_gc = down_gc[down_gc > 0.05]"
   ]
  },
  {
   "cell_type": "code",
   "execution_count": 172,
   "id": "77a86941",
   "metadata": {},
   "outputs": [
    {
     "data": {
      "text/plain": [
       "WilcoxonResult(statistic=4302.0, pvalue=0.03773829197008876)"
      ]
     },
     "execution_count": 172,
     "metadata": {},
     "output_type": "execute_result"
    }
   ],
   "source": [
    "#significance\n",
    "np.random.seed(1)\n",
    "if (up_statistics > up_critical_value) or (down_statistics > down_critical_value):\n",
    "    significance = wilcoxon(up_gc, np.random.choice(down_gc, len(up_gc)))\n",
    "else:\n",
    "    significance = ttest_ind(up_gc, np.random.choice(down_gc, len(up_gc)))\n",
    "significance"
   ]
  },
  {
   "cell_type": "code",
   "execution_count": 173,
   "id": "e00d2de7",
   "metadata": {},
   "outputs": [],
   "source": [
    "#create a function for the statistical annotation of the graph\n",
    "def statistical_annotation(data, significance, positions, height):\n",
    "    x1, x2 = positions[0],positions[1]\n",
    "    maximum = max([max(data[0]),max(data[1])])\n",
    "    y, h, col = maximum + height + 0.03, 0.03, 'k'\n",
    "    plt.plot([x1, x1, x2, x2], [y, y+h, y+h, y], lw=1.5, c = col)\n",
    "    if significance < 0.05:\n",
    "        plt.text((x1+x2)*.5, y+h, \"p < 0.05\", ha='center', va='bottom', color = col, fontsize = 14)\n",
    "    else:\n",
    "        plt.text((x1+x2)*.5, y+h, \"n.s.\", ha='center', va='bottom', color = col, fontsize = 14)"
   ]
  },
  {
   "cell_type": "code",
   "execution_count": 174,
   "id": "1e1a3804",
   "metadata": {},
   "outputs": [
    {
     "data": {
      "image/png": "[encoded data removed]",
      "text/plain": [
       "<Figure size 432x288 with 1 Axes>"
      ]
     },
     "metadata": {},
     "output_type": "display_data"
    }
   ],
   "source": [
    "gcs = [up_gc, down_gc]\n",
    "ax = sns.violinplot(data = gcs)\n",
    "sns.set(style=\"darkgrid\")\n",
    "ax.set_ylabel('GC content',\n",
    "             fontsize = 14)\n",
    "ax.set_xticklabels(['upstream', 'downstream'],\n",
    "                  fontsize = 14)\n",
    "plt.xlabel('flanking',\n",
    "          fontsize = 14)\n",
    "statistical_annotation([up_gc, down_gc], significance[1], [0,1], 0.1)\n",
    "ax.set_ylim(0.0, 0.95)\n",
    "plt.tight_layout()\n",
    "#plt.savefig('../../results/gc_contents.png', dpi = 150, quality = 95)\n",
    "plt.show()"
   ]
  },
  {
   "cell_type": "code",
   "execution_count": 175,
   "id": "b86a5209",
   "metadata": {},
   "outputs": [],
   "source": [
    "#define function for sampling genome based on flanking size\n",
    "def flanking_based_sampling(g_id):\n",
    "    global seed_value\n",
    "    sequence_to_sample = numtless_sequences[g_id]\n",
    "    seed_value += 1\n",
    "    np.random.seed(seed_value)\n",
    "    flanking_size = 1000\n",
    "    start = np.random.randint(0, len(sequence_to_sample) - flanking_size)\n",
    "    end = start + flanking_size\n",
    "    sample_sequence = sequence_to_sample[start:end]\n",
    "    unknown_nucleotides = sample_sequence.count('N') / len(sample_sequence)\n",
    "    if unknown_nucleotides < 0.05:\n",
    "        return sample_sequence\n",
    "    else:\n",
    "        seed_value += 1\n",
    "        start = np.random.randint(0, len(sequence_to_sample) - flanking_size)\n",
    "        end = start + flanking_size\n",
    "        sample_sequence = sequence_to_sample[start:end]\n",
    "        return sample_sequence"
   ]
  },
  {
   "cell_type": "code",
   "execution_count": 176,
   "id": "07a96d5b",
   "metadata": {},
   "outputs": [
    {
     "data": {
      "text/plain": [
       "g_id\n",
       "MT                        MT\n",
       "1                          1\n",
       "GL019308            GL019308\n",
       "GL019308            GL019308\n",
       "AAGW02081594    AAGW02081594\n",
       "                    ...     \n",
       "GL019047            GL019047\n",
       "AAGW02081404    AAGW02081404\n",
       "GL019311            GL019311\n",
       "21                        21\n",
       "GL018744            GL018744\n",
       "Name: g_id, Length: 153, dtype: object"
      ]
     },
     "execution_count": 176,
     "metadata": {},
     "output_type": "execute_result"
    }
   ],
   "source": [
    "ids.index = ids\n",
    "ids"
   ]
  },
  {
   "cell_type": "code",
   "execution_count": 177,
   "id": "a4864cca",
   "metadata": {},
   "outputs": [
    {
     "data": {
      "text/plain": [
       "g_id\n",
       "1                          1\n",
       "GL019308            GL019308\n",
       "GL019308            GL019308\n",
       "AAGW02081594    AAGW02081594\n",
       "AAGW02081594    AAGW02081594\n",
       "                    ...     \n",
       "GL018826            GL018826\n",
       "GL019047            GL019047\n",
       "GL019311            GL019311\n",
       "21                        21\n",
       "GL018744            GL018744\n",
       "Name: g_id, Length: 122, dtype: object"
      ]
     },
     "execution_count": 177,
     "metadata": {},
     "output_type": "execute_result"
    }
   ],
   "source": [
    "ids = ids.drop(labels = ids_to_drop)\n",
    "ids"
   ]
  },
  {
   "cell_type": "code",
   "execution_count": 179,
   "id": "58db10de",
   "metadata": {},
   "outputs": [
    {
     "data": {
      "text/plain": [
       "g_id\n",
       "1               0.326\n",
       "GL019308        0.391\n",
       "GL019308        0.413\n",
       "AAGW02081594    0.420\n",
       "AAGW02081594    0.306\n",
       "                ...  \n",
       "GL018826        0.557\n",
       "GL019047        0.469\n",
       "GL019311        0.462\n",
       "21              0.451\n",
       "GL018744        0.487\n",
       "Name: g_id, Length: 122, dtype: float64"
      ]
     },
     "execution_count": 179,
     "metadata": {},
     "output_type": "execute_result"
    }
   ],
   "source": [
    "#flanking based genomic samples\n",
    "seed_value = 0\n",
    "flage_samples = ids.apply(flanking_based_sampling)\n",
    "flage_samples.apply(lambda sequence : sequence.upper())\n",
    "flage_gc = flage_samples.apply(lambda sequence : (sequence.count('G') + sequence.count('C')) / len(sequence))\n",
    "flage_gc"
   ]
  },
  {
   "cell_type": "code",
   "execution_count": 181,
   "id": "cf6cd24e",
   "metadata": {},
   "outputs": [],
   "source": [
    "#statistics of gc content\n",
    "flage_statistics = anderson(flage_gc)[0]\n",
    "flage_critical_value = anderson(flage_gc)[1][2]"
   ]
  },
  {
   "cell_type": "code",
   "execution_count": 182,
   "id": "bd63d55d",
   "metadata": {},
   "outputs": [
    {
     "data": {
      "text/plain": [
       "147"
      ]
     },
     "execution_count": 182,
     "metadata": {},
     "output_type": "execute_result"
    }
   ],
   "source": [
    "len(up_gc)"
   ]
  },
  {
   "cell_type": "code",
   "execution_count": 183,
   "id": "3fcb1bdd",
   "metadata": {},
   "outputs": [
    {
     "data": {
      "text/plain": [
       "122"
      ]
     },
     "execution_count": 183,
     "metadata": {},
     "output_type": "execute_result"
    }
   ],
   "source": [
    "len(flage_gc)"
   ]
  },
  {
   "cell_type": "code",
   "execution_count": 184,
   "id": "54665065",
   "metadata": {},
   "outputs": [
    {
     "data": {
      "text/plain": [
       "147"
      ]
     },
     "execution_count": 184,
     "metadata": {},
     "output_type": "execute_result"
    }
   ],
   "source": [
    "len(down_gc)"
   ]
  },
  {
   "cell_type": "code",
   "execution_count": 185,
   "id": "95237dbf",
   "metadata": {},
   "outputs": [
    {
     "data": {
      "text/plain": [
       "WilcoxonResult(statistic=2586.0, pvalue=0.002902485990673048)"
      ]
     },
     "execution_count": 185,
     "metadata": {},
     "output_type": "execute_result"
    }
   ],
   "source": [
    "#significance of upstream flanking gc vs genome\n",
    "np.random.seed(1)\n",
    "if (up_statistics > up_critical_value) or (flage_statistics > flage_critical_value):\n",
    "    significance = wilcoxon(np.random.choice(up_gc, len(flage_gc)), flage_gc)\n",
    "else:\n",
    "    significance = ttest_ind(np.random.choice(up_gc, len(flage_gc)), flage_gc)\n",
    "significance"
   ]
  },
  {
   "cell_type": "code",
   "execution_count": 186,
   "id": "fe1f3c3a",
   "metadata": {},
   "outputs": [
    {
     "data": {
      "text/plain": [
       "WilcoxonResult(statistic=2941.0, pvalue=0.03837140428994321)"
      ]
     },
     "execution_count": 186,
     "metadata": {},
     "output_type": "execute_result"
    }
   ],
   "source": [
    "#significance of downstream flanking gc vs genome\n",
    "np.random.seed(1)\n",
    "if (down_statistics > down_critical_value) or (flage_statistics > flage_critical_value):\n",
    "    significance = wilcoxon(np.random.choice(down_gc, len(flage_gc)), flage_gc)\n",
    "else:\n",
    "    significance = ttest_ind(np.random.choice(down_gc, len(flage_gc)), flage_gc)\n",
    "significance"
   ]
  },
  {
   "cell_type": "code",
   "execution_count": 193,
   "id": "4198b16a",
   "metadata": {},
   "outputs": [],
   "source": [
    "def get_gc_ranges(g_id):\n",
    "    up_seq = up_flanking[g_id]\n",
    "    down_seq = down_flanking[g_id]\n",
    "    genomic_seq = flage_samples[g_id]\n",
    "    global up_values\n",
    "    global down_values\n",
    "    global genomic_values\n",
    "    for seq_range in np.arange(0,1000,20):\n",
    "        up_value = up_seq[:seq_range].count('G') + up_seq[:seq_range].count('C')\n",
    "        down_value = down_seq[:seq_range].count('G') + down_seq[:seq_range].count('C')\n",
    "        genomic_value = genomic_seq[:seq_range].count('G') + genomic_seq[:seq_range].count('C')\n",
    "        up_values.append(up_value)\n",
    "        down_values.append(down_value)\n",
    "        genomic_values.append(genomic_value)"
   ]
  },
  {
   "cell_type": "code",
   "execution_count": 196,
   "id": "4461de32",
   "metadata": {},
   "outputs": [
    {
     "data": {
      "text/plain": [
       "g_id\n",
       "GL019308    AAAGCAATTAAATTTTTAACAAAATTTTTAGGCTTAATGAACTAGA...\n",
       "GL019308    TTCTAATTACAGCACTCTACTCCCTCTACATTTTATCAACCAAAGA...\n",
       "GL019308    ATTGTGATTTTGATTTGCATTTCCATCATGGCTAGTGATATTCAGC...\n",
       "GL019308    GCCCTATGCATATAAGCTTGTACATACTGCTTAACAGAACATACCA...\n",
       "GL019308    TTGTACATACTGCTTAACAGAACATACCACATTCATTCCAACCTGC...\n",
       "Name: g_up_flanking, dtype: object"
      ]
     },
     "execution_count": 196,
     "metadata": {},
     "output_type": "execute_result"
    }
   ],
   "source": [
    "up_flanking['GL019308']"
   ]
  },
  {
   "cell_type": "code",
   "execution_count": null,
   "id": "dc5e6b59",
   "metadata": {},
   "outputs": [],
   "source": []
  }
 ],
 "metadata": {
  "kernelspec": {
   "display_name": "Python 3",
   "language": "python",
   "name": "python3"
  },
  "language_info": {
   "codemirror_mode": {
    "name": "ipython",
    "version": 3
   },
   "file_extension": ".py",
   "mimetype": "text/x-python",
   "name": "python",
   "nbconvert_exporter": "python",
   "pygments_lexer": "ipython3",
   "version": "3.7.1"
  }
 },
 "nbformat": 4,
 "nbformat_minor": 5
}
