{
 "cells": [
  {
   "cell_type": "code",
   "execution_count": 32,
   "id": "ab5035df",
   "metadata": {},
   "outputs": [],
   "source": [
    "import pandas as pd"
   ]
  },
  {
   "cell_type": "code",
   "execution_count": 33,
   "id": "1b00651f",
   "metadata": {},
   "outputs": [
    {
     "data": {
      "text/plain": [
       "'A-TTTATT-T-T-AT--AT---TA---T-T'"
      ]
     },
     "execution_count": 33,
     "metadata": {},
     "output_type": "execute_result"
    }
   ],
   "source": [
    "sample = 'ACTTTATTCTGTGATGCATGCGTAGCGTGT'\n",
    "c_less = sample.replace('C','-')\n",
    "cg_less = c_less.replace('G','-')\n",
    "cg_less"
   ]
  },
  {
   "cell_type": "code",
   "execution_count": 35,
   "id": "552c9521",
   "metadata": {},
   "outputs": [
    {
     "data": {
      "text/plain": [
       "0     1\n",
       "1     6\n",
       "2     1\n",
       "3     1\n",
       "4     2\n",
       "5     0\n",
       "6     2\n",
       "7     0\n",
       "8     0\n",
       "9     2\n",
       "10    0\n",
       "11    0\n",
       "12    1\n",
       "13    1\n",
       "dtype: int64"
      ]
     },
     "execution_count": 35,
     "metadata": {},
     "output_type": "execute_result"
    }
   ],
   "source": [
    "pd.Series(cg_less.split('-')).apply(lambda x : len(x))"
   ]
  },
  {
   "cell_type": "code",
   "execution_count": null,
   "id": "8c3af1ec",
   "metadata": {},
   "outputs": [],
   "source": []
  }
 ],
 "metadata": {
  "kernelspec": {
   "display_name": "Python 3",
   "language": "python",
   "name": "python3"
  },
  "language_info": {
   "codemirror_mode": {
    "name": "ipython",
    "version": 3
   },
   "file_extension": ".py",
   "mimetype": "text/x-python",
   "name": "python",
   "nbconvert_exporter": "python",
   "pygments_lexer": "ipython3",
   "version": "3.7.1"
  }
 },
 "nbformat": 4,
 "nbformat_minor": 5
}
