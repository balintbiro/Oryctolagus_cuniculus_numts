{
 "cells": [
  {
   "cell_type": "code",
   "execution_count": 32,
   "id": "57ac6ac6",
   "metadata": {},
   "outputs": [],
   "source": [
    "import pandas as pd"
   ]
  },
  {
   "cell_type": "code",
   "execution_count": 33,
   "id": "d29374d1",
   "metadata": {},
   "outputs": [
    {
     "data": {
      "text/plain": [
       "'A-TTTATT-T-T-AT--AT---TA---T-T'"
      ]
     },
     "execution_count": 33,
     "metadata": {},
     "output_type": "execute_result"
    }
   ],
   "source": [
    "sample = 'ACTTTATTCTGTGATGCATGCGTAGCGTGT'\n",
    "c_less = sample.replace('C','-')\n",
    "cg_less = c_less.replace('G','-')\n",
    "cg_less"
   ]
  },
  {
   "cell_type": "code",
   "execution_count": 50,
   "id": "9c1bd48b",
   "metadata": {},
   "outputs": [],
   "source": [
    "proba = pd.Series(cg_less.split('-')).apply(lambda x : len(x))"
   ]
  },
  {
   "cell_type": "code",
   "execution_count": 54,
   "id": "9454ae0a",
   "metadata": {},
   "outputs": [],
   "source": [
    "bajusz = proba[proba > 1]"
   ]
  },
  {
   "cell_type": "code",
   "execution_count": null,
   "id": "bfc2abef",
   "metadata": {},
   "outputs": [],
   "source": []
  }
 ],
 "metadata": {
  "kernelspec": {
   "display_name": "Python 3",
   "language": "python",
   "name": "python3"
  },
  "language_info": {
   "codemirror_mode": {
    "name": "ipython",
    "version": 3
   },
   "file_extension": ".py",
   "mimetype": "text/x-python",
   "name": "python",
   "nbconvert_exporter": "python",
   "pygments_lexer": "ipython3",
   "version": "3.7.1"
  }
 },
 "nbformat": 4,
 "nbformat_minor": 5
}
