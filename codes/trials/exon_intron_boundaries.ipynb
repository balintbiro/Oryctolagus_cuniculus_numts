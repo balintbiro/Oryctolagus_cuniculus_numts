{
 "cells": [
  {
   "cell_type": "markdown",
   "metadata": {},
   "source": [
    "https://rest.ensembl.org/documentation/info/lookup"
   ]
  },
  {
   "cell_type": "code",
   "execution_count": 1,
   "metadata": {},
   "outputs": [],
   "source": [
    "import requests, sys"
   ]
  },
  {
   "cell_type": "code",
   "execution_count": 31,
   "metadata": {},
   "outputs": [],
   "source": [
    "server = \"https://rest.ensembl.org\"\n",
    "ext = \"/lookup/id/ENSOCUG00000006104?expand=1\""
   ]
  },
  {
   "cell_type": "code",
   "execution_count": 32,
   "metadata": {},
   "outputs": [
    {
     "name": "stdout",
     "output_type": "stream",
     "text": [
      "{'seq_region_name': '1', 'Transcript': [{'start': 114711356, 'is_canonical': 1, 'assembly_name': 'OryCun2.0', 'Exon': [{'species': 'oryctolagus_cuniculus', 'start': 114744838, 'assembly_name': 'OryCun2.0', 'strand': -1, 'end': 114745251, 'seq_region_name': '1', 'id': 'ENSOCUEE00000339040', 'version': 1, 'object_type': 'Exon', 'db_type': 'core'}, {'species': 'oryctolagus_cuniculus', 'start': 114728224, 'assembly_name': 'OryCun2.0', 'end': 114728299, 'seq_region_name': '1', 'id': 'ENSOCUE00000071606', 'strand': -1, 'object_type': 'Exon', 'db_type': 'core', 'version': 1}, {'assembly_name': 'OryCun2.0', 'start': 114724412, 'species': 'oryctolagus_cuniculus', 'version': 1, 'object_type': 'Exon', 'db_type': 'core', 'strand': -1, 'seq_region_name': '1', 'end': 114724578, 'id': 'ENSOCUE00000071612'}, {'seq_region_name': '1', 'end': 114721107, 'id': 'ENSOCUE00000071619', 'strand': -1, 'object_type': 'Exon', 'db_type': 'core', 'version': 1, 'species': 'oryctolagus_cuniculus', 'start': 114720935, 'assembly_name': 'OryCun2.0'}, {'assembly_name': 'OryCun2.0', 'start': 114713715, 'species': 'oryctolagus_cuniculus', 'version': 1, 'object_type': 'Exon', 'db_type': 'core', 'strand': -1, 'seq_region_name': '1', 'end': 114713781, 'id': 'ENSOCUE00000273866'}, {'version': 3, 'object_type': 'Exon', 'db_type': 'core', 'strand': -1, 'seq_region_name': '1', 'end': 114711484, 'id': 'ENSOCUE00000071629', 'assembly_name': 'OryCun2.0', 'species': 'oryctolagus_cuniculus', 'start': 114711356}], 'end': 114745251, 'id': 'ENSOCUT00000006101', 'Parent': 'ENSOCUG00000006104', 'Translation': {'species': 'oryctolagus_cuniculus', 'start': 114711356, 'Parent': 'ENSOCUT00000006101', 'db_type': 'core', 'object_type': 'Translation', 'id': 'ENSOCUP00000005284', 'end': 114745251, 'length': 341}, 'species': 'oryctolagus_cuniculus', 'logic_name': 'ensembl', 'biotype': 'protein_coding', 'strand': -1, 'seq_region_name': '1', 'version': 4, 'display_name': 'CFAP300-201', 'object_type': 'Transcript', 'db_type': 'core', 'source': 'ensembl'}, {'id': 'ENSOCUT00000039513', 'end': 114744947, 'Exon': [{'strand': -1, 'end': 114744947, 'seq_region_name': '1', 'id': 'ENSOCUE00000251480', 'version': 3, 'db_type': 'core', 'object_type': 'Exon', 'start': 114744838, 'species': 'oryctolagus_cuniculus', 'assembly_name': 'OryCun2.0'}, {'version': 1, 'object_type': 'Exon', 'db_type': 'core', 'strand': -1, 'id': 'ENSOCUE00000265775', 'end': 114744608, 'seq_region_name': '1', 'assembly_name': 'OryCun2.0', 'start': 114744527, 'species': 'oryctolagus_cuniculus'}, {'id': 'ENSOCUE00000071606', 'seq_region_name': '1', 'end': 114728299, 'strand': -1, 'db_type': 'core', 'object_type': 'Exon', 'version': 1, 'species': 'oryctolagus_cuniculus', 'start': 114728224, 'assembly_name': 'OryCun2.0'}, {'id': 'ENSOCUE00000071612', 'end': 114724578, 'seq_region_name': '1', 'strand': -1, 'db_type': 'core', 'object_type': 'Exon', 'version': 1, 'species': 'oryctolagus_cuniculus', 'start': 114724412, 'assembly_name': 'OryCun2.0'}, {'object_type': 'Exon', 'db_type': 'core', 'version': 1, 'id': 'ENSOCUE00000071619', 'seq_region_name': '1', 'end': 114721107, 'strand': -1, 'assembly_name': 'OryCun2.0', 'species': 'oryctolagus_cuniculus', 'start': 114720935}, {'object_type': 'Exon', 'db_type': 'core', 'version': 1, 'end': 114713781, 'seq_region_name': '1', 'id': 'ENSOCUEE00000358960', 'strand': -1, 'assembly_name': 'OryCun2.0', 'start': 114713708, 'species': 'oryctolagus_cuniculus'}, {'version': 1, 'object_type': 'Exon', 'db_type': 'core', 'strand': -1, 'end': 114713706, 'seq_region_name': '1', 'id': 'ENSOCUEE00000344610', 'assembly_name': 'OryCun2.0', 'start': 114713669, 'species': 'oryctolagus_cuniculus'}, {'start': 114713663, 'species': 'oryctolagus_cuniculus', 'assembly_name': 'OryCun2.0', 'id': 'ENSOCUEE00000361555', 'end': 114713665, 'seq_region_name': '1', 'strand': -1, 'object_type': 'Exon', 'db_type': 'core', 'version': 1}], 'Translation': {'length': 240, 'end': 114744947, 'id': 'ENSOCUP00000030932', 'Parent': 'ENSOCUT00000039513', 'db_type': 'core', 'object_type': 'Translation', 'start': 114713663, 'species': 'oryctolagus_cuniculus'}, 'Parent': 'ENSOCUG00000006104', 'start': 114713663, 'is_canonical': 0, 'assembly_name': 'OryCun2.0', 'seq_region_name': '1', 'strand': -1, 'source': 'ensembl', 'object_type': 'Transcript', 'db_type': 'core', 'display_name': 'CFAP300-202', 'version': 1, 'logic_name': 'ensembl', 'species': 'oryctolagus_cuniculus', 'biotype': 'protein_coding'}, {'logic_name': 'ensembl', 'species': 'oryctolagus_cuniculus', 'biotype': 'protein_coding', 'seq_region_name': '1', 'strand': -1, 'db_type': 'core', 'object_type': 'Transcript', 'source': 'ensembl', 'version': 1, 'display_name': 'CFAP300-203', 'start': 114718968, 'is_canonical': 0, 'assembly_name': 'OryCun2.0', 'end': 114744947, 'id': 'ENSOCUT00000046375', 'Exon': [{'assembly_name': 'OryCun2.0', 'species': 'oryctolagus_cuniculus', 'start': 114744838, 'db_type': 'core', 'object_type': 'Exon', 'version': 3, 'end': 114744947, 'seq_region_name': '1', 'id': 'ENSOCUE00000251480', 'strand': -1}, {'species': 'oryctolagus_cuniculus', 'start': 114744527, 'assembly_name': 'OryCun2.0', 'end': 114744608, 'seq_region_name': '1', 'id': 'ENSOCUE00000265775', 'strand': -1, 'db_type': 'core', 'object_type': 'Exon', 'version': 1}, {'assembly_name': 'OryCun2.0', 'start': 114728224, 'species': 'oryctolagus_cuniculus', 'version': 1, 'object_type': 'Exon', 'db_type': 'core', 'strand': -1, 'id': 'ENSOCUE00000071606', 'end': 114728299, 'seq_region_name': '1'}, {'species': 'oryctolagus_cuniculus', 'start': 114724412, 'assembly_name': 'OryCun2.0', 'strand': -1, 'end': 114724578, 'seq_region_name': '1', 'id': 'ENSOCUE00000071612', 'version': 1, 'object_type': 'Exon', 'db_type': 'core'}, {'strand': -1, 'id': 'ENSOCUE00000071619', 'seq_region_name': '1', 'end': 114721107, 'version': 1, 'db_type': 'core', 'object_type': 'Exon', 'species': 'oryctolagus_cuniculus', 'start': 114720935, 'assembly_name': 'OryCun2.0'}, {'strand': -1, 'id': 'ENSOCUEE00000349261', 'seq_region_name': '1', 'end': 114719623, 'version': 1, 'object_type': 'Exon', 'db_type': 'core', 'species': 'oryctolagus_cuniculus', 'start': 114718968, 'assembly_name': 'OryCun2.0'}], 'Parent': 'ENSOCUG00000006104', 'Translation': {'end': 114744947, 'id': 'ENSOCUP00000034423', 'length': 262, 'db_type': 'core', 'Parent': 'ENSOCUT00000046375', 'object_type': 'Translation', 'species': 'oryctolagus_cuniculus', 'start': 114719443}}, {'start': 114721076, 'assembly_name': 'OryCun2.0', 'is_canonical': 0, 'id': 'ENSOCUT00000060856', 'end': 114744947, 'Exon': [{'version': 3, 'db_type': 'core', 'object_type': 'Exon', 'strand': -1, 'seq_region_name': '1', 'end': 114744947, 'id': 'ENSOCUE00000251480', 'assembly_name': 'OryCun2.0', 'species': 'oryctolagus_cuniculus', 'start': 114744838}, {'species': 'oryctolagus_cuniculus', 'start': 114744527, 'assembly_name': 'OryCun2.0', 'strand': -1, 'id': 'ENSOCUE00000265775', 'end': 114744608, 'seq_region_name': '1', 'version': 1, 'db_type': 'core', 'object_type': 'Exon'}, {'version': 1, 'object_type': 'Exon', 'db_type': 'core', 'strand': -1, 'id': 'ENSOCUE00000071606', 'end': 114728299, 'seq_region_name': '1', 'assembly_name': 'OryCun2.0', 'species': 'oryctolagus_cuniculus', 'start': 114728224}, {'species': 'oryctolagus_cuniculus', 'start': 114721076, 'assembly_name': 'OryCun2.0', 'strand': -1, 'seq_region_name': '1', 'end': 114721107, 'id': 'ENSOCUEE00000335954', 'version': 1, 'object_type': 'Exon', 'db_type': 'core'}], 'Translation': {'end': 114744947, 'id': 'ENSOCUP00000038549', 'length': 99, 'db_type': 'core', 'Parent': 'ENSOCUT00000060856', 'object_type': 'Translation', 'start': 114721076, 'species': 'oryctolagus_cuniculus'}, 'Parent': 'ENSOCUG00000006104', 'logic_name': 'ensembl', 'species': 'oryctolagus_cuniculus', 'biotype': 'protein_coding', 'seq_region_name': '1', 'strand': -1, 'source': 'ensembl', 'db_type': 'core', 'object_type': 'Transcript', 'display_name': 'CFAP300-204', 'version': 1}], 'strand': -1, 'object_type': 'Gene', 'db_type': 'core', 'source': 'ensembl', 'version': 4, 'display_name': 'CFAP300', 'species': 'oryctolagus_cuniculus', 'logic_name': 'ensembl', 'biotype': 'protein_coding', 'end': 114745251, 'id': 'ENSOCUG00000006104', 'description': 'cilia and flagella associated protein 300 [Source:HGNC Symbol;Acc:HGNC:28188]', 'start': 114711356, 'assembly_name': 'OryCun2.0'}\n"
     ]
    }
   ],
   "source": [
    "r = requests.get(server+ext, headers={ \"Content-Type\" : \"application/json\"})\n",
    " \n",
    "if not r.ok:\n",
    "  r.raise_for_status()\n",
    "  sys.exit()\n",
    " \n",
    "decoded = r.json()\n",
    "print(repr(decoded))"
   ]
  },
  {
   "cell_type": "code",
   "execution_count": 34,
   "metadata": {},
   "outputs": [
    {
     "name": "stdout",
     "output_type": "stream",
     "text": [
      "[{'species': 'oryctolagus_cuniculus', 'start': 114744838, 'assembly_name': 'OryCun2.0', 'strand': -1, 'end': 114745251, 'seq_region_name': '1', 'id': 'ENSOCUEE00000339040', 'version': 1, 'object_type': 'Exon', 'db_type': 'core'}, {'species': 'oryctolagus_cuniculus', 'start': 114728224, 'assembly_name': 'OryCun2.0', 'end': 114728299, 'seq_region_name': '1', 'id': 'ENSOCUE00000071606', 'strand': -1, 'object_type': 'Exon', 'db_type': 'core', 'version': 1}, {'assembly_name': 'OryCun2.0', 'start': 114724412, 'species': 'oryctolagus_cuniculus', 'version': 1, 'object_type': 'Exon', 'db_type': 'core', 'strand': -1, 'seq_region_name': '1', 'end': 114724578, 'id': 'ENSOCUE00000071612'}, {'seq_region_name': '1', 'end': 114721107, 'id': 'ENSOCUE00000071619', 'strand': -1, 'object_type': 'Exon', 'db_type': 'core', 'version': 1, 'species': 'oryctolagus_cuniculus', 'start': 114720935, 'assembly_name': 'OryCun2.0'}, {'assembly_name': 'OryCun2.0', 'start': 114713715, 'species': 'oryctolagus_cuniculus', 'version': 1, 'object_type': 'Exon', 'db_type': 'core', 'strand': -1, 'seq_region_name': '1', 'end': 114713781, 'id': 'ENSOCUE00000273866'}, {'version': 3, 'object_type': 'Exon', 'db_type': 'core', 'strand': -1, 'seq_region_name': '1', 'end': 114711484, 'id': 'ENSOCUE00000071629', 'assembly_name': 'OryCun2.0', 'species': 'oryctolagus_cuniculus', 'start': 114711356}]\n"
     ]
    }
   ],
   "source": [
    "print(decoded['Transcript'][0]['Exon'])"
   ]
  },
  {
   "cell_type": "code",
   "execution_count": 21,
   "metadata": {},
   "outputs": [
    {
     "name": "stdout",
     "output_type": "stream",
     "text": [
      "{'assembly_name': 'OryCun2.0', 'Parent': 'ENSOCUG00000006104', 'Translation': {'length': 240, 'object_type': 'Translation', 'end': 114744947, 'start': 114713663, 'Parent': 'ENSOCUT00000039513', 'id': 'ENSOCUP00000030932', 'species': 'oryctolagus_cuniculus', 'db_type': 'core'}, 'display_name': 'CFAP300-202', 'Exon': [{'strand': -1, 'version': 3, 'assembly_name': 'OryCun2.0', 'id': 'ENSOCUE00000251480', 'seq_region_name': '1', 'species': 'oryctolagus_cuniculus', 'db_type': 'core', 'object_type': 'Exon', 'end': 114744947, 'start': 114744838}, {'strand': -1, 'assembly_name': 'OryCun2.0', 'version': 1, 'id': 'ENSOCUE00000265775', 'seq_region_name': '1', 'db_type': 'core', 'species': 'oryctolagus_cuniculus', 'object_type': 'Exon', 'end': 114744608, 'start': 114744527}, {'version': 1, 'assembly_name': 'OryCun2.0', 'strand': -1, 'seq_region_name': '1', 'species': 'oryctolagus_cuniculus', 'db_type': 'core', 'id': 'ENSOCUE00000071606', 'object_type': 'Exon', 'start': 114728224, 'end': 114728299}, {'object_type': 'Exon', 'start': 114724412, 'end': 114724578, 'assembly_name': 'OryCun2.0', 'version': 1, 'strand': -1, 'seq_region_name': '1', 'species': 'oryctolagus_cuniculus', 'db_type': 'core', 'id': 'ENSOCUE00000071612'}, {'start': 114720935, 'end': 114721107, 'object_type': 'Exon', 'db_type': 'core', 'seq_region_name': '1', 'species': 'oryctolagus_cuniculus', 'id': 'ENSOCUE00000071619', 'version': 1, 'assembly_name': 'OryCun2.0', 'strand': -1}, {'object_type': 'Exon', 'end': 114713781, 'start': 114713708, 'strand': -1, 'version': 1, 'assembly_name': 'OryCun2.0', 'id': 'ENSOCUEE00000358960', 'seq_region_name': '1', 'db_type': 'core', 'species': 'oryctolagus_cuniculus'}, {'species': 'oryctolagus_cuniculus', 'seq_region_name': '1', 'db_type': 'core', 'id': 'ENSOCUEE00000344610', 'assembly_name': 'OryCun2.0', 'version': 1, 'strand': -1, 'start': 114713669, 'end': 114713706, 'object_type': 'Exon'}, {'end': 114713665, 'start': 114713663, 'object_type': 'Exon', 'id': 'ENSOCUEE00000361555', 'db_type': 'core', 'seq_region_name': '1', 'species': 'oryctolagus_cuniculus', 'strand': -1, 'version': 1, 'assembly_name': 'OryCun2.0'}], 'source': 'ensembl', 'version': 1, 'strand': -1, 'logic_name': 'ensembl', 'seq_region_name': '1', 'species': 'oryctolagus_cuniculus', 'db_type': 'core', 'id': 'ENSOCUT00000039513', 'is_canonical': 0, 'biotype': 'protein_coding', 'object_type': 'Transcript', 'start': 114713663, 'end': 114744947}\n"
     ]
    }
   ],
   "source": [
    "print(decoded['Transcript'][1])"
   ]
  },
  {
   "cell_type": "code",
   "execution_count": 22,
   "metadata": {},
   "outputs": [
    {
     "name": "stdout",
     "output_type": "stream",
     "text": [
      "{'display_name': 'CFAP300-203', 'assembly_name': 'OryCun2.0', 'Parent': 'ENSOCUG00000006104', 'Translation': {'object_type': 'Translation', 'length': 262, 'end': 114744947, 'start': 114719443, 'Parent': 'ENSOCUT00000046375', 'id': 'ENSOCUP00000034423', 'db_type': 'core', 'species': 'oryctolagus_cuniculus'}, 'Exon': [{'start': 114744838, 'end': 114744947, 'object_type': 'Exon', 'seq_region_name': '1', 'species': 'oryctolagus_cuniculus', 'db_type': 'core', 'id': 'ENSOCUE00000251480', 'assembly_name': 'OryCun2.0', 'version': 3, 'strand': -1}, {'start': 114744527, 'end': 114744608, 'object_type': 'Exon', 'seq_region_name': '1', 'db_type': 'core', 'species': 'oryctolagus_cuniculus', 'id': 'ENSOCUE00000265775', 'assembly_name': 'OryCun2.0', 'version': 1, 'strand': -1}, {'end': 114728299, 'start': 114728224, 'object_type': 'Exon', 'id': 'ENSOCUE00000071606', 'db_type': 'core', 'seq_region_name': '1', 'species': 'oryctolagus_cuniculus', 'strand': -1, 'version': 1, 'assembly_name': 'OryCun2.0'}, {'object_type': 'Exon', 'start': 114724412, 'end': 114724578, 'version': 1, 'assembly_name': 'OryCun2.0', 'strand': -1, 'seq_region_name': '1', 'species': 'oryctolagus_cuniculus', 'db_type': 'core', 'id': 'ENSOCUE00000071612'}, {'end': 114721107, 'start': 114720935, 'object_type': 'Exon', 'id': 'ENSOCUE00000071619', 'species': 'oryctolagus_cuniculus', 'seq_region_name': '1', 'db_type': 'core', 'strand': -1, 'assembly_name': 'OryCun2.0', 'version': 1}, {'object_type': 'Exon', 'end': 114719623, 'start': 114718968, 'strand': -1, 'version': 1, 'assembly_name': 'OryCun2.0', 'id': 'ENSOCUEE00000349261', 'seq_region_name': '1', 'db_type': 'core', 'species': 'oryctolagus_cuniculus'}], 'seq_region_name': '1', 'species': 'oryctolagus_cuniculus', 'db_type': 'core', 'id': 'ENSOCUT00000046375', 'source': 'ensembl', 'version': 1, 'logic_name': 'ensembl', 'strand': -1, 'start': 114718968, 'end': 114744947, 'is_canonical': 0, 'biotype': 'protein_coding', 'object_type': 'Transcript'}\n"
     ]
    }
   ],
   "source": [
    "print(decoded['Transcript'][2])"
   ]
  },
  {
   "cell_type": "code",
   "execution_count": 23,
   "metadata": {},
   "outputs": [
    {
     "name": "stdout",
     "output_type": "stream",
     "text": [
      "{'is_canonical': 0, 'biotype': 'protein_coding', 'object_type': 'Transcript', 'start': 114721076, 'end': 114744947, 'version': 1, 'source': 'ensembl', 'logic_name': 'ensembl', 'strand': -1, 'seq_region_name': '1', 'species': 'oryctolagus_cuniculus', 'db_type': 'core', 'id': 'ENSOCUT00000060856', 'Exon': [{'id': 'ENSOCUE00000251480', 'seq_region_name': '1', 'species': 'oryctolagus_cuniculus', 'db_type': 'core', 'strand': -1, 'version': 3, 'assembly_name': 'OryCun2.0', 'end': 114744947, 'start': 114744838, 'object_type': 'Exon'}, {'version': 1, 'assembly_name': 'OryCun2.0', 'strand': -1, 'species': 'oryctolagus_cuniculus', 'seq_region_name': '1', 'db_type': 'core', 'id': 'ENSOCUE00000265775', 'object_type': 'Exon', 'start': 114744527, 'end': 114744608}, {'version': 1, 'assembly_name': 'OryCun2.0', 'strand': -1, 'seq_region_name': '1', 'db_type': 'core', 'species': 'oryctolagus_cuniculus', 'id': 'ENSOCUE00000071606', 'object_type': 'Exon', 'start': 114728224, 'end': 114728299}, {'end': 114721107, 'start': 114721076, 'object_type': 'Exon', 'id': 'ENSOCUEE00000335954', 'species': 'oryctolagus_cuniculus', 'seq_region_name': '1', 'db_type': 'core', 'strand': -1, 'version': 1, 'assembly_name': 'OryCun2.0'}], 'assembly_name': 'OryCun2.0', 'Parent': 'ENSOCUG00000006104', 'Translation': {'id': 'ENSOCUP00000038549', 'db_type': 'core', 'species': 'oryctolagus_cuniculus', 'Parent': 'ENSOCUT00000060856', 'end': 114744947, 'start': 114721076, 'length': 99, 'object_type': 'Translation'}, 'display_name': 'CFAP300-204'}\n"
     ]
    }
   ],
   "source": [
    "print(decoded['Transcript'][3])"
   ]
  },
  {
   "cell_type": "code",
   "execution_count": null,
   "metadata": {},
   "outputs": [],
   "source": []
  }
 ],
 "metadata": {
  "kernelspec": {
   "display_name": "Python 3",
   "language": "python",
   "name": "python3"
  },
  "language_info": {
   "codemirror_mode": {
    "name": "ipython",
    "version": 3
   },
   "file_extension": ".py",
   "mimetype": "text/x-python",
   "name": "python",
   "nbconvert_exporter": "python",
   "pygments_lexer": "ipython3",
   "version": "3.7.1"
  }
 },
 "nbformat": 4,
 "nbformat_minor": 2
}
