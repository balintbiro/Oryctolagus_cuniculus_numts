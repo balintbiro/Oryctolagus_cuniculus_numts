{
 "cells": [
  {
   "cell_type": "markdown",
   "metadata": {},
   "source": [
    "https://rest.ensembl.org/documentation/info/lookup"
   ]
  },
  {
   "cell_type": "code",
   "execution_count": 2,
   "metadata": {},
   "outputs": [],
   "source": [
    "import requests, sys"
   ]
  },
  {
   "cell_type": "code",
   "execution_count": 3,
   "metadata": {},
   "outputs": [],
   "source": [
    "server = \"https://rest.ensembl.org\"\n",
    "ext = \"/lookup/id/ENSOCUG00000006104?expand=1\""
   ]
  },
  {
   "cell_type": "code",
   "execution_count": 4,
   "metadata": {},
   "outputs": [
    {
     "name": "stdout",
     "output_type": "stream",
     "text": [
      "{'assembly_name': 'OryCun2.0', 'species': 'oryctolagus_cuniculus', 'biotype': 'protein_coding', 'start': 114711356, 'description': 'cilia and flagella associated protein 300 [Source:HGNC Symbol;Acc:HGNC:28188]', 'object_type': 'Gene', 'source': 'ensembl', 'display_name': 'CFAP300', 'end': 114745251, 'db_type': 'core', 'version': 4, 'logic_name': 'ensembl', 'strand': -1, 'Transcript': [{'assembly_name': 'OryCun2.0', 'biotype': 'protein_coding', 'species': 'oryctolagus_cuniculus', 'start': 114711356, 'object_type': 'Transcript', 'is_canonical': 1, 'Parent': 'ENSOCUG00000006104', 'display_name': 'CFAP300-201', 'Translation': {'length': 341, 'start': 114711356, 'object_type': 'Translation', 'Parent': 'ENSOCUT00000006101', 'db_type': 'core', 'species': 'oryctolagus_cuniculus', 'end': 114745251, 'id': 'ENSOCUP00000005284'}, 'source': 'ensembl', 'end': 114745251, 'db_type': 'core', 'version': 4, 'logic_name': 'ensembl', 'strand': -1, 'Exon': [{'species': 'oryctolagus_cuniculus', 'db_type': 'core', 'assembly_name': 'OryCun2.0', 'strand': -1, 'object_type': 'Exon', 'version': 1, 'start': 114744838, 'id': 'ENSOCUEE00000339040', 'end': 114745251, 'seq_region_name': '1'}, {'seq_region_name': '1', 'end': 114728299, 'id': 'ENSOCUE00000071606', 'version': 1, 'object_type': 'Exon', 'start': 114728224, 'strand': -1, 'assembly_name': 'OryCun2.0', 'db_type': 'core', 'species': 'oryctolagus_cuniculus'}, {'seq_region_name': '1', 'end': 114724578, 'id': 'ENSOCUE00000071612', 'assembly_name': 'OryCun2.0', 'db_type': 'core', 'species': 'oryctolagus_cuniculus', 'object_type': 'Exon', 'version': 1, 'start': 114724412, 'strand': -1}, {'id': 'ENSOCUE00000071619', 'end': 114721107, 'seq_region_name': '1', 'species': 'oryctolagus_cuniculus', 'db_type': 'core', 'assembly_name': 'OryCun2.0', 'strand': -1, 'version': 1, 'object_type': 'Exon', 'start': 114720935}, {'strand': -1, 'start': 114713715, 'version': 1, 'object_type': 'Exon', 'species': 'oryctolagus_cuniculus', 'assembly_name': 'OryCun2.0', 'db_type': 'core', 'end': 114713781, 'seq_region_name': '1', 'id': 'ENSOCUE00000273866'}, {'strand': -1, 'version': 3, 'start': 114711356, 'object_type': 'Exon', 'species': 'oryctolagus_cuniculus', 'assembly_name': 'OryCun2.0', 'db_type': 'core', 'seq_region_name': '1', 'end': 114711484, 'id': 'ENSOCUE00000071629'}], 'id': 'ENSOCUT00000006101', 'seq_region_name': '1'}, {'id': 'ENSOCUT00000039513', 'seq_region_name': '1', 'Exon': [{'end': 114744947, 'seq_region_name': '1', 'id': 'ENSOCUE00000251480', 'strand': -1, 'start': 114744838, 'version': 3, 'object_type': 'Exon', 'species': 'oryctolagus_cuniculus', 'assembly_name': 'OryCun2.0', 'db_type': 'core'}, {'id': 'ENSOCUE00000265775', 'end': 114744608, 'seq_region_name': '1', 'strand': -1, 'version': 1, 'start': 114744527, 'object_type': 'Exon', 'species': 'oryctolagus_cuniculus', 'db_type': 'core', 'assembly_name': 'OryCun2.0'}, {'id': 'ENSOCUE00000071606', 'end': 114728299, 'seq_region_name': '1', 'db_type': 'core', 'assembly_name': 'OryCun2.0', 'species': 'oryctolagus_cuniculus', 'start': 114728224, 'version': 1, 'object_type': 'Exon', 'strand': -1}, {'id': 'ENSOCUE00000071612', 'seq_region_name': '1', 'end': 114724578, 'version': 1, 'start': 114724412, 'object_type': 'Exon', 'strand': -1, 'db_type': 'core', 'assembly_name': 'OryCun2.0', 'species': 'oryctolagus_cuniculus'}, {'id': 'ENSOCUE00000071619', 'seq_region_name': '1', 'end': 114721107, 'strand': -1, 'object_type': 'Exon', 'version': 1, 'start': 114720935, 'species': 'oryctolagus_cuniculus', 'db_type': 'core', 'assembly_name': 'OryCun2.0'}, {'strand': -1, 'version': 1, 'start': 114713708, 'object_type': 'Exon', 'species': 'oryctolagus_cuniculus', 'assembly_name': 'OryCun2.0', 'db_type': 'core', 'seq_region_name': '1', 'end': 114713781, 'id': 'ENSOCUEE00000358960'}, {'id': 'ENSOCUEE00000344610', 'end': 114713706, 'seq_region_name': '1', 'species': 'oryctolagus_cuniculus', 'db_type': 'core', 'assembly_name': 'OryCun2.0', 'strand': -1, 'start': 114713669, 'version': 1, 'object_type': 'Exon'}, {'id': 'ENSOCUEE00000361555', 'seq_region_name': '1', 'end': 114713665, 'start': 114713663, 'version': 1, 'object_type': 'Exon', 'strand': -1, 'db_type': 'core', 'assembly_name': 'OryCun2.0', 'species': 'oryctolagus_cuniculus'}], 'strand': -1, 'logic_name': 'ensembl', 'version': 1, 'db_type': 'core', 'end': 114744947, 'Translation': {'id': 'ENSOCUP00000030932', 'end': 114744947, 'object_type': 'Translation', 'start': 114713663, 'length': 240, 'Parent': 'ENSOCUT00000039513', 'db_type': 'core', 'species': 'oryctolagus_cuniculus'}, 'display_name': 'CFAP300-202', 'source': 'ensembl', 'is_canonical': 0, 'Parent': 'ENSOCUG00000006104', 'start': 114713663, 'object_type': 'Transcript', 'species': 'oryctolagus_cuniculus', 'biotype': 'protein_coding', 'assembly_name': 'OryCun2.0'}, {'species': 'oryctolagus_cuniculus', 'biotype': 'protein_coding', 'assembly_name': 'OryCun2.0', 'Parent': 'ENSOCUG00000006104', 'is_canonical': 0, 'start': 114718968, 'object_type': 'Transcript', 'Translation': {'db_type': 'core', 'species': 'oryctolagus_cuniculus', 'length': 262, 'object_type': 'Translation', 'start': 114719443, 'Parent': 'ENSOCUT00000046375', 'end': 114744947, 'id': 'ENSOCUP00000034423'}, 'display_name': 'CFAP300-203', 'source': 'ensembl', 'end': 114744947, 'db_type': 'core', 'strand': -1, 'version': 1, 'logic_name': 'ensembl', 'Exon': [{'version': 3, 'object_type': 'Exon', 'start': 114744838, 'strand': -1, 'db_type': 'core', 'assembly_name': 'OryCun2.0', 'species': 'oryctolagus_cuniculus', 'id': 'ENSOCUE00000251480', 'seq_region_name': '1', 'end': 114744947}, {'id': 'ENSOCUE00000265775', 'end': 114744608, 'seq_region_name': '1', 'db_type': 'core', 'assembly_name': 'OryCun2.0', 'species': 'oryctolagus_cuniculus', 'object_type': 'Exon', 'version': 1, 'start': 114744527, 'strand': -1}, {'id': 'ENSOCUE00000071606', 'end': 114728299, 'seq_region_name': '1', 'start': 114728224, 'version': 1, 'object_type': 'Exon', 'strand': -1, 'db_type': 'core', 'assembly_name': 'OryCun2.0', 'species': 'oryctolagus_cuniculus'}, {'id': 'ENSOCUE00000071612', 'seq_region_name': '1', 'end': 114724578, 'start': 114724412, 'version': 1, 'object_type': 'Exon', 'strand': -1, 'db_type': 'core', 'assembly_name': 'OryCun2.0', 'species': 'oryctolagus_cuniculus'}, {'strand': -1, 'start': 114720935, 'version': 1, 'object_type': 'Exon', 'species': 'oryctolagus_cuniculus', 'db_type': 'core', 'assembly_name': 'OryCun2.0', 'id': 'ENSOCUE00000071619', 'seq_region_name': '1', 'end': 114721107}, {'seq_region_name': '1', 'end': 114719623, 'id': 'ENSOCUEE00000349261', 'assembly_name': 'OryCun2.0', 'db_type': 'core', 'species': 'oryctolagus_cuniculus', 'start': 114718968, 'version': 1, 'object_type': 'Exon', 'strand': -1}], 'id': 'ENSOCUT00000046375', 'seq_region_name': '1'}, {'logic_name': 'ensembl', 'version': 1, 'strand': -1, 'db_type': 'core', 'id': 'ENSOCUT00000060856', 'seq_region_name': '1', 'Exon': [{'seq_region_name': '1', 'end': 114744947, 'id': 'ENSOCUE00000251480', 'species': 'oryctolagus_cuniculus', 'assembly_name': 'OryCun2.0', 'db_type': 'core', 'strand': -1, 'object_type': 'Exon', 'version': 3, 'start': 114744838}, {'id': 'ENSOCUE00000265775', 'end': 114744608, 'seq_region_name': '1', 'object_type': 'Exon', 'version': 1, 'start': 114744527, 'strand': -1, 'db_type': 'core', 'assembly_name': 'OryCun2.0', 'species': 'oryctolagus_cuniculus'}, {'version': 1, 'start': 114728224, 'object_type': 'Exon', 'strand': -1, 'assembly_name': 'OryCun2.0', 'db_type': 'core', 'species': 'oryctolagus_cuniculus', 'end': 114728299, 'seq_region_name': '1', 'id': 'ENSOCUE00000071606'}, {'version': 1, 'object_type': 'Exon', 'start': 114721076, 'strand': -1, 'db_type': 'core', 'assembly_name': 'OryCun2.0', 'species': 'oryctolagus_cuniculus', 'id': 'ENSOCUEE00000335954', 'seq_region_name': '1', 'end': 114721107}], 'object_type': 'Transcript', 'start': 114721076, 'is_canonical': 0, 'Parent': 'ENSOCUG00000006104', 'assembly_name': 'OryCun2.0', 'biotype': 'protein_coding', 'species': 'oryctolagus_cuniculus', 'end': 114744947, 'Translation': {'id': 'ENSOCUP00000038549', 'end': 114744947, 'db_type': 'core', 'species': 'oryctolagus_cuniculus', 'start': 114721076, 'object_type': 'Translation', 'length': 99, 'Parent': 'ENSOCUT00000060856'}, 'display_name': 'CFAP300-204', 'source': 'ensembl'}], 'seq_region_name': '1', 'id': 'ENSOCUG00000006104'}\n"
     ]
    }
   ],
   "source": [
    "r = requests.get(server+ext, headers={ \"Content-Type\" : \"application/json\"})\n",
    " \n",
    "if not r.ok:\n",
    "  r.raise_for_status()\n",
    "  sys.exit()\n",
    " \n",
    "decoded = r.json()\n",
    "print(repr(decoded))"
   ]
  },
  {
   "cell_type": "code",
   "execution_count": 5,
   "metadata": {},
   "outputs": [
    {
     "name": "stdout",
     "output_type": "stream",
     "text": [
      "[{'species': 'oryctolagus_cuniculus', 'db_type': 'core', 'assembly_name': 'OryCun2.0', 'strand': -1, 'object_type': 'Exon', 'version': 1, 'start': 114744838, 'id': 'ENSOCUEE00000339040', 'end': 114745251, 'seq_region_name': '1'}, {'seq_region_name': '1', 'end': 114728299, 'id': 'ENSOCUE00000071606', 'version': 1, 'object_type': 'Exon', 'start': 114728224, 'strand': -1, 'assembly_name': 'OryCun2.0', 'db_type': 'core', 'species': 'oryctolagus_cuniculus'}, {'seq_region_name': '1', 'end': 114724578, 'id': 'ENSOCUE00000071612', 'assembly_name': 'OryCun2.0', 'db_type': 'core', 'species': 'oryctolagus_cuniculus', 'object_type': 'Exon', 'version': 1, 'start': 114724412, 'strand': -1}, {'id': 'ENSOCUE00000071619', 'end': 114721107, 'seq_region_name': '1', 'species': 'oryctolagus_cuniculus', 'db_type': 'core', 'assembly_name': 'OryCun2.0', 'strand': -1, 'version': 1, 'object_type': 'Exon', 'start': 114720935}, {'strand': -1, 'start': 114713715, 'version': 1, 'object_type': 'Exon', 'species': 'oryctolagus_cuniculus', 'assembly_name': 'OryCun2.0', 'db_type': 'core', 'end': 114713781, 'seq_region_name': '1', 'id': 'ENSOCUE00000273866'}, {'strand': -1, 'version': 3, 'start': 114711356, 'object_type': 'Exon', 'species': 'oryctolagus_cuniculus', 'assembly_name': 'OryCun2.0', 'db_type': 'core', 'seq_region_name': '1', 'end': 114711484, 'id': 'ENSOCUE00000071629'}]\n"
     ]
    }
   ],
   "source": [
    "print(decoded['Transcript'][0]['Exon'])"
   ]
  },
  {
   "cell_type": "code",
   "execution_count": 6,
   "metadata": {},
   "outputs": [
    {
     "name": "stdout",
     "output_type": "stream",
     "text": [
      "[{'end': 114744947, 'seq_region_name': '1', 'id': 'ENSOCUE00000251480', 'strand': -1, 'start': 114744838, 'version': 3, 'object_type': 'Exon', 'species': 'oryctolagus_cuniculus', 'assembly_name': 'OryCun2.0', 'db_type': 'core'}, {'id': 'ENSOCUE00000265775', 'end': 114744608, 'seq_region_name': '1', 'strand': -1, 'version': 1, 'start': 114744527, 'object_type': 'Exon', 'species': 'oryctolagus_cuniculus', 'db_type': 'core', 'assembly_name': 'OryCun2.0'}, {'id': 'ENSOCUE00000071606', 'end': 114728299, 'seq_region_name': '1', 'db_type': 'core', 'assembly_name': 'OryCun2.0', 'species': 'oryctolagus_cuniculus', 'start': 114728224, 'version': 1, 'object_type': 'Exon', 'strand': -1}, {'id': 'ENSOCUE00000071612', 'seq_region_name': '1', 'end': 114724578, 'version': 1, 'start': 114724412, 'object_type': 'Exon', 'strand': -1, 'db_type': 'core', 'assembly_name': 'OryCun2.0', 'species': 'oryctolagus_cuniculus'}, {'id': 'ENSOCUE00000071619', 'seq_region_name': '1', 'end': 114721107, 'strand': -1, 'object_type': 'Exon', 'version': 1, 'start': 114720935, 'species': 'oryctolagus_cuniculus', 'db_type': 'core', 'assembly_name': 'OryCun2.0'}, {'strand': -1, 'version': 1, 'start': 114713708, 'object_type': 'Exon', 'species': 'oryctolagus_cuniculus', 'assembly_name': 'OryCun2.0', 'db_type': 'core', 'seq_region_name': '1', 'end': 114713781, 'id': 'ENSOCUEE00000358960'}, {'id': 'ENSOCUEE00000344610', 'end': 114713706, 'seq_region_name': '1', 'species': 'oryctolagus_cuniculus', 'db_type': 'core', 'assembly_name': 'OryCun2.0', 'strand': -1, 'start': 114713669, 'version': 1, 'object_type': 'Exon'}, {'id': 'ENSOCUEE00000361555', 'seq_region_name': '1', 'end': 114713665, 'start': 114713663, 'version': 1, 'object_type': 'Exon', 'strand': -1, 'db_type': 'core', 'assembly_name': 'OryCun2.0', 'species': 'oryctolagus_cuniculus'}]\n"
     ]
    }
   ],
   "source": [
    "print(decoded['Transcript'][1]['Exon'])"
   ]
  },
  {
   "cell_type": "code",
   "execution_count": 22,
   "metadata": {},
   "outputs": [
    {
     "name": "stdout",
     "output_type": "stream",
     "text": [
      "{'display_name': 'CFAP300-203', 'assembly_name': 'OryCun2.0', 'Parent': 'ENSOCUG00000006104', 'Translation': {'object_type': 'Translation', 'length': 262, 'end': 114744947, 'start': 114719443, 'Parent': 'ENSOCUT00000046375', 'id': 'ENSOCUP00000034423', 'db_type': 'core', 'species': 'oryctolagus_cuniculus'}, 'Exon': [{'start': 114744838, 'end': 114744947, 'object_type': 'Exon', 'seq_region_name': '1', 'species': 'oryctolagus_cuniculus', 'db_type': 'core', 'id': 'ENSOCUE00000251480', 'assembly_name': 'OryCun2.0', 'version': 3, 'strand': -1}, {'start': 114744527, 'end': 114744608, 'object_type': 'Exon', 'seq_region_name': '1', 'db_type': 'core', 'species': 'oryctolagus_cuniculus', 'id': 'ENSOCUE00000265775', 'assembly_name': 'OryCun2.0', 'version': 1, 'strand': -1}, {'end': 114728299, 'start': 114728224, 'object_type': 'Exon', 'id': 'ENSOCUE00000071606', 'db_type': 'core', 'seq_region_name': '1', 'species': 'oryctolagus_cuniculus', 'strand': -1, 'version': 1, 'assembly_name': 'OryCun2.0'}, {'object_type': 'Exon', 'start': 114724412, 'end': 114724578, 'version': 1, 'assembly_name': 'OryCun2.0', 'strand': -1, 'seq_region_name': '1', 'species': 'oryctolagus_cuniculus', 'db_type': 'core', 'id': 'ENSOCUE00000071612'}, {'end': 114721107, 'start': 114720935, 'object_type': 'Exon', 'id': 'ENSOCUE00000071619', 'species': 'oryctolagus_cuniculus', 'seq_region_name': '1', 'db_type': 'core', 'strand': -1, 'assembly_name': 'OryCun2.0', 'version': 1}, {'object_type': 'Exon', 'end': 114719623, 'start': 114718968, 'strand': -1, 'version': 1, 'assembly_name': 'OryCun2.0', 'id': 'ENSOCUEE00000349261', 'seq_region_name': '1', 'db_type': 'core', 'species': 'oryctolagus_cuniculus'}], 'seq_region_name': '1', 'species': 'oryctolagus_cuniculus', 'db_type': 'core', 'id': 'ENSOCUT00000046375', 'source': 'ensembl', 'version': 1, 'logic_name': 'ensembl', 'strand': -1, 'start': 114718968, 'end': 114744947, 'is_canonical': 0, 'biotype': 'protein_coding', 'object_type': 'Transcript'}\n"
     ]
    }
   ],
   "source": [
    "print(decoded['Transcript'][2])"
   ]
  },
  {
   "cell_type": "code",
   "execution_count": 23,
   "metadata": {},
   "outputs": [
    {
     "name": "stdout",
     "output_type": "stream",
     "text": [
      "{'is_canonical': 0, 'biotype': 'protein_coding', 'object_type': 'Transcript', 'start': 114721076, 'end': 114744947, 'version': 1, 'source': 'ensembl', 'logic_name': 'ensembl', 'strand': -1, 'seq_region_name': '1', 'species': 'oryctolagus_cuniculus', 'db_type': 'core', 'id': 'ENSOCUT00000060856', 'Exon': [{'id': 'ENSOCUE00000251480', 'seq_region_name': '1', 'species': 'oryctolagus_cuniculus', 'db_type': 'core', 'strand': -1, 'version': 3, 'assembly_name': 'OryCun2.0', 'end': 114744947, 'start': 114744838, 'object_type': 'Exon'}, {'version': 1, 'assembly_name': 'OryCun2.0', 'strand': -1, 'species': 'oryctolagus_cuniculus', 'seq_region_name': '1', 'db_type': 'core', 'id': 'ENSOCUE00000265775', 'object_type': 'Exon', 'start': 114744527, 'end': 114744608}, {'version': 1, 'assembly_name': 'OryCun2.0', 'strand': -1, 'seq_region_name': '1', 'db_type': 'core', 'species': 'oryctolagus_cuniculus', 'id': 'ENSOCUE00000071606', 'object_type': 'Exon', 'start': 114728224, 'end': 114728299}, {'end': 114721107, 'start': 114721076, 'object_type': 'Exon', 'id': 'ENSOCUEE00000335954', 'species': 'oryctolagus_cuniculus', 'seq_region_name': '1', 'db_type': 'core', 'strand': -1, 'version': 1, 'assembly_name': 'OryCun2.0'}], 'assembly_name': 'OryCun2.0', 'Parent': 'ENSOCUG00000006104', 'Translation': {'id': 'ENSOCUP00000038549', 'db_type': 'core', 'species': 'oryctolagus_cuniculus', 'Parent': 'ENSOCUT00000060856', 'end': 114744947, 'start': 114721076, 'length': 99, 'object_type': 'Translation'}, 'display_name': 'CFAP300-204'}\n"
     ]
    }
   ],
   "source": [
    "print(decoded['Transcript'][3])"
   ]
  },
  {
   "cell_type": "code",
   "execution_count": null,
   "metadata": {},
   "outputs": [],
   "source": []
  }
 ],
 "metadata": {
  "kernelspec": {
   "display_name": "Python 3",
   "language": "python",
   "name": "python3"
  },
  "language_info": {
   "codemirror_mode": {
    "name": "ipython",
    "version": 3
   },
   "file_extension": ".py",
   "mimetype": "text/x-python",
   "name": "python",
   "nbconvert_exporter": "python",
   "pygments_lexer": "ipython3",
   "version": "3.7.1"
  }
 },
 "nbformat": 4,
 "nbformat_minor": 2
}
