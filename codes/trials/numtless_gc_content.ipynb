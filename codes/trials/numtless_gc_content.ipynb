{
 "cells": [
  {
   "cell_type": "code",
   "execution_count": 303,
   "id": "d516d6d5",
   "metadata": {},
   "outputs": [],
   "source": [
    "#importing the required modules\n",
    "import os\n",
    "import numpy as np\n",
    "import pandas as pd\n",
    "from scipy.stats import anderson, wilcoxon, ttest_ind"
   ]
  },
  {
   "cell_type": "code",
   "execution_count": 6,
   "id": "1bbb90ce",
   "metadata": {},
   "outputs": [],
   "source": [
    "home_dir = os.path.join(r'Z:\\balint\\numt\\Michael\\data/')"
   ]
  },
  {
   "cell_type": "code",
   "execution_count": 7,
   "id": "c6907506",
   "metadata": {},
   "outputs": [
    {
     "data": {
      "text/html": [
       "<div>\n",
       "<style scoped>\n",
       "    .dataframe tbody tr th:only-of-type {\n",
       "        vertical-align: middle;\n",
       "    }\n",
       "\n",
       "    .dataframe tbody tr th {\n",
       "        vertical-align: top;\n",
       "    }\n",
       "\n",
       "    .dataframe thead th {\n",
       "        text-align: right;\n",
       "    }\n",
       "</style>\n",
       "<table border=\"1\" class=\"dataframe\">\n",
       "  <thead>\n",
       "    <tr style=\"text-align: right;\">\n",
       "      <th></th>\n",
       "      <th>score</th>\n",
       "      <th>eg2_value</th>\n",
       "      <th>e_value</th>\n",
       "      <th>g_id</th>\n",
       "      <th>g_start</th>\n",
       "      <th>mt_start</th>\n",
       "      <th>g_length</th>\n",
       "      <th>mt_length</th>\n",
       "      <th>g_strand</th>\n",
       "      <th>mt_strand</th>\n",
       "      <th>g_size</th>\n",
       "      <th>g_sequence</th>\n",
       "      <th>mt_sequence</th>\n",
       "      <th>g_up_flanking</th>\n",
       "      <th>g_down_flanking</th>\n",
       "      <th>mt_up_flanking (if strand is negative, the coordinates are corrected)</th>\n",
       "      <th>mt_down_flanking (if strand is negative, the coordinates are corrected)</th>\n",
       "      <th>ensembl_gene_id</th>\n",
       "      <th>ensembl_description</th>\n",
       "    </tr>\n",
       "  </thead>\n",
       "  <tbody>\n",
       "    <tr>\n",
       "      <th>0</th>\n",
       "      <td>17245</td>\n",
       "      <td>0.0</td>\n",
       "      <td>0.0</td>\n",
       "      <td>MT</td>\n",
       "      <td>0</td>\n",
       "      <td>0</td>\n",
       "      <td>17245</td>\n",
       "      <td>17245</td>\n",
       "      <td>+</td>\n",
       "      <td>+</td>\n",
       "      <td>17245</td>\n",
       "      <td>GTTAATGTAGCTTAACAACAAAGCAAAGCACTGAAAATGCTTAGAT...</td>\n",
       "      <td>GTTAATGTAGCTTAACAACAAAGCAAAGCACTGAAAATGCTTAGAT...</td>\n",
       "      <td>NaN</td>\n",
       "      <td>NaN</td>\n",
       "      <td>TACAAATTGTATAATATTTGGACTAAACCCCCTTTCCCACCCCAAG...</td>\n",
       "      <td>GTTAATGTAGCTTAACAACAAAGCAAAGCACTGAAAATGCTTAGAT...</td>\n",
       "      <td>ENSOCUG00000029081</td>\n",
       "      <td>NaN</td>\n",
       "    </tr>\n",
       "    <tr>\n",
       "      <th>1</th>\n",
       "      <td>3398</td>\n",
       "      <td>0.0</td>\n",
       "      <td>0.0</td>\n",
       "      <td>1</td>\n",
       "      <td>114731432</td>\n",
       "      <td>6976</td>\n",
       "      <td>4680</td>\n",
       "      <td>4681</td>\n",
       "      <td>+</td>\n",
       "      <td>+</td>\n",
       "      <td>194850757</td>\n",
       "      <td>taGTAAAATTATTACATAACTTTGTCGAAGTTAATTTATAGGTTCA...</td>\n",
       "      <td>TAGTAAAACCATTACATAACTTTGTCGAAGTTAATTTATAGGTTCA...</td>\n",
       "      <td>ACAAAAGACTCTGAATAGCCAAAGCGATCCTGAACAAGAAAAATCA...</td>\n",
       "      <td>TATATATATTTATATATATATGTATATATGTACATATATATAACTA...</td>\n",
       "      <td>CCTTCGCCTCAAAACGAGAAGTAGAGACTATTGAACTAACAACCAC...</td>\n",
       "      <td>AACTGCTAATTCATGCTCCCATGTCTAACCCCATGGCTTTCTCAAC...</td>\n",
       "      <td>ENSOCUG00000006104</td>\n",
       "      <td>cilia and flagella associated protein 300 [Sou...</td>\n",
       "    </tr>\n",
       "    <tr>\n",
       "      <th>2</th>\n",
       "      <td>3120</td>\n",
       "      <td>0.0</td>\n",
       "      <td>0.0</td>\n",
       "      <td>GL019308</td>\n",
       "      <td>67160</td>\n",
       "      <td>883</td>\n",
       "      <td>4892</td>\n",
       "      <td>4945</td>\n",
       "      <td>+</td>\n",
       "      <td>+</td>\n",
       "      <td>88228</td>\n",
       "      <td>CAAGGCCATGAAGCATGCACACACTGCCCATCGCTCTCCTCAAACA...</td>\n",
       "      <td>CAAGGCCATGAAGCACGCACACACCGCCCGTCACCCTCCTCAAGTG...</td>\n",
       "      <td>GATAAACCCCGATAAACTTTACCACTCTTTGCCAACTCAGCCTCTA...</td>\n",
       "      <td>ATGAAGGGGCAAAGAGTAATTTTACAGTCGAGAGGGCTAGCAGTCA...</td>\n",
       "      <td>TACCGCCATCTTCAGCGAACCCTAAAAAGGAGCAAAAGTAAGCTCA...</td>\n",
       "      <td>TAGGGGCTATTAACTTTATTACAACTATTATTAATATGAAAGCCCC...</td>\n",
       "      <td>ENSOCUG00000031196</td>\n",
       "      <td>NaN</td>\n",
       "    </tr>\n",
       "    <tr>\n",
       "      <th>3</th>\n",
       "      <td>1888</td>\n",
       "      <td>0.0</td>\n",
       "      <td>0.0</td>\n",
       "      <td>GL019308</td>\n",
       "      <td>62527</td>\n",
       "      <td>12805</td>\n",
       "      <td>3439</td>\n",
       "      <td>3462</td>\n",
       "      <td>+</td>\n",
       "      <td>+</td>\n",
       "      <td>88228</td>\n",
       "      <td>AATTATTCATAGCCTCAATGATGAACAAGACATCCAAAAAACAGGA...</td>\n",
       "      <td>AATTATTCACAGCCTcaaTGATGAACAGGATATCCGAAAGATAGGC...</td>\n",
       "      <td>GTAGGAATTATATCCTTCCTCCTCATCGGCTGATGGCATGGCCAAG...</td>\n",
       "      <td>ACGTATACATGAGTTGTTCTTACATAATTGAATATACCTGCAATGC...</td>\n",
       "      <td>TGCCTAGGCGCAATCACTACCTTATTCACAGCCCTATGTGCCCTCA...</td>\n",
       "      <td>GTACACCCGTACGCACGCACGTACACCCGTACGCACGCACGTACAC...</td>\n",
       "      <td>ENSOCUG00000037635</td>\n",
       "      <td>NaN</td>\n",
       "    </tr>\n",
       "    <tr>\n",
       "      <th>4</th>\n",
       "      <td>1824</td>\n",
       "      <td>0.0</td>\n",
       "      <td>0.0</td>\n",
       "      <td>AAGW02081594</td>\n",
       "      <td>14016</td>\n",
       "      <td>6061</td>\n",
       "      <td>3040</td>\n",
       "      <td>3073</td>\n",
       "      <td>+</td>\n",
       "      <td>+</td>\n",
       "      <td>24576</td>\n",
       "      <td>TTCTTTGGACACCCTGAGGTATATATTCTTATCCTTCCAGGATTCG...</td>\n",
       "      <td>TTTTTCGGGCACCCCGAAGTATATATTCTTATTCTTCCAGGATTTG...</td>\n",
       "      <td>GACATGTCAAAGGAACGCAGAAGCCAGCTTGAAAAAGTCCTCAACA...</td>\n",
       "      <td>TGAAATAGCTATCACTATTCAGGTATGCCACTATTCTTCTAGGCAT...</td>\n",
       "      <td>ATATGAAAGCCCCTGCAATATCTCAATATCAAACCCCCTTATTCGT...</td>\n",
       "      <td>ATTCTCCTAGGTATCTATTTTACCCTACTTCAAGCATCGGAGTATT...</td>\n",
       "      <td>NaN</td>\n",
       "      <td>NaN</td>\n",
       "    </tr>\n",
       "  </tbody>\n",
       "</table>\n",
       "</div>"
      ],
      "text/plain": [
       "   score  eg2_value  e_value          g_id    g_start  mt_start  g_length  \\\n",
       "0  17245        0.0      0.0            MT          0         0     17245   \n",
       "1   3398        0.0      0.0             1  114731432      6976      4680   \n",
       "2   3120        0.0      0.0      GL019308      67160       883      4892   \n",
       "3   1888        0.0      0.0      GL019308      62527     12805      3439   \n",
       "4   1824        0.0      0.0  AAGW02081594      14016      6061      3040   \n",
       "\n",
       "   mt_length g_strand mt_strand     g_size  \\\n",
       "0      17245        +         +      17245   \n",
       "1       4681        +         +  194850757   \n",
       "2       4945        +         +      88228   \n",
       "3       3462        +         +      88228   \n",
       "4       3073        +         +      24576   \n",
       "\n",
       "                                          g_sequence  \\\n",
       "0  GTTAATGTAGCTTAACAACAAAGCAAAGCACTGAAAATGCTTAGAT...   \n",
       "1  taGTAAAATTATTACATAACTTTGTCGAAGTTAATTTATAGGTTCA...   \n",
       "2  CAAGGCCATGAAGCATGCACACACTGCCCATCGCTCTCCTCAAACA...   \n",
       "3  AATTATTCATAGCCTCAATGATGAACAAGACATCCAAAAAACAGGA...   \n",
       "4  TTCTTTGGACACCCTGAGGTATATATTCTTATCCTTCCAGGATTCG...   \n",
       "\n",
       "                                         mt_sequence  \\\n",
       "0  GTTAATGTAGCTTAACAACAAAGCAAAGCACTGAAAATGCTTAGAT...   \n",
       "1  TAGTAAAACCATTACATAACTTTGTCGAAGTTAATTTATAGGTTCA...   \n",
       "2  CAAGGCCATGAAGCACGCACACACCGCCCGTCACCCTCCTCAAGTG...   \n",
       "3  AATTATTCACAGCCTcaaTGATGAACAGGATATCCGAAAGATAGGC...   \n",
       "4  TTTTTCGGGCACCCCGAAGTATATATTCTTATTCTTCCAGGATTTG...   \n",
       "\n",
       "                                       g_up_flanking  \\\n",
       "0                                                NaN   \n",
       "1  ACAAAAGACTCTGAATAGCCAAAGCGATCCTGAACAAGAAAAATCA...   \n",
       "2  GATAAACCCCGATAAACTTTACCACTCTTTGCCAACTCAGCCTCTA...   \n",
       "3  GTAGGAATTATATCCTTCCTCCTCATCGGCTGATGGCATGGCCAAG...   \n",
       "4  GACATGTCAAAGGAACGCAGAAGCCAGCTTGAAAAAGTCCTCAACA...   \n",
       "\n",
       "                                     g_down_flanking  \\\n",
       "0                                                NaN   \n",
       "1  TATATATATTTATATATATATGTATATATGTACATATATATAACTA...   \n",
       "2  ATGAAGGGGCAAAGAGTAATTTTACAGTCGAGAGGGCTAGCAGTCA...   \n",
       "3  ACGTATACATGAGTTGTTCTTACATAATTGAATATACCTGCAATGC...   \n",
       "4  TGAAATAGCTATCACTATTCAGGTATGCCACTATTCTTCTAGGCAT...   \n",
       "\n",
       "  mt_up_flanking (if strand is negative, the coordinates are corrected)  \\\n",
       "0  TACAAATTGTATAATATTTGGACTAAACCCCCTTTCCCACCCCAAG...                      \n",
       "1  CCTTCGCCTCAAAACGAGAAGTAGAGACTATTGAACTAACAACCAC...                      \n",
       "2  TACCGCCATCTTCAGCGAACCCTAAAAAGGAGCAAAAGTAAGCTCA...                      \n",
       "3  TGCCTAGGCGCAATCACTACCTTATTCACAGCCCTATGTGCCCTCA...                      \n",
       "4  ATATGAAAGCCCCTGCAATATCTCAATATCAAACCCCCTTATTCGT...                      \n",
       "\n",
       "  mt_down_flanking (if strand is negative, the coordinates are corrected)  \\\n",
       "0  GTTAATGTAGCTTAACAACAAAGCAAAGCACTGAAAATGCTTAGAT...                        \n",
       "1  AACTGCTAATTCATGCTCCCATGTCTAACCCCATGGCTTTCTCAAC...                        \n",
       "2  TAGGGGCTATTAACTTTATTACAACTATTATTAATATGAAAGCCCC...                        \n",
       "3  GTACACCCGTACGCACGCACGTACACCCGTACGCACGCACGTACAC...                        \n",
       "4  ATTCTCCTAGGTATCTATTTTACCCTACTTCAAGCATCGGAGTATT...                        \n",
       "\n",
       "      ensembl_gene_id                                ensembl_description  \n",
       "0  ENSOCUG00000029081                                                NaN  \n",
       "1  ENSOCUG00000006104  cilia and flagella associated protein 300 [Sou...  \n",
       "2  ENSOCUG00000031196                                                NaN  \n",
       "3  ENSOCUG00000037635                                                NaN  \n",
       "4                 NaN                                                NaN  "
      ]
     },
     "execution_count": 7,
     "metadata": {},
     "output_type": "execute_result"
    }
   ],
   "source": [
    "#read pandas dataframe\n",
    "numt_array = pd.read_csv(home_dir + 'numt_master_array.csv')\n",
    "numt_array.head()"
   ]
  },
  {
   "cell_type": "code",
   "execution_count": 265,
   "id": "d21a313d",
   "metadata": {},
   "outputs": [],
   "source": [
    "#get g_ids and drop the ones that dont have corresponding sequences\n",
    "g_ids = numt_array['g_id'].drop_duplicates()\n",
    "g_ids = g_ids.drop(labels = [0,65])"
   ]
  },
  {
   "cell_type": "code",
   "execution_count": 282,
   "id": "a2c31a11",
   "metadata": {},
   "outputs": [],
   "source": [
    "#get starts\n",
    "#numts_per_chr = g_ids.apply(lambda x : len(numt_array.loc[numt_array['g_id'] == x]))\n",
    "#numts_per_chr.index = g_ids\n",
    "#numts_per_chr"
   ]
  },
  {
   "cell_type": "code",
   "execution_count": 30,
   "id": "d4e3663e",
   "metadata": {},
   "outputs": [],
   "source": [
    "#create dictionary from the numtless sequences\n",
    "def create_dictionary(g_id):\n",
    "    global numtless_sequences\n",
    "    filename = 'numtless_sequences/%s.fasta' % g_id\n",
    "    sequence = ''\n",
    "    with open (home_dir + filename) as infile:\n",
    "        content = infile.readlines()\n",
    "        try:\n",
    "            sequence = content[1]\n",
    "        except IndexError:\n",
    "            pass\n",
    "    numtless_sequences[g_id] = sequence\n",
    "    current_index = g_ids[g_ids == g_id].index[0]\n",
    "    if current_index % 5 == 0:\n",
    "        print('done for %s numts!' % current_index)"
   ]
  },
  {
   "cell_type": "code",
   "execution_count": 31,
   "id": "0e80a973",
   "metadata": {},
   "outputs": [
    {
     "name": "stderr",
     "output_type": "stream",
     "text": [
      "C:\\Users\\pytho\\Anaconda3\\lib\\site-packages\\ipykernel_launcher.py:2: DeprecationWarning: The default dtype for empty Series will be 'object' instead of 'float64' in a future version. Specify a dtype explicitly to silence this warning.\n",
      "  \n"
     ]
    },
    {
     "name": "stdout",
     "output_type": "stream",
     "text": [
      "done for 0 numts!\n",
      "done for 20 numts!\n",
      "done for 25 numts!\n",
      "done for 40 numts!\n",
      "done for 45 numts!\n",
      "done for 65 numts!\n",
      "done for 70 numts!\n",
      "done for 95 numts!\n",
      "done for 100 numts!\n",
      "done for 105 numts!\n",
      "done for 125 numts!\n"
     ]
    },
    {
     "data": {
      "text/plain": [
       "g_id\n",
       "MT                                                               \n",
       "1               AGGACCGCACAACCTTGCAGCTCAGCGACTCGTGGGGTCACACACA...\n",
       "GL019308        AGCATTTCCAGCATGCAGTCTCTCCCATGAAGGTGGAGAAGGAACT...\n",
       "AAGW02081594    TTATCTTTATTTCATCCATGATCAAATATTTCACCCACGATGATTA...\n",
       "GL019326        GAGACTGGGAAGAAGCTCCTGGCTCCTGGCTTTGGATCAGCGCAGC...\n",
       "GL018741        TAAAACTAAGAGTCATTCTAATCTTTCCTCTATATCTAATCCCAAC...\n",
       "18              NNNNNNNNNNNNNNNNNNNNNNNNNNNNNNNNNNNNNNNNNNNNNN...\n",
       "9               CGGGGACTCCCACTAGAGGAACCAGGTGATGTCAGTTCCCAGAATC...\n",
       "12              CTGAGTTCCTGGCTTCTGGCTTTGGCCTGGCTCAACCCCAGCTGCA...\n",
       "GL018705        ATAATGATCAGATGATAATGGTGGTGATGATGGTGAGGATGACTCT...\n",
       "17              GGTGTGGTATATGTGGTGTGTATGGTATGTGTGTGGTACTGTATGG...\n",
       "GL018700        CCAGATGGATACATGAAGTATGCAGTTGCCTATGTAGTTTAGAACT...\n",
       "19              NNNNNNNNNNNNNNNNNNNNNNNNNNNNNNNNNNNNNNNNNNNNNN...\n",
       "GL019465        ATACTTGGCTCCCCACCCAGGAGATCGCAGCTTGAGGCATCACCCC...\n",
       "GL018817        ACCTAATTACAGGGCACCGGTCTATTTAAAAGATATGTTAAGGGAC...\n",
       "13              TCATAATCCTAACCATAACCAAGGATTCAACCATAAATTTAAGACT...\n",
       "GL018826        ACATTATAAAACATAGAGACAGTGGGTAGTGTCCCACATACATGTG...\n",
       "GL018748        AATGGCCGCAACAGCGGGACCCTGGGCAATCTGAAGCCAGGAGTCA...\n",
       "2               GAGTTATAAAAGAGAAGGAGAGGCAGAGAGAGAGAGAGCAGTATGA...\n",
       "7               ACACACACAACACACACGACATAACAACACATACAACACACAAATA...\n",
       "16              CAGAATGAGATTTCTGCACTACAGACAAGAGTCTTTTGTCGTGCCT...\n",
       "GL018786        ACGCCCCGTCCAGCCAGACTGCCACTCCGCTGGCGGAACCCCCGAG...\n",
       "GL018706        AGTTTGTTCCCACACAGAAACATAAAGTGAAAAATAATAGATGATT...\n",
       "4               AACCAACGAGCTATGCACTTATGATATATGTGCTTTTTTTTTTTTT...\n",
       "AAGW02081404                                                     \n",
       "GL019271        TGCTGCCTGTGATAGAAGTCAGTTTGTAGATCACCTTGAACCCTAC...\n",
       "GL019056        TACAGCATTGTACATGTTGTAACTCCCATCACTCATGGTCATATCA...\n",
       "GL019383        CTAAGCCAGAGACTTAGTCAAAAGACAAAAGCCATCAGAGGAAAAA...\n",
       "GL019525        TTTTAATGATGATGAAATCAGATCAGACCTATTGTCATGTTTAATC...\n",
       "GL019149        CCAGATATCCATCAACTGATGACCGGATAAAGAAATCCTGGCATAC...\n",
       "GL018925        AAAGTCTCAATACCTACCTAAGTCAGTTCCCAAGTCCTTTAGATTG...\n",
       "20              NNNNNNNNNNNNNNNNNNNNNNNNNNNNNNNNNNNNNNNNNNNNNN...\n",
       "AAGW02083714    TCCCCTAACTGCATGAGTCGGTTCCGAATTCACTCTCATTGTGAGT...\n",
       "GL018992        GAGGTGGTTAGAAATAGAATCCTGACTATTGTCTCCAGTTTCTCTA...\n",
       "AAGW02079688    TATTCCCCAACCTCTGATAACTACCATTCTACCGTGTCTACTTCTA...\n",
       "GL019086        TCTCTGGATGCGACCTTTTAGTCATTCTGGAACAAAGTCTGACCTG...\n",
       "GL019010        CCCGCGGTCAGTAGCCGTCACTGGTGCTGCCACTATTGAGGCTGTC...\n",
       "15              NNNNNNNNNNNNNNNNNNNNNNNNNNNNNNNNNNNNNNNNNNNNNN...\n",
       "GL019047        CTCCCCTTCCATTCAGTCCAGATCATTTTCGATTCTCTTTATATAC...\n",
       "GL018862        CAGTCAGTCATATTCATGGCTGTTAGCCTAGTATGTGAGATTGTCT...\n",
       "11              CTCACACACCCACGCGGCCTCACACACCCACGAGACCTCACACACC...\n",
       "GL019311        CCAGATCCTTGGGCCCTGCATCCACATGGGAGACCAGGAGGAAACA...\n",
       "14              AAATGAAGTCAGATATGGTAATCGATACTGAACTGAGGCACGGATT...\n",
       "3               AAGCAGGCCAGTCCACTGTGTCACTTACAGACACAGCTGACACTGA...\n",
       "GL019235        TAGCTGATGGGTATCAGTGGTTCTTGCCAGGAACCCCAGTGACCTC...\n",
       "21              NNNNNNNNNNNNNNNNNNNNNNNNNNNNNNNNNNNNNNNNNNNNNN...\n",
       "GL018744        GCTGCATTTTATTTTGTAGACAGGCATATTTTCTTTTCCAATTGCT...\n",
       "dtype: object"
      ]
     },
     "execution_count": 31,
     "metadata": {},
     "output_type": "execute_result"
    }
   ],
   "source": [
    "#create vector for numtless sequences\n",
    "numtless_sequences = pd.Series(index = g_ids)\n",
    "g_ids.apply(create_dictionary)\n",
    "numtless_sequences"
   ]
  },
  {
   "cell_type": "code",
   "execution_count": 63,
   "id": "8f4c7210",
   "metadata": {},
   "outputs": [
    {
     "data": {
      "text/plain": [
       "g_id\n",
       "MT                                                        [17245]\n",
       "1                 [4680, 698, 1012, 375, 371, 467, 393, 658, 773]\n",
       "GL019308                             [4892, 3439, 1414, 837, 820]\n",
       "AAGW02081594                              [3040, 2339, 1650, 577]\n",
       "GL019326                       [1851, 1451, 1315, 1420, 995, 833]\n",
       "GL018741                             [1945, 1590, 1074, 552, 503]\n",
       "18                                          [1440, 407, 292, 482]\n",
       "9                                            [720, 822, 397, 273]\n",
       "12                                                [419, 216, 368]\n",
       "GL018705                                                    [834]\n",
       "17                                                [595, 407, 352]\n",
       "GL018700                                                    [896]\n",
       "19                                                          [930]\n",
       "GL019465                                [930, 677, 795, 424, 916]\n",
       "GL018817                                    [674, 1070, 784, 720]\n",
       "13                                                     [351, 126]\n",
       "GL018826                [1193, 891, 828, 635, 462, 382, 375, 301]\n",
       "GL018748                                          [788, 788, 658]\n",
       "2                                                      [325, 273]\n",
       "7                                                 [363, 515, 290]\n",
       "16                                                          [162]\n",
       "GL018786                                                    [210]\n",
       "GL018706                                                    [124]\n",
       "4                    [197, 1695, 1961, 1501, 998, 866, 680, 1173]\n",
       "AAGW02081404    [17391, 16756, 10608, 635, 614, 461, 460, 308,...\n",
       "GL019271                                                   [6228]\n",
       "GL019056                                                   [5970]\n",
       "GL019383                                              [5141, 838]\n",
       "GL019525                                                   [3547]\n",
       "GL019149                                              [2656, 900]\n",
       "GL018925                                              [2671, 902]\n",
       "20                                                     [620, 470]\n",
       "AAGW02083714                                                [630]\n",
       "GL018992                                                    [629]\n",
       "AAGW02079688                                     [629, 1068, 600]\n",
       "GL019086                                                    [627]\n",
       "GL019010                                         [1097, 596, 728]\n",
       "15                                      [881, 678, 427, 506, 505]\n",
       "GL019047                                          [632, 369, 243]\n",
       "GL018862                                               [727, 597]\n",
       "11                                                          [806]\n",
       "GL019311                                               [646, 218]\n",
       "14                                                          [450]\n",
       "3                                                           [228]\n",
       "GL019235                                                    [375]\n",
       "21                                                          [321]\n",
       "GL018744                                                    [319]\n",
       "Name: g_id, dtype: object"
      ]
     },
     "execution_count": 63,
     "metadata": {},
     "output_type": "execute_result"
    }
   ],
   "source": [
    "lengths = g_ids.apply(lambda x : numt_array.loc[numt_array['g_id'] == x]['g_length'].tolist())\n",
    "lengths.index = g_ids\n",
    "lengths"
   ]
  },
  {
   "cell_type": "code",
   "execution_count": 246,
   "id": "4eacc36b",
   "metadata": {},
   "outputs": [],
   "source": [
    "#calculate gc contents of sequence samples\n",
    "def gc_content(g_id):\n",
    "    sequence_to_sample = numtless_sequences[g_id]\n",
    "    numt_sizes = lengths[g_id]\n",
    "    gc_contents = []\n",
    "    for index, numt_size in enumerate(numt_sizes):\n",
    "        start = np.random.randint(0, (len(sequence_to_sample) - numt_size))\n",
    "        end = start + numt_size\n",
    "        sample_sequence = sequence_to_sample[start:end]\n",
    "        g_content = sample_sequence.upper().count('G')\n",
    "        c_content = sample_sequence.upper().count('C')\n",
    "        gc_content = (g_content + c_content) / len(sample_sequence)\n",
    "        gc_contents.append(gc_content)\n",
    "    return gc_contents"
   ]
  },
  {
   "cell_type": "code",
   "execution_count": 309,
   "id": "c97930ab",
   "metadata": {},
   "outputs": [
    {
     "data": {
      "text/plain": [
       "g_id\n",
       "1               [0.38226495726495724, 0.36103151862464183, 0.4...\n",
       "GL019308        [0.21892886345053147, 0.42803140447804594, 0.3...\n",
       "AAGW02081594    [0.36546052631578946, 0.3997434801197093, 0.38...\n",
       "GL019326        [0.35872501350621283, 0.44038594073053067, 0.3...\n",
       "GL018741        [0.3820051413881748, 0.3522012578616352, 0.343...\n",
       "18              [0.4340277777777778, 0.44717444717444715, 0.0,...\n",
       "9               [0.4027777777777778, 0.49878345498783455, 0.27...\n",
       "12              [0.5322195704057279, 0.4212962962962963, 0.448...\n",
       "GL018705                                     [0.3872901678657074]\n",
       "17              [0.5831932773109244, 0.35135135135135137, 0.30...\n",
       "GL018700                                     [0.4654017857142857]\n",
       "19                                           [0.4032258064516129]\n",
       "GL019465        [0.41935483870967744, 0.43870014771048743, 0.7...\n",
       "GL018817        [0.0, 0.6093457943925233, 0.45408163265306123,...\n",
       "13                      [0.30484330484330485, 0.2698412698412698]\n",
       "GL018826        [0.6269907795473596, 0.5881032547699214, 0.663...\n",
       "GL018748        [0.4302030456852792, 0.434010152284264, 0.4392...\n",
       "2                       [0.36615384615384616, 0.4249084249084249]\n",
       "7               [0.4380165289256198, 0.3864077669902913, 0.255...\n",
       "16                                           [0.3888888888888889]\n",
       "GL018786                                    [0.46190476190476193]\n",
       "GL018706                                     [0.5887096774193549]\n",
       "4               [0.38578680203045684, 0.38997050147492623, 0.3...\n",
       "GL019271                                    [0.35661528580603724]\n",
       "GL019056                                    [0.40787269681742044]\n",
       "GL019383               [0.40439603190040846, 0.39856801909307876]\n",
       "GL019525                                      [0.383704539047082]\n",
       "GL019149                 [0.3689759036144578, 0.3433333333333333]\n",
       "GL018925                               [0.0, 0.36807095343680707]\n",
       "20                       [0.3935483870967742, 0.4957446808510638]\n",
       "AAGW02083714                                [0.45714285714285713]\n",
       "GL018992                                    [0.40381558028616854]\n",
       "AAGW02079688    [0.5007949125596184, 0.5084269662921348, 0.318...\n",
       "GL019086                                                    [0.0]\n",
       "GL019010        [0.35642661804922515, 0.4983221476510067, 0.41...\n",
       "15              [0.5244040862656073, 0.47640117994100295, 0.44...\n",
       "GL019047                           [0.4287974683544304, 0.0, 0.0]\n",
       "GL018862                                [0.0, 0.4036850921273032]\n",
       "11                                           [0.4441687344913151]\n",
       "GL019311               [0.42724458204334365, 0.42201834862385323]\n",
       "14                                          [0.26666666666666666]\n",
       "3                                            [0.5614035087719298]\n",
       "GL019235                                     [0.6586666666666666]\n",
       "21                                           [0.4672897196261682]\n",
       "GL018744                                     [0.6175548589341693]\n",
       "Name: g_id, dtype: object"
      ]
     },
     "execution_count": 309,
     "metadata": {},
     "output_type": "execute_result"
    }
   ],
   "source": [
    "#calculate gc content of sample sequences\n",
    "np.random.seed(3)\n",
    "gc_content_samples = g_ids.apply(gc_content)\n",
    "gc_content_samples.index = g_ids\n",
    "gc_content_samples"
   ]
  },
  {
   "cell_type": "code",
   "execution_count": 310,
   "id": "3adaab0b",
   "metadata": {},
   "outputs": [],
   "source": [
    "#calculate the gc content of numts\n",
    "def numts_gc(g_id):\n",
    "    df = numt_array.loc[numt_array['g_id'] == g_id]\n",
    "    gc_content = df['g_sequence'].apply(lambda x : (x.count('G') + x.count('C')) / len(x))\n",
    "    return gc_content.tolist()"
   ]
  },
  {
   "cell_type": "code",
   "execution_count": 311,
   "id": "a49d27f0",
   "metadata": {},
   "outputs": [],
   "source": [
    "#calculate the gc content of numts\n",
    "numts_gc = g_ids.apply(numts_gc)"
   ]
  },
  {
   "cell_type": "code",
   "execution_count": 312,
   "id": "438864db",
   "metadata": {},
   "outputs": [
    {
     "data": {
      "text/plain": [
       "g_id\n",
       "1               [0.3843689942344651, 0.35704323570432356, 0.36...\n",
       "GL019308        [0.3726519894970713, 0.38018433179723504, 0.34...\n",
       "AAGW02081594    [0.387264457439896, 0.3499790180444817, 0.3605...\n",
       "GL019326        [0.36746666666666666, 0.3604336043360434, 0.36...\n",
       "GL018741        [0.34470647265429, 0.3409371146732429, 0.31738...\n",
       "18              [0.3429724277067922, 0.34688995215311, 0.29391...\n",
       "9               [0.3337856173677069, 0.29832935560859186, 0.36...\n",
       "12              [0.31116389548693585, 0.3669724770642202, 0.28...\n",
       "GL018705                                    [0.33568075117370894]\n",
       "17              [0.39195979899497485, 0.2684085510688836, 0.36...\n",
       "GL018700                                     [0.2809110629067245]\n",
       "19                                           [0.3960703205791106]\n",
       "GL019465        [0.3960703205791106, 0.41594202898550725, 0.34...\n",
       "GL018817        [0.41884057971014493, 0.3397548161120841, 0.34...\n",
       "13                       [0.3926553672316384, 0.4126984126984127]\n",
       "GL018826        [0.33516483516483514, 0.35600425079702447, 0.3...\n",
       "GL018748        [0.35555555555555557, 0.35185185185185186, 0.3...\n",
       "2                       [0.3834355828220859, 0.27106227106227104]\n",
       "7               [0.3561643835616438, 0.2914285714285714, 0.285...\n",
       "16                                          [0.48466257668711654]\n",
       "GL018786                                     [0.4225352112676056]\n",
       "GL018706                                     [0.3548387096774194]\n",
       "4               [0.357487922705314, 0.3483606557377049, 0.3548...\n",
       "GL019271                                    [0.37608730033212084]\n",
       "GL019056                                      [0.373987770616427]\n",
       "GL019383                [0.38375887886350546, 0.3254994124559342]\n",
       "GL019525                                     [0.3667953667953668]\n",
       "GL019149                [0.37504614248800294, 0.3442982456140351]\n",
       "GL018925                 [0.3766997427416391, 0.3402625820568928]\n",
       "20                                   [0.3664, 0.3883089770354906]\n",
       "AAGW02083714                                  [0.374805598755832]\n",
       "GL018992                                    [0.37636080870917576]\n",
       "AAGW02079688    [0.37791601866251945, 0.2992831541218638, 0.27...\n",
       "GL019086                                    [0.37538940809968846]\n",
       "GL019010        [0.30305676855895197, 0.27483443708609273, 0.3...\n",
       "15              [0.30042918454935624, 0.25611510791366904, 0.3...\n",
       "GL019047        [0.33690658499234305, 0.408, 0.38866396761133604]\n",
       "GL018862                [0.3011734028683181, 0.27768595041322314]\n",
       "11                                           [0.3517877739331027]\n",
       "GL019311                [0.3555878084179971, 0.25877192982456143]\n",
       "14                                          [0.29559748427672955]\n",
       "3                                            [0.3815789473684211]\n",
       "GL019235                                     [0.4120734908136483]\n",
       "21                                           [0.2852760736196319]\n",
       "GL018744                                    [0.48484848484848486]\n",
       "Name: g_id, dtype: object"
      ]
     },
     "execution_count": 312,
     "metadata": {},
     "output_type": "execute_result"
    }
   ],
   "source": [
    "numts_gc.index = g_ids\n",
    "numts_gc"
   ]
  },
  {
   "cell_type": "code",
   "execution_count": 313,
   "id": "cfb51017",
   "metadata": {},
   "outputs": [],
   "source": [
    "#function for merging gc contents\n",
    "def merge(gc_content):\n",
    "    global sum_gc\n",
    "    sum_gc += gc_content"
   ]
  },
  {
   "cell_type": "code",
   "execution_count": 314,
   "id": "1b384ce4",
   "metadata": {},
   "outputs": [
    {
     "data": {
      "text/plain": [
       "122"
      ]
     },
     "execution_count": 314,
     "metadata": {},
     "output_type": "execute_result"
    }
   ],
   "source": [
    "#get merged gc content of numts\n",
    "sum_gc = []\n",
    "numts_gc.apply(merge)\n",
    "len(sum_gc)"
   ]
  },
  {
   "cell_type": "code",
   "execution_count": 315,
   "id": "c959398c",
   "metadata": {},
   "outputs": [
    {
     "data": {
      "text/plain": [
       "122"
      ]
     },
     "execution_count": 315,
     "metadata": {},
     "output_type": "execute_result"
    }
   ],
   "source": [
    "numts_gc = sum_gc\n",
    "len(numts_gc)"
   ]
  },
  {
   "cell_type": "code",
   "execution_count": 316,
   "id": "e52e41ac",
   "metadata": {},
   "outputs": [
    {
     "data": {
      "text/plain": [
       "122"
      ]
     },
     "execution_count": 316,
     "metadata": {},
     "output_type": "execute_result"
    }
   ],
   "source": [
    "sum_gc = []\n",
    "gc_content_samples.apply(merge)\n",
    "samples_gc = sum_gc\n",
    "len(samples_gc)"
   ]
  },
  {
   "cell_type": "code",
   "execution_count": 317,
   "id": "57b33b0e",
   "metadata": {},
   "outputs": [
    {
     "data": {
      "text/plain": [
       "[0.3843689942344651,\n",
       " 0.35704323570432356,\n",
       " 0.3617021276595745,\n",
       " 0.3170103092783505,\n",
       " 0.3924731182795699,\n",
       " 0.32238193018480493,\n",
       " 0.34577114427860695,\n",
       " 0.3553008595988539,\n",
       " 0.36014851485148514,\n",
       " 0.3726519894970713,\n",
       " 0.38018433179723504,\n",
       " 0.34599447513812154,\n",
       " 0.3838973162193699,\n",
       " 0.38095238095238093,\n",
       " 0.387264457439896,\n",
       " 0.3499790180444817,\n",
       " 0.3605072463768116,\n",
       " 0.3873720136518771,\n",
       " 0.36746666666666666,\n",
       " 0.3604336043360434,\n",
       " 0.3609865470852018,\n",
       " 0.34623358673116794,\n",
       " 0.359,\n",
       " 0.39766081871345027,\n",
       " 0.34470647265429,\n",
       " 0.3409371146732429,\n",
       " 0.3173873045078197,\n",
       " 0.32332155477031804,\n",
       " 0.3672316384180791,\n",
       " 0.3429724277067922,\n",
       " 0.34688995215311,\n",
       " 0.2939189189189189,\n",
       " 0.3784313725490196,\n",
       " 0.3337856173677069,\n",
       " 0.29832935560859186,\n",
       " 0.36069651741293535,\n",
       " 0.36996336996337,\n",
       " 0.31116389548693585,\n",
       " 0.3669724770642202,\n",
       " 0.2823834196891192,\n",
       " 0.33568075117370894,\n",
       " 0.39195979899497485,\n",
       " 0.2684085510688836,\n",
       " 0.36056338028169016,\n",
       " 0.2809110629067245,\n",
       " 0.3960703205791106,\n",
       " 0.3960703205791106,\n",
       " 0.41594202898550725,\n",
       " 0.34306569343065696,\n",
       " 0.3294392523364486,\n",
       " 0.3522727272727273,\n",
       " 0.41884057971014493,\n",
       " 0.3397548161120841,\n",
       " 0.344019728729963,\n",
       " 0.3,\n",
       " 0.3926553672316384,\n",
       " 0.4126984126984127,\n",
       " 0.33516483516483514,\n",
       " 0.35600425079702447,\n",
       " 0.3272933182332956,\n",
       " 0.33537519142419603,\n",
       " 0.3941299790356394,\n",
       " 0.3730964467005076,\n",
       " 0.4094488188976378,\n",
       " 0.434640522875817,\n",
       " 0.35555555555555557,\n",
       " 0.35185185185185186,\n",
       " 0.3206997084548105,\n",
       " 0.3834355828220859,\n",
       " 0.27106227106227104,\n",
       " 0.3561643835616438,\n",
       " 0.2914285714285714,\n",
       " 0.28523489932885904,\n",
       " 0.48466257668711654,\n",
       " 0.4225352112676056,\n",
       " 0.3548387096774194,\n",
       " 0.357487922705314,\n",
       " 0.3483606557377049,\n",
       " 0.3548387096774194,\n",
       " 0.3442194644023514,\n",
       " 0.3634558093346574,\n",
       " 0.37142857142857144,\n",
       " 0.32122093023255816,\n",
       " 0.34514003294892914,\n",
       " 0.37608730033212084,\n",
       " 0.373987770616427,\n",
       " 0.38375887886350546,\n",
       " 0.3254994124559342,\n",
       " 0.3667953667953668,\n",
       " 0.37504614248800294,\n",
       " 0.3442982456140351,\n",
       " 0.3766997427416391,\n",
       " 0.3402625820568928,\n",
       " 0.3664,\n",
       " 0.3883089770354906,\n",
       " 0.374805598755832,\n",
       " 0.37636080870917576,\n",
       " 0.37791601866251945,\n",
       " 0.2992831541218638,\n",
       " 0.27960526315789475,\n",
       " 0.37538940809968846,\n",
       " 0.30305676855895197,\n",
       " 0.27483443708609273,\n",
       " 0.3427471116816431,\n",
       " 0.30042918454935624,\n",
       " 0.25611510791366904,\n",
       " 0.3194444444444444,\n",
       " 0.2945590994371482,\n",
       " 0.30947775628626695,\n",
       " 0.33690658499234305,\n",
       " 0.408,\n",
       " 0.38866396761133604,\n",
       " 0.3011734028683181,\n",
       " 0.27768595041322314,\n",
       " 0.3517877739331027,\n",
       " 0.3555878084179971,\n",
       " 0.25877192982456143,\n",
       " 0.29559748427672955,\n",
       " 0.3815789473684211,\n",
       " 0.4120734908136483,\n",
       " 0.2852760736196319,\n",
       " 0.48484848484848486]"
      ]
     },
     "execution_count": 317,
     "metadata": {},
     "output_type": "execute_result"
    }
   ],
   "source": [
    "numts_gc"
   ]
  },
  {
   "cell_type": "code",
   "execution_count": 318,
   "id": "98b10f16",
   "metadata": {},
   "outputs": [
    {
     "data": {
      "text/plain": [
       "[0.38226495726495724,\n",
       " 0.36103151862464183,\n",
       " 0.4189723320158103,\n",
       " 0.504,\n",
       " 0.3881401617250674,\n",
       " 0.42184154175588867,\n",
       " 0.4758269720101781,\n",
       " 0.3799392097264438,\n",
       " 0.0,\n",
       " 0.21892886345053147,\n",
       " 0.42803140447804594,\n",
       " 0.3536067892503536,\n",
       " 0.35722819593787336,\n",
       " 0.4036585365853659,\n",
       " 0.36546052631578946,\n",
       " 0.3997434801197093,\n",
       " 0.3896969696969697,\n",
       " 0.3483535528596187,\n",
       " 0.35872501350621283,\n",
       " 0.44038594073053067,\n",
       " 0.3209125475285171,\n",
       " 0.42464788732394365,\n",
       " 0.4864321608040201,\n",
       " 0.34093637454981995,\n",
       " 0.3820051413881748,\n",
       " 0.3522012578616352,\n",
       " 0.3435754189944134,\n",
       " 0.4166666666666667,\n",
       " 0.36779324055666,\n",
       " 0.4340277777777778,\n",
       " 0.44717444717444715,\n",
       " 0.0,\n",
       " 0.3008298755186722,\n",
       " 0.4027777777777778,\n",
       " 0.49878345498783455,\n",
       " 0.2770780856423174,\n",
       " 0.3663003663003663,\n",
       " 0.5322195704057279,\n",
       " 0.4212962962962963,\n",
       " 0.4483695652173913,\n",
       " 0.3872901678657074,\n",
       " 0.5831932773109244,\n",
       " 0.35135135135135137,\n",
       " 0.3039772727272727,\n",
       " 0.4654017857142857,\n",
       " 0.4032258064516129,\n",
       " 0.41935483870967744,\n",
       " 0.43870014771048743,\n",
       " 0.7245283018867924,\n",
       " 0.6320754716981132,\n",
       " 0.3700873362445415,\n",
       " 0.0,\n",
       " 0.6093457943925233,\n",
       " 0.45408163265306123,\n",
       " 0.5319444444444444,\n",
       " 0.30484330484330485,\n",
       " 0.2698412698412698,\n",
       " 0.6269907795473596,\n",
       " 0.5881032547699214,\n",
       " 0.6630434782608695,\n",
       " 0.6960629921259842,\n",
       " 0.4935064935064935,\n",
       " 0.39267015706806285,\n",
       " 0.4026666666666667,\n",
       " 0.0,\n",
       " 0.4302030456852792,\n",
       " 0.434010152284264,\n",
       " 0.439209726443769,\n",
       " 0.36615384615384616,\n",
       " 0.4249084249084249,\n",
       " 0.4380165289256198,\n",
       " 0.3864077669902913,\n",
       " 0.25517241379310346,\n",
       " 0.3888888888888889,\n",
       " 0.46190476190476193,\n",
       " 0.5887096774193549,\n",
       " 0.38578680203045684,\n",
       " 0.38997050147492623,\n",
       " 0.33452320244773076,\n",
       " 0.5323117921385743,\n",
       " 0.32965931863727455,\n",
       " 0.34757505773672054,\n",
       " 0.36470588235294116,\n",
       " 0.35805626598465473,\n",
       " 0.35661528580603724,\n",
       " 0.40787269681742044,\n",
       " 0.40439603190040846,\n",
       " 0.39856801909307876,\n",
       " 0.383704539047082,\n",
       " 0.3689759036144578,\n",
       " 0.3433333333333333,\n",
       " 0.0,\n",
       " 0.36807095343680707,\n",
       " 0.3935483870967742,\n",
       " 0.4957446808510638,\n",
       " 0.45714285714285713,\n",
       " 0.40381558028616854,\n",
       " 0.5007949125596184,\n",
       " 0.5084269662921348,\n",
       " 0.31833333333333336,\n",
       " 0.0,\n",
       " 0.35642661804922515,\n",
       " 0.4983221476510067,\n",
       " 0.41208791208791207,\n",
       " 0.5244040862656073,\n",
       " 0.47640117994100295,\n",
       " 0.4426229508196721,\n",
       " 0.5395256916996047,\n",
       " 0.3821782178217822,\n",
       " 0.4287974683544304,\n",
       " 0.0,\n",
       " 0.0,\n",
       " 0.0,\n",
       " 0.4036850921273032,\n",
       " 0.4441687344913151,\n",
       " 0.42724458204334365,\n",
       " 0.42201834862385323,\n",
       " 0.26666666666666666,\n",
       " 0.5614035087719298,\n",
       " 0.6586666666666666,\n",
       " 0.4672897196261682,\n",
       " 0.6175548589341693]"
      ]
     },
     "execution_count": 318,
     "metadata": {},
     "output_type": "execute_result"
    }
   ],
   "source": [
    "samples_gc"
   ]
  },
  {
   "cell_type": "code",
   "execution_count": 304,
   "id": "0c35774b",
   "metadata": {},
   "outputs": [
    {
     "data": {
      "text/plain": [
       "AndersonResult(statistic=0.8169277197358014, critical_values=array([0.559, 0.636, 0.763, 0.89 , 1.059]), significance_level=array([15. , 10. ,  5. ,  2.5,  1. ]))"
      ]
     },
     "execution_count": 304,
     "metadata": {},
     "output_type": "execute_result"
    }
   ],
   "source": [
    "#normality testing of numts gc\n",
    "anderson(numts_gc)"
   ]
  },
  {
   "cell_type": "code",
   "execution_count": 307,
   "id": "3f53d5c2",
   "metadata": {},
   "outputs": [
    {
     "data": {
      "text/plain": [
       "0.3554282075772047"
      ]
     },
     "execution_count": 307,
     "metadata": {},
     "output_type": "execute_result"
    }
   ],
   "source": [
    "np.median(numts_gc)"
   ]
  },
  {
   "cell_type": "code",
   "execution_count": 305,
   "id": "2cfc9fc2",
   "metadata": {},
   "outputs": [
    {
     "data": {
      "text/plain": [
       "AndersonResult(statistic=4.8028962753097915, critical_values=array([0.559, 0.636, 0.763, 0.89 , 1.059]), significance_level=array([15. , 10. ,  5. ,  2.5,  1. ]))"
      ]
     },
     "execution_count": 305,
     "metadata": {},
     "output_type": "execute_result"
    }
   ],
   "source": [
    "#normality testing of samples gc\n",
    "anderson(samples_gc)"
   ]
  },
  {
   "cell_type": "code",
   "execution_count": 308,
   "id": "6fad7f80",
   "metadata": {},
   "outputs": [
    {
     "data": {
      "text/plain": [
       "0.4181051586031759"
      ]
     },
     "execution_count": 308,
     "metadata": {},
     "output_type": "execute_result"
    }
   ],
   "source": [
    "np.median(samples_gc)"
   ]
  },
  {
   "cell_type": "code",
   "execution_count": 306,
   "id": "4a1bdf6e",
   "metadata": {},
   "outputs": [
    {
     "data": {
      "text/plain": [
       "Ttest_indResult(statistic=-4.133430825132123, pvalue=4.929003663152909e-05)"
      ]
     },
     "execution_count": 306,
     "metadata": {},
     "output_type": "execute_result"
    }
   ],
   "source": [
    "ttest_ind(numts_gc, samples_gc)"
   ]
  }
 ],
 "metadata": {
  "kernelspec": {
   "display_name": "Python 3",
   "language": "python",
   "name": "python3"
  },
  "language_info": {
   "codemirror_mode": {
    "name": "ipython",
    "version": 3
   },
   "file_extension": ".py",
   "mimetype": "text/x-python",
   "name": "python",
   "nbconvert_exporter": "python",
   "pygments_lexer": "ipython3",
   "version": "3.7.1"
  }
 },
 "nbformat": 4,
 "nbformat_minor": 5
}
