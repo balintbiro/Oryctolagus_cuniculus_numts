{
 "cells": [
  {
   "cell_type": "code",
   "execution_count": 1,
   "id": "d516d6d5",
   "metadata": {},
   "outputs": [],
   "source": [
    "#importing the required modules\n",
    "import os\n",
    "import numpy as np\n",
    "import pandas as pd\n",
    "import seaborn as sns\n",
    "import matplotlib.pyplot as plt\n",
    "from scipy.stats import anderson, wilcoxon, ttest_ind"
   ]
  },
  {
   "cell_type": "code",
   "execution_count": 2,
   "id": "1bbb90ce",
   "metadata": {},
   "outputs": [],
   "source": [
    "home_dir = os.path.join(r'Z:\\balint\\numt\\Michael\\data/')"
   ]
  },
  {
   "cell_type": "code",
   "execution_count": 3,
   "id": "c6907506",
   "metadata": {},
   "outputs": [
    {
     "data": {
      "text/html": [
       "<div>\n",
       "<style scoped>\n",
       "    .dataframe tbody tr th:only-of-type {\n",
       "        vertical-align: middle;\n",
       "    }\n",
       "\n",
       "    .dataframe tbody tr th {\n",
       "        vertical-align: top;\n",
       "    }\n",
       "\n",
       "    .dataframe thead th {\n",
       "        text-align: right;\n",
       "    }\n",
       "</style>\n",
       "<table border=\"1\" class=\"dataframe\">\n",
       "  <thead>\n",
       "    <tr style=\"text-align: right;\">\n",
       "      <th></th>\n",
       "      <th>score</th>\n",
       "      <th>eg2_value</th>\n",
       "      <th>e_value</th>\n",
       "      <th>g_id</th>\n",
       "      <th>g_start</th>\n",
       "      <th>mt_start</th>\n",
       "      <th>g_length</th>\n",
       "      <th>mt_length</th>\n",
       "      <th>g_strand</th>\n",
       "      <th>mt_strand</th>\n",
       "      <th>g_size</th>\n",
       "      <th>g_sequence</th>\n",
       "      <th>mt_sequence</th>\n",
       "      <th>g_up_flanking</th>\n",
       "      <th>g_down_flanking</th>\n",
       "      <th>mt_up_flanking (if strand is negative, the coordinates are corrected)</th>\n",
       "      <th>mt_down_flanking (if strand is negative, the coordinates are corrected)</th>\n",
       "      <th>ensembl_gene_id</th>\n",
       "      <th>ensembl_description</th>\n",
       "    </tr>\n",
       "  </thead>\n",
       "  <tbody>\n",
       "    <tr>\n",
       "      <th>0</th>\n",
       "      <td>17245</td>\n",
       "      <td>0.0</td>\n",
       "      <td>0.0</td>\n",
       "      <td>MT</td>\n",
       "      <td>0</td>\n",
       "      <td>0</td>\n",
       "      <td>17245</td>\n",
       "      <td>17245</td>\n",
       "      <td>+</td>\n",
       "      <td>+</td>\n",
       "      <td>17245</td>\n",
       "      <td>GTTAATGTAGCTTAACAACAAAGCAAAGCACTGAAAATGCTTAGAT...</td>\n",
       "      <td>GTTAATGTAGCTTAACAACAAAGCAAAGCACTGAAAATGCTTAGAT...</td>\n",
       "      <td>NaN</td>\n",
       "      <td>NaN</td>\n",
       "      <td>TACAAATTGTATAATATTTGGACTAAACCCCCTTTCCCACCCCAAG...</td>\n",
       "      <td>GTTAATGTAGCTTAACAACAAAGCAAAGCACTGAAAATGCTTAGAT...</td>\n",
       "      <td>ENSOCUG00000029081</td>\n",
       "      <td>NaN</td>\n",
       "    </tr>\n",
       "    <tr>\n",
       "      <th>1</th>\n",
       "      <td>3398</td>\n",
       "      <td>0.0</td>\n",
       "      <td>0.0</td>\n",
       "      <td>1</td>\n",
       "      <td>114731432</td>\n",
       "      <td>6976</td>\n",
       "      <td>4680</td>\n",
       "      <td>4681</td>\n",
       "      <td>+</td>\n",
       "      <td>+</td>\n",
       "      <td>194850757</td>\n",
       "      <td>taGTAAAATTATTACATAACTTTGTCGAAGTTAATTTATAGGTTCA...</td>\n",
       "      <td>TAGTAAAACCATTACATAACTTTGTCGAAGTTAATTTATAGGTTCA...</td>\n",
       "      <td>ACAAAAGACTCTGAATAGCCAAAGCGATCCTGAACAAGAAAAATCA...</td>\n",
       "      <td>TATATATATTTATATATATATGTATATATGTACATATATATAACTA...</td>\n",
       "      <td>CCTTCGCCTCAAAACGAGAAGTAGAGACTATTGAACTAACAACCAC...</td>\n",
       "      <td>AACTGCTAATTCATGCTCCCATGTCTAACCCCATGGCTTTCTCAAC...</td>\n",
       "      <td>ENSOCUG00000006104</td>\n",
       "      <td>cilia and flagella associated protein 300 [Sou...</td>\n",
       "    </tr>\n",
       "    <tr>\n",
       "      <th>2</th>\n",
       "      <td>3120</td>\n",
       "      <td>0.0</td>\n",
       "      <td>0.0</td>\n",
       "      <td>GL019308</td>\n",
       "      <td>67160</td>\n",
       "      <td>883</td>\n",
       "      <td>4892</td>\n",
       "      <td>4945</td>\n",
       "      <td>+</td>\n",
       "      <td>+</td>\n",
       "      <td>88228</td>\n",
       "      <td>CAAGGCCATGAAGCATGCACACACTGCCCATCGCTCTCCTCAAACA...</td>\n",
       "      <td>CAAGGCCATGAAGCACGCACACACCGCCCGTCACCCTCCTCAAGTG...</td>\n",
       "      <td>GATAAACCCCGATAAACTTTACCACTCTTTGCCAACTCAGCCTCTA...</td>\n",
       "      <td>ATGAAGGGGCAAAGAGTAATTTTACAGTCGAGAGGGCTAGCAGTCA...</td>\n",
       "      <td>TACCGCCATCTTCAGCGAACCCTAAAAAGGAGCAAAAGTAAGCTCA...</td>\n",
       "      <td>TAGGGGCTATTAACTTTATTACAACTATTATTAATATGAAAGCCCC...</td>\n",
       "      <td>ENSOCUG00000031196</td>\n",
       "      <td>NaN</td>\n",
       "    </tr>\n",
       "    <tr>\n",
       "      <th>3</th>\n",
       "      <td>1888</td>\n",
       "      <td>0.0</td>\n",
       "      <td>0.0</td>\n",
       "      <td>GL019308</td>\n",
       "      <td>62527</td>\n",
       "      <td>12805</td>\n",
       "      <td>3439</td>\n",
       "      <td>3462</td>\n",
       "      <td>+</td>\n",
       "      <td>+</td>\n",
       "      <td>88228</td>\n",
       "      <td>AATTATTCATAGCCTCAATGATGAACAAGACATCCAAAAAACAGGA...</td>\n",
       "      <td>AATTATTCACAGCCTcaaTGATGAACAGGATATCCGAAAGATAGGC...</td>\n",
       "      <td>GTAGGAATTATATCCTTCCTCCTCATCGGCTGATGGCATGGCCAAG...</td>\n",
       "      <td>ACGTATACATGAGTTGTTCTTACATAATTGAATATACCTGCAATGC...</td>\n",
       "      <td>TGCCTAGGCGCAATCACTACCTTATTCACAGCCCTATGTGCCCTCA...</td>\n",
       "      <td>GTACACCCGTACGCACGCACGTACACCCGTACGCACGCACGTACAC...</td>\n",
       "      <td>ENSOCUG00000037635</td>\n",
       "      <td>NaN</td>\n",
       "    </tr>\n",
       "    <tr>\n",
       "      <th>4</th>\n",
       "      <td>1824</td>\n",
       "      <td>0.0</td>\n",
       "      <td>0.0</td>\n",
       "      <td>AAGW02081594</td>\n",
       "      <td>14016</td>\n",
       "      <td>6061</td>\n",
       "      <td>3040</td>\n",
       "      <td>3073</td>\n",
       "      <td>+</td>\n",
       "      <td>+</td>\n",
       "      <td>24576</td>\n",
       "      <td>TTCTTTGGACACCCTGAGGTATATATTCTTATCCTTCCAGGATTCG...</td>\n",
       "      <td>TTTTTCGGGCACCCCGAAGTATATATTCTTATTCTTCCAGGATTTG...</td>\n",
       "      <td>GACATGTCAAAGGAACGCAGAAGCCAGCTTGAAAAAGTCCTCAACA...</td>\n",
       "      <td>TGAAATAGCTATCACTATTCAGGTATGCCACTATTCTTCTAGGCAT...</td>\n",
       "      <td>ATATGAAAGCCCCTGCAATATCTCAATATCAAACCCCCTTATTCGT...</td>\n",
       "      <td>ATTCTCCTAGGTATCTATTTTACCCTACTTCAAGCATCGGAGTATT...</td>\n",
       "      <td>NaN</td>\n",
       "      <td>NaN</td>\n",
       "    </tr>\n",
       "  </tbody>\n",
       "</table>\n",
       "</div>"
      ],
      "text/plain": [
       "   score  eg2_value  e_value          g_id    g_start  mt_start  g_length  \\\n",
       "0  17245        0.0      0.0            MT          0         0     17245   \n",
       "1   3398        0.0      0.0             1  114731432      6976      4680   \n",
       "2   3120        0.0      0.0      GL019308      67160       883      4892   \n",
       "3   1888        0.0      0.0      GL019308      62527     12805      3439   \n",
       "4   1824        0.0      0.0  AAGW02081594      14016      6061      3040   \n",
       "\n",
       "   mt_length g_strand mt_strand     g_size  \\\n",
       "0      17245        +         +      17245   \n",
       "1       4681        +         +  194850757   \n",
       "2       4945        +         +      88228   \n",
       "3       3462        +         +      88228   \n",
       "4       3073        +         +      24576   \n",
       "\n",
       "                                          g_sequence  \\\n",
       "0  GTTAATGTAGCTTAACAACAAAGCAAAGCACTGAAAATGCTTAGAT...   \n",
       "1  taGTAAAATTATTACATAACTTTGTCGAAGTTAATTTATAGGTTCA...   \n",
       "2  CAAGGCCATGAAGCATGCACACACTGCCCATCGCTCTCCTCAAACA...   \n",
       "3  AATTATTCATAGCCTCAATGATGAACAAGACATCCAAAAAACAGGA...   \n",
       "4  TTCTTTGGACACCCTGAGGTATATATTCTTATCCTTCCAGGATTCG...   \n",
       "\n",
       "                                         mt_sequence  \\\n",
       "0  GTTAATGTAGCTTAACAACAAAGCAAAGCACTGAAAATGCTTAGAT...   \n",
       "1  TAGTAAAACCATTACATAACTTTGTCGAAGTTAATTTATAGGTTCA...   \n",
       "2  CAAGGCCATGAAGCACGCACACACCGCCCGTCACCCTCCTCAAGTG...   \n",
       "3  AATTATTCACAGCCTcaaTGATGAACAGGATATCCGAAAGATAGGC...   \n",
       "4  TTTTTCGGGCACCCCGAAGTATATATTCTTATTCTTCCAGGATTTG...   \n",
       "\n",
       "                                       g_up_flanking  \\\n",
       "0                                                NaN   \n",
       "1  ACAAAAGACTCTGAATAGCCAAAGCGATCCTGAACAAGAAAAATCA...   \n",
       "2  GATAAACCCCGATAAACTTTACCACTCTTTGCCAACTCAGCCTCTA...   \n",
       "3  GTAGGAATTATATCCTTCCTCCTCATCGGCTGATGGCATGGCCAAG...   \n",
       "4  GACATGTCAAAGGAACGCAGAAGCCAGCTTGAAAAAGTCCTCAACA...   \n",
       "\n",
       "                                     g_down_flanking  \\\n",
       "0                                                NaN   \n",
       "1  TATATATATTTATATATATATGTATATATGTACATATATATAACTA...   \n",
       "2  ATGAAGGGGCAAAGAGTAATTTTACAGTCGAGAGGGCTAGCAGTCA...   \n",
       "3  ACGTATACATGAGTTGTTCTTACATAATTGAATATACCTGCAATGC...   \n",
       "4  TGAAATAGCTATCACTATTCAGGTATGCCACTATTCTTCTAGGCAT...   \n",
       "\n",
       "  mt_up_flanking (if strand is negative, the coordinates are corrected)  \\\n",
       "0  TACAAATTGTATAATATTTGGACTAAACCCCCTTTCCCACCCCAAG...                      \n",
       "1  CCTTCGCCTCAAAACGAGAAGTAGAGACTATTGAACTAACAACCAC...                      \n",
       "2  TACCGCCATCTTCAGCGAACCCTAAAAAGGAGCAAAAGTAAGCTCA...                      \n",
       "3  TGCCTAGGCGCAATCACTACCTTATTCACAGCCCTATGTGCCCTCA...                      \n",
       "4  ATATGAAAGCCCCTGCAATATCTCAATATCAAACCCCCTTATTCGT...                      \n",
       "\n",
       "  mt_down_flanking (if strand is negative, the coordinates are corrected)  \\\n",
       "0  GTTAATGTAGCTTAACAACAAAGCAAAGCACTGAAAATGCTTAGAT...                        \n",
       "1  AACTGCTAATTCATGCTCCCATGTCTAACCCCATGGCTTTCTCAAC...                        \n",
       "2  TAGGGGCTATTAACTTTATTACAACTATTATTAATATGAAAGCCCC...                        \n",
       "3  GTACACCCGTACGCACGCACGTACACCCGTACGCACGCACGTACAC...                        \n",
       "4  ATTCTCCTAGGTATCTATTTTACCCTACTTCAAGCATCGGAGTATT...                        \n",
       "\n",
       "      ensembl_gene_id                                ensembl_description  \n",
       "0  ENSOCUG00000029081                                                NaN  \n",
       "1  ENSOCUG00000006104  cilia and flagella associated protein 300 [Sou...  \n",
       "2  ENSOCUG00000031196                                                NaN  \n",
       "3  ENSOCUG00000037635                                                NaN  \n",
       "4                 NaN                                                NaN  "
      ]
     },
     "execution_count": 3,
     "metadata": {},
     "output_type": "execute_result"
    }
   ],
   "source": [
    "#read pandas dataframe\n",
    "numt_array = pd.read_csv(home_dir + 'numt_master_array.csv')\n",
    "numt_array.head()"
   ]
  },
  {
   "cell_type": "code",
   "execution_count": 4,
   "id": "d21a313d",
   "metadata": {},
   "outputs": [],
   "source": [
    "#get g_ids and drop the ones that dont have corresponding sequences\n",
    "g_ids = numt_array['g_id'].drop_duplicates()\n",
    "g_ids = g_ids.drop(labels = [0,65])"
   ]
  },
  {
   "cell_type": "code",
   "execution_count": 5,
   "id": "d4e3663e",
   "metadata": {},
   "outputs": [],
   "source": [
    "#create dictionary from the numtless sequences\n",
    "def create_dictionary(g_id):\n",
    "    global numtless_sequences\n",
    "    filename = 'numtless_sequences/%s.fasta' % g_id\n",
    "    sequence = ''\n",
    "    with open (home_dir + filename) as infile:\n",
    "        content = infile.readlines()\n",
    "        try:\n",
    "            sequence = content[1]\n",
    "        except IndexError:\n",
    "            pass\n",
    "    numtless_sequences[g_id] = sequence\n",
    "    current_index = g_ids[g_ids == g_id].index[0]\n",
    "    if current_index % 5 == 0:\n",
    "        print('done for %s numts!' % current_index)"
   ]
  },
  {
   "cell_type": "code",
   "execution_count": 6,
   "id": "0e80a973",
   "metadata": {},
   "outputs": [
    {
     "name": "stderr",
     "output_type": "stream",
     "text": [
      "C:\\Users\\pytho\\Anaconda3\\lib\\site-packages\\ipykernel_launcher.py:2: DeprecationWarning: The default dtype for empty Series will be 'object' instead of 'float64' in a future version. Specify a dtype explicitly to silence this warning.\n",
      "  \n"
     ]
    },
    {
     "name": "stdout",
     "output_type": "stream",
     "text": [
      "done for 20 numts!\n",
      "done for 25 numts!\n",
      "done for 40 numts!\n",
      "done for 45 numts!\n",
      "done for 70 numts!\n",
      "done for 95 numts!\n",
      "done for 100 numts!\n",
      "done for 105 numts!\n",
      "done for 125 numts!\n"
     ]
    },
    {
     "data": {
      "text/plain": [
       "g_id\n",
       "1               AGGACCGCACAACCTTGCAGCTCAGCGACTCGTGGGGTCACACACA...\n",
       "GL019308        AGCATTTCCAGCATGCAGTCTCTCCCATGAAGGTGGAGAAGGAACT...\n",
       "AAGW02081594    TTATCTTTATTTCATCCATGATCAAATATTTCACCCACGATGATTA...\n",
       "GL019326        GAGACTGGGAAGAAGCTCCTGGCTCCTGGCTTTGGATCAGCGCAGC...\n",
       "GL018741        TAAAACTAAGAGTCATTCTAATCTTTCCTCTATATCTAATCCCAAC...\n",
       "18              NNNNNNNNNNNNNNNNNNNNNNNNNNNNNNNNNNNNNNNNNNNNNN...\n",
       "9               CGGGGACTCCCACTAGAGGAACCAGGTGATGTCAGTTCCCAGAATC...\n",
       "12              CTGAGTTCCTGGCTTCTGGCTTTGGCCTGGCTCAACCCCAGCTGCA...\n",
       "GL018705        ATAATGATCAGATGATAATGGTGGTGATGATGGTGAGGATGACTCT...\n",
       "17              GGTGTGGTATATGTGGTGTGTATGGTATGTGTGTGGTACTGTATGG...\n",
       "GL018700        CCAGATGGATACATGAAGTATGCAGTTGCCTATGTAGTTTAGAACT...\n",
       "19              NNNNNNNNNNNNNNNNNNNNNNNNNNNNNNNNNNNNNNNNNNNNNN...\n",
       "GL019465        ATACTTGGCTCCCCACCCAGGAGATCGCAGCTTGAGGCATCACCCC...\n",
       "GL018817        ACCTAATTACAGGGCACCGGTCTATTTAAAAGATATGTTAAGGGAC...\n",
       "13              TCATAATCCTAACCATAACCAAGGATTCAACCATAAATTTAAGACT...\n",
       "GL018826        ACATTATAAAACATAGAGACAGTGGGTAGTGTCCCACATACATGTG...\n",
       "GL018748        AATGGCCGCAACAGCGGGACCCTGGGCAATCTGAAGCCAGGAGTCA...\n",
       "2               GAGTTATAAAAGAGAAGGAGAGGCAGAGAGAGAGAGAGCAGTATGA...\n",
       "7               ACACACACAACACACACGACATAACAACACATACAACACACAAATA...\n",
       "16              CAGAATGAGATTTCTGCACTACAGACAAGAGTCTTTTGTCGTGCCT...\n",
       "GL018786        ACGCCCCGTCCAGCCAGACTGCCACTCCGCTGGCGGAACCCCCGAG...\n",
       "GL018706        AGTTTGTTCCCACACAGAAACATAAAGTGAAAAATAATAGATGATT...\n",
       "4               AACCAACGAGCTATGCACTTATGATATATGTGCTTTTTTTTTTTTT...\n",
       "GL019271        TGCTGCCTGTGATAGAAGTCAGTTTGTAGATCACCTTGAACCCTAC...\n",
       "GL019056        TACAGCATTGTACATGTTGTAACTCCCATCACTCATGGTCATATCA...\n",
       "GL019383        CTAAGCCAGAGACTTAGTCAAAAGACAAAAGCCATCAGAGGAAAAA...\n",
       "GL019525        TTTTAATGATGATGAAATCAGATCAGACCTATTGTCATGTTTAATC...\n",
       "GL019149        CCAGATATCCATCAACTGATGACCGGATAAAGAAATCCTGGCATAC...\n",
       "GL018925        AAAGTCTCAATACCTACCTAAGTCAGTTCCCAAGTCCTTTAGATTG...\n",
       "20              NNNNNNNNNNNNNNNNNNNNNNNNNNNNNNNNNNNNNNNNNNNNNN...\n",
       "AAGW02083714    TCCCCTAACTGCATGAGTCGGTTCCGAATTCACTCTCATTGTGAGT...\n",
       "GL018992        GAGGTGGTTAGAAATAGAATCCTGACTATTGTCTCCAGTTTCTCTA...\n",
       "AAGW02079688    TATTCCCCAACCTCTGATAACTACCATTCTACCGTGTCTACTTCTA...\n",
       "GL019086        TCTCTGGATGCGACCTTTTAGTCATTCTGGAACAAAGTCTGACCTG...\n",
       "GL019010        CCCGCGGTCAGTAGCCGTCACTGGTGCTGCCACTATTGAGGCTGTC...\n",
       "15              NNNNNNNNNNNNNNNNNNNNNNNNNNNNNNNNNNNNNNNNNNNNNN...\n",
       "GL019047        CTCCCCTTCCATTCAGTCCAGATCATTTTCGATTCTCTTTATATAC...\n",
       "GL018862        CAGTCAGTCATATTCATGGCTGTTAGCCTAGTATGTGAGATTGTCT...\n",
       "11              CTCACACACCCACGCGGCCTCACACACCCACGAGACCTCACACACC...\n",
       "GL019311        CCAGATCCTTGGGCCCTGCATCCACATGGGAGACCAGGAGGAAACA...\n",
       "14              AAATGAAGTCAGATATGGTAATCGATACTGAACTGAGGCACGGATT...\n",
       "3               AAGCAGGCCAGTCCACTGTGTCACTTACAGACACAGCTGACACTGA...\n",
       "GL019235        TAGCTGATGGGTATCAGTGGTTCTTGCCAGGAACCCCAGTGACCTC...\n",
       "21              NNNNNNNNNNNNNNNNNNNNNNNNNNNNNNNNNNNNNNNNNNNNNN...\n",
       "GL018744        GCTGCATTTTATTTTGTAGACAGGCATATTTTCTTTTCCAATTGCT...\n",
       "dtype: object"
      ]
     },
     "execution_count": 6,
     "metadata": {},
     "output_type": "execute_result"
    }
   ],
   "source": [
    "#create vector for numtless sequences\n",
    "numtless_sequences = pd.Series(index = g_ids)\n",
    "g_ids.apply(create_dictionary)\n",
    "numtless_sequences"
   ]
  },
  {
   "cell_type": "code",
   "execution_count": 7,
   "id": "8f4c7210",
   "metadata": {},
   "outputs": [
    {
     "data": {
      "text/plain": [
       "g_id\n",
       "1               [4680, 698, 1012, 375, 371, 467, 393, 658, 773]\n",
       "GL019308                           [4892, 3439, 1414, 837, 820]\n",
       "AAGW02081594                            [3040, 2339, 1650, 577]\n",
       "GL019326                     [1851, 1451, 1315, 1420, 995, 833]\n",
       "GL018741                           [1945, 1590, 1074, 552, 503]\n",
       "18                                        [1440, 407, 292, 482]\n",
       "9                                          [720, 822, 397, 273]\n",
       "12                                              [419, 216, 368]\n",
       "GL018705                                                  [834]\n",
       "17                                              [595, 407, 352]\n",
       "GL018700                                                  [896]\n",
       "19                                                        [930]\n",
       "GL019465                              [930, 677, 795, 424, 916]\n",
       "GL018817                                  [674, 1070, 784, 720]\n",
       "13                                                   [351, 126]\n",
       "GL018826              [1193, 891, 828, 635, 462, 382, 375, 301]\n",
       "GL018748                                        [788, 788, 658]\n",
       "2                                                    [325, 273]\n",
       "7                                               [363, 515, 290]\n",
       "16                                                        [162]\n",
       "GL018786                                                  [210]\n",
       "GL018706                                                  [124]\n",
       "4                  [197, 1695, 1961, 1501, 998, 866, 680, 1173]\n",
       "GL019271                                                 [6228]\n",
       "GL019056                                                 [5970]\n",
       "GL019383                                            [5141, 838]\n",
       "GL019525                                                 [3547]\n",
       "GL019149                                            [2656, 900]\n",
       "GL018925                                            [2671, 902]\n",
       "20                                                   [620, 470]\n",
       "AAGW02083714                                              [630]\n",
       "GL018992                                                  [629]\n",
       "AAGW02079688                                   [629, 1068, 600]\n",
       "GL019086                                                  [627]\n",
       "GL019010                                       [1097, 596, 728]\n",
       "15                                    [881, 678, 427, 506, 505]\n",
       "GL019047                                        [632, 369, 243]\n",
       "GL018862                                             [727, 597]\n",
       "11                                                        [806]\n",
       "GL019311                                             [646, 218]\n",
       "14                                                        [450]\n",
       "3                                                         [228]\n",
       "GL019235                                                  [375]\n",
       "21                                                        [321]\n",
       "GL018744                                                  [319]\n",
       "Name: g_id, dtype: object"
      ]
     },
     "execution_count": 7,
     "metadata": {},
     "output_type": "execute_result"
    }
   ],
   "source": [
    "lengths = g_ids.apply(lambda x : numt_array.loc[numt_array['g_id'] == x]['g_length'].tolist())\n",
    "lengths.index = g_ids\n",
    "lengths"
   ]
  },
  {
   "cell_type": "code",
   "execution_count": 64,
   "id": "0d761b77",
   "metadata": {},
   "outputs": [],
   "source": [
    "#get the sequence samples\n",
    "def sampling(g_id):\n",
    "    np.random.seed(17)\n",
    "    sequence_to_sample = numtless_sequences[g_id]\n",
    "    numt_sizes = lengths[g_id]\n",
    "    samples = []\n",
    "    for index, numt_size in enumerate(numt_sizes):\n",
    "        start = np.random.randint(0, (len(sequence_to_sample) - numt_size))\n",
    "        end = start + numt_size\n",
    "        sample_sequence = sequence_to_sample[start:end]\n",
    "        samples.append(sample_sequence)\n",
    "    return samples"
   ]
  },
  {
   "cell_type": "code",
   "execution_count": 65,
   "id": "430ac278",
   "metadata": {},
   "outputs": [
    {
     "data": {
      "text/plain": [
       "g_id\n",
       "1               [GGAAGCTGGCAGCAGATTCTAGTTATCCCTTAGCTCACTCCATGG...\n",
       "GL019308        [AGACATATACTAGAGTATTATGAATGGGATAGCAGTACCAAAAAA...\n",
       "AAGW02081594    [ATTAGGGAGAAAAAAAATCATGAAATGGGAAGGAAAAGATTCTCT...\n",
       "GL019326        [ACTGGAATTAAGACTTATTCTATGCATCTGCTCTCCCACAATATG...\n",
       "GL018741        [ACGCCTTAAGATTTTTTATGGTACGTAGATTATACCCCAGTAAGG...\n",
       "18              [GAGTGCCAGTAGGCATCCTCCCTTCACTTCCCATCCACCTTCCTG...\n",
       "9               [AACTCACTCTAGTTAGAATGGCTCTCATAGAGAAATTAACAAACA...\n",
       "12              [AAAGAAGGAGGTGAGTTTCATGTCCCTTGGTATTCATTAAGGGCA...\n",
       "GL018705        [TTGCATTTCCCCCTGATTGCTAGTGATCTTGAACATTTTTTCATG...\n",
       "17              [GCTTTCCCAGGGCATAGCAGAGAACTGGATGGGAAGAGGAGCAGC...\n",
       "GL018700        [AAACTTTATTTTCATGATTTATTTTAATTTATGATTTTTCATAGA...\n",
       "19              [ACCAGGGCTGGCGCCTGGCTGGATCATCCCAGAGCCCCGCCCCCC...\n",
       "GL019465        [CCGGCCCACCTCTTGAGTTCTTCACATTATTTCACCTATGCTGAC...\n",
       "GL018817        [CAAAACAGCCTGGTACTGGTACAAAAACAGATGGATAGACCAATG...\n",
       "13              [TTGTCCCAGAGCTATTTCCAGCGGCTGTCAGTGCTCAGGCCAGAA...\n",
       "GL018826        [GCTTGTAAAAGGGGGCAAACTCGAGCCAGAGCCCAGAAACTCAAT...\n",
       "GL018748        [TGATCATACCATTTCCCTTCTGAGAACTTCTGGTTATTCCAAAAC...\n",
       "2               [TGTTTAACTTCACACTGCACATTTCCAATCATTTGAAGGTCTTAC...\n",
       "7               [TTATGAGTTTTGCCTATTTGAGTAAAATAAGTTTGTTAGTGGTTC...\n",
       "16              [AGAGAGACCTTCCATTCACTGGTTCACTCCCCAAATGACTGCAAC...\n",
       "GL018786        [CTGCCTGTCCAAAAATAAATAAATAAATAAATAAATAAAAGTTGT...\n",
       "GL018706        [CTTACAGATAGTCGAATGTAGAGATGCAGAAATCCAGAGACGCTT...\n",
       "4               [ATTTCAGTCTACATAAATGAATTTTTATTAAGATATCTTCATGCC...\n",
       "GL019271        [CTCCAGCTGTTGCAGCCATGTGGGGAGTGAACCAGCAGATGGAAG...\n",
       "GL019056        [CCTGCAGCATGATGAACTGGATTTTCCTGAAACAGAGAGTGGGAA...\n",
       "GL019383        [ATATGGGATTATCGACACTTCTGTAGTGGTGTATCTGTCATGGGG...\n",
       "GL019525        [TTTCCAAGTGGAACAGCATGATCTCTCATTGTGGTTTTCTAAAAA...\n",
       "GL019149        [GATAAACCGGTGCCCTGTAGTTAGGTGCATATACATTGATAATTG...\n",
       "GL018925        [TAGAAGGCTCTTTAAAACACTAGGTATTTGTGAGCTTCACCATTT...\n",
       "20              [TATGTTATATTTTTGAAATGGAGCAAAGCAAATATTTGATTCTAC...\n",
       "AAGW02083714    [ATACATTCAGTGTACGTGGCCTGTGCCCTGAATTCAGCGGTGGTT...\n",
       "GL018992        [GGAGCACCTGGCTCTGGCCTGGCCCAGCCCCGGCTGTTGTGGCCA...\n",
       "AAGW02079688    [CCTACCACATGCCAGTGTTCTTATTTTGGTGTGTCCGTGGTATTC...\n",
       "GL019086        [NNNNNNNNNNNNNNNNNNNNNNNNNNNNNNNNNNNNNNNNNNNNN...\n",
       "GL019010        [TTTATGACATCAGCGATCACCCGAGACTCTTGCTATGAGCTGTCT...\n",
       "15              [NNNNNNNNNNNNNNNNNNNNNNNNNNNNNNNNNNNNNNNNNNNNN...\n",
       "GL019047        [TATTTATTCAATGAAGCATTATATTTTGTACAATATCTACTGGAA...\n",
       "GL018862        [GCCACCCACCCTGCTCCTCTGGCCAAGACCCCTTCTTCAAGCTCC...\n",
       "11              [GCAGCTTTCTGCTAATGCTGACTTTAGGGGGGCCCACATGGGAGG...\n",
       "GL019311        [GGGTCTTGAACCCGGGGTGCCAGCGCCGCAGATGGAAGATCTTAG...\n",
       "14              [TCTCTACATGAATAAAGTACAACTAAGATATTCAAAAACAAAACT...\n",
       "3               [TTGATAACACAATTGTAAAAATATCTCATTCTGACAGCAAAATTC...\n",
       "GL019235        [CTCAGAGCCGAGTCTGGGTGGGAAAGCAGACTGACTGCTTTGTTG...\n",
       "21              [CCAAGTCTCTGTTTCCAGGTCTCTAAGATGGGGAGGGAGGGAGTG...\n",
       "GL018744        [CCCTGCTAGGGGGTTACGTAAAAATGTGAAATCATCCTATATTCT...\n",
       "Name: g_id, dtype: object"
      ]
     },
     "execution_count": 65,
     "metadata": {},
     "output_type": "execute_result"
    }
   ],
   "source": [
    "#get samples sequences\n",
    "sequence_samples = g_ids.apply(sampling)\n",
    "sequence_samples.index = g_ids\n",
    "sequence_samples"
   ]
  },
  {
   "cell_type": "code",
   "execution_count": 66,
   "id": "b46b7bbe",
   "metadata": {},
   "outputs": [],
   "source": [
    "#calculate gc contents of sequence samples\n",
    "def gc_content(sample_sequences):\n",
    "    gc_contents = []\n",
    "    for sample_sequence in sample_sequences:\n",
    "        g_content = sample_sequence.upper().count('G')\n",
    "        c_content = sample_sequence.upper().count('C')\n",
    "        gc_content = (g_content + c_content) / len(sample_sequence)\n",
    "        gc_contents.append(gc_content)\n",
    "    return gc_contents"
   ]
  },
  {
   "cell_type": "code",
   "execution_count": 67,
   "id": "d85ea4f0",
   "metadata": {},
   "outputs": [
    {
     "data": {
      "text/plain": [
       "g_id\n",
       "1               [0.4047008547008547, 0.3166189111747851, 0.312...\n",
       "GL019308        [0.4114881439084219, 0.49607444024425706, 0.36...\n",
       "AAGW02081594    [0.40921052631578947, 0.34117144078666095, 0.5...\n",
       "GL019326        [0.40788762830902214, 0.29221226740179185, 0.3...\n",
       "GL018741        [0.49254498714652956, 0.49937106918238994, 0.3...\n",
       "18              [0.4388888888888889, 0.0, 0.5034246575342466, ...\n",
       "9               [0.3541666666666667, 0.5218978102189781, 0.521...\n",
       "12                 [0.4630071599045346, 0.32407407407407407, 0.0]\n",
       "GL018705                                     [0.3932853717026379]\n",
       "17                  [0.4369747899159664, 0.0, 0.4346590909090909]\n",
       "GL018700                                    [0.39174107142857145]\n",
       "19                                           [0.5720430107526882]\n",
       "GL019465        [0.4021505376344086, 0.34268833087149186, 0.49...\n",
       "GL018817        [0.39762611275964393, 0.594392523364486, 0.457...\n",
       "13                       [0.6666666666666666, 0.5793650793650794]\n",
       "GL018826        [0.5641240569991618, 0.4107744107744108, 0.600...\n",
       "GL018748        [0.4593908629441624, 0.501269035532995, 0.4848...\n",
       "2                        [0.40307692307692305, 0.304029304029304]\n",
       "7               [0.3085399449035813, 0.3941747572815534, 0.331...\n",
       "16                                           [0.4012345679012346]\n",
       "GL018786                                     [0.2571428571428571]\n",
       "GL018706                                    [0.49193548387096775]\n",
       "4               [0.3553299492385787, 0.46607669616519176, 0.52...\n",
       "GL019271                                      [0.426461143224149]\n",
       "GL019056                                    [0.39748743718592966]\n",
       "GL019383                 [0.398560591324645, 0.38424821002386633]\n",
       "GL019525                                    [0.40456723992106003]\n",
       "GL019149                [0.4182981927710843, 0.40555555555555556]\n",
       "GL018925                [0.38075627105952825, 0.5254988913525499]\n",
       "20                      [0.41774193548387095, 0.5446808510638298]\n",
       "AAGW02083714                                 [0.5126984126984127]\n",
       "GL018992                                     [0.6232114467408585]\n",
       "AAGW02079688    [0.4133545310015898, 0.5149812734082397, 0.501...\n",
       "GL019086                                                    [0.0]\n",
       "GL019010        [0.41567912488605285, 0.4278523489932886, 0.43...\n",
       "15              [0.2656072644721907, 0.0, 0.44730679156908665,...\n",
       "GL019047        [0.3575949367088608, 0.5907859078590786, 0.485...\n",
       "GL018862                 [0.7579092159559835, 0.3685092127303183]\n",
       "11                                          [0.40694789081885857]\n",
       "GL019311                 [0.5185758513931888, 0.6376146788990825]\n",
       "14                                          [0.36444444444444446]\n",
       "3                                            [0.2543859649122807]\n",
       "GL019235                                     [0.5733333333333334]\n",
       "21                                           [0.5451713395638629]\n",
       "GL018744                                    [0.47648902821316613]\n",
       "Name: g_id, dtype: object"
      ]
     },
     "execution_count": 67,
     "metadata": {},
     "output_type": "execute_result"
    }
   ],
   "source": [
    "#calculate gc content of sample sequences\n",
    "gc_content_samples = sequence_samples.apply(gc_content)\n",
    "gc_content_samples.index = g_ids\n",
    "gc_content_samples"
   ]
  },
  {
   "cell_type": "code",
   "execution_count": 68,
   "id": "3adaab0b",
   "metadata": {},
   "outputs": [],
   "source": [
    "#calculate the gc content of numts\n",
    "def numts_gc(g_id):\n",
    "    df = numt_array.loc[numt_array['g_id'] == g_id]\n",
    "    gc_content = df['g_sequence'].apply(lambda x : (x.count('G') + x.count('C')) / len(x.replace('N','')))\n",
    "    return gc_content.tolist()"
   ]
  },
  {
   "cell_type": "code",
   "execution_count": 69,
   "id": "a49d27f0",
   "metadata": {},
   "outputs": [],
   "source": [
    "#calculate the gc content of numts\n",
    "numts_gc = g_ids.apply(numts_gc)"
   ]
  },
  {
   "cell_type": "code",
   "execution_count": 70,
   "id": "438864db",
   "metadata": {},
   "outputs": [
    {
     "data": {
      "text/plain": [
       "g_id\n",
       "1               [0.3843689942344651, 0.35704323570432356, 0.36...\n",
       "GL019308        [0.3726519894970713, 0.38018433179723504, 0.34...\n",
       "AAGW02081594    [0.387264457439896, 0.3499790180444817, 0.3605...\n",
       "GL019326        [0.36746666666666666, 0.3604336043360434, 0.36...\n",
       "GL018741        [0.34470647265429, 0.3409371146732429, 0.31738...\n",
       "18              [0.3429724277067922, 0.34688995215311, 0.29391...\n",
       "9               [0.3337856173677069, 0.29832935560859186, 0.36...\n",
       "12              [0.31116389548693585, 0.3669724770642202, 0.28...\n",
       "GL018705                                    [0.33568075117370894]\n",
       "17              [0.39195979899497485, 0.2684085510688836, 0.36...\n",
       "GL018700                                     [0.2809110629067245]\n",
       "19                                           [0.3960703205791106]\n",
       "GL019465        [0.3960703205791106, 0.41594202898550725, 0.34...\n",
       "GL018817        [0.41884057971014493, 0.3397548161120841, 0.34...\n",
       "13                       [0.3926553672316384, 0.4126984126984127]\n",
       "GL018826        [0.33516483516483514, 0.35600425079702447, 0.3...\n",
       "GL018748        [0.35555555555555557, 0.35185185185185186, 0.3...\n",
       "2                       [0.3834355828220859, 0.27106227106227104]\n",
       "7               [0.3561643835616438, 0.2914285714285714, 0.285...\n",
       "16                                          [0.48466257668711654]\n",
       "GL018786                                     [0.4225352112676056]\n",
       "GL018706                                     [0.3548387096774194]\n",
       "4               [0.357487922705314, 0.3483606557377049, 0.3548...\n",
       "GL019271                                    [0.37608730033212084]\n",
       "GL019056                                      [0.373987770616427]\n",
       "GL019383                [0.38375887886350546, 0.3254994124559342]\n",
       "GL019525                                     [0.3667953667953668]\n",
       "GL019149                [0.37504614248800294, 0.3442982456140351]\n",
       "GL018925                 [0.3766997427416391, 0.3402625820568928]\n",
       "20                                   [0.3664, 0.3883089770354906]\n",
       "AAGW02083714                                  [0.374805598755832]\n",
       "GL018992                                    [0.37636080870917576]\n",
       "AAGW02079688    [0.37791601866251945, 0.2992831541218638, 0.27...\n",
       "GL019086                                    [0.37538940809968846]\n",
       "GL019010        [0.30305676855895197, 0.27483443708609273, 0.3...\n",
       "15              [0.30042918454935624, 0.25611510791366904, 0.3...\n",
       "GL019047        [0.33690658499234305, 0.408, 0.38866396761133604]\n",
       "GL018862                [0.3011734028683181, 0.27768595041322314]\n",
       "11                                           [0.3517877739331027]\n",
       "GL019311                [0.3555878084179971, 0.25877192982456143]\n",
       "14                                          [0.29559748427672955]\n",
       "3                                            [0.3815789473684211]\n",
       "GL019235                                     [0.4120734908136483]\n",
       "21                                           [0.2852760736196319]\n",
       "GL018744                                    [0.48484848484848486]\n",
       "Name: g_id, dtype: object"
      ]
     },
     "execution_count": 70,
     "metadata": {},
     "output_type": "execute_result"
    }
   ],
   "source": [
    "numts_gc.index = g_ids\n",
    "numts_gc"
   ]
  },
  {
   "cell_type": "code",
   "execution_count": 71,
   "id": "cfb51017",
   "metadata": {},
   "outputs": [],
   "source": [
    "#function for merging gc contents\n",
    "def merge(gc_content):\n",
    "    global sum_gc\n",
    "    sum_gc += gc_content"
   ]
  },
  {
   "cell_type": "code",
   "execution_count": 72,
   "id": "1b384ce4",
   "metadata": {},
   "outputs": [
    {
     "data": {
      "text/plain": [
       "122"
      ]
     },
     "execution_count": 72,
     "metadata": {},
     "output_type": "execute_result"
    }
   ],
   "source": [
    "#get merged gc content of numts\n",
    "sum_gc = []\n",
    "numts_gc.apply(merge)\n",
    "len(sum_gc)"
   ]
  },
  {
   "cell_type": "code",
   "execution_count": 73,
   "id": "c959398c",
   "metadata": {},
   "outputs": [
    {
     "data": {
      "text/plain": [
       "122"
      ]
     },
     "execution_count": 73,
     "metadata": {},
     "output_type": "execute_result"
    }
   ],
   "source": [
    "numts_gc = sum_gc\n",
    "len(numts_gc)"
   ]
  },
  {
   "cell_type": "code",
   "execution_count": 74,
   "id": "e52e41ac",
   "metadata": {},
   "outputs": [
    {
     "data": {
      "text/plain": [
       "122"
      ]
     },
     "execution_count": 74,
     "metadata": {},
     "output_type": "execute_result"
    }
   ],
   "source": [
    "sum_gc = []\n",
    "gc_content_samples.apply(merge)\n",
    "samples_gc = sum_gc\n",
    "len(samples_gc)"
   ]
  },
  {
   "cell_type": "code",
   "execution_count": 75,
   "id": "57b33b0e",
   "metadata": {},
   "outputs": [],
   "source": [
    "#numts_gc"
   ]
  },
  {
   "cell_type": "code",
   "execution_count": 76,
   "id": "98b10f16",
   "metadata": {},
   "outputs": [
    {
     "data": {
      "text/plain": [
       "[0.4047008547008547,\n",
       " 0.3166189111747851,\n",
       " 0.31225296442687744,\n",
       " 0.592,\n",
       " 0.3719676549865229,\n",
       " 0.284796573875803,\n",
       " 0.5063613231552163,\n",
       " 0.1656534954407295,\n",
       " 0.35575679172056923,\n",
       " 0.4114881439084219,\n",
       " 0.49607444024425706,\n",
       " 0.3698727015558699,\n",
       " 0.2007168458781362,\n",
       " 0.574390243902439,\n",
       " 0.40921052631578947,\n",
       " 0.34117144078666095,\n",
       " 0.5230303030303031,\n",
       " 0.4558058925476603,\n",
       " 0.40788762830902214,\n",
       " 0.29221226740179185,\n",
       " 0.3376425855513308,\n",
       " 0.43380281690140843,\n",
       " 0.0,\n",
       " 0.4237695078031212,\n",
       " 0.49254498714652956,\n",
       " 0.49937106918238994,\n",
       " 0.39013035381750466,\n",
       " 0.4003623188405797,\n",
       " 0.4532803180914513,\n",
       " 0.4388888888888889,\n",
       " 0.0,\n",
       " 0.5034246575342466,\n",
       " 0.4460580912863071,\n",
       " 0.3541666666666667,\n",
       " 0.5218978102189781,\n",
       " 0.5214105793450882,\n",
       " 0.358974358974359,\n",
       " 0.4630071599045346,\n",
       " 0.32407407407407407,\n",
       " 0.0,\n",
       " 0.3932853717026379,\n",
       " 0.4369747899159664,\n",
       " 0.0,\n",
       " 0.4346590909090909,\n",
       " 0.39174107142857145,\n",
       " 0.5720430107526882,\n",
       " 0.4021505376344086,\n",
       " 0.34268833087149186,\n",
       " 0.49433962264150944,\n",
       " 0.4386792452830189,\n",
       " 0.45524017467248906,\n",
       " 0.39762611275964393,\n",
       " 0.594392523364486,\n",
       " 0.45790816326530615,\n",
       " 0.6430555555555556,\n",
       " 0.6666666666666666,\n",
       " 0.5793650793650794,\n",
       " 0.5641240569991618,\n",
       " 0.4107744107744108,\n",
       " 0.6002415458937198,\n",
       " 0.5023622047244094,\n",
       " 0.3484848484848485,\n",
       " 0.643979057591623,\n",
       " 0.6453333333333333,\n",
       " 0.521594684385382,\n",
       " 0.4593908629441624,\n",
       " 0.501269035532995,\n",
       " 0.4848024316109423,\n",
       " 0.40307692307692305,\n",
       " 0.304029304029304,\n",
       " 0.3085399449035813,\n",
       " 0.3941747572815534,\n",
       " 0.3310344827586207,\n",
       " 0.4012345679012346,\n",
       " 0.2571428571428571,\n",
       " 0.49193548387096775,\n",
       " 0.3553299492385787,\n",
       " 0.46607669616519176,\n",
       " 0.522182559918409,\n",
       " 0.3570952698201199,\n",
       " 0.3847695390781563,\n",
       " 0.3533487297921478,\n",
       " 0.4852941176470588,\n",
       " 0.46462063086104005,\n",
       " 0.426461143224149,\n",
       " 0.39748743718592966,\n",
       " 0.398560591324645,\n",
       " 0.38424821002386633,\n",
       " 0.40456723992106003,\n",
       " 0.4182981927710843,\n",
       " 0.40555555555555556,\n",
       " 0.38075627105952825,\n",
       " 0.5254988913525499,\n",
       " 0.41774193548387095,\n",
       " 0.5446808510638298,\n",
       " 0.5126984126984127,\n",
       " 0.6232114467408585,\n",
       " 0.4133545310015898,\n",
       " 0.5149812734082397,\n",
       " 0.5016666666666667,\n",
       " 0.0,\n",
       " 0.41567912488605285,\n",
       " 0.4278523489932886,\n",
       " 0.4340659340659341,\n",
       " 0.2656072644721907,\n",
       " 0.0,\n",
       " 0.44730679156908665,\n",
       " 0.3438735177865613,\n",
       " 0.48514851485148514,\n",
       " 0.3575949367088608,\n",
       " 0.5907859078590786,\n",
       " 0.48559670781893005,\n",
       " 0.7579092159559835,\n",
       " 0.3685092127303183,\n",
       " 0.40694789081885857,\n",
       " 0.5185758513931888,\n",
       " 0.6376146788990825,\n",
       " 0.36444444444444446,\n",
       " 0.2543859649122807,\n",
       " 0.5733333333333334,\n",
       " 0.5451713395638629,\n",
       " 0.47648902821316613]"
      ]
     },
     "execution_count": 76,
     "metadata": {},
     "output_type": "execute_result"
    }
   ],
   "source": [
    "samples_gc"
   ]
  },
  {
   "cell_type": "code",
   "execution_count": 77,
   "id": "0c35774b",
   "metadata": {},
   "outputs": [],
   "source": [
    "#normality testing of numts gc\n",
    "numts_normality = anderson(numts_gc)\n",
    "numts_stat = numts_normality[0]\n",
    "numts_critical_value = numts_normality[1][2]"
   ]
  },
  {
   "cell_type": "code",
   "execution_count": 78,
   "id": "2cfc9fc2",
   "metadata": {},
   "outputs": [],
   "source": [
    "#normality testing of samples gc\n",
    "samples_normality = anderson(samples_gc)\n",
    "samples_stat = samples_normality[0]\n",
    "samples_critical_value = samples_normality[1][2]"
   ]
  },
  {
   "cell_type": "code",
   "execution_count": 79,
   "id": "4a1bdf6e",
   "metadata": {},
   "outputs": [
    {
     "data": {
      "text/plain": [
       "9.197154322160355e-09"
      ]
     },
     "execution_count": 79,
     "metadata": {},
     "output_type": "execute_result"
    }
   ],
   "source": [
    "#statistics (normality testing and significance)\n",
    "if (numts_stat > numts_critical_value) or (samples_stat > samples_critical_value):\n",
    "    significance = wilcoxon(numts_gc, samples_gc)\n",
    "else:\n",
    "    significance = ttest_ind(numts_gc, samples_gc)\n",
    "significance[1]"
   ]
  },
  {
   "cell_type": "code",
   "execution_count": 92,
   "id": "5643ed29",
   "metadata": {},
   "outputs": [
    {
     "data": {
      "image/png": "[encoded data removed]",
      "text/plain": [
       "<Figure size 432x288 with 1 Axes>"
      ]
     },
     "metadata": {
      "needs_background": "light"
     },
     "output_type": "display_data"
    }
   ],
   "source": [
    "data = [numts_gc, samples_gc]\n",
    "ax = sns.boxplot(data=data)\n",
    "ax.set_ylabel('GC content')\n",
    "ax.set_xticklabels(['numts', 'samples'])\n",
    "plt.show()"
   ]
  },
  {
   "cell_type": "code",
   "execution_count": 89,
   "id": "ec5b19b4",
   "metadata": {},
   "outputs": [
    {
     "data": {
      "image/png": "[encoded data removed]",
      "text/plain": [
       "<Figure size 432x288 with 1 Axes>"
      ]
     },
     "metadata": {
      "needs_background": "light"
     },
     "output_type": "display_data"
    }
   ],
   "source": [
    "ax = sns.violinplot(data=data)\n",
    "ax.set_ylabel('GC content')\n",
    "ax.set_xticklabels(['numts', 'samples'])\n",
    "plt.show()"
   ]
  },
  {
   "cell_type": "code",
   "execution_count": null,
   "id": "03ae3f52",
   "metadata": {},
   "outputs": [],
   "source": []
  }
 ],
 "metadata": {
  "kernelspec": {
   "display_name": "Python 3",
   "language": "python",
   "name": "python3"
  },
  "language_info": {
   "codemirror_mode": {
    "name": "ipython",
    "version": 3
   },
   "file_extension": ".py",
   "mimetype": "text/x-python",
   "name": "python",
   "nbconvert_exporter": "python",
   "pygments_lexer": "ipython3",
   "version": "3.7.1"
  }
 },
 "nbformat": 4,
 "nbformat_minor": 5
}
