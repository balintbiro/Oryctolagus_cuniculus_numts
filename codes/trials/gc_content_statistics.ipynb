{
 "cells": [
  {
   "cell_type": "code",
   "execution_count": 1,
   "id": "d516d6d5",
   "metadata": {},
   "outputs": [],
   "source": [
    "#importing the required modules\n",
    "import os\n",
    "import numpy as np\n",
    "import pandas as pd\n",
    "import seaborn as sns\n",
    "import matplotlib.pyplot as plt\n",
    "from scipy.stats import anderson, wilcoxon, ttest_ind"
   ]
  },
  {
   "cell_type": "code",
   "execution_count": 2,
   "id": "1bbb90ce",
   "metadata": {},
   "outputs": [],
   "source": [
    "home_dir = os.path.join(r'Z:\\balint\\numt\\Michael\\data/')"
   ]
  },
  {
   "cell_type": "code",
   "execution_count": 3,
   "id": "c6907506",
   "metadata": {},
   "outputs": [
    {
     "data": {
      "text/html": [
       "<div>\n",
       "<style scoped>\n",
       "    .dataframe tbody tr th:only-of-type {\n",
       "        vertical-align: middle;\n",
       "    }\n",
       "\n",
       "    .dataframe tbody tr th {\n",
       "        vertical-align: top;\n",
       "    }\n",
       "\n",
       "    .dataframe thead th {\n",
       "        text-align: right;\n",
       "    }\n",
       "</style>\n",
       "<table border=\"1\" class=\"dataframe\">\n",
       "  <thead>\n",
       "    <tr style=\"text-align: right;\">\n",
       "      <th></th>\n",
       "      <th>score</th>\n",
       "      <th>eg2_value</th>\n",
       "      <th>e_value</th>\n",
       "      <th>g_id</th>\n",
       "      <th>g_start</th>\n",
       "      <th>mt_start</th>\n",
       "      <th>g_length</th>\n",
       "      <th>mt_length</th>\n",
       "      <th>g_strand</th>\n",
       "      <th>mt_strand</th>\n",
       "      <th>g_size</th>\n",
       "      <th>g_sequence</th>\n",
       "      <th>mt_sequence</th>\n",
       "      <th>g_up_flanking</th>\n",
       "      <th>g_down_flanking</th>\n",
       "      <th>mt_up_flanking (if strand is negative, the coordinates are corrected)</th>\n",
       "      <th>mt_down_flanking (if strand is negative, the coordinates are corrected)</th>\n",
       "      <th>ensembl_gene_id</th>\n",
       "      <th>ensembl_description</th>\n",
       "    </tr>\n",
       "  </thead>\n",
       "  <tbody>\n",
       "    <tr>\n",
       "      <th>0</th>\n",
       "      <td>17245</td>\n",
       "      <td>0.0</td>\n",
       "      <td>0.0</td>\n",
       "      <td>MT</td>\n",
       "      <td>0</td>\n",
       "      <td>0</td>\n",
       "      <td>17245</td>\n",
       "      <td>17245</td>\n",
       "      <td>+</td>\n",
       "      <td>+</td>\n",
       "      <td>17245</td>\n",
       "      <td>GTTAATGTAGCTTAACAACAAAGCAAAGCACTGAAAATGCTTAGAT...</td>\n",
       "      <td>GTTAATGTAGCTTAACAACAAAGCAAAGCACTGAAAATGCTTAGAT...</td>\n",
       "      <td>NaN</td>\n",
       "      <td>NaN</td>\n",
       "      <td>TACAAATTGTATAATATTTGGACTAAACCCCCTTTCCCACCCCAAG...</td>\n",
       "      <td>GTTAATGTAGCTTAACAACAAAGCAAAGCACTGAAAATGCTTAGAT...</td>\n",
       "      <td>ENSOCUG00000029081</td>\n",
       "      <td>NaN</td>\n",
       "    </tr>\n",
       "    <tr>\n",
       "      <th>1</th>\n",
       "      <td>3398</td>\n",
       "      <td>0.0</td>\n",
       "      <td>0.0</td>\n",
       "      <td>1</td>\n",
       "      <td>114731432</td>\n",
       "      <td>6976</td>\n",
       "      <td>4680</td>\n",
       "      <td>4681</td>\n",
       "      <td>+</td>\n",
       "      <td>+</td>\n",
       "      <td>194850757</td>\n",
       "      <td>taGTAAAATTATTACATAACTTTGTCGAAGTTAATTTATAGGTTCA...</td>\n",
       "      <td>TAGTAAAACCATTACATAACTTTGTCGAAGTTAATTTATAGGTTCA...</td>\n",
       "      <td>ACAAAAGACTCTGAATAGCCAAAGCGATCCTGAACAAGAAAAATCA...</td>\n",
       "      <td>TATATATATTTATATATATATGTATATATGTACATATATATAACTA...</td>\n",
       "      <td>CCTTCGCCTCAAAACGAGAAGTAGAGACTATTGAACTAACAACCAC...</td>\n",
       "      <td>AACTGCTAATTCATGCTCCCATGTCTAACCCCATGGCTTTCTCAAC...</td>\n",
       "      <td>ENSOCUG00000006104</td>\n",
       "      <td>cilia and flagella associated protein 300 [Sou...</td>\n",
       "    </tr>\n",
       "    <tr>\n",
       "      <th>2</th>\n",
       "      <td>3120</td>\n",
       "      <td>0.0</td>\n",
       "      <td>0.0</td>\n",
       "      <td>GL019308</td>\n",
       "      <td>67160</td>\n",
       "      <td>883</td>\n",
       "      <td>4892</td>\n",
       "      <td>4945</td>\n",
       "      <td>+</td>\n",
       "      <td>+</td>\n",
       "      <td>88228</td>\n",
       "      <td>CAAGGCCATGAAGCATGCACACACTGCCCATCGCTCTCCTCAAACA...</td>\n",
       "      <td>CAAGGCCATGAAGCACGCACACACCGCCCGTCACCCTCCTCAAGTG...</td>\n",
       "      <td>GATAAACCCCGATAAACTTTACCACTCTTTGCCAACTCAGCCTCTA...</td>\n",
       "      <td>ATGAAGGGGCAAAGAGTAATTTTACAGTCGAGAGGGCTAGCAGTCA...</td>\n",
       "      <td>TACCGCCATCTTCAGCGAACCCTAAAAAGGAGCAAAAGTAAGCTCA...</td>\n",
       "      <td>TAGGGGCTATTAACTTTATTACAACTATTATTAATATGAAAGCCCC...</td>\n",
       "      <td>ENSOCUG00000031196</td>\n",
       "      <td>NaN</td>\n",
       "    </tr>\n",
       "    <tr>\n",
       "      <th>3</th>\n",
       "      <td>1888</td>\n",
       "      <td>0.0</td>\n",
       "      <td>0.0</td>\n",
       "      <td>GL019308</td>\n",
       "      <td>62527</td>\n",
       "      <td>12805</td>\n",
       "      <td>3439</td>\n",
       "      <td>3462</td>\n",
       "      <td>+</td>\n",
       "      <td>+</td>\n",
       "      <td>88228</td>\n",
       "      <td>AATTATTCATAGCCTCAATGATGAACAAGACATCCAAAAAACAGGA...</td>\n",
       "      <td>AATTATTCACAGCCTcaaTGATGAACAGGATATCCGAAAGATAGGC...</td>\n",
       "      <td>GTAGGAATTATATCCTTCCTCCTCATCGGCTGATGGCATGGCCAAG...</td>\n",
       "      <td>ACGTATACATGAGTTGTTCTTACATAATTGAATATACCTGCAATGC...</td>\n",
       "      <td>TGCCTAGGCGCAATCACTACCTTATTCACAGCCCTATGTGCCCTCA...</td>\n",
       "      <td>GTACACCCGTACGCACGCACGTACACCCGTACGCACGCACGTACAC...</td>\n",
       "      <td>ENSOCUG00000037635</td>\n",
       "      <td>NaN</td>\n",
       "    </tr>\n",
       "    <tr>\n",
       "      <th>4</th>\n",
       "      <td>1824</td>\n",
       "      <td>0.0</td>\n",
       "      <td>0.0</td>\n",
       "      <td>AAGW02081594</td>\n",
       "      <td>14016</td>\n",
       "      <td>6061</td>\n",
       "      <td>3040</td>\n",
       "      <td>3073</td>\n",
       "      <td>+</td>\n",
       "      <td>+</td>\n",
       "      <td>24576</td>\n",
       "      <td>TTCTTTGGACACCCTGAGGTATATATTCTTATCCTTCCAGGATTCG...</td>\n",
       "      <td>TTTTTCGGGCACCCCGAAGTATATATTCTTATTCTTCCAGGATTTG...</td>\n",
       "      <td>GACATGTCAAAGGAACGCAGAAGCCAGCTTGAAAAAGTCCTCAACA...</td>\n",
       "      <td>TGAAATAGCTATCACTATTCAGGTATGCCACTATTCTTCTAGGCAT...</td>\n",
       "      <td>ATATGAAAGCCCCTGCAATATCTCAATATCAAACCCCCTTATTCGT...</td>\n",
       "      <td>ATTCTCCTAGGTATCTATTTTACCCTACTTCAAGCATCGGAGTATT...</td>\n",
       "      <td>NaN</td>\n",
       "      <td>NaN</td>\n",
       "    </tr>\n",
       "  </tbody>\n",
       "</table>\n",
       "</div>"
      ],
      "text/plain": [
       "   score  eg2_value  e_value          g_id    g_start  mt_start  g_length  \\\n",
       "0  17245        0.0      0.0            MT          0         0     17245   \n",
       "1   3398        0.0      0.0             1  114731432      6976      4680   \n",
       "2   3120        0.0      0.0      GL019308      67160       883      4892   \n",
       "3   1888        0.0      0.0      GL019308      62527     12805      3439   \n",
       "4   1824        0.0      0.0  AAGW02081594      14016      6061      3040   \n",
       "\n",
       "   mt_length g_strand mt_strand     g_size  \\\n",
       "0      17245        +         +      17245   \n",
       "1       4681        +         +  194850757   \n",
       "2       4945        +         +      88228   \n",
       "3       3462        +         +      88228   \n",
       "4       3073        +         +      24576   \n",
       "\n",
       "                                          g_sequence  \\\n",
       "0  GTTAATGTAGCTTAACAACAAAGCAAAGCACTGAAAATGCTTAGAT...   \n",
       "1  taGTAAAATTATTACATAACTTTGTCGAAGTTAATTTATAGGTTCA...   \n",
       "2  CAAGGCCATGAAGCATGCACACACTGCCCATCGCTCTCCTCAAACA...   \n",
       "3  AATTATTCATAGCCTCAATGATGAACAAGACATCCAAAAAACAGGA...   \n",
       "4  TTCTTTGGACACCCTGAGGTATATATTCTTATCCTTCCAGGATTCG...   \n",
       "\n",
       "                                         mt_sequence  \\\n",
       "0  GTTAATGTAGCTTAACAACAAAGCAAAGCACTGAAAATGCTTAGAT...   \n",
       "1  TAGTAAAACCATTACATAACTTTGTCGAAGTTAATTTATAGGTTCA...   \n",
       "2  CAAGGCCATGAAGCACGCACACACCGCCCGTCACCCTCCTCAAGTG...   \n",
       "3  AATTATTCACAGCCTcaaTGATGAACAGGATATCCGAAAGATAGGC...   \n",
       "4  TTTTTCGGGCACCCCGAAGTATATATTCTTATTCTTCCAGGATTTG...   \n",
       "\n",
       "                                       g_up_flanking  \\\n",
       "0                                                NaN   \n",
       "1  ACAAAAGACTCTGAATAGCCAAAGCGATCCTGAACAAGAAAAATCA...   \n",
       "2  GATAAACCCCGATAAACTTTACCACTCTTTGCCAACTCAGCCTCTA...   \n",
       "3  GTAGGAATTATATCCTTCCTCCTCATCGGCTGATGGCATGGCCAAG...   \n",
       "4  GACATGTCAAAGGAACGCAGAAGCCAGCTTGAAAAAGTCCTCAACA...   \n",
       "\n",
       "                                     g_down_flanking  \\\n",
       "0                                                NaN   \n",
       "1  TATATATATTTATATATATATGTATATATGTACATATATATAACTA...   \n",
       "2  ATGAAGGGGCAAAGAGTAATTTTACAGTCGAGAGGGCTAGCAGTCA...   \n",
       "3  ACGTATACATGAGTTGTTCTTACATAATTGAATATACCTGCAATGC...   \n",
       "4  TGAAATAGCTATCACTATTCAGGTATGCCACTATTCTTCTAGGCAT...   \n",
       "\n",
       "  mt_up_flanking (if strand is negative, the coordinates are corrected)  \\\n",
       "0  TACAAATTGTATAATATTTGGACTAAACCCCCTTTCCCACCCCAAG...                      \n",
       "1  CCTTCGCCTCAAAACGAGAAGTAGAGACTATTGAACTAACAACCAC...                      \n",
       "2  TACCGCCATCTTCAGCGAACCCTAAAAAGGAGCAAAAGTAAGCTCA...                      \n",
       "3  TGCCTAGGCGCAATCACTACCTTATTCACAGCCCTATGTGCCCTCA...                      \n",
       "4  ATATGAAAGCCCCTGCAATATCTCAATATCAAACCCCCTTATTCGT...                      \n",
       "\n",
       "  mt_down_flanking (if strand is negative, the coordinates are corrected)  \\\n",
       "0  GTTAATGTAGCTTAACAACAAAGCAAAGCACTGAAAATGCTTAGAT...                        \n",
       "1  AACTGCTAATTCATGCTCCCATGTCTAACCCCATGGCTTTCTCAAC...                        \n",
       "2  TAGGGGCTATTAACTTTATTACAACTATTATTAATATGAAAGCCCC...                        \n",
       "3  GTACACCCGTACGCACGCACGTACACCCGTACGCACGCACGTACAC...                        \n",
       "4  ATTCTCCTAGGTATCTATTTTACCCTACTTCAAGCATCGGAGTATT...                        \n",
       "\n",
       "      ensembl_gene_id                                ensembl_description  \n",
       "0  ENSOCUG00000029081                                                NaN  \n",
       "1  ENSOCUG00000006104  cilia and flagella associated protein 300 [Sou...  \n",
       "2  ENSOCUG00000031196                                                NaN  \n",
       "3  ENSOCUG00000037635                                                NaN  \n",
       "4                 NaN                                                NaN  "
      ]
     },
     "execution_count": 3,
     "metadata": {},
     "output_type": "execute_result"
    }
   ],
   "source": [
    "#read pandas dataframe\n",
    "numt_array = pd.read_csv(home_dir + 'numt_master_array.csv')\n",
    "numt_array.head()"
   ]
  },
  {
   "cell_type": "code",
   "execution_count": 4,
   "id": "d21a313d",
   "metadata": {},
   "outputs": [],
   "source": [
    "#get g_ids and drop the ones that dont have corresponding sequences\n",
    "g_ids = numt_array['g_id'].drop_duplicates()\n",
    "g_ids = g_ids.drop(labels = [0,65])"
   ]
  },
  {
   "cell_type": "code",
   "execution_count": 5,
   "id": "d4e3663e",
   "metadata": {},
   "outputs": [],
   "source": [
    "#create dictionary from the numtless sequences\n",
    "def create_dictionary(g_id):\n",
    "    global numtless_sequences\n",
    "    filename = 'numtless_sequences/%s.fasta' % g_id\n",
    "    sequence = ''\n",
    "    with open (home_dir + filename) as infile:\n",
    "        content = infile.readlines()\n",
    "        try:\n",
    "            sequence = content[1]\n",
    "        except IndexError:\n",
    "            pass\n",
    "    numtless_sequences[g_id] = sequence\n",
    "    current_index = g_ids[g_ids == g_id].index[0]\n",
    "    if current_index % 5 == 0:\n",
    "        print('done for %s numts!' % current_index)"
   ]
  },
  {
   "cell_type": "code",
   "execution_count": 6,
   "id": "0e80a973",
   "metadata": {},
   "outputs": [
    {
     "name": "stderr",
     "output_type": "stream",
     "text": [
      "C:\\Users\\pytho\\Anaconda3\\lib\\site-packages\\ipykernel_launcher.py:2: DeprecationWarning: The default dtype for empty Series will be 'object' instead of 'float64' in a future version. Specify a dtype explicitly to silence this warning.\n",
      "  \n"
     ]
    },
    {
     "name": "stdout",
     "output_type": "stream",
     "text": [
      "done for 20 numts!\n",
      "done for 25 numts!\n",
      "done for 40 numts!\n",
      "done for 45 numts!\n",
      "done for 70 numts!\n",
      "done for 95 numts!\n",
      "done for 100 numts!\n",
      "done for 105 numts!\n",
      "done for 125 numts!\n"
     ]
    },
    {
     "data": {
      "text/plain": [
       "g_id\n",
       "1               AGGACCGCACAACCTTGCAGCTCAGCGACTCGTGGGGTCACACACA...\n",
       "GL019308        AGCATTTCCAGCATGCAGTCTCTCCCATGAAGGTGGAGAAGGAACT...\n",
       "AAGW02081594    TTATCTTTATTTCATCCATGATCAAATATTTCACCCACGATGATTA...\n",
       "GL019326        GAGACTGGGAAGAAGCTCCTGGCTCCTGGCTTTGGATCAGCGCAGC...\n",
       "GL018741        TAAAACTAAGAGTCATTCTAATCTTTCCTCTATATCTAATCCCAAC...\n",
       "18              NNNNNNNNNNNNNNNNNNNNNNNNNNNNNNNNNNNNNNNNNNNNNN...\n",
       "9               CGGGGACTCCCACTAGAGGAACCAGGTGATGTCAGTTCCCAGAATC...\n",
       "12              CTGAGTTCCTGGCTTCTGGCTTTGGCCTGGCTCAACCCCAGCTGCA...\n",
       "GL018705        ATAATGATCAGATGATAATGGTGGTGATGATGGTGAGGATGACTCT...\n",
       "17              GGTGTGGTATATGTGGTGTGTATGGTATGTGTGTGGTACTGTATGG...\n",
       "GL018700        CCAGATGGATACATGAAGTATGCAGTTGCCTATGTAGTTTAGAACT...\n",
       "19              NNNNNNNNNNNNNNNNNNNNNNNNNNNNNNNNNNNNNNNNNNNNNN...\n",
       "GL019465        ATACTTGGCTCCCCACCCAGGAGATCGCAGCTTGAGGCATCACCCC...\n",
       "GL018817        ACCTAATTACAGGGCACCGGTCTATTTAAAAGATATGTTAAGGGAC...\n",
       "13              TCATAATCCTAACCATAACCAAGGATTCAACCATAAATTTAAGACT...\n",
       "GL018826        ACATTATAAAACATAGAGACAGTGGGTAGTGTCCCACATACATGTG...\n",
       "GL018748        AATGGCCGCAACAGCGGGACCCTGGGCAATCTGAAGCCAGGAGTCA...\n",
       "2               GAGTTATAAAAGAGAAGGAGAGGCAGAGAGAGAGAGAGCAGTATGA...\n",
       "7               ACACACACAACACACACGACATAACAACACATACAACACACAAATA...\n",
       "16              CAGAATGAGATTTCTGCACTACAGACAAGAGTCTTTTGTCGTGCCT...\n",
       "GL018786        ACGCCCCGTCCAGCCAGACTGCCACTCCGCTGGCGGAACCCCCGAG...\n",
       "GL018706        AGTTTGTTCCCACACAGAAACATAAAGTGAAAAATAATAGATGATT...\n",
       "4               AACCAACGAGCTATGCACTTATGATATATGTGCTTTTTTTTTTTTT...\n",
       "GL019271        TGCTGCCTGTGATAGAAGTCAGTTTGTAGATCACCTTGAACCCTAC...\n",
       "GL019056        TACAGCATTGTACATGTTGTAACTCCCATCACTCATGGTCATATCA...\n",
       "GL019383        CTAAGCCAGAGACTTAGTCAAAAGACAAAAGCCATCAGAGGAAAAA...\n",
       "GL019525        TTTTAATGATGATGAAATCAGATCAGACCTATTGTCATGTTTAATC...\n",
       "GL019149        CCAGATATCCATCAACTGATGACCGGATAAAGAAATCCTGGCATAC...\n",
       "GL018925        AAAGTCTCAATACCTACCTAAGTCAGTTCCCAAGTCCTTTAGATTG...\n",
       "20              NNNNNNNNNNNNNNNNNNNNNNNNNNNNNNNNNNNNNNNNNNNNNN...\n",
       "AAGW02083714    TCCCCTAACTGCATGAGTCGGTTCCGAATTCACTCTCATTGTGAGT...\n",
       "GL018992        GAGGTGGTTAGAAATAGAATCCTGACTATTGTCTCCAGTTTCTCTA...\n",
       "AAGW02079688    TATTCCCCAACCTCTGATAACTACCATTCTACCGTGTCTACTTCTA...\n",
       "GL019086        TCTCTGGATGCGACCTTTTAGTCATTCTGGAACAAAGTCTGACCTG...\n",
       "GL019010        CCCGCGGTCAGTAGCCGTCACTGGTGCTGCCACTATTGAGGCTGTC...\n",
       "15              NNNNNNNNNNNNNNNNNNNNNNNNNNNNNNNNNNNNNNNNNNNNNN...\n",
       "GL019047        CTCCCCTTCCATTCAGTCCAGATCATTTTCGATTCTCTTTATATAC...\n",
       "GL018862        CAGTCAGTCATATTCATGGCTGTTAGCCTAGTATGTGAGATTGTCT...\n",
       "11              CTCACACACCCACGCGGCCTCACACACCCACGAGACCTCACACACC...\n",
       "GL019311        CCAGATCCTTGGGCCCTGCATCCACATGGGAGACCAGGAGGAAACA...\n",
       "14              AAATGAAGTCAGATATGGTAATCGATACTGAACTGAGGCACGGATT...\n",
       "3               AAGCAGGCCAGTCCACTGTGTCACTTACAGACACAGCTGACACTGA...\n",
       "GL019235        TAGCTGATGGGTATCAGTGGTTCTTGCCAGGAACCCCAGTGACCTC...\n",
       "21              NNNNNNNNNNNNNNNNNNNNNNNNNNNNNNNNNNNNNNNNNNNNNN...\n",
       "GL018744        GCTGCATTTTATTTTGTAGACAGGCATATTTTCTTTTCCAATTGCT...\n",
       "dtype: object"
      ]
     },
     "execution_count": 6,
     "metadata": {},
     "output_type": "execute_result"
    }
   ],
   "source": [
    "#create vector for numtless sequences\n",
    "numtless_sequences = pd.Series(index = g_ids)\n",
    "g_ids.apply(create_dictionary)\n",
    "numtless_sequences"
   ]
  },
  {
   "cell_type": "code",
   "execution_count": 170,
   "id": "8f4c7210",
   "metadata": {},
   "outputs": [
    {
     "data": {
      "text/plain": [
       "g_id\n",
       "1               [4680, 698, 1012, 375, 371, 467, 393, 658, 773]\n",
       "GL019308                           [4892, 3439, 1414, 837, 820]\n",
       "AAGW02081594                            [3040, 2339, 1650, 577]\n",
       "GL019326                     [1851, 1451, 1315, 1420, 995, 833]\n",
       "GL018741                           [1945, 1590, 1074, 552, 503]\n",
       "18                                        [1440, 407, 292, 482]\n",
       "9                                          [720, 822, 397, 273]\n",
       "12                                              [419, 216, 368]\n",
       "GL018705                                                  [834]\n",
       "17                                              [595, 407, 352]\n",
       "GL018700                                                  [896]\n",
       "19                                                        [930]\n",
       "GL019465                              [930, 677, 795, 424, 916]\n",
       "GL018817                                  [674, 1070, 784, 720]\n",
       "13                                                   [351, 126]\n",
       "GL018826              [1193, 891, 828, 635, 462, 382, 375, 301]\n",
       "GL018748                                        [788, 788, 658]\n",
       "2                                                    [325, 273]\n",
       "7                                               [363, 515, 290]\n",
       "16                                                        [162]\n",
       "GL018786                                                  [210]\n",
       "GL018706                                                  [124]\n",
       "4                  [197, 1695, 1961, 1501, 998, 866, 680, 1173]\n",
       "GL019271                                                 [6228]\n",
       "GL019056                                                 [5970]\n",
       "GL019383                                            [5141, 838]\n",
       "GL019525                                                 [3547]\n",
       "GL019149                                            [2656, 900]\n",
       "GL018925                                            [2671, 902]\n",
       "20                                                   [620, 470]\n",
       "AAGW02083714                                              [630]\n",
       "GL018992                                                  [629]\n",
       "AAGW02079688                                   [629, 1068, 600]\n",
       "GL019086                                                  [627]\n",
       "GL019010                                       [1097, 596, 728]\n",
       "15                                    [881, 678, 427, 506, 505]\n",
       "GL019047                                        [632, 369, 243]\n",
       "GL018862                                             [727, 597]\n",
       "11                                                        [806]\n",
       "GL019311                                             [646, 218]\n",
       "14                                                        [450]\n",
       "3                                                         [228]\n",
       "GL019235                                                  [375]\n",
       "21                                                        [321]\n",
       "GL018744                                                  [319]\n",
       "Name: g_id, dtype: object"
      ]
     },
     "execution_count": 170,
     "metadata": {},
     "output_type": "execute_result"
    }
   ],
   "source": [
    "lengths = g_ids.apply(lambda x : numt_array.loc[numt_array['g_id'] == x]['g_length'].tolist())\n",
    "lengths.index = g_ids\n",
    "lengths"
   ]
  },
  {
   "cell_type": "code",
   "execution_count": 171,
   "id": "a021a888",
   "metadata": {},
   "outputs": [],
   "source": [
    "#function for sampling the genome reagrding the corresponding numt size\n",
    "def nuge_sampling(g_id):\n",
    "    sequence_to_sample = numtless_sequences[g_id]\n",
    "    numt_sizes = lengths[g_id]\n",
    "    samples = []\n",
    "    for index, numt_size in enumerate(numt_sizes):\n",
    "        seed_value = index\n",
    "        np.random.seed(seed_value)\n",
    "        start = np.random.randint(0, len(sequence_to_sample) - numt_size)\n",
    "        end = start + numt_size\n",
    "        sample_sequence = sequence_to_sample[start:end]\n",
    "        unknown_nucleotides = sample_sequence.count('N') / len(sample_sequence)\n",
    "        if unknown_nucleotides < 0.05:\n",
    "            samples.append(sample_sequence)\n",
    "        else:\n",
    "            seed_value += 10\n",
    "            np.random.seed(seed_value)\n",
    "            start = np.random.randint(0, len(sequence_to_sample) - numt_size)\n",
    "            end = start + numt_size\n",
    "            sample_sequence = sequence_to_sample[start:end]\n",
    "            samples.append(sample_sequence)\n",
    "    return samples"
   ]
  },
  {
   "cell_type": "code",
   "execution_count": 172,
   "id": "430ac278",
   "metadata": {},
   "outputs": [
    {
     "data": {
      "text/plain": [
       "g_id\n",
       "1               [GTATCTCATTCAGTCTTTCAAAAATATCTATTGAGAATCTATTGT...\n",
       "GL019308        [GTTCCTGTCCCAGATGCCCCACTTCCAATTAAGCTACTATTGATG...\n",
       "AAGW02081594    [TACAAAATGATTCTAAATTTTTATAGCAAATATCAGTCTTTACTC...\n",
       "GL019326        [ACCAGTAACTTCCAGAGGCTGCATGAGCAGGATTCAGGATCTGGA...\n",
       "GL018741        [AACTTGGAAGAATAAGAAATGAGAAAGTAGGTGATGCTGATTGAG...\n",
       "18              [TGTGCATATATATGTAGCACATATACATACACATTATTGTATACA...\n",
       "9               [AGTCTGATTATAGGGAGATAGAGACTTCTGTTAGATTATTAAACA...\n",
       "12              [TAGCCATACGAGACTTCATTCAGGGGAAACTGAAATGTGGCTCAT...\n",
       "GL018705        [CATGACATCACCCCATGCCTGTCCCCAGTCCCTCCTTCAGTGCCT...\n",
       "17              [AAAAGTTTGTTTGTATTTATTTGAAGGGGGGGGAGAGAGAGAGAG...\n",
       "GL018700        [TGAAGCTTTAACCCACTGAGCCACAATGTTGACCCCTAGAATATA...\n",
       "19              [ATCAGATGCAGAGTCCAGTGCATTCTCCCTCCATGATGTATCTTT...\n",
       "GL019465        [CATACAACAATAATACTCCAACTTTCCTGATGAAATTTCAACAAG...\n",
       "GL018817        [GATACCTGCCTGGGAATGAGGAGTCCACCTCTCCCGGATCTGATC...\n",
       "13              [GGGAGCCTGCAGAGCGCACTTGCTCATGAGCCCCAAGCTAGAAGT...\n",
       "GL018826        [TATTTGACAGGCAGAATGGACAGTGAGAGAGAGAGAGACAGAGAG...\n",
       "GL018748        [AGATTTTTCTCAATTACGAGCTAGCATTTCTTGAATCGACTGAGT...\n",
       "2               [ATTGTGTTGTTTAGCTCTCAAAAAAACAAGGTCTTATATTCTCTT...\n",
       "7               [GGACAGCTTCTTCTCAACTAAATATGACATGTTTTAGGAAGTCCG...\n",
       "16              [TTGAGAGTGGCATCTGGTGCAGTGGCTTAACCTGCTGCTTGCAAT...\n",
       "GL018786        [GCGAGGGAAGCGTGTTCACCGCTGACCTGCCTCTCTCGGGTCACA...\n",
       "GL018706        [ACTAGAACCCGGTGTGCCGGCGCCGCAAGGTGGAGGATTAGCCTA...\n",
       "4               [GCGAATGGCACTGGTTCCTGTATTATTAAGTGTAGCAATCGTCAT...\n",
       "GL019271        [TGAAAACTCATGACTATCAGACATTTGCTTTCAAAGCAAAGATTA...\n",
       "GL019056        [CTTCTCTATCTTGGCCTCCAGTGTGGCACTCCTGGGCTGCATCTT...\n",
       "GL019383        [TACACCTACTGAGGATAGAGTGTGAAGACTGTCATATTTGCTGCA...\n",
       "GL019525        [GAATATGTGGGAGAAAAGGTACCTAGTCCACTGTTGGTGGGAATG...\n",
       "GL019149        [TGTACAAGATTGCTTTAGCTATTCGAGGTCTCTTGTGCCTCCATA...\n",
       "GL018925        [TACATGGTGTGGACTCAGAAACTTGGGCTGACTTCTGCTGCTTTC...\n",
       "20              [ATAGAAATAAAATTAACTGGTTTTCTCATCAGGCATAACATTTTT...\n",
       "AAGW02083714    [TCTCCTTTAAAGAGCAAGGTCTTCCGAGAAAGATGGCAGTTAAGG...\n",
       "GL018992        [AAGCCCCCAGCGTCCCAGGCAGCCCCCCTGGGCTGCAGCCTGAGC...\n",
       "AAGW02079688    [GCTCCTCTTCCAATCTGGCTCTCTGCTGTGGCCTGGGAAAGCAGT...\n",
       "GL019086        [CTGCTACTCCCGATGTTCATGATTCGGCTTCATCCCGTCTTGCTC...\n",
       "GL019010        [CATTGATTAGCATTTTAAGTTTCTTTAGTAAAAGTATTTTTATTC...\n",
       "15              [ATGTTGTCTTCTTTATTGTTGTTTCTTGAATTGGTGCATTTGTTA...\n",
       "GL019047        [GCCAGGAGCCAGGAGTTTCTTCGGGTCTCCCACGTGGGTGCAGGG...\n",
       "GL018862        [CCACTTCCCATGTTGGATTGTTCTTTTTTAATTCTATTTTTATTT...\n",
       "11              [GTAGTAGTCAATCAATGGTGCAGAACTAGCTGGTCAGGCCTATGG...\n",
       "GL019311        [CTTTCTGTTCAGGTTTCATACTTTATCAGCAGTTAATATTATGAC...\n",
       "14              [CTGACTTGCAGAACAATGAAGCTGTGTTTAGAAAATTCAGATTAC...\n",
       "3               [TGTATTTCTTATCATTCTCATTTTTATGAATTGTGATAGATTCTG...\n",
       "GL019235        [GGGTGGGGGAACAGCTGACCAAAGCACCTGCGTTCTTGGTGGGGG...\n",
       "21              [CCTTCCTGGTGTCTGGGCTTCCGCAGCTTCTTCTTCTTGAAATAA...\n",
       "GL018744        [TTACACAAGATGCTTAAGATGTGCTATGTACAGAAACATAGAAAG...\n",
       "Name: g_id, dtype: object"
      ]
     },
     "execution_count": 172,
     "metadata": {},
     "output_type": "execute_result"
    }
   ],
   "source": [
    "#get genom samples based on numts\n",
    "nuge_samples = g_ids.apply(nuge_sampling)\n",
    "nuge_samples.index = g_ids\n",
    "nuge_samples"
   ]
  },
  {
   "cell_type": "code",
   "execution_count": 173,
   "id": "b46b7bbe",
   "metadata": {},
   "outputs": [],
   "source": [
    "#function for calculating gc contents of sequence samples\n",
    "def gc_content(sample_sequences):\n",
    "    gc_contents = []\n",
    "    for sample_sequence in sample_sequences:\n",
    "        g_content = sample_sequence.upper().count('G')\n",
    "        c_content = sample_sequence.upper().count('C')\n",
    "        gc_content = (g_content + c_content) / len(sample_sequence)\n",
    "        gc_contents.append(gc_content)\n",
    "    return gc_contents"
   ]
  },
  {
   "cell_type": "code",
   "execution_count": 174,
   "id": "d85ea4f0",
   "metadata": {},
   "outputs": [
    {
     "data": {
      "text/plain": [
       "g_id\n",
       "1               [0.43995726495726495, 0.2851002865329513, 0.33...\n",
       "GL019308        [0.44317252657399836, 0.4495492875835999, 0.37...\n",
       "AAGW02081594    [0.36546052631578946, 0.5019238991021804, 0.42...\n",
       "GL019326        [0.46947595894111294, 0.4583046175051689, 0.37...\n",
       "GL018741        [0.35167095115681235, 0.3081761006289308, 0.39...\n",
       "18              [0.43125, 0.4176904176904177, 0.63013698630136...\n",
       "9               [0.2569444444444444, 0.4367396593673966, 0.468...\n",
       "12              [0.441527446300716, 0.4305555555555556, 0.4429...\n",
       "GL018705                                     [0.4844124700239808]\n",
       "17              [0.47058823529411764, 0.371007371007371, 0.318...\n",
       "GL018700                                    [0.36941964285714285]\n",
       "19                                           [0.5193548387096775]\n",
       "GL019465        [0.37311827956989246, 0.4357459379615953, 0.52...\n",
       "GL018817        [0.5786350148367952, 0.5364485981308411, 0.475...\n",
       "13                       [0.6210826210826211, 0.6111111111111112]\n",
       "GL018826        [0.47359597652975693, 0.48709315375982043, 0.6...\n",
       "GL018748        [0.3616751269035533, 0.4010152284263959, 0.363...\n",
       "2                       [0.3476923076923077, 0.34065934065934067]\n",
       "7               [0.31955922865013775, 0.3786407766990291, 0.38...\n",
       "16                                           [0.5432098765432098]\n",
       "GL018786                                                    [0.6]\n",
       "GL018706                                     [0.4838709677419355]\n",
       "4               [0.5126903553299492, 0.38997050147492623, 0.40...\n",
       "GL019271                                    [0.36255619781631343]\n",
       "GL019056                                    [0.39865996649916247]\n",
       "GL019383               [0.36627115347208716, 0.38663484486873506]\n",
       "GL019525                                    [0.41443473357767124]\n",
       "GL019149                 [0.3723644578313253, 0.4822222222222222]\n",
       "GL018925               [0.35342568326469487, 0.49223946784922396]\n",
       "20                       [0.4645161290322581, 0.3127659574468085]\n",
       "AAGW02083714                                 [0.5111111111111111]\n",
       "GL018992                                     [0.6327503974562798]\n",
       "AAGW02079688    [0.5023847376788553, 0.4447565543071161, 0.531...\n",
       "GL019086                                     [0.5039872408293461]\n",
       "GL019010        [0.30446672743846853, 0.4848993288590604, 0.37...\n",
       "15              [0.48467650397275824, 0.37610619469026546, 0.3...\n",
       "GL019047        [0.5791139240506329, 0.4281842818428184, 0.522...\n",
       "GL018862                 [0.4401650618982118, 0.3249581239530988]\n",
       "11                                          [0.42431761786600497]\n",
       "GL019311               [0.37925696594427244, 0.40825688073394495]\n",
       "14                                          [0.41555555555555557]\n",
       "3                                           [0.29385964912280704]\n",
       "GL019235                                                  [0.576]\n",
       "21                                           [0.5202492211838006]\n",
       "GL018744                                     [0.3448275862068966]\n",
       "Name: g_id, dtype: object"
      ]
     },
     "execution_count": 174,
     "metadata": {},
     "output_type": "execute_result"
    }
   ],
   "source": [
    "#calculate gc content of sample sequences\n",
    "gc_content_samples = nuge_samples.apply(gc_content)\n",
    "gc_content_samples.index = g_ids\n",
    "gc_content_samples"
   ]
  },
  {
   "cell_type": "code",
   "execution_count": 175,
   "id": "3adaab0b",
   "metadata": {},
   "outputs": [],
   "source": [
    "#calculate the gc content of numts\n",
    "def numts_gc(g_id):\n",
    "    df = numt_array.loc[numt_array['g_id'] == g_id]\n",
    "    gc_content = df['g_sequence'].apply(lambda x : (x.count('G') + x.count('C')) / len(x.replace('N','')))\n",
    "    return gc_content.tolist()"
   ]
  },
  {
   "cell_type": "code",
   "execution_count": 176,
   "id": "a49d27f0",
   "metadata": {},
   "outputs": [],
   "source": [
    "#calculate the gc content of numts\n",
    "numts_gc = g_ids.apply(numts_gc)"
   ]
  },
  {
   "cell_type": "code",
   "execution_count": 177,
   "id": "438864db",
   "metadata": {},
   "outputs": [
    {
     "data": {
      "text/plain": [
       "g_id\n",
       "1               [0.3843689942344651, 0.35704323570432356, 0.36...\n",
       "GL019308        [0.3726519894970713, 0.38018433179723504, 0.34...\n",
       "AAGW02081594    [0.387264457439896, 0.3499790180444817, 0.3605...\n",
       "GL019326        [0.36746666666666666, 0.3604336043360434, 0.36...\n",
       "GL018741        [0.34470647265429, 0.3409371146732429, 0.31738...\n",
       "18              [0.3429724277067922, 0.34688995215311, 0.29391...\n",
       "9               [0.3337856173677069, 0.29832935560859186, 0.36...\n",
       "12              [0.31116389548693585, 0.3669724770642202, 0.28...\n",
       "GL018705                                    [0.33568075117370894]\n",
       "17              [0.39195979899497485, 0.2684085510688836, 0.36...\n",
       "GL018700                                     [0.2809110629067245]\n",
       "19                                           [0.3960703205791106]\n",
       "GL019465        [0.3960703205791106, 0.41594202898550725, 0.34...\n",
       "GL018817        [0.41884057971014493, 0.3397548161120841, 0.34...\n",
       "13                       [0.3926553672316384, 0.4126984126984127]\n",
       "GL018826        [0.33516483516483514, 0.35600425079702447, 0.3...\n",
       "GL018748        [0.35555555555555557, 0.35185185185185186, 0.3...\n",
       "2                       [0.3834355828220859, 0.27106227106227104]\n",
       "7               [0.3561643835616438, 0.2914285714285714, 0.285...\n",
       "16                                          [0.48466257668711654]\n",
       "GL018786                                     [0.4225352112676056]\n",
       "GL018706                                     [0.3548387096774194]\n",
       "4               [0.357487922705314, 0.3483606557377049, 0.3548...\n",
       "GL019271                                    [0.37608730033212084]\n",
       "GL019056                                      [0.373987770616427]\n",
       "GL019383                [0.38375887886350546, 0.3254994124559342]\n",
       "GL019525                                     [0.3667953667953668]\n",
       "GL019149                [0.37504614248800294, 0.3442982456140351]\n",
       "GL018925                 [0.3766997427416391, 0.3402625820568928]\n",
       "20                                   [0.3664, 0.3883089770354906]\n",
       "AAGW02083714                                  [0.374805598755832]\n",
       "GL018992                                    [0.37636080870917576]\n",
       "AAGW02079688    [0.37791601866251945, 0.2992831541218638, 0.27...\n",
       "GL019086                                    [0.37538940809968846]\n",
       "GL019010        [0.30305676855895197, 0.27483443708609273, 0.3...\n",
       "15              [0.30042918454935624, 0.25611510791366904, 0.3...\n",
       "GL019047        [0.33690658499234305, 0.408, 0.38866396761133604]\n",
       "GL018862                [0.3011734028683181, 0.27768595041322314]\n",
       "11                                           [0.3517877739331027]\n",
       "GL019311                [0.3555878084179971, 0.25877192982456143]\n",
       "14                                          [0.29559748427672955]\n",
       "3                                            [0.3815789473684211]\n",
       "GL019235                                     [0.4120734908136483]\n",
       "21                                           [0.2852760736196319]\n",
       "GL018744                                    [0.48484848484848486]\n",
       "Name: g_id, dtype: object"
      ]
     },
     "execution_count": 177,
     "metadata": {},
     "output_type": "execute_result"
    }
   ],
   "source": [
    "numts_gc.index = g_ids\n",
    "numts_gc"
   ]
  },
  {
   "cell_type": "code",
   "execution_count": 178,
   "id": "cfb51017",
   "metadata": {},
   "outputs": [],
   "source": [
    "#function for merging gc contents\n",
    "def merge(gc_content):\n",
    "    global sum_gc\n",
    "    sum_gc += gc_content"
   ]
  },
  {
   "cell_type": "code",
   "execution_count": 179,
   "id": "1b384ce4",
   "metadata": {},
   "outputs": [
    {
     "data": {
      "text/plain": [
       "122"
      ]
     },
     "execution_count": 179,
     "metadata": {},
     "output_type": "execute_result"
    }
   ],
   "source": [
    "#get merged gc content of numts\n",
    "sum_gc = []\n",
    "numts_gc.apply(merge)\n",
    "len(sum_gc)"
   ]
  },
  {
   "cell_type": "code",
   "execution_count": 180,
   "id": "c959398c",
   "metadata": {},
   "outputs": [
    {
     "data": {
      "text/plain": [
       "122"
      ]
     },
     "execution_count": 180,
     "metadata": {},
     "output_type": "execute_result"
    }
   ],
   "source": [
    "numts_gc = sum_gc\n",
    "len(numts_gc)"
   ]
  },
  {
   "cell_type": "code",
   "execution_count": 181,
   "id": "e52e41ac",
   "metadata": {},
   "outputs": [
    {
     "data": {
      "text/plain": [
       "122"
      ]
     },
     "execution_count": 181,
     "metadata": {},
     "output_type": "execute_result"
    }
   ],
   "source": [
    "sum_gc = []\n",
    "gc_content_samples.apply(merge)\n",
    "nuge_gc = sum_gc\n",
    "len(nuge_gc)"
   ]
  },
  {
   "cell_type": "code",
   "execution_count": 182,
   "id": "0c35774b",
   "metadata": {},
   "outputs": [],
   "source": [
    "#normality testing of numts gc\n",
    "numts_normality = anderson(numts_gc)\n",
    "numts_stat = numts_normality[0]\n",
    "numts_critical_value = numts_normality[1][2]"
   ]
  },
  {
   "cell_type": "code",
   "execution_count": 183,
   "id": "2cfc9fc2",
   "metadata": {},
   "outputs": [],
   "source": [
    "#normality testing of genome gc\n",
    "nuge_normality = anderson(nuge_gc)\n",
    "nuge_stat = nuge_normality[0]\n",
    "nuge_critical_value = nuge_normality[1][2]"
   ]
  },
  {
   "cell_type": "code",
   "execution_count": 184,
   "id": "937fa355",
   "metadata": {},
   "outputs": [
    {
     "name": "stdout",
     "output_type": "stream",
     "text": [
      "122\n",
      "122\n"
     ]
    }
   ],
   "source": [
    "print(len(numts_gc))\n",
    "print(len(nuge_gc))"
   ]
  },
  {
   "cell_type": "code",
   "execution_count": 185,
   "id": "4a1bdf6e",
   "metadata": {},
   "outputs": [
    {
     "data": {
      "text/plain": [
       "3.5880637642166103e-16"
      ]
     },
     "execution_count": 185,
     "metadata": {},
     "output_type": "execute_result"
    }
   ],
   "source": [
    "#statistics (normality testing and significance)\n",
    "#numt vs genome\n",
    "if (numts_stat > numts_critical_value) or (nugee_stat > nuge_critical_value):\n",
    "    nuge_significance = wilcoxon(numts_gc, nuge_gc)\n",
    "else:\n",
    "    nuge_significance = ttest_ind(numts_gc, nuge_gc)\n",
    "nuge_significance[1]"
   ]
  },
  {
   "cell_type": "code",
   "execution_count": 186,
   "id": "d1eb65d7",
   "metadata": {},
   "outputs": [],
   "source": [
    "#create a function for the statistical annotation of the graph\n",
    "def statistical_annotation(data, significance, positions, height):\n",
    "    x1, x2 = positions[0],positions[1]\n",
    "    maximum = max([max(data[0]),max(data[1])])\n",
    "    y, h, col = maximum + height + 0.03, 0.03, 'k'\n",
    "    plt.plot([x1, x1, x2, x2], [y, y+h, y+h, y], lw=1.5, c = col)\n",
    "    if significance < 0.05:\n",
    "        plt.text((x1+x2)*.5, y+h, \"p < 0.05\", ha='center', va='bottom', color = col, fontsize = 14)\n",
    "    else:\n",
    "        plt.text((x1+x2)*.5, y+h, \"n.s.\", ha='center', va='bottom', color = col, fontsize = 14)"
   ]
  },
  {
   "cell_type": "code",
   "execution_count": 187,
   "id": "f257305c",
   "metadata": {},
   "outputs": [
    {
     "data": {
      "image/png": "[encoded data removed]",
      "text/plain": [
       "<Figure size 432x288 with 1 Axes>"
      ]
     },
     "metadata": {},
     "output_type": "display_data"
    }
   ],
   "source": [
    "gcs = [numts_gc, nuge_gc]\n",
    "ax = sns.violinplot(data = gcs)\n",
    "sns.set(style=\"darkgrid\")\n",
    "ax.set_ylabel('GC content',\n",
    "             fontsize = 14)\n",
    "ax.set_xticklabels(['numts', 'genome'],\n",
    "                  fontsize = 14)\n",
    "statistical_annotation([numts_gc, nuge_gc], nuge_significance[1], [0,1], 0.1)\n",
    "ax.set_ylim(0.15, 0.9)\n",
    "plt.tight_layout()\n",
    "#plt.savefig('../../results/gc_contents.png', dpi = 150, quality = 95)\n",
    "plt.show()"
   ]
  },
  {
   "cell_type": "code",
   "execution_count": 188,
   "id": "28457446",
   "metadata": {},
   "outputs": [
    {
     "data": {
      "text/plain": [
       "g_id\n",
       "MT                                                            NaN\n",
       "1               ACAAAAGACTCTGAATAGCCAAAGCGATCCTGAACAAGAAAAATCA...\n",
       "GL019308        GATAAACCCCGATAAACTTTACCACTCTTTGCCAACTCAGCCTCTA...\n",
       "GL019308        GTAGGAATTATATCCTTCCTCCTCATCGGCTGATGGCATGGCCAAG...\n",
       "AAGW02081594    GACATGTCAAAGGAACGCAGAAGCCAGCTTGAAAAAGTCCTCAACA...\n",
       "                                      ...                        \n",
       "GL019047        GCACTGATCCGAAGGCAGGAGCCAGGTGCTTCTCCTGGTCTCCCAT...\n",
       "AAGW02081404    GCTCTGAGCTGTCTGACTTGGGGTGGGAAAGGGGGTTTAAATTTAG...\n",
       "GL019311        GGCTTCTGACTCTGCCCACTAATGCATATCTTGGGAAACAGCAGTA...\n",
       "21              TTATACTTTACTGCGGTGTTCTCAGTAGTGCACTACTTTGAATACA...\n",
       "GL018744        GGCAGAGAGCAGGTCAGGAGCCGCGTGCGGGGAGTCCCAGGCCAGA...\n",
       "Length: 153, dtype: object"
      ]
     },
     "execution_count": 188,
     "metadata": {},
     "output_type": "execute_result"
    }
   ],
   "source": [
    "#get the flanking sequences\n",
    "identifiers = numt_array['g_id']\n",
    "flanking_seq = numt_array['g_up_flanking'] + numt_array['g_down_flanking']\n",
    "flanking_seq.index = identifiers\n",
    "flanking_seq"
   ]
  },
  {
   "cell_type": "code",
   "execution_count": 189,
   "id": "4164ad65",
   "metadata": {},
   "outputs": [
    {
     "data": {
      "text/plain": [
       "['MT', 'AAGW02081404', 'AAGW02081404', 'AAGW02081404', 'AAGW02081404']"
      ]
     },
     "execution_count": 189,
     "metadata": {},
     "output_type": "execute_result"
    }
   ],
   "source": [
    "#get the identifiers that do not have sequences\n",
    "ids_to_drop = list(flanking_seq[flanking_seq.apply(lambda x : isinstance(x, float))].index)\n",
    "ids_to_drop"
   ]
  },
  {
   "cell_type": "code",
   "execution_count": 190,
   "id": "aff39e25",
   "metadata": {},
   "outputs": [],
   "source": [
    "#drop the previously specified ids\n",
    "flanking_seq = flanking_seq.drop(labels = ids_to_drop)"
   ]
  },
  {
   "cell_type": "code",
   "execution_count": 191,
   "id": "fb3bcff1",
   "metadata": {},
   "outputs": [
    {
     "data": {
      "text/plain": [
       "g_id\n",
       "1               0.2975\n",
       "GL019308        0.4300\n",
       "GL019308        0.3500\n",
       "AAGW02081594    0.3550\n",
       "AAGW02081594    0.6350\n",
       "                 ...  \n",
       "GL018826        0.3500\n",
       "GL019047        0.4875\n",
       "GL019311        0.4900\n",
       "21              0.2925\n",
       "GL018744        0.5850\n",
       "Length: 122, dtype: float64"
      ]
     },
     "execution_count": 191,
     "metadata": {},
     "output_type": "execute_result"
    }
   ],
   "source": [
    "#get the gc content of flanking regions\n",
    "flanking_gc = flanking_seq.apply(lambda x : (x.count('G') + x.count('C')) / len(x))\n",
    "flanking_gc"
   ]
  },
  {
   "cell_type": "code",
   "execution_count": 214,
   "id": "81afac7f",
   "metadata": {},
   "outputs": [],
   "source": [
    "#define function for sampling genome based on flanking size\n",
    "def flanking_based_sampling(g_id):\n",
    "    global seed_value\n",
    "    sequence_to_sample = numtless_sequences[g_id]\n",
    "    seed_value += 1\n",
    "    np.random.seed(seed_value)\n",
    "    flanking_size = 400\n",
    "    start = np.random.randint(0, len(sequence_to_sample) - flanking_size)\n",
    "    end = start + flanking_size\n",
    "    sample_sequence = sequence_to_sample[start:end]\n",
    "    unknown_nucleotides = sample_sequence.count('N') / len(sample_sequence)\n",
    "    if unknown_nucleotides < 0.05:\n",
    "        return sample_sequence\n",
    "    else:\n",
    "        seed_value += 1\n",
    "        start = np.random.randint(0, len(sequence_to_sample) - flanking_size)\n",
    "        end = start + flanking_size\n",
    "        sample_sequence = sequence_to_sample[start:end]\n",
    "        return sample_sequence"
   ]
  },
  {
   "cell_type": "code",
   "execution_count": 219,
   "id": "116e3467",
   "metadata": {},
   "outputs": [
    {
     "data": {
      "text/plain": [
       "1               CAGGTATTTTAGAATGTAGAAGGGAGGTGTGAGTGATATGCTGCCT...\n",
       "GL019308        AATGAACAACACTGATCCAAAATTAAGTGAGAAAATCTGACAACAT...\n",
       "GL019308        GTCTGCTCTGCAGTGCCCGGCAGCACCTGGACTTTGGGTGAATTAC...\n",
       "AAGW02081594    CAACCTAGCTGATCCTTTCGCCCCTGTCCAGCTGTGCTCGCAGCAG...\n",
       "AAGW02081594    CATGTATCCTCCAAGATACAGTTACTTTAAAGCATGCCACAGGGTC...\n",
       "                                      ...                        \n",
       "GL018826        GAAGGTGGCCGTGCTGGACTATGTGGAGCCTTCTCCCCGAGGTGGG...\n",
       "GL019047        CCCCCTTTTCCGGCTTCTCCGGAAAGCAGAGGTTCTACACTGGGAG...\n",
       "GL019311        TGAGAATTTTTGCATCTTGTCCACTAGGGATATTAGTGTGTAGTTC...\n",
       "21              TTTTTGACACCTCCTCCATCCGATGGAGATGACTCTGGTTAAACGA...\n",
       "GL018744        CGCTGCCTCGGCGCGGTTGACTCCCGGGTTTGCCGTCTTTGTCTCC...\n",
       "Name: g_id, Length: 122, dtype: object"
      ]
     },
     "execution_count": 219,
     "metadata": {},
     "output_type": "execute_result"
    }
   ],
   "source": [
    "#flanking based genomic samples\n",
    "flage_samples = pd.Series(flanking_gc.index).apply(flanking_based_sampling)\n",
    "flage_samples.index = flanking_gc.index.values\n",
    "flage_samples"
   ]
  },
  {
   "cell_type": "code",
   "execution_count": 221,
   "id": "b3bbc09d",
   "metadata": {},
   "outputs": [
    {
     "data": {
      "text/plain": [
       "1               0.5125\n",
       "GL019308        0.4075\n",
       "GL019308        0.5025\n",
       "AAGW02081594    0.5575\n",
       "AAGW02081594    0.4500\n",
       "                 ...  \n",
       "GL018826        0.6450\n",
       "GL019047        0.5775\n",
       "GL019311        0.4275\n",
       "21              0.4550\n",
       "GL018744        0.6000\n",
       "Name: g_id, Length: 122, dtype: float64"
      ]
     },
     "execution_count": 221,
     "metadata": {},
     "output_type": "execute_result"
    }
   ],
   "source": [
    "flage_gc = flage_samples.apply(lambda x : (x.count('G') + x.count('C')) / len(x))\n",
    "flage_gc"
   ]
  },
  {
   "cell_type": "code",
   "execution_count": 222,
   "id": "dad4ee36",
   "metadata": {},
   "outputs": [],
   "source": [
    "#normality testing of flanking gc\n",
    "flanking_normality = anderson(flanking_gc)\n",
    "flanking_stat = flanking_normality[0]\n",
    "flanking_critical_value = flanking_normality[1][2]"
   ]
  },
  {
   "cell_type": "code",
   "execution_count": 224,
   "id": "b08f3490",
   "metadata": {},
   "outputs": [],
   "source": [
    "#normality testing of flanking based genom samples (flage) gc\n",
    "flage_normality = anderson(flage_gc)\n",
    "flage_stat = flage_normality[0]\n",
    "flage_critical_value = flage_normality[1][2]"
   ]
  },
  {
   "cell_type": "code",
   "execution_count": 225,
   "id": "d700ba13",
   "metadata": {},
   "outputs": [
    {
     "data": {
      "text/plain": [
       "0.00020508681128925688"
      ]
     },
     "execution_count": 225,
     "metadata": {},
     "output_type": "execute_result"
    }
   ],
   "source": [
    "#statistics (normality testing and significance)\n",
    "#flanking vs genome\n",
    "if (flage_stat > flage_critical_value) or (flanking_stat > flanking_critical_value):\n",
    "    flage_significance = wilcoxon(flage_gc, flanking_gc)\n",
    "else:\n",
    "    flage_significance = ttest_ind(flage_gc, flanking_gc)\n",
    "flage_significance[1]"
   ]
  },
  {
   "cell_type": "code",
   "execution_count": 230,
   "id": "b9b3b61c",
   "metadata": {},
   "outputs": [
    {
     "data": {
      "text/plain": [
       "0.145"
      ]
     },
     "execution_count": 230,
     "metadata": {},
     "output_type": "execute_result"
    }
   ],
   "source": [
    "flanking_gc.min()"
   ]
  },
  {
   "cell_type": "code",
   "execution_count": 233,
   "id": "d42757f5",
   "metadata": {},
   "outputs": [
    {
     "data": {
      "image/png": "[encoded data removed]",
      "text/plain": [
       "<Figure size 432x288 with 1 Axes>"
      ]
     },
     "metadata": {},
     "output_type": "display_data"
    }
   ],
   "source": [
    "gcs = [flanking_gc, flage_gc]\n",
    "ax = sns.violinplot(data = gcs)\n",
    "sns.set(style=\"darkgrid\")\n",
    "ax.set_ylabel('GC content',\n",
    "             fontsize = 14)\n",
    "ax.set_xticklabels(['flanking', 'genome'],\n",
    "                  fontsize = 14)\n",
    "statistical_annotation([flanking_gc, flage_gc], flage_significance[1], [0,1], 0.1)\n",
    "ax.set_ylim(0, 1)\n",
    "plt.tight_layout()\n",
    "#plt.savefig('../../results/gc_contents.png', dpi = 150, quality = 95)\n",
    "plt.show()"
   ]
  },
  {
   "cell_type": "code",
   "execution_count": null,
   "id": "e3ce08c3",
   "metadata": {},
   "outputs": [],
   "source": []
  }
 ],
 "metadata": {
  "kernelspec": {
   "display_name": "Python 3",
   "language": "python",
   "name": "python3"
  },
  "language_info": {
   "codemirror_mode": {
    "name": "ipython",
    "version": 3
   },
   "file_extension": ".py",
   "mimetype": "text/x-python",
   "name": "python",
   "nbconvert_exporter": "python",
   "pygments_lexer": "ipython3",
   "version": "3.7.1"
  }
 },
 "nbformat": 4,
 "nbformat_minor": 5
}
