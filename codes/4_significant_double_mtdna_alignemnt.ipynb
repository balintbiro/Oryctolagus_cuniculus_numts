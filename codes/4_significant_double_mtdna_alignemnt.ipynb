{
 "cells": [
  {
   "cell_type": "code",
   "execution_count": 3,
   "metadata": {},
   "outputs": [
    {
     "data": {
      "text/plain": [
       "297"
      ]
     },
     "execution_count": 3,
     "metadata": {},
     "output_type": "execute_result"
    }
   ],
   "source": [
    "#Input and Output of the FASTA file\n",
    "fasta_file = r\"C:\\Users\\micha\\Documents\\Thesis\\Code writing\\Data\\double_mt_alignment.fasta\"\n",
    "output_name = \"outputs\\significant_double_mtDNA_alignments.fasta\"\n",
    "\n",
    "#e_value threshold decided by reverse mtDNA alignments\n",
    "e_value_threshold = 1.6e-21\n",
    "counter = 0\n",
    "\n",
    "#Opens double mt alignment fasta file and returns significant alignments smaller than the e_value threshold.\n",
    "with open(fasta_file) as fp, open(output_name, 'w') as output:\n",
    "    lines = fp.readlines()\n",
    "    for index, line in enumerate(lines):\n",
    "        if \"EG2\" in line:\n",
    "            e_value = float(line.split()[3].split('=')[1])\n",
    "            if e_value < e_value_threshold:\n",
    "                output.writelines(line)\n",
    "                output.writelines(lines[index+1:index+3])\n",
    "                \n",
    "                #check the count of significant mtDNA alignments, should be 297\n",
    "                counter+=1\n",
    "counter"
   ]
  },
  {
   "cell_type": "code",
   "execution_count": null,
   "metadata": {},
   "outputs": [],
   "source": []
  }
 ],
 "metadata": {
  "kernelspec": {
   "display_name": "Python 3",
   "language": "python",
   "name": "python3"
  },
  "language_info": {
   "codemirror_mode": {
    "name": "ipython",
    "version": 3
   },
   "file_extension": ".py",
   "mimetype": "text/x-python",
   "name": "python",
   "nbconvert_exporter": "python",
   "pygments_lexer": "ipython3",
   "version": "3.7.3"
  }
 },
 "nbformat": 4,
 "nbformat_minor": 2
}
