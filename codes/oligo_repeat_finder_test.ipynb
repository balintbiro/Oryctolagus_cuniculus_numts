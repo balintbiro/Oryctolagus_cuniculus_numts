{
 "cells": [
  {
   "cell_type": "code",
   "execution_count": 1,
   "metadata": {},
   "outputs": [],
   "source": [
    "import re"
   ]
  },
  {
   "cell_type": "code",
   "execution_count": 2,
   "metadata": {},
   "outputs": [
    {
     "name": "stdout",
     "output_type": "stream",
     "text": [
      "GG\n",
      "TTTTTTT\n",
      "TTTTTTT\n",
      "AAAA\n",
      "GGGG\n",
      "CC\n",
      "TTT\n",
      "AA\n",
      "GG\n",
      "CCC\n",
      "AA\n",
      "GG\n",
      "CC\n",
      "GG\n"
     ]
    }
   ],
   "source": [
    "#Only works with a single sequence at the moment.\n",
    "seq = 'AGGCATCATTTTTTTCATTTTTTTAGCGTCTATAAAAGGGGTAGTAGCCGCTTTCTAATAGGCCCAAGGCATGCCGGA'\n",
    "\n",
    "#A regular expression that will cut the sequence at every change in nucleotide\n",
    "matcher = re.compile(r'(\\w)\\1*')\n",
    "#Applys the regular expression to the sequence and joins it into a new list\n",
    "results = (list(','.join(match.group() for match in matcher.finditer(seq)).split(',')))\n",
    "\n",
    "#Only keeps nucleotide repeats longer than 2bp\n",
    "for repeats in results:\n",
    "    if len(repeats) >= 2:\n",
    "        print (repeats)"
   ]
  },
  {
   "cell_type": "code",
   "execution_count": null,
   "metadata": {},
   "outputs": [],
   "source": []
  }
 ],
 "metadata": {
  "kernelspec": {
   "display_name": "Python 3",
   "language": "python",
   "name": "python3"
  },
  "language_info": {
   "codemirror_mode": {
    "name": "ipython",
    "version": 3
   },
   "file_extension": ".py",
   "mimetype": "text/x-python",
   "name": "python",
   "nbconvert_exporter": "python",
   "pygments_lexer": "ipython3",
   "version": "3.7.3"
  }
 },
 "nbformat": 4,
 "nbformat_minor": 2
}
