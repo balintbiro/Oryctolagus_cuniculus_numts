{
 "cells": [
  {
   "cell_type": "code",
   "execution_count": 1,
   "metadata": {},
   "outputs": [],
   "source": [
    "import pandas as pd"
   ]
  },
  {
   "cell_type": "code",
   "execution_count": 2,
   "metadata": {},
   "outputs": [],
   "source": [
    "#reads csv file\n",
    "data = pd.read_csv(r\"C:\\Users\\micha\\Documents\\Thesis\\Code writing\\Data\\numt_master_array.csv\")"
   ]
  },
  {
   "cell_type": "code",
   "execution_count": 3,
   "metadata": {},
   "outputs": [],
   "source": [
    "#Calculates the gc content in a column, in percentages\n",
    "def gc_content(sequence):\n",
    "    sequence = str(sequence).upper()\n",
    "    gc = round((sequence.count('G')+sequence.count('C'))/len(sequence)*100,2)\n",
    "    return gc\n",
    "\n",
    "#Applies the gc_content function to selection of columns\n",
    "output = []\n",
    "\n",
    "for index, column in data.iterrows():\n",
    "    columns = ['g_sequence', 'g_up_flanking', 'g_down_flanking']\n",
    "    output.append(column.apply(gc_content)[columns])\n",
    "    \n",
    "gc_contents = pd.DataFrame(output).rename(columns={'g_sequence': 'gc_content_g_sequence',\n",
    "                                                    'g_up_flanking': 'gc_content_up_flanking',\n",
    "                                                    'g_down_flanking': 'gc_content_down_flanking'\n",
    "                                                    })\n",
    "\n",
    "#concats both dataframes into a single dataframe\n",
    "data = pd.concat([data,gc_contents], sort=False, axis=1)"
   ]
  },
  {
   "cell_type": "code",
   "execution_count": 4,
   "metadata": {},
   "outputs": [],
   "source": [
    "#writes to csv file\n",
    "data.to_csv(r'C:\\Users\\micha\\Documents\\Thesis\\GitHub\\numt\\results\\gc_content_numts.csv')"
   ]
  }
 ],
 "metadata": {
  "kernelspec": {
   "display_name": "Python 3",
   "language": "python",
   "name": "python3"
  },
  "language_info": {
   "codemirror_mode": {
    "name": "ipython",
    "version": 3
   },
   "file_extension": ".py",
   "mimetype": "text/x-python",
   "name": "python",
   "nbconvert_exporter": "python",
   "pygments_lexer": "ipython3",
   "version": "3.7.3"
  }
 },
 "nbformat": 4,
 "nbformat_minor": 2
}
