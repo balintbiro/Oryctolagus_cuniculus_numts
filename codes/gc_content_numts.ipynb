{
 "cells": [
  {
   "cell_type": "code",
   "execution_count": 1,
   "metadata": {},
   "outputs": [],
   "source": [
    "import pandas as pd"
   ]
  },
  {
   "cell_type": "code",
   "execution_count": 2,
   "metadata": {},
   "outputs": [],
   "source": [
    "#reads csv file\n",
    "data = pd.read_csv(r\"C:\\Users\\micha\\Documents\\Thesis\\Code writing\\Data\\numt_master_array.csv\")"
   ]
  },
  {
   "cell_type": "code",
   "execution_count": 3,
   "metadata": {},
   "outputs": [],
   "source": [
    "#Calculates the gc content in a column, in percentages\n",
    "def gc_content(sequence):\n",
    "    sequence = str(sequence).upper()\n",
    "    gc = round((sequence.count('G')+sequence.count('C'))/len(sequence)*100,2)\n",
    "    return gc\n",
    "\n",
    "#Applies the gc content calculation to the complete list of genomic numts, up and down flanking regions \n",
    "#Writes the results to a new column in the dataframe\n",
    "data['gc_content_g_sequence'] = data['g_sequence'].apply(gc_content)\n",
    "data['gc_content_up_flanking'] = data['g_up_flanking'].apply(gc_content)\n",
    "data['gc_content_down_flanking'] = data['g_down_flanking'].apply(gc_content)"
   ]
  },
  {
   "cell_type": "code",
   "execution_count": 4,
   "metadata": {},
   "outputs": [],
   "source": [
    "#writes to csv file\n",
    "data.to_csv(r'C:\\Users\\micha\\Documents\\Thesis\\GitHub\\numt\\results\\gc_content_numts.csv')"
   ]
  }
 ],
 "metadata": {
  "kernelspec": {
   "display_name": "Python 3",
   "language": "python",
   "name": "python3"
  },
  "language_info": {
   "codemirror_mode": {
    "name": "ipython",
    "version": 3
   },
   "file_extension": ".py",
   "mimetype": "text/x-python",
   "name": "python",
   "nbconvert_exporter": "python",
   "pygments_lexer": "ipython3",
   "version": "3.7.3"
  }
 },
 "nbformat": 4,
 "nbformat_minor": 2
}
